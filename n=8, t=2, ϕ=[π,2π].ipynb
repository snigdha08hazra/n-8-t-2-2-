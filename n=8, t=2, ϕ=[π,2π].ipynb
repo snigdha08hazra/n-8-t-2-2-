{
 "cells": [
  {
   "cell_type": "code",
   "execution_count": 26,
   "id": "8c6bd01b",
   "metadata": {},
   "outputs": [],
   "source": [
    "from qiskit.quantum_info import Statevector, Operator\n",
    "from qiskit import QuantumCircuit, Aer, execute\n",
    "import numpy as np\n",
    "import math\n",
    "import matplotlib.pyplot as pl\n",
    "import random"
   ]
  },
  {
   "cell_type": "code",
   "execution_count": 37,
   "id": "fe4b36de",
   "metadata": {},
   "outputs": [
    {
     "name": "stdout",
     "output_type": "stream",
     "text": [
      "noi =  8\n",
      "target =  [242. 201.]\n",
      "phi =  [3.141592653589793, 3.4033920413889422, 3.6651914291880923, 3.9269908169872414, 4.1887902047863905, 4.4505895925855405, 4.71238898038469, 4.97418836818384, 5.235987755982989, 5.497787143782138, 5.759586531581287, 6.021385919380437, 6.283185307179586]\n",
      "phi_m =  [180.0, 195.0, 210.0, 225.0, 239.99999999999997, 255.0, 270.0, 285.00000000000006, 300.00000000000006, 315.0, 329.99999999999994, 345.0, 360.0]\n",
      "len(phi) =  13\n",
      "x =  [(-1+1.2246467991473532e-16j), (-0.9659258262890684-0.25881904510252035j), (-0.8660254037844386-0.5000000000000001j), (-0.7071067811865477-0.7071067811865475j), (-0.5000000000000004-0.8660254037844385j), (-0.25881904510252063-0.9659258262890683j), (-1.8369701987210297e-16-1j), (0.25881904510252113-0.9659258262890682j), (0.5000000000000001-0.8660254037844386j), (0.7071067811865474-0.7071067811865477j), (0.8660254037844384-0.5000000000000004j), (0.9659258262890683-0.2588190451025207j), (1-2.4492935982947064e-16j)]\n"
     ]
    }
   ],
   "source": [
    "n = 8      #no. of qubits\n",
    "N = 2**n   #dimension of matrix\n",
    "t = 2      #no. of target states\n",
    "length = list(range(n))\n",
    "noi = math.floor(math.sqrt(N/t) * np.pi / 4)   #No of iterations\n",
    "print(\"noi = \", noi)\n",
    "\n",
    "#to set target states\n",
    "target = np.zeros(t)\n",
    "count = 0\n",
    "flag = 0\n",
    "i = 0\n",
    "while(True):\n",
    "    #to generate a random integer for target position\n",
    "    a = random.randint(0,N-1)\n",
    "    \n",
    "    #checking if that number has already been chosen previously as target state\n",
    "    for j in range(count):\n",
    "        if(target[j] == a):\n",
    "            flag = 1  #value is present in the target array\n",
    "            \n",
    "    #to store new value in target array\n",
    "    if(flag == 0):\n",
    "        #to store in count position of target array\n",
    "        target[count] = a\n",
    "        #updating count (position) value\n",
    "        count += 1\n",
    "        #checking for further iteration of i loop\n",
    "        if(count == t):\n",
    "            break\n",
    "print(\"target = \",target)\n",
    "\n",
    "phi = [a*np.pi/180 for a in range(180,361,15)]\n",
    "print(\"phi = \",phi)\n",
    "\n",
    "phi_m = [a*180/np.pi for a in phi]\n",
    "print(\"phi_m = \",phi_m)\n",
    "print(\"len(phi) = \",len(phi))\n",
    "\n",
    "x = [complex(np.cos(a), np.sin(a)) for a in phi]\n",
    "print(\"x = \",x)\n",
    "\n",
    "#array to store coherence values after each suboperation in every grover's iteration\n",
    "data = np.zeros((len(phi),noi * 4))   #to store coherence values\n",
    "x_axis = list(range(noi * 4))        #to store iteration number\n",
    "#print(data)"
   ]
  },
  {
   "cell_type": "code",
   "execution_count": 38,
   "id": "7a96036f",
   "metadata": {},
   "outputs": [
    {
     "name": "stdout",
     "output_type": "stream",
     "text": [
      "======================================== FOR ϕ =  180.0 ========================================\n"
     ]
    },
    {
     "data": {
      "text/plain": [
       "'initialised |ψ0⟩'"
      ]
     },
     "metadata": {},
     "output_type": "display_data"
    },
    {
     "data": {
      "text/latex": [
       "$$ |00000000\\rangle$$"
      ],
      "text/plain": [
       "<IPython.core.display.Latex object>"
      ]
     },
     "metadata": {},
     "output_type": "display_data"
    },
    {
     "name": "stdout",
     "output_type": "stream",
     "text": [
      "coherence of |ψ0⟩ =  0.0\n"
     ]
    },
    {
     "data": {
      "text/plain": [
       "'applied Hadamard to all |ψ1⟩'"
      ]
     },
     "metadata": {},
     "output_type": "display_data"
    },
    {
     "data": {
      "text/latex": [
       "$$\\frac{1}{16} |00000000\\rangle+\\frac{1}{16} |00000001\\rangle+\\frac{1}{16} |00000010\\rangle+\\frac{1}{16} |00000011\\rangle+\\frac{1}{16} |00000100\\rangle+\\frac{1}{16} |00000101\\rangle + \\ldots +\\frac{1}{16} |11111011\\rangle+\\frac{1}{16} |11111100\\rangle+\\frac{1}{16} |11111101\\rangle+\\frac{1}{16} |11111110\\rangle+\\frac{1}{16} |11111111\\rangle$$"
      ],
      "text/plain": [
       "<IPython.core.display.Latex object>"
      ]
     },
     "metadata": {},
     "output_type": "display_data"
    },
    {
     "name": "stdout",
     "output_type": "stream",
     "text": [
      "coherence of |ψ1⟩ =  255.00000000000003\n",
      "-------- 1  ITERATION--------\n"
     ]
    },
    {
     "data": {
      "text/plain": [
       "'applied O operator to |ψ2⟩'"
      ]
     },
     "metadata": {},
     "output_type": "display_data"
    },
    {
     "data": {
      "text/latex": [
       "$$\\frac{1}{16} |00000000\\rangle+\\frac{1}{16} |00000001\\rangle+\\frac{1}{16} |00000010\\rangle+\\frac{1}{16} |00000011\\rangle+\\frac{1}{16} |00000100\\rangle+\\frac{1}{16} |00000101\\rangle + \\ldots +\\frac{1}{16} |11111011\\rangle+\\frac{1}{16} |11111100\\rangle+\\frac{1}{16} |11111101\\rangle+\\frac{1}{16} |11111110\\rangle+\\frac{1}{16} |11111111\\rangle$$"
      ],
      "text/plain": [
       "<IPython.core.display.Latex object>"
      ]
     },
     "metadata": {},
     "output_type": "display_data"
    },
    {
     "name": "stdout",
     "output_type": "stream",
     "text": [
      "coherence of |ψ2⟩ =  255.00000000000003\n"
     ]
    },
    {
     "data": {
      "text/plain": [
       "'applied Hadamard to all |ψ1⟩'"
      ]
     },
     "metadata": {},
     "output_type": "display_data"
    },
    {
     "data": {
      "text/latex": [
       "$$\\frac{63}{64} |00000000\\rangle+\\frac{1}{64} |00000011\\rangle- \\frac{1}{64} |00000100\\rangle+\\frac{1}{64} |00000111\\rangle- \\frac{1}{64} |00001001\\rangle+\\frac{1}{64} |00001010\\rangle + \\ldots +\\frac{1}{64} |11110111\\rangle- \\frac{1}{64} |11111001\\rangle+\\frac{1}{64} |11111010\\rangle- \\frac{1}{64} |11111101\\rangle+\\frac{1}{64} |11111110\\rangle$$"
      ],
      "text/plain": [
       "<IPython.core.display.Latex object>"
      ]
     },
     "metadata": {},
     "output_type": "display_data"
    },
    {
     "name": "stdout",
     "output_type": "stream",
     "text": [
      "coherence of |ψ1⟩ =  7.813476562500001\n"
     ]
    },
    {
     "data": {
      "text/plain": [
       "'applied P operator to |ψ4⟩'"
      ]
     },
     "metadata": {},
     "output_type": "display_data"
    },
    {
     "data": {
      "text/latex": [
       "$$\\frac{63}{64} |00000000\\rangle- \\frac{1}{64} |00000011\\rangle+\\frac{1}{64} |00000100\\rangle- \\frac{1}{64} |00000111\\rangle+\\frac{1}{64} |00001001\\rangle- \\frac{1}{64} |00001010\\rangle + \\ldots - \\frac{1}{64} |11110111\\rangle+\\frac{1}{64} |11111001\\rangle- \\frac{1}{64} |11111010\\rangle+\\frac{1}{64} |11111101\\rangle- \\frac{1}{64} |11111110\\rangle$$"
      ],
      "text/plain": [
       "<IPython.core.display.Latex object>"
      ]
     },
     "metadata": {},
     "output_type": "display_data"
    },
    {
     "name": "stdout",
     "output_type": "stream",
     "text": [
      "coherence of |ψ4⟩ =  7.813476562500001\n"
     ]
    },
    {
     "data": {
      "text/plain": [
       "'applied Hadamard to all |ψ5⟩'"
      ]
     },
     "metadata": {},
     "output_type": "display_data"
    },
    {
     "data": {
      "text/latex": [
       "$$\\frac{31}{512} |00000000\\rangle+\\frac{31}{512} |00000001\\rangle+\\frac{31}{512} |00000010\\rangle+\\frac{31}{512} |00000011\\rangle+\\frac{31}{512} |00000100\\rangle+\\frac{31}{512} |00000101\\rangle + \\ldots +\\frac{31}{512} |11111011\\rangle+\\frac{31}{512} |11111100\\rangle+\\frac{31}{512} |11111101\\rangle+\\frac{31}{512} |11111110\\rangle+\\frac{31}{512} |11111111\\rangle$$"
      ],
      "text/plain": [
       "<IPython.core.display.Latex object>"
      ]
     },
     "metadata": {},
     "output_type": "display_data"
    },
    {
     "name": "stdout",
     "output_type": "stream",
     "text": [
      "coherence of |ψ5⟩ =  247.06250000000003\n",
      "-------- 2  ITERATION--------\n"
     ]
    },
    {
     "data": {
      "text/plain": [
       "'applied O operator to |ψ2⟩'"
      ]
     },
     "metadata": {},
     "output_type": "display_data"
    },
    {
     "data": {
      "text/latex": [
       "$$\\frac{31}{512} |00000000\\rangle+\\frac{31}{512} |00000001\\rangle+\\frac{31}{512} |00000010\\rangle+\\frac{31}{512} |00000011\\rangle+\\frac{31}{512} |00000100\\rangle+\\frac{31}{512} |00000101\\rangle + \\ldots +\\frac{31}{512} |11111011\\rangle+\\frac{31}{512} |11111100\\rangle+\\frac{31}{512} |11111101\\rangle+\\frac{31}{512} |11111110\\rangle+\\frac{31}{512} |11111111\\rangle$$"
      ],
      "text/plain": [
       "<IPython.core.display.Latex object>"
      ]
     },
     "metadata": {},
     "output_type": "display_data"
    },
    {
     "name": "stdout",
     "output_type": "stream",
     "text": [
      "coherence of |ψ2⟩ =  247.06250000000003\n"
     ]
    },
    {
     "data": {
      "text/plain": [
       "'applied Hadamard to all |ψ1⟩'"
      ]
     },
     "metadata": {},
     "output_type": "display_data"
    },
    {
     "data": {
      "text/latex": [
       "$$0.93798828125 |00000000\\rangle+\\frac{63}{2048} |00000011\\rangle- \\frac{63}{2048} |00000100\\rangle+\\frac{63}{2048} |00000111\\rangle- \\frac{63}{2048} |00001001\\rangle+\\frac{63}{2048} |00001010\\rangle + \\ldots +\\frac{63}{2048} |11110111\\rangle- \\frac{63}{2048} |11111001\\rangle+\\frac{63}{2048} |11111010\\rangle- \\frac{63}{2048} |11111101\\rangle+\\frac{63}{2048} |11111110\\rangle$$"
      ],
      "text/plain": [
       "<IPython.core.display.Latex object>"
      ]
     },
     "metadata": {},
     "output_type": "display_data"
    },
    {
     "name": "stdout",
     "output_type": "stream",
     "text": [
      "coherence of |ψ1⟩ =  22.47137546539307\n"
     ]
    },
    {
     "data": {
      "text/plain": [
       "'applied P operator to |ψ4⟩'"
      ]
     },
     "metadata": {},
     "output_type": "display_data"
    },
    {
     "data": {
      "text/latex": [
       "$$0.93798828125 |00000000\\rangle- \\frac{63}{2048} |00000011\\rangle+\\frac{63}{2048} |00000100\\rangle- \\frac{63}{2048} |00000111\\rangle+\\frac{63}{2048} |00001001\\rangle- \\frac{63}{2048} |00001010\\rangle + \\ldots - \\frac{63}{2048} |11110111\\rangle+\\frac{63}{2048} |11111001\\rangle- \\frac{63}{2048} |11111010\\rangle+\\frac{63}{2048} |11111101\\rangle- \\frac{63}{2048} |11111110\\rangle$$"
      ],
      "text/plain": [
       "<IPython.core.display.Latex object>"
      ]
     },
     "metadata": {},
     "output_type": "display_data"
    },
    {
     "name": "stdout",
     "output_type": "stream",
     "text": [
      "coherence of |ψ4⟩ =  22.47137546539307\n"
     ]
    },
    {
     "data": {
      "text/plain": [
       "'applied Hadamard to all |ψ5⟩'"
      ]
     },
     "metadata": {},
     "output_type": "display_data"
    },
    {
     "data": {
      "text/latex": [
       "$$0.056701660156 |00000000\\rangle+0.056701660156 |00000001\\rangle+0.056701660156 |00000010\\rangle+0.056701660156 |00000011\\rangle+0.056701660156 |00000100\\rangle+0.056701660156 |00000101\\rangle + \\ldots +0.056701660156 |11111011\\rangle+0.056701660156 |11111100\\rangle+0.056701660156 |11111101\\rangle+0.056701660156 |11111110\\rangle+0.056701660156 |11111111\\rangle$$"
      ],
      "text/plain": [
       "<IPython.core.display.Latex object>"
      ]
     },
     "metadata": {},
     "output_type": "display_data"
    },
    {
     "name": "stdout",
     "output_type": "stream",
     "text": [
      "coherence of |ψ5⟩ =  224.23443603515628\n",
      "-------- 3  ITERATION--------\n"
     ]
    },
    {
     "data": {
      "text/plain": [
       "'applied O operator to |ψ2⟩'"
      ]
     },
     "metadata": {},
     "output_type": "display_data"
    },
    {
     "data": {
      "text/latex": [
       "$$0.056701660156 |00000000\\rangle+0.056701660156 |00000001\\rangle+0.056701660156 |00000010\\rangle+0.056701660156 |00000011\\rangle+0.056701660156 |00000100\\rangle+0.056701660156 |00000101\\rangle + \\ldots +0.056701660156 |11111011\\rangle+0.056701660156 |11111100\\rangle+0.056701660156 |11111101\\rangle+0.056701660156 |11111110\\rangle+0.056701660156 |11111111\\rangle$$"
      ],
      "text/plain": [
       "<IPython.core.display.Latex object>"
      ]
     },
     "metadata": {},
     "output_type": "display_data"
    },
    {
     "name": "stdout",
     "output_type": "stream",
     "text": [
      "coherence of |ψ2⟩ =  224.23443603515628\n"
     ]
    },
    {
     "data": {
      "text/plain": [
       "'applied Hadamard to all |ψ1⟩'"
      ]
     },
     "metadata": {},
     "output_type": "display_data"
    },
    {
     "data": {
      "text/latex": [
       "$$\\frac{49 \\cdot 2^{\\frac{87}{119}} \\cdot 3^{\\frac{72}{119}} \\cdot 5^{\\frac{106}{119}}}{216 \\pi^{\\frac{132}{119}}} |00000000\\rangle+0.044937133789 |00000011\\rangle-0.044937133789 |00000100\\rangle+0.044937133789 |00000111\\rangle-0.044937133789 |00001001\\rangle+0.044937133789 |00001010\\rangle + \\ldots +0.044937133789 |11110111\\rangle-0.044937133789 |11111001\\rangle+0.044937133789 |11111010\\rangle-0.044937133789 |11111101\\rangle+0.044937133789 |11111110\\rangle$$"
      ],
      "text/plain": [
       "<IPython.core.display.Latex object>"
      ]
     },
     "metadata": {},
     "output_type": "display_data"
    },
    {
     "name": "stdout",
     "output_type": "stream",
     "text": [
      "coherence of |ψ1⟩ =  42.15577370021494\n"
     ]
    },
    {
     "data": {
      "text/plain": [
       "'applied P operator to |ψ4⟩'"
      ]
     },
     "metadata": {},
     "output_type": "display_data"
    },
    {
     "data": {
      "text/latex": [
       "$$\\frac{49 \\cdot 2^{\\frac{87}{119}} \\cdot 3^{\\frac{72}{119}} \\cdot 5^{\\frac{106}{119}}}{216 \\pi^{\\frac{132}{119}}} |00000000\\rangle-0.044937133789 |00000011\\rangle+0.044937133789 |00000100\\rangle-0.044937133789 |00000111\\rangle+0.044937133789 |00001001\\rangle-0.044937133789 |00001010\\rangle + \\ldots -0.044937133789 |11110111\\rangle+0.044937133789 |11111001\\rangle-0.044937133789 |11111010\\rangle+0.044937133789 |11111101\\rangle-0.044937133789 |11111110\\rangle$$"
      ],
      "text/plain": [
       "<IPython.core.display.Latex object>"
      ]
     },
     "metadata": {},
     "output_type": "display_data"
    },
    {
     "name": "stdout",
     "output_type": "stream",
     "text": [
      "coherence of |ψ4⟩ =  42.15577370021494\n"
     ]
    },
    {
     "data": {
      "text/plain": [
       "'applied Hadamard to all |ψ5⟩'"
      ]
     },
     "metadata": {},
     "output_type": "display_data"
    },
    {
     "data": {
      "text/latex": [
       "$$0.051084518433 |00000000\\rangle+0.051084518433 |00000001\\rangle+0.051084518433 |00000010\\rangle+0.051084518433 |00000011\\rangle+0.051084518433 |00000100\\rangle+0.051084518433 |00000101\\rangle + \\ldots +0.051084518433 |11111011\\rangle+0.051084518433 |11111100\\rangle+0.051084518433 |11111101\\rangle+0.051084518433 |11111110\\rangle+0.051084518433 |11111111\\rangle$$"
      ],
      "text/plain": [
       "<IPython.core.display.Latex object>"
      ]
     },
     "metadata": {},
     "output_type": "display_data"
    },
    {
     "name": "stdout",
     "output_type": "stream",
     "text": [
      "coherence of |ψ5⟩ =  189.34702306985858\n",
      "-------- 4  ITERATION--------\n"
     ]
    },
    {
     "data": {
      "text/plain": [
       "'applied O operator to |ψ2⟩'"
      ]
     },
     "metadata": {},
     "output_type": "display_data"
    },
    {
     "data": {
      "text/latex": [
       "$$0.051084518433 |00000000\\rangle+0.051084518433 |00000001\\rangle+0.051084518433 |00000010\\rangle+0.051084518433 |00000011\\rangle+0.051084518433 |00000100\\rangle+0.051084518433 |00000101\\rangle + \\ldots +0.051084518433 |11111011\\rangle+0.051084518433 |11111100\\rangle+0.051084518433 |11111101\\rangle+0.051084518433 |11111110\\rangle+0.051084518433 |11111111\\rangle$$"
      ],
      "text/plain": [
       "<IPython.core.display.Latex object>"
      ]
     },
     "metadata": {},
     "output_type": "display_data"
    },
    {
     "name": "stdout",
     "output_type": "stream",
     "text": [
      "coherence of |ψ2⟩ =  189.34702306985858\n"
     ]
    },
    {
     "data": {
      "text/plain": [
       "'applied Hadamard to all |ψ1⟩'"
      ]
     },
     "metadata": {},
     "output_type": "display_data"
    },
    {
     "data": {
      "text/latex": [
       "$$0.759644031525 |00000000\\rangle+0.057708263397 |00000011\\rangle-0.057708263397 |00000100\\rangle+0.057708263397 |00000111\\rangle-0.057708263397 |00001001\\rangle+0.057708263397 |00001010\\rangle + \\ldots +0.057708263397 |11110111\\rangle-0.057708263397 |11111001\\rangle+0.057708263397 |11111010\\rangle-0.057708263397 |11111101\\rangle+0.057708263397 |11111110\\rangle$$"
      ],
      "text/plain": [
       "<IPython.core.display.Latex object>"
      ]
     },
     "metadata": {},
     "output_type": "display_data"
    },
    {
     "name": "stdout",
     "output_type": "stream",
     "text": [
      "coherence of |ψ1⟩ =  64.42534453276407\n"
     ]
    },
    {
     "data": {
      "text/plain": [
       "'applied P operator to |ψ4⟩'"
      ]
     },
     "metadata": {},
     "output_type": "display_data"
    },
    {
     "data": {
      "text/latex": [
       "$$0.759644031525 |00000000\\rangle-0.057708263397 |00000011\\rangle+0.057708263397 |00000100\\rangle-0.057708263397 |00000111\\rangle+0.057708263397 |00001001\\rangle-0.057708263397 |00001010\\rangle + \\ldots -0.057708263397 |11110111\\rangle+0.057708263397 |11111001\\rangle-0.057708263397 |11111010\\rangle+0.057708263397 |11111101\\rangle-0.057708263397 |11111110\\rangle$$"
      ],
      "text/plain": [
       "<IPython.core.display.Latex object>"
      ]
     },
     "metadata": {},
     "output_type": "display_data"
    },
    {
     "name": "stdout",
     "output_type": "stream",
     "text": [
      "coherence of |ψ4⟩ =  64.42534453276407\n"
     ]
    },
    {
     "data": {
      "text/plain": [
       "'applied Hadamard to all |ψ5⟩'"
      ]
     },
     "metadata": {},
     "output_type": "display_data"
    },
    {
     "data": {
      "text/latex": [
       "$$0.043870985508 |00000000\\rangle+0.043870985508 |00000001\\rangle+0.043870985508 |00000010\\rangle+0.043870985508 |00000011\\rangle+0.043870985508 |00000100\\rangle+0.043870985508 |00000101\\rangle + \\ldots +0.043870985508 |11111011\\rangle+0.043870985508 |11111100\\rangle+0.043870985508 |11111101\\rangle+0.043870985508 |11111110\\rangle+0.043870985508 |11111111\\rangle$$"
      ],
      "text/plain": [
       "<IPython.core.display.Latex object>"
      ]
     },
     "metadata": {},
     "output_type": "display_data"
    },
    {
     "name": "stdout",
     "output_type": "stream",
     "text": [
      "coherence of |ψ5⟩ =  146.72711798547704\n",
      "-------- 5  ITERATION--------\n"
     ]
    },
    {
     "data": {
      "text/plain": [
       "'applied O operator to |ψ2⟩'"
      ]
     },
     "metadata": {},
     "output_type": "display_data"
    },
    {
     "data": {
      "text/latex": [
       "$$0.043870985508 |00000000\\rangle+0.043870985508 |00000001\\rangle+0.043870985508 |00000010\\rangle+0.043870985508 |00000011\\rangle+0.043870985508 |00000100\\rangle+0.043870985508 |00000101\\rangle + \\ldots +0.043870985508 |11111011\\rangle+0.043870985508 |11111100\\rangle+0.043870985508 |11111101\\rangle+0.043870985508 |11111110\\rangle+0.043870985508 |11111111\\rangle$$"
      ],
      "text/plain": [
       "<IPython.core.display.Latex object>"
      ]
     },
     "metadata": {},
     "output_type": "display_data"
    },
    {
     "name": "stdout",
     "output_type": "stream",
     "text": [
      "coherence of |ψ2⟩ =  146.72711798547704\n"
     ]
    },
    {
     "data": {
      "text/plain": [
       "'applied Hadamard to all |ψ1⟩'"
      ]
     },
     "metadata": {},
     "output_type": "display_data"
    },
    {
     "data": {
      "text/latex": [
       "$$\\frac{1020490422755328 \\cdot 2^{\\frac{5}{11}} \\cdot 21^{\\frac{6}{11}} \\cdot 5^{\\frac{4}{11}}}{244140625 \\pi^{\\frac{351}{22}}} |00000000\\rangle+0.068676009774 |00000011\\rangle-0.068676009774 |00000100\\rangle+0.068676009774 |00000111\\rangle-0.068676009774 |00001001\\rangle+0.068676009774 |00001010\\rangle + \\ldots +0.068676009774 |11110111\\rangle-0.068676009774 |11111001\\rangle+0.068676009774 |11111010\\rangle-0.068676009774 |11111101\\rangle+0.068676009774 |11111110\\rangle$$"
      ],
      "text/plain": [
       "<IPython.core.display.Latex object>"
      ]
     },
     "metadata": {},
     "output_type": "display_data"
    },
    {
     "name": "stdout",
     "output_type": "stream",
     "text": [
      "coherence of |ψ1⟩ =  86.51813923673443\n"
     ]
    },
    {
     "data": {
      "text/plain": [
       "'applied P operator to |ψ4⟩'"
      ]
     },
     "metadata": {},
     "output_type": "display_data"
    },
    {
     "data": {
      "text/latex": [
       "$$\\frac{1020490422755328 \\cdot 2^{\\frac{5}{11}} \\cdot 21^{\\frac{6}{11}} \\cdot 5^{\\frac{4}{11}}}{244140625 \\pi^{\\frac{351}{22}}} |00000000\\rangle-0.068676009774 |00000011\\rangle+0.068676009774 |00000100\\rangle-0.068676009774 |00000111\\rangle+0.068676009774 |00001001\\rangle-0.068676009774 |00001010\\rangle + \\ldots -0.068676009774 |11110111\\rangle+0.068676009774 |11111001\\rangle-0.068676009774 |11111010\\rangle+0.068676009774 |11111101\\rangle-0.068676009774 |11111110\\rangle$$"
      ],
      "text/plain": [
       "<IPython.core.display.Latex object>"
      ]
     },
     "metadata": {},
     "output_type": "display_data"
    },
    {
     "name": "stdout",
     "output_type": "stream",
     "text": [
      "coherence of |ψ4⟩ =  86.51813923673443\n"
     ]
    },
    {
     "data": {
      "text/plain": [
       "'applied Hadamard to all |ψ5⟩'"
      ]
     },
     "metadata": {},
     "output_type": "display_data"
    },
    {
     "data": {
      "text/latex": [
       "$$0.035286484286 |00000000\\rangle+0.035286484286 |00000001\\rangle+0.035286484286 |00000010\\rangle+0.035286484286 |00000011\\rangle+0.035286484286 |00000100\\rangle+0.035286484286 |00000101\\rangle + \\ldots +0.035286484286 |11111011\\rangle+0.035286484286 |11111100\\rangle+0.035286484286 |11111101\\rangle+0.035286484286 |11111110\\rangle+0.035286484286 |11111111\\rangle$$"
      ],
      "text/plain": [
       "<IPython.core.display.Latex object>"
      ]
     },
     "metadata": {},
     "output_type": "display_data"
    },
    {
     "name": "stdout",
     "output_type": "stream",
     "text": [
      "coherence of |ψ5⟩ =  101.6605879166197\n",
      "-------- 6  ITERATION--------\n"
     ]
    },
    {
     "data": {
      "text/plain": [
       "'applied O operator to |ψ2⟩'"
      ]
     },
     "metadata": {},
     "output_type": "display_data"
    },
    {
     "data": {
      "text/latex": [
       "$$0.035286484286 |00000000\\rangle+0.035286484286 |00000001\\rangle+0.035286484286 |00000010\\rangle+0.035286484286 |00000011\\rangle+0.035286484286 |00000100\\rangle+0.035286484286 |00000101\\rangle + \\ldots +0.035286484286 |11111011\\rangle+0.035286484286 |11111100\\rangle+0.035286484286 |11111101\\rangle+0.035286484286 |11111110\\rangle+0.035286484286 |11111111\\rangle$$"
      ],
      "text/plain": [
       "<IPython.core.display.Latex object>"
      ]
     },
     "metadata": {},
     "output_type": "display_data"
    },
    {
     "name": "stdout",
     "output_type": "stream",
     "text": [
      "coherence of |ψ2⟩ =  101.6605879166197\n"
     ]
    },
    {
     "data": {
      "text/plain": [
       "'applied Hadamard to all |ψ1⟩'"
      ]
     },
     "metadata": {},
     "output_type": "display_data"
    },
    {
     "data": {
      "text/latex": [
       "$$0.487086117733 |00000000\\rangle+0.077497630846 |00000011\\rangle-0.077497630846 |00000100\\rangle+0.077497630846 |00000111\\rangle-0.077497630846 |00001001\\rangle+0.077497630846 |00001010\\rangle + \\ldots +0.077497630846 |11110111\\rangle-0.077497630846 |11111001\\rangle+0.077497630846 |11111010\\rangle-0.077497630846 |11111101\\rangle+0.077497630846 |11111110\\rangle$$"
      ],
      "text/plain": [
       "<IPython.core.display.Latex object>"
      ]
     },
     "metadata": {},
     "output_type": "display_data"
    },
    {
     "name": "stdout",
     "output_type": "stream",
     "text": [
      "coherence of |ψ1⟩ =  105.69413346898753\n"
     ]
    },
    {
     "data": {
      "text/plain": [
       "'applied P operator to |ψ4⟩'"
      ]
     },
     "metadata": {},
     "output_type": "display_data"
    },
    {
     "data": {
      "text/latex": [
       "$$0.487086117733 |00000000\\rangle-0.077497630846 |00000011\\rangle+0.077497630846 |00000100\\rangle-0.077497630846 |00000111\\rangle+0.077497630846 |00001001\\rangle-0.077497630846 |00001010\\rangle + \\ldots -0.077497630846 |11110111\\rangle+0.077497630846 |11111001\\rangle-0.077497630846 |11111010\\rangle+0.077497630846 |11111101\\rangle-0.077497630846 |11111110\\rangle$$"
      ],
      "text/plain": [
       "<IPython.core.display.Latex object>"
      ]
     },
     "metadata": {},
     "output_type": "display_data"
    },
    {
     "name": "stdout",
     "output_type": "stream",
     "text": [
      "coherence of |ψ4⟩ =  105.69413346898753\n"
     ]
    },
    {
     "data": {
      "text/plain": [
       "'applied Hadamard to all |ψ5⟩'"
      ]
     },
     "metadata": {},
     "output_type": "display_data"
    },
    {
     "data": {
      "text/latex": [
       "$$0.02559928043 |00000000\\rangle+0.02559928043 |00000001\\rangle+0.02559928043 |00000010\\rangle+0.02559928043 |00000011\\rangle+0.02559928043 |00000100\\rangle+0.02559928043 |00000101\\rangle + \\ldots +0.02559928043 |11111011\\rangle+0.02559928043 |11111100\\rangle+0.02559928043 |11111101\\rangle+0.02559928043 |11111110\\rangle+0.02559928043 |11111111\\rangle$$"
      ],
      "text/plain": [
       "<IPython.core.display.Latex object>"
      ]
     },
     "metadata": {},
     "output_type": "display_data"
    },
    {
     "name": "stdout",
     "output_type": "stream",
     "text": [
      "coherence of |ψ5⟩ =  59.7367388387298\n",
      "-------- 7  ITERATION--------\n"
     ]
    },
    {
     "data": {
      "text/plain": [
       "'applied O operator to |ψ2⟩'"
      ]
     },
     "metadata": {},
     "output_type": "display_data"
    },
    {
     "data": {
      "text/latex": [
       "$$0.02559928043 |00000000\\rangle+0.02559928043 |00000001\\rangle+0.02559928043 |00000010\\rangle+0.02559928043 |00000011\\rangle+0.02559928043 |00000100\\rangle+0.02559928043 |00000101\\rangle + \\ldots +0.02559928043 |11111011\\rangle+0.02559928043 |11111100\\rangle+0.02559928043 |11111101\\rangle+0.02559928043 |11111110\\rangle+0.02559928043 |11111111\\rangle$$"
      ],
      "text/plain": [
       "<IPython.core.display.Latex object>"
      ]
     },
     "metadata": {},
     "output_type": "display_data"
    },
    {
     "name": "stdout",
     "output_type": "stream",
     "text": [
      "coherence of |ψ2⟩ =  59.7367388387298\n"
     ]
    },
    {
     "data": {
      "text/plain": [
       "'applied Hadamard to all |ψ1⟩'"
      ]
     },
     "metadata": {},
     "output_type": "display_data"
    },
    {
     "data": {
      "text/latex": [
       "$$0.325691035934 |00000000\\rangle+0.083897450953 |00000011\\rangle-0.083897450953 |00000100\\rangle+0.083897450953 |00000111\\rangle-0.083897450953 |00001001\\rangle+0.083897450953 |00001010\\rangle + \\ldots +0.083897450953 |11110111\\rangle-0.083897450953 |11111001\\rangle+0.083897450953 |11111010\\rangle-0.083897450953 |11111101\\rangle+0.083897450953 |11111110\\rangle$$"
      ],
      "text/plain": [
       "<IPython.core.display.Latex object>"
      ]
     },
     "metadata": {},
     "output_type": "display_data"
    },
    {
     "name": "stdout",
     "output_type": "stream",
     "text": [
      "coherence of |ψ1⟩ =  119.57505450725054\n"
     ]
    },
    {
     "data": {
      "text/plain": [
       "'applied P operator to |ψ4⟩'"
      ]
     },
     "metadata": {},
     "output_type": "display_data"
    },
    {
     "data": {
      "text/latex": [
       "$$0.325691035934 |00000000\\rangle-0.083897450953 |00000011\\rangle+0.083897450953 |00000100\\rangle-0.083897450953 |00000111\\rangle+0.083897450953 |00001001\\rangle-0.083897450953 |00001010\\rangle + \\ldots -0.083897450953 |11110111\\rangle+0.083897450953 |11111001\\rangle-0.083897450953 |11111010\\rangle+0.083897450953 |11111101\\rangle-0.083897450953 |11111110\\rangle$$"
      ],
      "text/plain": [
       "<IPython.core.display.Latex object>"
      ]
     },
     "metadata": {},
     "output_type": "display_data"
    },
    {
     "name": "stdout",
     "output_type": "stream",
     "text": [
      "coherence of |ψ4⟩ =  119.57505450725054\n"
     ]
    },
    {
     "data": {
      "text/plain": [
       "'applied Hadamard to all |ψ5⟩'"
      ]
     },
     "metadata": {},
     "output_type": "display_data"
    },
    {
     "data": {
      "text/latex": [
       "$$\\frac{21 \\cdot 2^{\\frac{29}{57}} \\cdot \\sqrt[19]{3} \\cdot 5^{\\frac{71}{114}} \\cdot 7^{\\frac{13}{19}} \\pi^{\\frac{197}{114}}}{156250} |00000000\\rangle+\\frac{21 \\cdot 2^{\\frac{29}{57}} \\cdot \\sqrt[19]{3} \\cdot 5^{\\frac{71}{114}} \\cdot 7^{\\frac{13}{19}} \\pi^{\\frac{197}{114}}}{156250} |00000001\\rangle+\\frac{21 \\cdot 2^{\\frac{29}{57}} \\cdot \\sqrt[19]{3} \\cdot 5^{\\frac{71}{114}} \\cdot 7^{\\frac{13}{19}} \\pi^{\\frac{197}{114}}}{156250} |00000010\\rangle+\\frac{21 \\cdot 2^{\\frac{29}{57}} \\cdot \\sqrt[19]{3} \\cdot 5^{\\frac{71}{114}} \\cdot 7^{\\frac{13}{19}} \\pi^{\\frac{197}{114}}}{156250} |00000011\\rangle+\\frac{21 \\cdot 2^{\\frac{29}{57}} \\cdot \\sqrt[19]{3} \\cdot 5^{\\frac{71}{114}} \\cdot 7^{\\frac{13}{19}} \\pi^{\\frac{197}{114}}}{156250} |00000100\\rangle+\\frac{21 \\cdot 2^{\\frac{29}{57}} \\cdot \\sqrt[19]{3} \\cdot 5^{\\frac{71}{114}} \\cdot 7^{\\frac{13}{19}} \\pi^{\\frac{197}{114}}}{156250} |00000101\\rangle + \\ldots +\\frac{21 \\cdot 2^{\\frac{29}{57}} \\cdot \\sqrt[19]{3} \\cdot 5^{\\frac{71}{114}} \\cdot 7^{\\frac{13}{19}} \\pi^{\\frac{197}{114}}}{156250} |11111011\\rangle+\\frac{21 \\cdot 2^{\\frac{29}{57}} \\cdot \\sqrt[19]{3} \\cdot 5^{\\frac{71}{114}} \\cdot 7^{\\frac{13}{19}} \\pi^{\\frac{197}{114}}}{156250} |11111100\\rangle+\\frac{21 \\cdot 2^{\\frac{29}{57}} \\cdot \\sqrt[19]{3} \\cdot 5^{\\frac{71}{114}} \\cdot 7^{\\frac{13}{19}} \\pi^{\\frac{197}{114}}}{156250} |11111101\\rangle+\\frac{21 \\cdot 2^{\\frac{29}{57}} \\cdot \\sqrt[19]{3} \\cdot 5^{\\frac{71}{114}} \\cdot 7^{\\frac{13}{19}} \\pi^{\\frac{197}{114}}}{156250} |11111110\\rangle+\\frac{21 \\cdot 2^{\\frac{29}{57}} \\cdot \\sqrt[19]{3} \\cdot 5^{\\frac{71}{114}} \\cdot 7^{\\frac{13}{19}} \\pi^{\\frac{197}{114}}}{156250} |11111111\\rangle$$"
      ],
      "text/plain": [
       "<IPython.core.display.Latex object>"
      ]
     },
     "metadata": {},
     "output_type": "display_data"
    },
    {
     "name": "stdout",
     "output_type": "stream",
     "text": [
      "coherence of |ψ5⟩ =  26.15511062729488\n",
      "-------- 8  ITERATION--------\n"
     ]
    },
    {
     "data": {
      "text/plain": [
       "'applied O operator to |ψ2⟩'"
      ]
     },
     "metadata": {},
     "output_type": "display_data"
    },
    {
     "data": {
      "text/latex": [
       "$$\\frac{21 \\cdot 2^{\\frac{29}{57}} \\cdot \\sqrt[19]{3} \\cdot 5^{\\frac{71}{114}} \\cdot 7^{\\frac{13}{19}} \\pi^{\\frac{197}{114}}}{156250} |00000000\\rangle+\\frac{21 \\cdot 2^{\\frac{29}{57}} \\cdot \\sqrt[19]{3} \\cdot 5^{\\frac{71}{114}} \\cdot 7^{\\frac{13}{19}} \\pi^{\\frac{197}{114}}}{156250} |00000001\\rangle+\\frac{21 \\cdot 2^{\\frac{29}{57}} \\cdot \\sqrt[19]{3} \\cdot 5^{\\frac{71}{114}} \\cdot 7^{\\frac{13}{19}} \\pi^{\\frac{197}{114}}}{156250} |00000010\\rangle+\\frac{21 \\cdot 2^{\\frac{29}{57}} \\cdot \\sqrt[19]{3} \\cdot 5^{\\frac{71}{114}} \\cdot 7^{\\frac{13}{19}} \\pi^{\\frac{197}{114}}}{156250} |00000011\\rangle+\\frac{21 \\cdot 2^{\\frac{29}{57}} \\cdot \\sqrt[19]{3} \\cdot 5^{\\frac{71}{114}} \\cdot 7^{\\frac{13}{19}} \\pi^{\\frac{197}{114}}}{156250} |00000100\\rangle+\\frac{21 \\cdot 2^{\\frac{29}{57}} \\cdot \\sqrt[19]{3} \\cdot 5^{\\frac{71}{114}} \\cdot 7^{\\frac{13}{19}} \\pi^{\\frac{197}{114}}}{156250} |00000101\\rangle + \\ldots +\\frac{21 \\cdot 2^{\\frac{29}{57}} \\cdot \\sqrt[19]{3} \\cdot 5^{\\frac{71}{114}} \\cdot 7^{\\frac{13}{19}} \\pi^{\\frac{197}{114}}}{156250} |11111011\\rangle+\\frac{21 \\cdot 2^{\\frac{29}{57}} \\cdot \\sqrt[19]{3} \\cdot 5^{\\frac{71}{114}} \\cdot 7^{\\frac{13}{19}} \\pi^{\\frac{197}{114}}}{156250} |11111100\\rangle+\\frac{21 \\cdot 2^{\\frac{29}{57}} \\cdot \\sqrt[19]{3} \\cdot 5^{\\frac{71}{114}} \\cdot 7^{\\frac{13}{19}} \\pi^{\\frac{197}{114}}}{156250} |11111101\\rangle+\\frac{21 \\cdot 2^{\\frac{29}{57}} \\cdot \\sqrt[19]{3} \\cdot 5^{\\frac{71}{114}} \\cdot 7^{\\frac{13}{19}} \\pi^{\\frac{197}{114}}}{156250} |11111110\\rangle+\\frac{21 \\cdot 2^{\\frac{29}{57}} \\cdot \\sqrt[19]{3} \\cdot 5^{\\frac{71}{114}} \\cdot 7^{\\frac{13}{19}} \\pi^{\\frac{197}{114}}}{156250} |11111111\\rangle$$"
      ],
      "text/plain": [
       "<IPython.core.display.Latex object>"
      ]
     },
     "metadata": {},
     "output_type": "display_data"
    },
    {
     "name": "stdout",
     "output_type": "stream",
     "text": [
      "coherence of |ψ2⟩ =  26.15511062729488\n"
     ]
    },
    {
     "data": {
      "text/plain": [
       "'applied Hadamard to all |ψ1⟩'"
      ]
     },
     "metadata": {},
     "output_type": "display_data"
    },
    {
     "data": {
      "text/latex": [
       "$$0.154118109262 |00000000\\rangle+0.087675475719 |00000011\\rangle-0.087675475719 |00000100\\rangle+0.087675475719 |00000111\\rangle-0.087675475719 |00001001\\rangle+0.087675475719 |00001010\\rangle + \\ldots +0.087675475719 |11110111\\rangle-0.087675475719 |11111001\\rangle+0.087675475719 |11111010\\rangle-0.087675475719 |11111101\\rangle+0.087675475719 |11111110\\rangle$$"
      ],
      "text/plain": [
       "<IPython.core.display.Latex object>"
      ]
     },
     "metadata": {},
     "output_type": "display_data"
    },
    {
     "name": "stdout",
     "output_type": "stream",
     "text": [
      "coherence of |ψ1⟩ =  126.43934280884567\n"
     ]
    },
    {
     "data": {
      "text/plain": [
       "'applied P operator to |ψ4⟩'"
      ]
     },
     "metadata": {},
     "output_type": "display_data"
    },
    {
     "data": {
      "text/latex": [
       "$$0.154118109262 |00000000\\rangle-0.087675475719 |00000011\\rangle+0.087675475719 |00000100\\rangle-0.087675475719 |00000111\\rangle+0.087675475719 |00001001\\rangle-0.087675475719 |00001010\\rangle + \\ldots -0.087675475719 |11110111\\rangle+0.087675475719 |11111001\\rangle-0.087675475719 |11111010\\rangle+0.087675475719 |11111101\\rangle-0.087675475719 |11111110\\rangle$$"
      ],
      "text/plain": [
       "<IPython.core.display.Latex object>"
      ]
     },
     "metadata": {},
     "output_type": "display_data"
    },
    {
     "name": "stdout",
     "output_type": "stream",
     "text": [
      "coherence of |ψ4⟩ =  126.43934280884567\n"
     ]
    },
    {
     "data": {
      "text/plain": [
       "'applied Hadamard to all |ψ5⟩'"
      ]
     },
     "metadata": {},
     "output_type": "display_data"
    },
    {
     "data": {
      "text/latex": [
       "$$0.004152664596 |00000000\\rangle+0.004152664596 |00000001\\rangle+0.004152664596 |00000010\\rangle+0.004152664596 |00000011\\rangle+0.004152664596 |00000100\\rangle+0.004152664596 |00000101\\rangle + \\ldots +0.004152664596 |11111011\\rangle+0.004152664596 |11111100\\rangle+0.004152664596 |11111101\\rangle+0.004152664596 |11111110\\rangle+0.004152664596 |11111111\\rangle$$"
      ],
      "text/plain": [
       "<IPython.core.display.Latex object>"
      ]
     },
     "metadata": {},
     "output_type": "display_data"
    },
    {
     "name": "stdout",
     "output_type": "stream",
     "text": [
      "coherence of |ψ5⟩ =  5.080612250242877\n",
      "======================================== FOR ϕ =  195.0 ========================================\n"
     ]
    },
    {
     "data": {
      "text/plain": [
       "'initialised |ψ0⟩'"
      ]
     },
     "metadata": {},
     "output_type": "display_data"
    },
    {
     "data": {
      "text/latex": [
       "$$ |00000000\\rangle$$"
      ],
      "text/plain": [
       "<IPython.core.display.Latex object>"
      ]
     },
     "metadata": {},
     "output_type": "display_data"
    },
    {
     "name": "stdout",
     "output_type": "stream",
     "text": [
      "coherence of |ψ0⟩ =  0.0\n"
     ]
    },
    {
     "data": {
      "text/plain": [
       "'applied Hadamard to all |ψ1⟩'"
      ]
     },
     "metadata": {},
     "output_type": "display_data"
    },
    {
     "data": {
      "text/latex": [
       "$$\\frac{1}{16} |00000000\\rangle+\\frac{1}{16} |00000001\\rangle+\\frac{1}{16} |00000010\\rangle+\\frac{1}{16} |00000011\\rangle+\\frac{1}{16} |00000100\\rangle+\\frac{1}{16} |00000101\\rangle + \\ldots +\\frac{1}{16} |11111011\\rangle+\\frac{1}{16} |11111100\\rangle+\\frac{1}{16} |11111101\\rangle+\\frac{1}{16} |11111110\\rangle+\\frac{1}{16} |11111111\\rangle$$"
      ],
      "text/plain": [
       "<IPython.core.display.Latex object>"
      ]
     },
     "metadata": {},
     "output_type": "display_data"
    },
    {
     "name": "stdout",
     "output_type": "stream",
     "text": [
      "coherence of |ψ1⟩ =  255.00000000000003\n",
      "-------- 1  ITERATION--------\n"
     ]
    },
    {
     "data": {
      "text/plain": [
       "'applied O operator to |ψ2⟩'"
      ]
     },
     "metadata": {},
     "output_type": "display_data"
    },
    {
     "data": {
      "text/latex": [
       "$$\\frac{1}{16} |00000000\\rangle+\\frac{1}{16} |00000001\\rangle+\\frac{1}{16} |00000010\\rangle+\\frac{1}{16} |00000011\\rangle+\\frac{1}{16} |00000100\\rangle+\\frac{1}{16} |00000101\\rangle + \\ldots +\\frac{1}{16} |11111011\\rangle+\\frac{1}{16} |11111100\\rangle+\\frac{1}{16} |11111101\\rangle+\\frac{1}{16} |11111110\\rangle+\\frac{1}{16} |11111111\\rangle$$"
      ],
      "text/plain": [
       "<IPython.core.display.Latex object>"
      ]
     },
     "metadata": {},
     "output_type": "display_data"
    },
    {
     "name": "stdout",
     "output_type": "stream",
     "text": [
      "coherence of |ψ2⟩ =  255.00000000000003\n"
     ]
    },
    {
     "data": {
      "text/plain": [
       "'applied Hadamard to all |ψ1⟩'"
      ]
     },
     "metadata": {},
     "output_type": "display_data"
    },
    {
     "data": {
      "text/latex": [
       "$$(0.984641204482 - 0.00202202379 i) |00000000\\rangle+ (0.015358795518 + 0.00202202379 i) |00000011\\rangle+ (-0.015358795518 - 0.00202202379 i) |00000100\\rangle+ (0.015358795518 + 0.00202202379 i) |00000111\\rangle+ (-0.015358795518 - 0.00202202379 i) |00001001\\rangle+ (0.015358795518 + 0.00202202379 i) |00001010\\rangle + \\ldots + (0.015358795518 + 0.00202202379 i) |11110111\\rangle+ (-0.015358795518 - 0.00202202379 i) |11111001\\rangle+ (0.015358795518 + 0.00202202379 i) |11111010\\rangle+ (-0.015358795518 - 0.00202202379 i) |11111101\\rangle+ (0.015358795518 + 0.00202202379 i) |11111110\\rangle$$"
      ],
      "text/plain": [
       "<IPython.core.display.Latex object>"
      ]
     },
     "metadata": {},
     "output_type": "display_data"
    },
    {
     "name": "stdout",
     "output_type": "stream",
     "text": [
      "coherence of |ψ1⟩ =  7.714550065380921\n"
     ]
    },
    {
     "data": {
      "text/plain": [
       "'applied P operator to |ψ4⟩'"
      ]
     },
     "metadata": {},
     "output_type": "display_data"
    },
    {
     "data": {
      "text/latex": [
       "$$(0.984641204482 - 0.00202202379 i) |00000000\\rangle+ (-0.015358795518 - 0.00202202379 i) |00000011\\rangle+ (0.015358795518 + 0.00202202379 i) |00000100\\rangle+ (-0.015358795518 - 0.00202202379 i) |00000111\\rangle+ (0.015358795518 + 0.00202202379 i) |00001001\\rangle+ (-0.015358795518 - 0.00202202379 i) |00001010\\rangle + \\ldots + (-0.015358795518 - 0.00202202379 i) |11110111\\rangle+ (0.015358795518 + 0.00202202379 i) |11111001\\rangle+ (-0.015358795518 - 0.00202202379 i) |11111010\\rangle+ (0.015358795518 + 0.00202202379 i) |11111101\\rangle+ (-0.015358795518 - 0.00202202379 i) |11111110\\rangle$$"
      ],
      "text/plain": [
       "<IPython.core.display.Latex object>"
      ]
     },
     "metadata": {},
     "output_type": "display_data"
    },
    {
     "name": "stdout",
     "output_type": "stream",
     "text": [
      "coherence of |ψ4⟩ =  7.714550065380921\n"
     ]
    },
    {
     "data": {
      "text/plain": [
       "'applied Hadamard to all |ψ5⟩'"
      ]
     },
     "metadata": {},
     "output_type": "display_data"
    },
    {
     "data": {
      "text/latex": [
       "$$(\\frac{3 \\cdot 2^{\\frac{187}{227}} \\cdot 3^{\\frac{46}{227}} \\cdot \\sqrt[227]{5} \\cdot 7^{\\frac{10}{227}} \\pi^{\\frac{212}{227}}}{350} - \\frac{25 \\cdot 2^{\\frac{2}{35}} \\cdot 3^{\\frac{23}{35}} \\cdot 5^{\\frac{3}{35}} \\cdot 7^{\\frac{34}{35}} i \\pi^{\\frac{68}{5}}}{9291474468864}) |00000000\\rangle+ (\\frac{3 \\cdot 2^{\\frac{187}{227}} \\cdot 3^{\\frac{46}{227}} \\cdot \\sqrt[227]{5} \\cdot 7^{\\frac{10}{227}} \\pi^{\\frac{212}{227}}}{350} - \\frac{25 \\cdot 2^{\\frac{2}{35}} \\cdot 3^{\\frac{23}{35}} \\cdot 5^{\\frac{3}{35}} \\cdot 7^{\\frac{34}{35}} i \\pi^{\\frac{68}{5}}}{9291474468864}) |00000001\\rangle+ (\\frac{3 \\cdot 2^{\\frac{187}{227}} \\cdot 3^{\\frac{46}{227}} \\cdot \\sqrt[227]{5} \\cdot 7^{\\frac{10}{227}} \\pi^{\\frac{212}{227}}}{350} - \\frac{25 \\cdot 2^{\\frac{2}{35}} \\cdot 3^{\\frac{23}{35}} \\cdot 5^{\\frac{3}{35}} \\cdot 7^{\\frac{34}{35}} i \\pi^{\\frac{68}{5}}}{9291474468864}) |00000010\\rangle+ (\\frac{3 \\cdot 2^{\\frac{187}{227}} \\cdot 3^{\\frac{46}{227}} \\cdot \\sqrt[227]{5} \\cdot 7^{\\frac{10}{227}} \\pi^{\\frac{212}{227}}}{350} - \\frac{25 \\cdot 2^{\\frac{2}{35}} \\cdot 3^{\\frac{23}{35}} \\cdot 5^{\\frac{3}{35}} \\cdot 7^{\\frac{34}{35}} i \\pi^{\\frac{68}{5}}}{9291474468864}) |00000011\\rangle+ (\\frac{3 \\cdot 2^{\\frac{187}{227}} \\cdot 3^{\\frac{46}{227}} \\cdot \\sqrt[227]{5} \\cdot 7^{\\frac{10}{227}} \\pi^{\\frac{212}{227}}}{350} - \\frac{25 \\cdot 2^{\\frac{2}{35}} \\cdot 3^{\\frac{23}{35}} \\cdot 5^{\\frac{3}{35}} \\cdot 7^{\\frac{34}{35}} i \\pi^{\\frac{68}{5}}}{9291474468864}) |00000100\\rangle+ (\\frac{3 \\cdot 2^{\\frac{187}{227}} \\cdot 3^{\\frac{46}{227}} \\cdot \\sqrt[227]{5} \\cdot 7^{\\frac{10}{227}} \\pi^{\\frac{212}{227}}}{350} - \\frac{25 \\cdot 2^{\\frac{2}{35}} \\cdot 3^{\\frac{23}{35}} \\cdot 5^{\\frac{3}{35}} \\cdot 7^{\\frac{34}{35}} i \\pi^{\\frac{68}{5}}}{9291474468864}) |00000101\\rangle + \\ldots + (\\frac{3 \\cdot 2^{\\frac{187}{227}} \\cdot 3^{\\frac{46}{227}} \\cdot \\sqrt[227]{5} \\cdot 7^{\\frac{10}{227}} \\pi^{\\frac{212}{227}}}{350} - \\frac{25 \\cdot 2^{\\frac{2}{35}} \\cdot 3^{\\frac{23}{35}} \\cdot 5^{\\frac{3}{35}} \\cdot 7^{\\frac{34}{35}} i \\pi^{\\frac{68}{5}}}{9291474468864}) |11111011\\rangle+ (\\frac{3 \\cdot 2^{\\frac{187}{227}} \\cdot 3^{\\frac{46}{227}} \\cdot \\sqrt[227]{5} \\cdot 7^{\\frac{10}{227}} \\pi^{\\frac{212}{227}}}{350} - \\frac{25 \\cdot 2^{\\frac{2}{35}} \\cdot 3^{\\frac{23}{35}} \\cdot 5^{\\frac{3}{35}} \\cdot 7^{\\frac{34}{35}} i \\pi^{\\frac{68}{5}}}{9291474468864}) |11111100\\rangle+ (\\frac{3 \\cdot 2^{\\frac{187}{227}} \\cdot 3^{\\frac{46}{227}} \\cdot \\sqrt[227]{5} \\cdot 7^{\\frac{10}{227}} \\pi^{\\frac{212}{227}}}{350} - \\frac{25 \\cdot 2^{\\frac{2}{35}} \\cdot 3^{\\frac{23}{35}} \\cdot 5^{\\frac{3}{35}} \\cdot 7^{\\frac{34}{35}} i \\pi^{\\frac{68}{5}}}{9291474468864}) |11111101\\rangle+ (\\frac{3 \\cdot 2^{\\frac{187}{227}} \\cdot 3^{\\frac{46}{227}} \\cdot \\sqrt[227]{5} \\cdot 7^{\\frac{10}{227}} \\pi^{\\frac{212}{227}}}{350} - \\frac{25 \\cdot 2^{\\frac{2}{35}} \\cdot 3^{\\frac{23}{35}} \\cdot 5^{\\frac{3}{35}} \\cdot 7^{\\frac{34}{35}} i \\pi^{\\frac{68}{5}}}{9291474468864}) |11111110\\rangle+ (\\frac{3 \\cdot 2^{\\frac{187}{227}} \\cdot 3^{\\frac{46}{227}} \\cdot \\sqrt[227]{5} \\cdot 7^{\\frac{10}{227}} \\pi^{\\frac{212}{227}}}{350} - \\frac{25 \\cdot 2^{\\frac{2}{35}} \\cdot 3^{\\frac{23}{35}} \\cdot 5^{\\frac{3}{35}} \\cdot 7^{\\frac{34}{35}} i \\pi^{\\frac{68}{5}}}{9291474468864}) |11111111\\rangle$$"
      ],
      "text/plain": [
       "<IPython.core.display.Latex object>"
      ]
     },
     "metadata": {},
     "output_type": "display_data"
    },
    {
     "name": "stdout",
     "output_type": "stream",
     "text": [
      "coherence of |ψ5⟩ =  247.24437502513453\n",
      "-------- 2  ITERATION--------\n"
     ]
    },
    {
     "data": {
      "text/plain": [
       "'applied O operator to |ψ2⟩'"
      ]
     },
     "metadata": {},
     "output_type": "display_data"
    },
    {
     "data": {
      "text/latex": [
       "$$(\\frac{3 \\cdot 2^{\\frac{187}{227}} \\cdot 3^{\\frac{46}{227}} \\cdot \\sqrt[227]{5} \\cdot 7^{\\frac{10}{227}} \\pi^{\\frac{212}{227}}}{350} - \\frac{25 \\cdot 2^{\\frac{2}{35}} \\cdot 3^{\\frac{23}{35}} \\cdot 5^{\\frac{3}{35}} \\cdot 7^{\\frac{34}{35}} i \\pi^{\\frac{68}{5}}}{9291474468864}) |00000000\\rangle+ (\\frac{3 \\cdot 2^{\\frac{187}{227}} \\cdot 3^{\\frac{46}{227}} \\cdot \\sqrt[227]{5} \\cdot 7^{\\frac{10}{227}} \\pi^{\\frac{212}{227}}}{350} - \\frac{25 \\cdot 2^{\\frac{2}{35}} \\cdot 3^{\\frac{23}{35}} \\cdot 5^{\\frac{3}{35}} \\cdot 7^{\\frac{34}{35}} i \\pi^{\\frac{68}{5}}}{9291474468864}) |00000001\\rangle+ (\\frac{3 \\cdot 2^{\\frac{187}{227}} \\cdot 3^{\\frac{46}{227}} \\cdot \\sqrt[227]{5} \\cdot 7^{\\frac{10}{227}} \\pi^{\\frac{212}{227}}}{350} - \\frac{25 \\cdot 2^{\\frac{2}{35}} \\cdot 3^{\\frac{23}{35}} \\cdot 5^{\\frac{3}{35}} \\cdot 7^{\\frac{34}{35}} i \\pi^{\\frac{68}{5}}}{9291474468864}) |00000010\\rangle+ (\\frac{3 \\cdot 2^{\\frac{187}{227}} \\cdot 3^{\\frac{46}{227}} \\cdot \\sqrt[227]{5} \\cdot 7^{\\frac{10}{227}} \\pi^{\\frac{212}{227}}}{350} - \\frac{25 \\cdot 2^{\\frac{2}{35}} \\cdot 3^{\\frac{23}{35}} \\cdot 5^{\\frac{3}{35}} \\cdot 7^{\\frac{34}{35}} i \\pi^{\\frac{68}{5}}}{9291474468864}) |00000011\\rangle+ (\\frac{3 \\cdot 2^{\\frac{187}{227}} \\cdot 3^{\\frac{46}{227}} \\cdot \\sqrt[227]{5} \\cdot 7^{\\frac{10}{227}} \\pi^{\\frac{212}{227}}}{350} - \\frac{25 \\cdot 2^{\\frac{2}{35}} \\cdot 3^{\\frac{23}{35}} \\cdot 5^{\\frac{3}{35}} \\cdot 7^{\\frac{34}{35}} i \\pi^{\\frac{68}{5}}}{9291474468864}) |00000100\\rangle+ (\\frac{3 \\cdot 2^{\\frac{187}{227}} \\cdot 3^{\\frac{46}{227}} \\cdot \\sqrt[227]{5} \\cdot 7^{\\frac{10}{227}} \\pi^{\\frac{212}{227}}}{350} - \\frac{25 \\cdot 2^{\\frac{2}{35}} \\cdot 3^{\\frac{23}{35}} \\cdot 5^{\\frac{3}{35}} \\cdot 7^{\\frac{34}{35}} i \\pi^{\\frac{68}{5}}}{9291474468864}) |00000101\\rangle + \\ldots + (\\frac{3 \\cdot 2^{\\frac{187}{227}} \\cdot 3^{\\frac{46}{227}} \\cdot \\sqrt[227]{5} \\cdot 7^{\\frac{10}{227}} \\pi^{\\frac{212}{227}}}{350} - \\frac{25 \\cdot 2^{\\frac{2}{35}} \\cdot 3^{\\frac{23}{35}} \\cdot 5^{\\frac{3}{35}} \\cdot 7^{\\frac{34}{35}} i \\pi^{\\frac{68}{5}}}{9291474468864}) |11111011\\rangle+ (\\frac{3 \\cdot 2^{\\frac{187}{227}} \\cdot 3^{\\frac{46}{227}} \\cdot \\sqrt[227]{5} \\cdot 7^{\\frac{10}{227}} \\pi^{\\frac{212}{227}}}{350} - \\frac{25 \\cdot 2^{\\frac{2}{35}} \\cdot 3^{\\frac{23}{35}} \\cdot 5^{\\frac{3}{35}} \\cdot 7^{\\frac{34}{35}} i \\pi^{\\frac{68}{5}}}{9291474468864}) |11111100\\rangle+ (\\frac{3 \\cdot 2^{\\frac{187}{227}} \\cdot 3^{\\frac{46}{227}} \\cdot \\sqrt[227]{5} \\cdot 7^{\\frac{10}{227}} \\pi^{\\frac{212}{227}}}{350} - \\frac{25 \\cdot 2^{\\frac{2}{35}} \\cdot 3^{\\frac{23}{35}} \\cdot 5^{\\frac{3}{35}} \\cdot 7^{\\frac{34}{35}} i \\pi^{\\frac{68}{5}}}{9291474468864}) |11111101\\rangle+ (\\frac{3 \\cdot 2^{\\frac{187}{227}} \\cdot 3^{\\frac{46}{227}} \\cdot \\sqrt[227]{5} \\cdot 7^{\\frac{10}{227}} \\pi^{\\frac{212}{227}}}{350} - \\frac{25 \\cdot 2^{\\frac{2}{35}} \\cdot 3^{\\frac{23}{35}} \\cdot 5^{\\frac{3}{35}} \\cdot 7^{\\frac{34}{35}} i \\pi^{\\frac{68}{5}}}{9291474468864}) |11111110\\rangle+ (\\frac{3 \\cdot 2^{\\frac{187}{227}} \\cdot 3^{\\frac{46}{227}} \\cdot \\sqrt[227]{5} \\cdot 7^{\\frac{10}{227}} \\pi^{\\frac{212}{227}}}{350} - \\frac{25 \\cdot 2^{\\frac{2}{35}} \\cdot 3^{\\frac{23}{35}} \\cdot 5^{\\frac{3}{35}} \\cdot 7^{\\frac{34}{35}} i \\pi^{\\frac{68}{5}}}{9291474468864}) |11111111\\rangle$$"
      ],
      "text/plain": [
       "<IPython.core.display.Latex object>"
      ]
     },
     "metadata": {},
     "output_type": "display_data"
    },
    {
     "name": "stdout",
     "output_type": "stream",
     "text": [
      "coherence of |ψ2⟩ =  247.24437502513453\n"
     ]
    },
    {
     "data": {
      "text/plain": [
       "'applied Hadamard to all |ψ1⟩'"
      ]
     },
     "metadata": {},
     "output_type": "display_data"
    },
    {
     "data": {
      "text/latex": [
       "$$(0.940075102501 - 0.01187012176 i) |00000000\\rangle+ (0.029207306464 + 0.00782607418 i) |00000011\\rangle+ (-0.029207306464 - 0.00782607418 i) |00000100\\rangle+ (0.029207306464 + 0.00782607418 i) |00000111\\rangle+ (-0.029207306464 - 0.00782607418 i) |00001001\\rangle+ (0.029207306464 + 0.00782607418 i) |00001010\\rangle + \\ldots + (0.029207306464 + 0.00782607418 i) |11110111\\rangle+ (-0.029207306464 - 0.00782607418 i) |11111001\\rangle+ (0.029207306464 + 0.00782607418 i) |11111010\\rangle+ (-0.029207306464 - 0.00782607418 i) |11111101\\rangle+ (0.029207306464 + 0.00782607418 i) |11111110\\rangle$$"
      ],
      "text/plain": [
       "<IPython.core.display.Latex object>"
      ]
     },
     "metadata": {},
     "output_type": "display_data"
    },
    {
     "name": "stdout",
     "output_type": "stream",
     "text": [
      "coherence of |ψ1⟩ =  21.851544220603866\n"
     ]
    },
    {
     "data": {
      "text/plain": [
       "'applied P operator to |ψ4⟩'"
      ]
     },
     "metadata": {},
     "output_type": "display_data"
    },
    {
     "data": {
      "text/latex": [
       "$$(0.940075102501 - 0.01187012176 i) |00000000\\rangle+ (-0.029207306464 - 0.00782607418 i) |00000011\\rangle+ (0.029207306464 + 0.00782607418 i) |00000100\\rangle+ (-0.029207306464 - 0.00782607418 i) |00000111\\rangle+ (0.029207306464 + 0.00782607418 i) |00001001\\rangle+ (-0.029207306464 - 0.00782607418 i) |00001010\\rangle + \\ldots + (-0.029207306464 - 0.00782607418 i) |11110111\\rangle+ (0.029207306464 + 0.00782607418 i) |11111001\\rangle+ (-0.029207306464 - 0.00782607418 i) |11111010\\rangle+ (0.029207306464 + 0.00782607418 i) |11111101\\rangle+ (-0.029207306464 - 0.00782607418 i) |11111110\\rangle$$"
      ],
      "text/plain": [
       "<IPython.core.display.Latex object>"
      ]
     },
     "metadata": {},
     "output_type": "display_data"
    },
    {
     "name": "stdout",
     "output_type": "stream",
     "text": [
      "coherence of |ψ4⟩ =  21.851544220603866\n"
     ]
    },
    {
     "data": {
      "text/plain": [
       "'applied Hadamard to all |ψ5⟩'"
      ]
     },
     "metadata": {},
     "output_type": "display_data"
    },
    {
     "data": {
      "text/latex": [
       "$$(0.056929237252 - 0.001231012246 i) |00000000\\rangle+ (0.056929237252 - 0.001231012246 i) |00000001\\rangle+ (0.056929237252 - 0.001231012246 i) |00000010\\rangle+ (0.056929237252 - 0.001231012246 i) |00000011\\rangle+ (0.056929237252 - 0.001231012246 i) |00000100\\rangle+ (0.056929237252 - 0.001231012246 i) |00000101\\rangle + \\ldots + (0.056929237252 - 0.001231012246 i) |11111011\\rangle+ (0.056929237252 - 0.001231012246 i) |11111100\\rangle+ (0.056929237252 - 0.001231012246 i) |11111101\\rangle+ (0.056929237252 - 0.001231012246 i) |11111110\\rangle+ (0.056929237252 - 0.001231012246 i) |11111111\\rangle$$"
      ],
      "text/plain": [
       "<IPython.core.display.Latex object>"
      ]
     },
     "metadata": {},
     "output_type": "display_data"
    },
    {
     "name": "stdout",
     "output_type": "stream",
     "text": [
      "coherence of |ψ5⟩ =  225.72542977608663\n",
      "-------- 3  ITERATION--------\n"
     ]
    },
    {
     "data": {
      "text/plain": [
       "'applied O operator to |ψ2⟩'"
      ]
     },
     "metadata": {},
     "output_type": "display_data"
    },
    {
     "data": {
      "text/latex": [
       "$$(0.056929237252 - 0.001231012246 i) |00000000\\rangle+ (0.056929237252 - 0.001231012246 i) |00000001\\rangle+ (0.056929237252 - 0.001231012246 i) |00000010\\rangle+ (0.056929237252 - 0.001231012246 i) |00000011\\rangle+ (0.056929237252 - 0.001231012246 i) |00000100\\rangle+ (0.056929237252 - 0.001231012246 i) |00000101\\rangle + \\ldots + (0.056929237252 - 0.001231012246 i) |11111011\\rangle+ (0.056929237252 - 0.001231012246 i) |11111100\\rangle+ (0.056929237252 - 0.001231012246 i) |11111101\\rangle+ (0.056929237252 - 0.001231012246 i) |11111110\\rangle+ (0.056929237252 - 0.001231012246 i) |11111111\\rangle$$"
      ],
      "text/plain": [
       "<IPython.core.display.Latex object>"
      ]
     },
     "metadata": {},
     "output_type": "display_data"
    },
    {
     "name": "stdout",
     "output_type": "stream",
     "text": [
      "coherence of |ψ2⟩ =  225.72542977608663\n"
     ]
    },
    {
     "data": {
      "text/plain": [
       "'applied Hadamard to all |ψ1⟩'"
      ]
     },
     "metadata": {},
     "output_type": "display_data"
    },
    {
     "data": {
      "text/latex": [
       "$$(0.870651583053 - 0.036354296785 i) |00000000\\rangle+ (0.040216212983 + 0.016658100845 i) |00000011\\rangle+ (-0.040216212983 - 0.016658100845 i) |00000100\\rangle+ (0.040216212983 + 0.016658100845 i) |00000111\\rangle+ (-0.040216212983 - 0.016658100845 i) |00001001\\rangle+ (0.040216212983 + 0.016658100845 i) |00001010\\rangle + \\ldots + (0.040216212983 + 0.016658100845 i) |11110111\\rangle+ (-0.040216212983 - 0.016658100845 i) |11111001\\rangle+ (0.040216212983 + 0.016658100845 i) |11111010\\rangle+ (-0.040216212983 - 0.016658100845 i) |11111101\\rangle+ (0.040216212983 + 0.016658100845 i) |11111110\\rangle$$"
      ],
      "text/plain": [
       "<IPython.core.display.Latex object>"
      ]
     },
     "metadata": {},
     "output_type": "display_data"
    },
    {
     "name": "stdout",
     "output_type": "stream",
     "text": [
      "coherence of |ψ1⟩ =  39.955956351802264\n"
     ]
    },
    {
     "data": {
      "text/plain": [
       "'applied P operator to |ψ4⟩'"
      ]
     },
     "metadata": {},
     "output_type": "display_data"
    },
    {
     "data": {
      "text/latex": [
       "$$(0.870651583053 - 0.036354296785 i) |00000000\\rangle+ (-0.040216212983 - 0.016658100845 i) |00000011\\rangle+ (0.040216212983 + 0.016658100845 i) |00000100\\rangle+ (-0.040216212983 - 0.016658100845 i) |00000111\\rangle+ (0.040216212983 + 0.016658100845 i) |00001001\\rangle+ (-0.040216212983 - 0.016658100845 i) |00001010\\rangle + \\ldots + (-0.040216212983 - 0.016658100845 i) |11110111\\rangle+ (0.040216212983 + 0.016658100845 i) |11111001\\rangle+ (-0.040216212983 - 0.016658100845 i) |11111010\\rangle+ (0.040216212983 + 0.016658100845 i) |11111101\\rangle+ (-0.040216212983 - 0.016658100845 i) |11111110\\rangle$$"
      ],
      "text/plain": [
       "<IPython.core.display.Latex object>"
      ]
     },
     "metadata": {},
     "output_type": "display_data"
    },
    {
     "name": "stdout",
     "output_type": "stream",
     "text": [
      "coherence of |ψ4⟩ =  39.955956351802264\n"
     ]
    },
    {
     "data": {
      "text/plain": [
       "'applied Hadamard to all |ψ5⟩'"
      ]
     },
     "metadata": {},
     "output_type": "display_data"
    },
    {
     "data": {
      "text/latex": [
       "$$(0.051902210629 - 0.003313274852 i) |00000000\\rangle+ (0.051902210629 - 0.003313274852 i) |00000001\\rangle+ (0.051902210629 - 0.003313274852 i) |00000010\\rangle+ (0.051902210629 - 0.003313274852 i) |00000011\\rangle+ (0.051902210629 - 0.003313274852 i) |00000100\\rangle+ (0.051902210629 - 0.003313274852 i) |00000101\\rangle + \\ldots + (0.051902210629 - 0.003313274852 i) |11111011\\rangle+ (0.051902210629 - 0.003313274852 i) |11111100\\rangle+ (0.051902210629 - 0.003313274852 i) |11111101\\rangle+ (0.051902210629 - 0.003313274852 i) |11111110\\rangle+ (0.051902210629 - 0.003313274852 i) |11111111\\rangle$$"
      ],
      "text/plain": [
       "<IPython.core.display.Latex object>"
      ]
     },
     "metadata": {},
     "output_type": "display_data"
    },
    {
     "name": "stdout",
     "output_type": "stream",
     "text": [
      "coherence of |ψ5⟩ =  195.03269572251165\n",
      "-------- 4  ITERATION--------\n"
     ]
    },
    {
     "data": {
      "text/plain": [
       "'applied O operator to |ψ2⟩'"
      ]
     },
     "metadata": {},
     "output_type": "display_data"
    },
    {
     "data": {
      "text/latex": [
       "$$(0.051902210629 - 0.003313274852 i) |00000000\\rangle+ (0.051902210629 - 0.003313274852 i) |00000001\\rangle+ (0.051902210629 - 0.003313274852 i) |00000010\\rangle+ (0.051902210629 - 0.003313274852 i) |00000011\\rangle+ (0.051902210629 - 0.003313274852 i) |00000100\\rangle+ (0.051902210629 - 0.003313274852 i) |00000101\\rangle + \\ldots + (0.051902210629 - 0.003313274852 i) |11111011\\rangle+ (0.051902210629 - 0.003313274852 i) |11111100\\rangle+ (0.051902210629 - 0.003313274852 i) |11111101\\rangle+ (0.051902210629 - 0.003313274852 i) |11111110\\rangle+ (0.051902210629 - 0.003313274852 i) |11111111\\rangle$$"
      ],
      "text/plain": [
       "<IPython.core.display.Latex object>"
      ]
     },
     "metadata": {},
     "output_type": "display_data"
    },
    {
     "name": "stdout",
     "output_type": "stream",
     "text": [
      "coherence of |ψ2⟩ =  195.03269572251165\n"
     ]
    },
    {
     "data": {
      "text/plain": [
       "'applied Hadamard to all |ψ1⟩'"
      ]
     },
     "metadata": {},
     "output_type": "display_data"
    },
    {
     "data": {
      "text/latex": [
       "$$(0.783039245699 - 0.080376562794 i) |00000000\\rangle+ (0.047396124371 + 0.027364165164 i) |00000011\\rangle+ (-0.047396124371 - 0.027364165164 i) |00000100\\rangle+ (0.047396124371 + 0.027364165164 i) |00000111\\rangle+ (-0.047396124371 - 0.027364165164 i) |00001001\\rangle+ (0.047396124371 + 0.027364165164 i) |00001010\\rangle + \\ldots + (0.047396124371 + 0.027364165164 i) |11110111\\rangle+ (-0.047396124371 - 0.027364165164 i) |11111001\\rangle+ (0.047396124371 + 0.027364165164 i) |11111010\\rangle+ (-0.047396124371 - 0.027364165164 i) |11111101\\rangle+ (0.047396124371 + 0.027364165164 i) |11111110\\rangle$$"
      ],
      "text/plain": [
       "<IPython.core.display.Latex object>"
      ]
     },
     "metadata": {},
     "output_type": "display_data"
    },
    {
     "name": "stdout",
     "output_type": "stream",
     "text": [
      "coherence of |ψ1⟩ =  58.871252146744084\n"
     ]
    },
    {
     "data": {
      "text/plain": [
       "'applied P operator to |ψ4⟩'"
      ]
     },
     "metadata": {},
     "output_type": "display_data"
    },
    {
     "data": {
      "text/latex": [
       "$$(0.783039245699 - 0.080376562794 i) |00000000\\rangle+ (-0.047396124371 - 0.027364165164 i) |00000011\\rangle+ (0.047396124371 + 0.027364165164 i) |00000100\\rangle+ (-0.047396124371 - 0.027364165164 i) |00000111\\rangle+ (0.047396124371 + 0.027364165164 i) |00001001\\rangle+ (-0.047396124371 - 0.027364165164 i) |00001010\\rangle + \\ldots + (-0.047396124371 - 0.027364165164 i) |11110111\\rangle+ (0.047396124371 + 0.027364165164 i) |11111001\\rangle+ (-0.047396124371 - 0.027364165164 i) |11111010\\rangle+ (0.047396124371 + 0.027364165164 i) |11111101\\rangle+ (-0.047396124371 - 0.027364165164 i) |11111110\\rangle$$"
      ],
      "text/plain": [
       "<IPython.core.display.Latex object>"
      ]
     },
     "metadata": {},
     "output_type": "display_data"
    },
    {
     "name": "stdout",
     "output_type": "stream",
     "text": [
      "coherence of |ψ4⟩ =  58.871252146744084\n"
     ]
    },
    {
     "data": {
      "text/plain": [
       "'applied Hadamard to all |ψ5⟩'"
      ]
     },
     "metadata": {},
     "output_type": "display_data"
    },
    {
     "data": {
      "text/latex": [
       "$$(0.045977695083 - 0.006733795497 i) |00000000\\rangle+ (0.045977695083 - 0.006733795497 i) |00000001\\rangle+ (0.045977695083 - 0.006733795497 i) |00000010\\rangle+ (0.045977695083 - 0.006733795497 i) |00000011\\rangle+ (0.045977695083 - 0.006733795497 i) |00000100\\rangle+ (0.045977695083 - 0.006733795497 i) |00000101\\rangle + \\ldots + (0.045977695083 - 0.006733795497 i) |11111011\\rangle+ (0.045977695083 - 0.006733795497 i) |11111100\\rangle+ (0.045977695083 - 0.006733795497 i) |11111101\\rangle+ (0.045977695083 - 0.006733795497 i) |11111110\\rangle+ (0.045977695083 - 0.006733795497 i) |11111111\\rangle$$"
      ],
      "text/plain": [
       "<IPython.core.display.Latex object>"
      ]
     },
     "metadata": {},
     "output_type": "display_data"
    },
    {
     "name": "stdout",
     "output_type": "stream",
     "text": [
      "coherence of |ψ5⟩ =  161.64473606072616\n",
      "-------- 5  ITERATION--------\n"
     ]
    },
    {
     "data": {
      "text/plain": [
       "'applied O operator to |ψ2⟩'"
      ]
     },
     "metadata": {},
     "output_type": "display_data"
    },
    {
     "data": {
      "text/latex": [
       "$$(0.045977695083 - 0.006733795497 i) |00000000\\rangle+ (0.045977695083 - 0.006733795497 i) |00000001\\rangle+ (0.045977695083 - 0.006733795497 i) |00000010\\rangle+ (0.045977695083 - 0.006733795497 i) |00000011\\rangle+ (0.045977695083 - 0.006733795497 i) |00000100\\rangle+ (0.045977695083 - 0.006733795497 i) |00000101\\rangle + \\ldots + (0.045977695083 - 0.006733795497 i) |11111011\\rangle+ (0.045977695083 - 0.006733795497 i) |11111100\\rangle+ (0.045977695083 - 0.006733795497 i) |11111101\\rangle+ (0.045977695083 - 0.006733795497 i) |11111110\\rangle+ (0.045977695083 - 0.006733795497 i) |11111111\\rangle$$"
      ],
      "text/plain": [
       "<IPython.core.display.Latex object>"
      ]
     },
     "metadata": {},
     "output_type": "display_data"
    },
    {
     "name": "stdout",
     "output_type": "stream",
     "text": [
      "coherence of |ψ2⟩ =  161.64473606072616\n"
     ]
    },
    {
     "data": {
      "text/plain": [
       "'applied Hadamard to all |ψ1⟩'"
      ]
     },
     "metadata": {},
     "output_type": "display_data"
    },
    {
     "data": {
      "text/latex": [
       "$$(0.68542790124 - 0.146272221539 i) |00000000\\rangle+ (0.050215220088 + 0.038531493581 i) |00000011\\rangle+ (-0.050215220088 - 0.038531493581 i) |00000100\\rangle+ (0.050215220088 + 0.038531493581 i) |00000111\\rangle+ (-0.050215220088 - 0.038531493581 i) |00001001\\rangle+ (0.050215220088 + 0.038531493581 i) |00001010\\rangle + \\ldots + (0.050215220088 + 0.038531493581 i) |11110111\\rangle+ (-0.050215220088 - 0.038531493581 i) |11111001\\rangle+ (0.050215220088 + 0.038531493581 i) |11111010\\rangle+ (-0.050215220088 - 0.038531493581 i) |11111101\\rangle+ (0.050215220088 + 0.038531493581 i) |11111110\\rangle$$"
      ],
      "text/plain": [
       "<IPython.core.display.Latex object>"
      ]
     },
     "metadata": {},
     "output_type": "display_data"
    },
    {
     "name": "stdout",
     "output_type": "stream",
     "text": [
      "coherence of |ψ1⟩ =  75.37560659533668\n"
     ]
    },
    {
     "data": {
      "text/plain": [
       "'applied P operator to |ψ4⟩'"
      ]
     },
     "metadata": {},
     "output_type": "display_data"
    },
    {
     "data": {
      "text/latex": [
       "$$(0.68542790124 - 0.146272221539 i) |00000000\\rangle+ (-0.050215220088 - 0.038531493581 i) |00000011\\rangle+ (0.050215220088 + 0.038531493581 i) |00000100\\rangle+ (-0.050215220088 - 0.038531493581 i) |00000111\\rangle+ (0.050215220088 + 0.038531493581 i) |00001001\\rangle+ (-0.050215220088 - 0.038531493581 i) |00001010\\rangle + \\ldots + (-0.050215220088 - 0.038531493581 i) |11110111\\rangle+ (0.050215220088 + 0.038531493581 i) |11111001\\rangle+ (-0.050215220088 - 0.038531493581 i) |11111010\\rangle+ (0.050215220088 + 0.038531493581 i) |11111101\\rangle+ (-0.050215220088 - 0.038531493581 i) |11111110\\rangle$$"
      ],
      "text/plain": [
       "<IPython.core.display.Latex object>"
      ]
     },
     "metadata": {},
     "output_type": "display_data"
    },
    {
     "name": "stdout",
     "output_type": "stream",
     "text": [
      "coherence of |ψ4⟩ =  75.37560659533668\n"
     ]
    },
    {
     "data": {
      "text/plain": [
       "'applied Hadamard to all |ψ5⟩'"
      ]
     },
     "metadata": {},
     "output_type": "display_data"
    },
    {
     "data": {
      "text/latex": [
       "$$(0.039700792572 - 0.011550232195 i) |00000000\\rangle+ (0.039700792572 - 0.011550232195 i) |00000001\\rangle+ (0.039700792572 - 0.011550232195 i) |00000010\\rangle+ (0.039700792572 - 0.011550232195 i) |00000011\\rangle+ (0.039700792572 - 0.011550232195 i) |00000100\\rangle+ (0.039700792572 - 0.011550232195 i) |00000101\\rangle + \\ldots + (0.039700792572 - 0.011550232195 i) |11111011\\rangle+ (0.039700792572 - 0.011550232195 i) |11111100\\rangle+ (0.039700792572 - 0.011550232195 i) |11111101\\rangle+ (0.039700792572 - 0.011550232195 i) |11111110\\rangle+ (0.039700792572 - 0.011550232195 i) |11111111\\rangle$$"
      ],
      "text/plain": [
       "<IPython.core.display.Latex object>"
      ]
     },
     "metadata": {},
     "output_type": "display_data"
    },
    {
     "name": "stdout",
     "output_type": "stream",
     "text": [
      "coherence of |ψ5⟩ =  132.76857017284703\n",
      "-------- 6  ITERATION--------\n"
     ]
    },
    {
     "data": {
      "text/plain": [
       "'applied O operator to |ψ2⟩'"
      ]
     },
     "metadata": {},
     "output_type": "display_data"
    },
    {
     "data": {
      "text/latex": [
       "$$(0.039700792572 - 0.011550232195 i) |00000000\\rangle+ (0.039700792572 - 0.011550232195 i) |00000001\\rangle+ (0.039700792572 - 0.011550232195 i) |00000010\\rangle+ (0.039700792572 - 0.011550232195 i) |00000011\\rangle+ (0.039700792572 - 0.011550232195 i) |00000100\\rangle+ (0.039700792572 - 0.011550232195 i) |00000101\\rangle + \\ldots + (0.039700792572 - 0.011550232195 i) |11111011\\rangle+ (0.039700792572 - 0.011550232195 i) |11111100\\rangle+ (0.039700792572 - 0.011550232195 i) |11111101\\rangle+ (0.039700792572 - 0.011550232195 i) |11111110\\rangle+ (0.039700792572 - 0.011550232195 i) |11111111\\rangle$$"
      ],
      "text/plain": [
       "<IPython.core.display.Latex object>"
      ]
     },
     "metadata": {},
     "output_type": "display_data"
    },
    {
     "name": "stdout",
     "output_type": "stream",
     "text": [
      "coherence of |ψ2⟩ =  132.76857017284703\n"
     ]
    },
    {
     "data": {
      "text/plain": [
       "'applied Hadamard to all |ψ1⟩'"
      ]
     },
     "metadata": {},
     "output_type": "display_data"
    },
    {
     "data": {
      "text/latex": [
       "$$(0.586551408382 - 0.233464987889 i) |00000000\\rangle+ (0.048661272769 + 0.048661272769 i) |00000011\\rangle+ (-0.048661272769 - 0.048661272769 i) |00000100\\rangle+ (0.048661272769 + 0.048661272769 i) |00000111\\rangle+ (-0.048661272769 - 0.048661272769 i) |00001001\\rangle+ (0.048661272769 + 0.048661272769 i) |00001010\\rangle + \\ldots + (0.048661272769 + 0.048661272769 i) |11110111\\rangle+ (-0.048661272769 - 0.048661272769 i) |11111001\\rangle+ (0.048661272769 + 0.048661272769 i) |11111010\\rangle+ (-0.048661272769 - 0.048661272769 i) |11111101\\rangle+ (0.048661272769 + 0.048661272769 i) |11111110\\rangle$$"
      ],
      "text/plain": [
       "<IPython.core.display.Latex object>"
      ]
     },
     "metadata": {},
     "output_type": "display_data"
    },
    {
     "name": "stdout",
     "output_type": "stream",
     "text": [
      "coherence of |ψ1⟩ =  86.81790495652608\n"
     ]
    },
    {
     "data": {
      "text/plain": [
       "'applied P operator to |ψ4⟩'"
      ]
     },
     "metadata": {},
     "output_type": "display_data"
    },
    {
     "data": {
      "text/latex": [
       "$$(0.586551408382 - 0.233464987889 i) |00000000\\rangle+ (-0.048661272769 - 0.048661272769 i) |00000011\\rangle+ (0.048661272769 + 0.048661272769 i) |00000100\\rangle+ (-0.048661272769 - 0.048661272769 i) |00000111\\rangle+ (0.048661272769 + 0.048661272769 i) |00001001\\rangle+ (-0.048661272769 - 0.048661272769 i) |00001010\\rangle + \\ldots + (-0.048661272769 - 0.048661272769 i) |11110111\\rangle+ (0.048661272769 + 0.048661272769 i) |11111001\\rangle+ (-0.048661272769 - 0.048661272769 i) |11111010\\rangle+ (0.048661272769 + 0.048661272769 i) |11111101\\rangle+ (-0.048661272769 - 0.048661272769 i) |11111110\\rangle$$"
      ],
      "text/plain": [
       "<IPython.core.display.Latex object>"
      ]
     },
     "metadata": {},
     "output_type": "display_data"
    },
    {
     "name": "stdout",
     "output_type": "stream",
     "text": [
      "coherence of |ψ4⟩ =  86.81790495652608\n"
     ]
    },
    {
     "data": {
      "text/plain": [
       "'applied Hadamard to all |ψ5⟩'"
      ]
     },
     "metadata": {},
     "output_type": "display_data"
    },
    {
     "data": {
      "text/latex": [
       "$$(0.033618133476 - 0.017632891291 i) |00000000\\rangle+ (0.033618133476 - 0.017632891291 i) |00000001\\rangle+ (0.033618133476 - 0.017632891291 i) |00000010\\rangle+ (0.033618133476 - 0.017632891291 i) |00000011\\rangle+ (0.033618133476 - 0.017632891291 i) |00000100\\rangle+ (0.033618133476 - 0.017632891291 i) |00000101\\rangle + \\ldots + (0.033618133476 - 0.017632891291 i) |11111011\\rangle+ (0.033618133476 - 0.017632891291 i) |11111100\\rangle+ (0.033618133476 - 0.017632891291 i) |11111101\\rangle+ (0.033618133476 - 0.017632891291 i) |11111110\\rangle+ (0.033618133476 - 0.017632891291 i) |11111111\\rangle$$"
      ],
      "text/plain": [
       "<IPython.core.display.Latex object>"
      ]
     },
     "metadata": {},
     "output_type": "display_data"
    },
    {
     "name": "stdout",
     "output_type": "stream",
     "text": [
      "coherence of |ψ5⟩ =  114.95663133352609\n",
      "-------- 7  ITERATION--------\n"
     ]
    },
    {
     "data": {
      "text/plain": [
       "'applied O operator to |ψ2⟩'"
      ]
     },
     "metadata": {},
     "output_type": "display_data"
    },
    {
     "data": {
      "text/latex": [
       "$$(0.033618133476 - 0.017632891291 i) |00000000\\rangle+ (0.033618133476 - 0.017632891291 i) |00000001\\rangle+ (0.033618133476 - 0.017632891291 i) |00000010\\rangle+ (0.033618133476 - 0.017632891291 i) |00000011\\rangle+ (0.033618133476 - 0.017632891291 i) |00000100\\rangle+ (0.033618133476 - 0.017632891291 i) |00000101\\rangle + \\ldots + (0.033618133476 - 0.017632891291 i) |11111011\\rangle+ (0.033618133476 - 0.017632891291 i) |11111100\\rangle+ (0.033618133476 - 0.017632891291 i) |11111101\\rangle+ (0.033618133476 - 0.017632891291 i) |11111110\\rangle+ (0.033618133476 - 0.017632891291 i) |11111111\\rangle$$"
      ],
      "text/plain": [
       "<IPython.core.display.Latex object>"
      ]
     },
     "metadata": {},
     "output_type": "display_data"
    },
    {
     "name": "stdout",
     "output_type": "stream",
     "text": [
      "coherence of |ψ2⟩ =  114.95663133352609\n"
     ]
    },
    {
     "data": {
      "text/plain": [
       "'applied Hadamard to all |ψ1⟩'"
      ]
     },
     "metadata": {},
     "output_type": "display_data"
    },
    {
     "data": {
      "text/latex": [
       "$$(0.494649609042 - 0.338478412021 i) |00000000\\rangle+ (0.043240526571 + 0.056352151363 i) |00000011\\rangle+ (-0.043240526571 - 0.056352151363 i) |00000100\\rangle+ (0.043240526571 + 0.056352151363 i) |00000111\\rangle+ (-0.043240526571 - 0.056352151363 i) |00001001\\rangle+ (0.043240526571 + 0.056352151363 i) |00001010\\rangle + \\ldots + (0.043240526571 + 0.056352151363 i) |11110111\\rangle+ (-0.043240526571 - 0.056352151363 i) |11111001\\rangle+ (0.043240526571 + 0.056352151363 i) |11111010\\rangle+ (-0.043240526571 - 0.056352151363 i) |11111101\\rangle+ (0.043240526571 + 0.056352151363 i) |11111110\\rangle$$"
      ],
      "text/plain": [
       "<IPython.core.display.Latex object>"
      ]
     },
     "metadata": {},
     "output_type": "display_data"
    },
    {
     "name": "stdout",
     "output_type": "stream",
     "text": [
      "coherence of |ψ1⟩ =  91.54869878870812\n"
     ]
    },
    {
     "data": {
      "text/plain": [
       "'applied P operator to |ψ4⟩'"
      ]
     },
     "metadata": {},
     "output_type": "display_data"
    },
    {
     "data": {
      "text/latex": [
       "$$(0.494649609042 - 0.338478412021 i) |00000000\\rangle+ (-0.043240526571 - 0.056352151363 i) |00000011\\rangle+ (0.043240526571 + 0.056352151363 i) |00000100\\rangle+ (-0.043240526571 - 0.056352151363 i) |00000111\\rangle+ (0.043240526571 + 0.056352151363 i) |00001001\\rangle+ (-0.043240526571 - 0.056352151363 i) |00001010\\rangle + \\ldots + (-0.043240526571 - 0.056352151363 i) |11110111\\rangle+ (0.043240526571 + 0.056352151363 i) |11111001\\rangle+ (-0.043240526571 - 0.056352151363 i) |11111010\\rangle+ (0.043240526571 + 0.056352151363 i) |11111101\\rangle+ (-0.043240526571 - 0.056352151363 i) |11111110\\rangle$$"
      ],
      "text/plain": [
       "<IPython.core.display.Latex object>"
      ]
     },
     "metadata": {},
     "output_type": "display_data"
    },
    {
     "name": "stdout",
     "output_type": "stream",
     "text": [
      "coherence of |ψ4⟩ =  91.54869878870812\n"
     ]
    },
    {
     "data": {
      "text/plain": [
       "'applied Hadamard to all |ψ5⟩'"
      ]
     },
     "metadata": {},
     "output_type": "display_data"
    },
    {
     "data": {
      "text/latex": [
       "$$(0.028213067654 - 0.024676910211 i) |00000000\\rangle+ (0.028213067654 - 0.024676910211 i) |00000001\\rangle+ (0.028213067654 - 0.024676910211 i) |00000010\\rangle+ (0.028213067654 - 0.024676910211 i) |00000011\\rangle+ (0.028213067654 - 0.024676910211 i) |00000100\\rangle+ (0.028213067654 - 0.024676910211 i) |00000101\\rangle + \\ldots + (0.028213067654 - 0.024676910211 i) |11111011\\rangle+ (0.028213067654 - 0.024676910211 i) |11111100\\rangle+ (0.028213067654 - 0.024676910211 i) |11111101\\rangle+ (0.028213067654 - 0.024676910211 i) |11111110\\rangle+ (0.028213067654 - 0.024676910211 i) |11111111\\rangle$$"
      ],
      "text/plain": [
       "<IPython.core.display.Latex object>"
      ]
     },
     "metadata": {},
     "output_type": "display_data"
    },
    {
     "name": "stdout",
     "output_type": "stream",
     "text": [
      "coherence of |ψ5⟩ =  112.52197216993102\n",
      "-------- 8  ITERATION--------\n"
     ]
    },
    {
     "data": {
      "text/plain": [
       "'applied O operator to |ψ2⟩'"
      ]
     },
     "metadata": {},
     "output_type": "display_data"
    },
    {
     "data": {
      "text/latex": [
       "$$(0.028213067654 - 0.024676910211 i) |00000000\\rangle+ (0.028213067654 - 0.024676910211 i) |00000001\\rangle+ (0.028213067654 - 0.024676910211 i) |00000010\\rangle+ (0.028213067654 - 0.024676910211 i) |00000011\\rangle+ (0.028213067654 - 0.024676910211 i) |00000100\\rangle+ (0.028213067654 - 0.024676910211 i) |00000101\\rangle + \\ldots + (0.028213067654 - 0.024676910211 i) |11111011\\rangle+ (0.028213067654 - 0.024676910211 i) |11111100\\rangle+ (0.028213067654 - 0.024676910211 i) |11111101\\rangle+ (0.028213067654 - 0.024676910211 i) |11111110\\rangle+ (0.028213067654 - 0.024676910211 i) |11111111\\rangle$$"
      ],
      "text/plain": [
       "<IPython.core.display.Latex object>"
      ]
     },
     "metadata": {},
     "output_type": "display_data"
    },
    {
     "name": "stdout",
     "output_type": "stream",
     "text": [
      "coherence of |ψ2⟩ =  112.52197216993102\n"
     ]
    },
    {
     "data": {
      "text/plain": [
       "'applied Hadamard to all |ψ1⟩'"
      ]
     },
     "metadata": {},
     "output_type": "display_data"
    },
    {
     "data": {
      "text/latex": [
       "$$(0.416495494534 - 0.455302671565 i) |00000000\\rangle+ (0.034913587937 + 0.060472108181 i) |00000011\\rangle+ (-0.034913587937 - 0.060472108181 i) |00000100\\rangle+ (0.034913587937 + 0.060472108181 i) |00000111\\rangle+ (-0.034913587937 - 0.060472108181 i) |00001001\\rangle+ (0.034913587937 + 0.060472108181 i) |00001010\\rangle + \\ldots + (0.034913587937 + 0.060472108181 i) |11110111\\rangle+ (-0.034913587937 - 0.060472108181 i) |11111001\\rangle+ (0.034913587937 + 0.060472108181 i) |11111010\\rangle+ (-0.034913587937 - 0.060472108181 i) |11111101\\rangle+ (0.034913587937 + 0.060472108181 i) |11111110\\rangle$$"
      ],
      "text/plain": [
       "<IPython.core.display.Latex object>"
      ]
     },
     "metadata": {},
     "output_type": "display_data"
    },
    {
     "name": "stdout",
     "output_type": "stream",
     "text": [
      "coherence of |ψ1⟩ =  88.96742891740017\n"
     ]
    },
    {
     "data": {
      "text/plain": [
       "'applied P operator to |ψ4⟩'"
      ]
     },
     "metadata": {},
     "output_type": "display_data"
    },
    {
     "data": {
      "text/latex": [
       "$$(0.416495494534 - 0.455302671565 i) |00000000\\rangle+ (-0.034913587937 - 0.060472108181 i) |00000011\\rangle+ (0.034913587937 + 0.060472108181 i) |00000100\\rangle+ (-0.034913587937 - 0.060472108181 i) |00000111\\rangle+ (0.034913587937 + 0.060472108181 i) |00001001\\rangle+ (-0.034913587937 - 0.060472108181 i) |00001010\\rangle + \\ldots + (-0.034913587937 - 0.060472108181 i) |11110111\\rangle+ (0.034913587937 + 0.060472108181 i) |11111001\\rangle+ (-0.034913587937 - 0.060472108181 i) |11111010\\rangle+ (0.034913587937 + 0.060472108181 i) |11111101\\rangle+ (-0.034913587937 - 0.060472108181 i) |11111110\\rangle$$"
      ],
      "text/plain": [
       "<IPython.core.display.Latex object>"
      ]
     },
     "metadata": {},
     "output_type": "display_data"
    },
    {
     "name": "stdout",
     "output_type": "stream",
     "text": [
      "coherence of |ψ4⟩ =  88.96742891740017\n"
     ]
    },
    {
     "data": {
      "text/plain": [
       "'applied Hadamard to all |ψ5⟩'"
      ]
     },
     "metadata": {},
     "output_type": "display_data"
    },
    {
     "data": {
      "text/latex": [
       "$$(0.023848869162 - 0.032235923734 i) |00000000\\rangle+ (0.023848869162 - 0.032235923734 i) |00000001\\rangle+ (0.023848869162 - 0.032235923734 i) |00000010\\rangle+ (0.023848869162 - 0.032235923734 i) |00000011\\rangle+ (0.023848869162 - 0.032235923734 i) |00000100\\rangle+ (0.023848869162 - 0.032235923734 i) |00000101\\rangle + \\ldots + (0.023848869162 - 0.032235923734 i) |11111011\\rangle+ (0.023848869162 - 0.032235923734 i) |11111100\\rangle+ (0.023848869162 - 0.032235923734 i) |11111101\\rangle+ (0.023848869162 - 0.032235923734 i) |11111110\\rangle+ (0.023848869162 - 0.032235923734 i) |11111111\\rangle$$"
      ],
      "text/plain": [
       "<IPython.core.display.Latex object>"
      ]
     },
     "metadata": {},
     "output_type": "display_data"
    },
    {
     "name": "stdout",
     "output_type": "stream",
     "text": [
      "coherence of |ψ5⟩ =  126.0774625026358\n",
      "======================================== FOR ϕ =  210.0 ========================================\n"
     ]
    },
    {
     "data": {
      "text/plain": [
       "'initialised |ψ0⟩'"
      ]
     },
     "metadata": {},
     "output_type": "display_data"
    },
    {
     "data": {
      "text/latex": [
       "$$ |00000000\\rangle$$"
      ],
      "text/plain": [
       "<IPython.core.display.Latex object>"
      ]
     },
     "metadata": {},
     "output_type": "display_data"
    },
    {
     "name": "stdout",
     "output_type": "stream",
     "text": [
      "coherence of |ψ0⟩ =  0.0\n"
     ]
    },
    {
     "data": {
      "text/plain": [
       "'applied Hadamard to all |ψ1⟩'"
      ]
     },
     "metadata": {},
     "output_type": "display_data"
    },
    {
     "data": {
      "text/latex": [
       "$$\\frac{1}{16} |00000000\\rangle+\\frac{1}{16} |00000001\\rangle+\\frac{1}{16} |00000010\\rangle+\\frac{1}{16} |00000011\\rangle+\\frac{1}{16} |00000100\\rangle+\\frac{1}{16} |00000101\\rangle + \\ldots +\\frac{1}{16} |11111011\\rangle+\\frac{1}{16} |11111100\\rangle+\\frac{1}{16} |11111101\\rangle+\\frac{1}{16} |11111110\\rangle+\\frac{1}{16} |11111111\\rangle$$"
      ],
      "text/plain": [
       "<IPython.core.display.Latex object>"
      ]
     },
     "metadata": {},
     "output_type": "display_data"
    },
    {
     "name": "stdout",
     "output_type": "stream",
     "text": [
      "coherence of |ψ1⟩ =  255.00000000000003\n",
      "-------- 1  ITERATION--------\n"
     ]
    },
    {
     "data": {
      "text/plain": [
       "'applied O operator to |ψ2⟩'"
      ]
     },
     "metadata": {},
     "output_type": "display_data"
    },
    {
     "data": {
      "text/latex": [
       "$$\\frac{1}{16} |00000000\\rangle+\\frac{1}{16} |00000001\\rangle+\\frac{1}{16} |00000010\\rangle+\\frac{1}{16} |00000011\\rangle+\\frac{1}{16} |00000100\\rangle+\\frac{1}{16} |00000101\\rangle + \\ldots +\\frac{1}{16} |11111011\\rangle+\\frac{1}{16} |11111100\\rangle+\\frac{1}{16} |11111101\\rangle+\\frac{1}{16} |11111110\\rangle+\\frac{1}{16} |11111111\\rangle$$"
      ],
      "text/plain": [
       "<IPython.core.display.Latex object>"
      ]
     },
     "metadata": {},
     "output_type": "display_data"
    },
    {
     "name": "stdout",
     "output_type": "stream",
     "text": [
      "coherence of |ψ2⟩ =  255.00000000000003\n"
     ]
    },
    {
     "data": {
      "text/plain": [
       "'applied Hadamard to all |ψ1⟩'"
      ]
     },
     "metadata": {},
     "output_type": "display_data"
    },
    {
     "data": {
      "text/latex": [
       "$$(0.985421676533 - 0.00390625 i) |00000000\\rangle+ (0.014578323467 + 0.00390625 i) |00000011\\rangle+ (-0.014578323467 - 0.00390625 i) |00000100\\rangle+ (0.014578323467 + 0.00390625 i) |00000111\\rangle+ (-0.014578323467 - 0.00390625 i) |00001001\\rangle+ (0.014578323467 + 0.00390625 i) |00001010\\rangle + \\ldots + (0.014578323467 + 0.00390625 i) |11110111\\rangle+ (-0.014578323467 - 0.00390625 i) |11111001\\rangle+ (0.014578323467 + 0.00390625 i) |11111010\\rangle+ (-0.014578323467 - 0.00390625 i) |11111101\\rangle+ (0.014578323467 + 0.00390625 i) |11111110\\rangle$$"
      ],
      "text/plain": [
       "<IPython.core.display.Latex object>"
      ]
     },
     "metadata": {},
     "output_type": "display_data"
    },
    {
     "name": "stdout",
     "output_type": "stream",
     "text": [
      "coherence of |ψ1⟩ =  7.4226979752345885\n"
     ]
    },
    {
     "data": {
      "text/plain": [
       "'applied P operator to |ψ4⟩'"
      ]
     },
     "metadata": {},
     "output_type": "display_data"
    },
    {
     "data": {
      "text/latex": [
       "$$(0.985421676533 - 0.00390625 i) |00000000\\rangle+ (-0.014578323467 - 0.00390625 i) |00000011\\rangle+ (0.014578323467 + 0.00390625 i) |00000100\\rangle+ (-0.014578323467 - 0.00390625 i) |00000111\\rangle+ (0.014578323467 + 0.00390625 i) |00001001\\rangle+ (-0.014578323467 - 0.00390625 i) |00001010\\rangle + \\ldots + (-0.014578323467 - 0.00390625 i) |11110111\\rangle+ (0.014578323467 + 0.00390625 i) |11111001\\rangle+ (-0.014578323467 - 0.00390625 i) |11111010\\rangle+ (0.014578323467 + 0.00390625 i) |11111101\\rangle+ (-0.014578323467 - 0.00390625 i) |11111110\\rangle$$"
      ],
      "text/plain": [
       "<IPython.core.display.Latex object>"
      ]
     },
     "metadata": {},
     "output_type": "display_data"
    },
    {
     "name": "stdout",
     "output_type": "stream",
     "text": [
      "coherence of |ψ4⟩ =  7.4226979752345885\n"
     ]
    },
    {
     "data": {
      "text/plain": [
       "'applied Hadamard to all |ψ5⟩'"
      ]
     },
     "metadata": {},
     "output_type": "display_data"
    },
    {
     "data": {
      "text/latex": [
       "$$(\\frac{3 \\cdot 2^{\\frac{266}{291}} \\cdot 3^{\\frac{6}{97}} \\cdot 5^{\\frac{2}{3}} \\cdot 7^{\\frac{59}{291}}}{70 \\pi^{\\frac{463}{291}}} - \\frac{i}{2048}) |00000000\\rangle+ (\\frac{3 \\cdot 2^{\\frac{266}{291}} \\cdot 3^{\\frac{6}{97}} \\cdot 5^{\\frac{2}{3}} \\cdot 7^{\\frac{59}{291}}}{70 \\pi^{\\frac{463}{291}}} - \\frac{i}{2048}) |00000001\\rangle+ (\\frac{3 \\cdot 2^{\\frac{266}{291}} \\cdot 3^{\\frac{6}{97}} \\cdot 5^{\\frac{2}{3}} \\cdot 7^{\\frac{59}{291}}}{70 \\pi^{\\frac{463}{291}}} - \\frac{i}{2048}) |00000010\\rangle+ (\\frac{3 \\cdot 2^{\\frac{266}{291}} \\cdot 3^{\\frac{6}{97}} \\cdot 5^{\\frac{2}{3}} \\cdot 7^{\\frac{59}{291}}}{70 \\pi^{\\frac{463}{291}}} - \\frac{i}{2048}) |00000011\\rangle+ (\\frac{3 \\cdot 2^{\\frac{266}{291}} \\cdot 3^{\\frac{6}{97}} \\cdot 5^{\\frac{2}{3}} \\cdot 7^{\\frac{59}{291}}}{70 \\pi^{\\frac{463}{291}}} - \\frac{i}{2048}) |00000100\\rangle+ (\\frac{3 \\cdot 2^{\\frac{266}{291}} \\cdot 3^{\\frac{6}{97}} \\cdot 5^{\\frac{2}{3}} \\cdot 7^{\\frac{59}{291}}}{70 \\pi^{\\frac{463}{291}}} - \\frac{i}{2048}) |00000101\\rangle + \\ldots + (\\frac{3 \\cdot 2^{\\frac{266}{291}} \\cdot 3^{\\frac{6}{97}} \\cdot 5^{\\frac{2}{3}} \\cdot 7^{\\frac{59}{291}}}{70 \\pi^{\\frac{463}{291}}} - \\frac{i}{2048}) |11111011\\rangle+ (\\frac{3 \\cdot 2^{\\frac{266}{291}} \\cdot 3^{\\frac{6}{97}} \\cdot 5^{\\frac{2}{3}} \\cdot 7^{\\frac{59}{291}}}{70 \\pi^{\\frac{463}{291}}} - \\frac{i}{2048}) |11111100\\rangle+ (\\frac{3 \\cdot 2^{\\frac{266}{291}} \\cdot 3^{\\frac{6}{97}} \\cdot 5^{\\frac{2}{3}} \\cdot 7^{\\frac{59}{291}}}{70 \\pi^{\\frac{463}{291}}} - \\frac{i}{2048}) |11111101\\rangle+ (\\frac{3 \\cdot 2^{\\frac{266}{291}} \\cdot 3^{\\frac{6}{97}} \\cdot 5^{\\frac{2}{3}} \\cdot 7^{\\frac{59}{291}}}{70 \\pi^{\\frac{463}{291}}} - \\frac{i}{2048}) |11111110\\rangle+ (\\frac{3 \\cdot 2^{\\frac{266}{291}} \\cdot 3^{\\frac{6}{97}} \\cdot 5^{\\frac{2}{3}} \\cdot 7^{\\frac{59}{291}}}{70 \\pi^{\\frac{463}{291}}} - \\frac{i}{2048}) |11111111\\rangle$$"
      ],
      "text/plain": [
       "<IPython.core.display.Latex object>"
      ]
     },
     "metadata": {},
     "output_type": "display_data"
    },
    {
     "name": "stdout",
     "output_type": "stream",
     "text": [
      "coherence of |ψ5⟩ =  247.7731228203132\n",
      "-------- 2  ITERATION--------\n"
     ]
    },
    {
     "data": {
      "text/plain": [
       "'applied O operator to |ψ2⟩'"
      ]
     },
     "metadata": {},
     "output_type": "display_data"
    },
    {
     "data": {
      "text/latex": [
       "$$(\\frac{3 \\cdot 2^{\\frac{266}{291}} \\cdot 3^{\\frac{6}{97}} \\cdot 5^{\\frac{2}{3}} \\cdot 7^{\\frac{59}{291}}}{70 \\pi^{\\frac{463}{291}}} - \\frac{i}{2048}) |00000000\\rangle+ (\\frac{3 \\cdot 2^{\\frac{266}{291}} \\cdot 3^{\\frac{6}{97}} \\cdot 5^{\\frac{2}{3}} \\cdot 7^{\\frac{59}{291}}}{70 \\pi^{\\frac{463}{291}}} - \\frac{i}{2048}) |00000001\\rangle+ (\\frac{3 \\cdot 2^{\\frac{266}{291}} \\cdot 3^{\\frac{6}{97}} \\cdot 5^{\\frac{2}{3}} \\cdot 7^{\\frac{59}{291}}}{70 \\pi^{\\frac{463}{291}}} - \\frac{i}{2048}) |00000010\\rangle+ (\\frac{3 \\cdot 2^{\\frac{266}{291}} \\cdot 3^{\\frac{6}{97}} \\cdot 5^{\\frac{2}{3}} \\cdot 7^{\\frac{59}{291}}}{70 \\pi^{\\frac{463}{291}}} - \\frac{i}{2048}) |00000011\\rangle+ (\\frac{3 \\cdot 2^{\\frac{266}{291}} \\cdot 3^{\\frac{6}{97}} \\cdot 5^{\\frac{2}{3}} \\cdot 7^{\\frac{59}{291}}}{70 \\pi^{\\frac{463}{291}}} - \\frac{i}{2048}) |00000100\\rangle+ (\\frac{3 \\cdot 2^{\\frac{266}{291}} \\cdot 3^{\\frac{6}{97}} \\cdot 5^{\\frac{2}{3}} \\cdot 7^{\\frac{59}{291}}}{70 \\pi^{\\frac{463}{291}}} - \\frac{i}{2048}) |00000101\\rangle + \\ldots + (\\frac{3 \\cdot 2^{\\frac{266}{291}} \\cdot 3^{\\frac{6}{97}} \\cdot 5^{\\frac{2}{3}} \\cdot 7^{\\frac{59}{291}}}{70 \\pi^{\\frac{463}{291}}} - \\frac{i}{2048}) |11111011\\rangle+ (\\frac{3 \\cdot 2^{\\frac{266}{291}} \\cdot 3^{\\frac{6}{97}} \\cdot 5^{\\frac{2}{3}} \\cdot 7^{\\frac{59}{291}}}{70 \\pi^{\\frac{463}{291}}} - \\frac{i}{2048}) |11111100\\rangle+ (\\frac{3 \\cdot 2^{\\frac{266}{291}} \\cdot 3^{\\frac{6}{97}} \\cdot 5^{\\frac{2}{3}} \\cdot 7^{\\frac{59}{291}}}{70 \\pi^{\\frac{463}{291}}} - \\frac{i}{2048}) |11111101\\rangle+ (\\frac{3 \\cdot 2^{\\frac{266}{291}} \\cdot 3^{\\frac{6}{97}} \\cdot 5^{\\frac{2}{3}} \\cdot 7^{\\frac{59}{291}}}{70 \\pi^{\\frac{463}{291}}} - \\frac{i}{2048}) |11111110\\rangle+ (\\frac{3 \\cdot 2^{\\frac{266}{291}} \\cdot 3^{\\frac{6}{97}} \\cdot 5^{\\frac{2}{3}} \\cdot 7^{\\frac{59}{291}}}{70 \\pi^{\\frac{463}{291}}} - \\frac{i}{2048}) |11111111\\rangle$$"
      ],
      "text/plain": [
       "<IPython.core.display.Latex object>"
      ]
     },
     "metadata": {},
     "output_type": "display_data"
    },
    {
     "name": "stdout",
     "output_type": "stream",
     "text": [
      "coherence of |ψ2⟩ =  247.7731228203132\n"
     ]
    },
    {
     "data": {
      "text/plain": [
       "'applied Hadamard to all |ψ1⟩'"
      ]
     },
     "metadata": {},
     "output_type": "display_data"
    },
    {
     "data": {
      "text/latex": [
       "$$(0.945987493584 - 0.022163037163 i) |00000000\\rangle+ (0.024855859482 + 0.014350537163 i) |00000011\\rangle+ (-0.024855859482 - 0.014350537163 i) |00000100\\rangle+ (0.024855859482 + 0.014350537163 i) |00000111\\rangle+ (-0.024855859482 - 0.014350537163 i) |00001001\\rangle+ (0.024855859482 + 0.014350537163 i) |00001010\\rangle + \\ldots + (0.024855859482 + 0.014350537163 i) |11110111\\rangle+ (-0.024855859482 - 0.014350537163 i) |11111001\\rangle+ (0.024855859482 + 0.014350537163 i) |11111010\\rangle+ (-0.024855859482 - 0.014350537163 i) |11111101\\rangle+ (0.024855859482 + 0.014350537163 i) |11111110\\rangle$$"
      ],
      "text/plain": [
       "<IPython.core.display.Latex object>"
      ]
     },
     "metadata": {},
     "output_type": "display_data"
    },
    {
     "name": "stdout",
     "output_type": "stream",
     "text": [
      "coherence of |ψ1⟩ =  20.079884364133427\n"
     ]
    },
    {
     "data": {
      "text/plain": [
       "'applied P operator to |ψ4⟩'"
      ]
     },
     "metadata": {},
     "output_type": "display_data"
    },
    {
     "data": {
      "text/latex": [
       "$$(0.945987493584 - 0.022163037163 i) |00000000\\rangle+ (-0.024855859482 - 0.014350537163 i) |00000011\\rangle+ (0.024855859482 + 0.014350537163 i) |00000100\\rangle+ (-0.024855859482 - 0.014350537163 i) |00000111\\rangle+ (0.024855859482 + 0.014350537163 i) |00001001\\rangle+ (-0.024855859482 - 0.014350537163 i) |00001010\\rangle + \\ldots + (-0.024855859482 - 0.014350537163 i) |11110111\\rangle+ (0.024855859482 + 0.014350537163 i) |11111001\\rangle+ (-0.024855859482 - 0.014350537163 i) |11111010\\rangle+ (0.024855859482 + 0.014350537163 i) |11111101\\rangle+ (-0.024855859482 - 0.014350537163 i) |11111110\\rangle$$"
      ],
      "text/plain": [
       "<IPython.core.display.Latex object>"
      ]
     },
     "metadata": {},
     "output_type": "display_data"
    },
    {
     "name": "stdout",
     "output_type": "stream",
     "text": [
      "coherence of |ψ4⟩ =  20.079884364133427\n"
     ]
    },
    {
     "data": {
      "text/plain": [
       "'applied Hadamard to all |ψ5⟩'"
      ]
     },
     "metadata": {},
     "output_type": "display_data"
    },
    {
     "data": {
      "text/latex": [
       "$$(0.057570727131 - 0.002282098395 i) |00000000\\rangle+ (0.057570727131 - 0.002282098395 i) |00000001\\rangle+ (0.057570727131 - 0.002282098395 i) |00000010\\rangle+ (0.057570727131 - 0.002282098395 i) |00000011\\rangle+ (0.057570727131 - 0.002282098395 i) |00000100\\rangle+ (0.057570727131 - 0.002282098395 i) |00000101\\rangle + \\ldots + (0.057570727131 - 0.002282098395 i) |11111011\\rangle+ (0.057570727131 - 0.002282098395 i) |11111100\\rangle+ (0.057570727131 - 0.002282098395 i) |11111101\\rangle+ (0.057570727131 - 0.002282098395 i) |11111110\\rangle+ (0.057570727131 - 0.002282098395 i) |11111111\\rangle$$"
      ],
      "text/plain": [
       "<IPython.core.display.Latex object>"
      ]
     },
     "metadata": {},
     "output_type": "display_data"
    },
    {
     "name": "stdout",
     "output_type": "stream",
     "text": [
      "coherence of |ψ5⟩ =  229.872495726853\n",
      "-------- 3  ITERATION--------\n"
     ]
    },
    {
     "data": {
      "text/plain": [
       "'applied O operator to |ψ2⟩'"
      ]
     },
     "metadata": {},
     "output_type": "display_data"
    },
    {
     "data": {
      "text/latex": [
       "$$(0.057570727131 - 0.002282098395 i) |00000000\\rangle+ (0.057570727131 - 0.002282098395 i) |00000001\\rangle+ (0.057570727131 - 0.002282098395 i) |00000010\\rangle+ (0.057570727131 - 0.002282098395 i) |00000011\\rangle+ (0.057570727131 - 0.002282098395 i) |00000100\\rangle+ (0.057570727131 - 0.002282098395 i) |00000101\\rangle + \\ldots + (0.057570727131 - 0.002282098395 i) |11111011\\rangle+ (0.057570727131 - 0.002282098395 i) |11111100\\rangle+ (0.057570727131 - 0.002282098395 i) |11111101\\rangle+ (0.057570727131 - 0.002282098395 i) |11111110\\rangle+ (0.057570727131 - 0.002282098395 i) |11111111\\rangle$$"
      ],
      "text/plain": [
       "<IPython.core.display.Latex object>"
      ]
     },
     "metadata": {},
     "output_type": "display_data"
    },
    {
     "name": "stdout",
     "output_type": "stream",
     "text": [
      "coherence of |ψ2⟩ =  229.872495726853\n"
     ]
    },
    {
     "data": {
      "text/plain": [
       "'applied Hadamard to all |ψ1⟩'"
      ]
     },
     "metadata": {},
     "output_type": "display_data"
    },
    {
     "data": {
      "text/latex": [
       "$$(0.893209910872 - 0.064435297556 i) |00000000\\rangle+ (0.02792172323 + 0.02792172323 i) |00000011\\rangle+ (-0.02792172323 - 0.02792172323 i) |00000100\\rangle+ (0.02792172323 + 0.02792172323 i) |00000111\\rangle+ (-0.02792172323 - 0.02792172323 i) |00001001\\rangle+ (0.02792172323 + 0.02792172323 i) |00001010\\rangle + \\ldots + (0.02792172323 + 0.02792172323 i) |11110111\\rangle+ (-0.02792172323 - 0.02792172323 i) |11111001\\rangle+ (0.02792172323 + 0.02792172323 i) |11111010\\rangle+ (-0.02792172323 - 0.02792172323 i) |11111101\\rangle+ (0.02792172323 + 0.02792172323 i) |11111110\\rangle$$"
      ],
      "text/plain": [
       "<IPython.core.display.Latex object>"
      ]
     },
     "metadata": {},
     "output_type": "display_data"
    },
    {
     "name": "stdout",
     "output_type": "stream",
     "text": [
      "coherence of |ψ1⟩ =  33.933012138369605\n"
     ]
    },
    {
     "data": {
      "text/plain": [
       "'applied P operator to |ψ4⟩'"
      ]
     },
     "metadata": {},
     "output_type": "display_data"
    },
    {
     "data": {
      "text/latex": [
       "$$(0.893209910872 - 0.064435297556 i) |00000000\\rangle+ (-0.02792172323 - 0.02792172323 i) |00000011\\rangle+ (0.02792172323 + 0.02792172323 i) |00000100\\rangle+ (-0.02792172323 - 0.02792172323 i) |00000111\\rangle+ (0.02792172323 + 0.02792172323 i) |00001001\\rangle+ (-0.02792172323 - 0.02792172323 i) |00001010\\rangle + \\ldots + (-0.02792172323 - 0.02792172323 i) |11110111\\rangle+ (0.02792172323 + 0.02792172323 i) |11111001\\rangle+ (-0.02792172323 - 0.02792172323 i) |11111010\\rangle+ (0.02792172323 + 0.02792172323 i) |11111101\\rangle+ (-0.02792172323 - 0.02792172323 i) |11111110\\rangle$$"
      ],
      "text/plain": [
       "<IPython.core.display.Latex object>"
      ]
     },
     "metadata": {},
     "output_type": "display_data"
    },
    {
     "name": "stdout",
     "output_type": "stream",
     "text": [
      "coherence of |ψ4⟩ =  33.933012138369605\n"
     ]
    },
    {
     "data": {
      "text/plain": [
       "'applied Hadamard to all |ψ5⟩'"
      ]
     },
     "metadata": {},
     "output_type": "display_data"
    },
    {
     "data": {
      "text/latex": [
       "$$(0.054080511728 - 0.005772313799 i) |00000000\\rangle+ (0.054080511728 - 0.005772313799 i) |00000001\\rangle+ (0.054080511728 - 0.005772313799 i) |00000010\\rangle+ (0.054080511728 - 0.005772313799 i) |00000011\\rangle+ (0.054080511728 - 0.005772313799 i) |00000100\\rangle+ (0.054080511728 - 0.005772313799 i) |00000101\\rangle + \\ldots + (0.054080511728 - 0.005772313799 i) |11111011\\rangle+ (0.054080511728 - 0.005772313799 i) |11111100\\rangle+ (0.054080511728 - 0.005772313799 i) |11111101\\rangle+ (0.054080511728 - 0.005772313799 i) |11111110\\rangle+ (0.054080511728 - 0.005772313799 i) |11111111\\rangle$$"
      ],
      "text/plain": [
       "<IPython.core.display.Latex object>"
      ]
     },
     "metadata": {},
     "output_type": "display_data"
    },
    {
     "name": "stdout",
     "output_type": "stream",
     "text": [
      "coherence of |ψ5⟩ =  209.82132053903445\n",
      "-------- 4  ITERATION--------\n"
     ]
    },
    {
     "data": {
      "text/plain": [
       "'applied O operator to |ψ2⟩'"
      ]
     },
     "metadata": {},
     "output_type": "display_data"
    },
    {
     "data": {
      "text/latex": [
       "$$(0.054080511728 - 0.005772313799 i) |00000000\\rangle+ (0.054080511728 - 0.005772313799 i) |00000001\\rangle+ (0.054080511728 - 0.005772313799 i) |00000010\\rangle+ (0.054080511728 - 0.005772313799 i) |00000011\\rangle+ (0.054080511728 - 0.005772313799 i) |00000100\\rangle+ (0.054080511728 - 0.005772313799 i) |00000101\\rangle + \\ldots + (0.054080511728 - 0.005772313799 i) |11111011\\rangle+ (0.054080511728 - 0.005772313799 i) |11111100\\rangle+ (0.054080511728 - 0.005772313799 i) |11111101\\rangle+ (0.054080511728 - 0.005772313799 i) |11111110\\rangle+ (0.054080511728 - 0.005772313799 i) |11111111\\rangle$$"
      ],
      "text/plain": [
       "<IPython.core.display.Latex object>"
      ]
     },
     "metadata": {},
     "output_type": "display_data"
    },
    {
     "name": "stdout",
     "output_type": "stream",
     "text": [
      "coherence of |ψ2⟩ =  209.82132053903445\n"
     ]
    },
    {
     "data": {
      "text/plain": [
       "'applied Hadamard to all |ψ1⟩'"
      ]
     },
     "metadata": {},
     "output_type": "display_data"
    },
    {
     "data": {
      "text/latex": [
       "$$(0.842092906917 - 0.132532425496 i) |00000000\\rangle+ (0.023195280724 + 0.04017540471 i) |00000011\\rangle+ (-0.023195280724 - 0.04017540471 i) |00000100\\rangle+ (0.023195280724 + 0.04017540471 i) |00000111\\rangle+ (-0.023195280724 - 0.04017540471 i) |00001001\\rangle+ (0.023195280724 + 0.04017540471 i) |00001010\\rangle + \\ldots + (0.023195280724 + 0.04017540471 i) |11110111\\rangle+ (-0.023195280724 - 0.04017540471 i) |11111001\\rangle+ (0.023195280724 + 0.04017540471 i) |11111010\\rangle+ (-0.023195280724 - 0.04017540471 i) |11111101\\rangle+ (0.023195280724 + 0.04017540471 i) |11111110\\rangle$$"
      ],
      "text/plain": [
       "<IPython.core.display.Latex object>"
      ]
     },
     "metadata": {},
     "output_type": "display_data"
    },
    {
     "name": "stdout",
     "output_type": "stream",
     "text": [
      "coherence of |ψ1⟩ =  44.48234116222569\n"
     ]
    },
    {
     "data": {
      "text/plain": [
       "'applied P operator to |ψ4⟩'"
      ]
     },
     "metadata": {},
     "output_type": "display_data"
    },
    {
     "data": {
      "text/latex": [
       "$$(0.842092906917 - 0.132532425496 i) |00000000\\rangle+ (-0.023195280724 - 0.04017540471 i) |00000011\\rangle+ (0.023195280724 + 0.04017540471 i) |00000100\\rangle+ (-0.023195280724 - 0.04017540471 i) |00000111\\rangle+ (0.023195280724 + 0.04017540471 i) |00001001\\rangle+ (-0.023195280724 - 0.04017540471 i) |00001010\\rangle + \\ldots + (-0.023195280724 - 0.04017540471 i) |11110111\\rangle+ (0.023195280724 + 0.04017540471 i) |11111001\\rangle+ (-0.023195280724 - 0.04017540471 i) |11111010\\rangle+ (0.023195280724 + 0.04017540471 i) |11111101\\rangle+ (-0.023195280724 - 0.04017540471 i) |11111110\\rangle$$"
      ],
      "text/plain": [
       "<IPython.core.display.Latex object>"
      ]
     },
     "metadata": {},
     "output_type": "display_data"
    },
    {
     "name": "stdout",
     "output_type": "stream",
     "text": [
      "coherence of |ψ4⟩ =  44.48234116222569\n"
     ]
    },
    {
     "data": {
      "text/plain": [
       "'applied Hadamard to all |ψ5⟩'"
      ]
     },
     "metadata": {},
     "output_type": "display_data"
    },
    {
     "data": {
      "text/latex": [
       "$$(0.051181101637 - 0.010794239388 i) |00000000\\rangle+ (0.051181101637 - 0.010794239388 i) |00000001\\rangle+ (0.051181101637 - 0.010794239388 i) |00000010\\rangle+ (0.051181101637 - 0.010794239388 i) |00000011\\rangle+ (0.051181101637 - 0.010794239388 i) |00000100\\rangle+ (0.051181101637 - 0.010794239388 i) |00000101\\rangle + \\ldots + (0.051181101637 - 0.010794239388 i) |11111011\\rangle+ (0.051181101637 - 0.010794239388 i) |11111100\\rangle+ (0.051181101637 - 0.010794239388 i) |11111101\\rangle+ (0.051181101637 - 0.010794239388 i) |11111110\\rangle+ (0.051181101637 - 0.010794239388 i) |11111111\\rangle$$"
      ],
      "text/plain": [
       "<IPython.core.display.Latex object>"
      ]
     },
     "metadata": {},
     "output_type": "display_data"
    },
    {
     "name": "stdout",
     "output_type": "stream",
     "text": [
      "coherence of |ψ5⟩ =  196.8822985054899\n",
      "-------- 5  ITERATION--------\n"
     ]
    },
    {
     "data": {
      "text/plain": [
       "'applied O operator to |ψ2⟩'"
      ]
     },
     "metadata": {},
     "output_type": "display_data"
    },
    {
     "data": {
      "text/latex": [
       "$$(0.051181101637 - 0.010794239388 i) |00000000\\rangle+ (0.051181101637 - 0.010794239388 i) |00000001\\rangle+ (0.051181101637 - 0.010794239388 i) |00000010\\rangle+ (0.051181101637 - 0.010794239388 i) |00000011\\rangle+ (0.051181101637 - 0.010794239388 i) |00000100\\rangle+ (0.051181101637 - 0.010794239388 i) |00000101\\rangle + \\ldots + (0.051181101637 - 0.010794239388 i) |11111011\\rangle+ (0.051181101637 - 0.010794239388 i) |11111100\\rangle+ (0.051181101637 - 0.010794239388 i) |11111101\\rangle+ (0.051181101637 - 0.010794239388 i) |11111110\\rangle+ (0.051181101637 - 0.010794239388 i) |11111111\\rangle$$"
      ],
      "text/plain": [
       "<IPython.core.display.Latex object>"
      ]
     },
     "metadata": {},
     "output_type": "display_data"
    },
    {
     "name": "stdout",
     "output_type": "stream",
     "text": [
      "coherence of |ψ2⟩ =  196.8822985054899\n"
     ]
    },
    {
     "data": {
      "text/plain": [
       "'applied Hadamard to all |ψ1⟩'"
      ]
     },
     "metadata": {},
     "output_type": "display_data"
    },
    {
     "data": {
      "text/latex": [
       "$$(0.806284831751 - 0.219779419891 i) |00000000\\rangle+ (0.012612794443 + 0.047071589686 i) |00000011\\rangle+ (-0.012612794443 - 0.047071589686 i) |00000100\\rangle+ (0.012612794443 + 0.047071589686 i) |00000111\\rangle+ (-0.012612794443 - 0.047071589686 i) |00001001\\rangle+ (0.012612794443 + 0.047071589686 i) |00001010\\rangle + \\ldots + (0.012612794443 + 0.047071589686 i) |11110111\\rangle+ (-0.012612794443 - 0.047071589686 i) |11111001\\rangle+ (0.012612794443 + 0.047071589686 i) |11111010\\rangle+ (-0.012612794443 - 0.047071589686 i) |11111101\\rangle+ (0.012612794443 + 0.047071589686 i) |11111110\\rangle$$"
      ],
      "text/plain": [
       "<IPython.core.display.Latex object>"
      ]
     },
     "metadata": {},
     "output_type": "display_data"
    },
    {
     "name": "stdout",
     "output_type": "stream",
     "text": [
      "coherence of |ψ1⟩ =  48.346106227036046\n"
     ]
    },
    {
     "data": {
      "text/plain": [
       "'applied P operator to |ψ4⟩'"
      ]
     },
     "metadata": {},
     "output_type": "display_data"
    },
    {
     "data": {
      "text/latex": [
       "$$(0.806284831751 - 0.219779419891 i) |00000000\\rangle+ (-0.012612794443 - 0.047071589686 i) |00000011\\rangle+ (0.012612794443 + 0.047071589686 i) |00000100\\rangle+ (-0.012612794443 - 0.047071589686 i) |00000111\\rangle+ (0.012612794443 + 0.047071589686 i) |00001001\\rangle+ (-0.012612794443 - 0.047071589686 i) |00001010\\rangle + \\ldots + (-0.012612794443 - 0.047071589686 i) |11110111\\rangle+ (0.012612794443 + 0.047071589686 i) |11111001\\rangle+ (-0.012612794443 - 0.047071589686 i) |11111010\\rangle+ (0.012612794443 + 0.047071589686 i) |11111101\\rangle+ (-0.012612794443 - 0.047071589686 i) |11111110\\rangle$$"
      ],
      "text/plain": [
       "<IPython.core.display.Latex object>"
      ]
     },
     "metadata": {},
     "output_type": "display_data"
    },
    {
     "name": "stdout",
     "output_type": "stream",
     "text": [
      "coherence of |ψ4⟩ =  48.346106227036046\n"
     ]
    },
    {
     "data": {
      "text/plain": [
       "'applied Hadamard to all |ψ5⟩'"
      ]
     },
     "metadata": {},
     "output_type": "display_data"
    },
    {
     "data": {
      "text/latex": [
       "$$(0.049604502332 - 0.016678188099 i) |00000000\\rangle+ (0.049604502332 - 0.016678188099 i) |00000001\\rangle+ (0.049604502332 - 0.016678188099 i) |00000010\\rangle+ (0.049604502332 - 0.016678188099 i) |00000011\\rangle+ (0.049604502332 - 0.016678188099 i) |00000100\\rangle+ (0.049604502332 - 0.016678188099 i) |00000101\\rangle + \\ldots + (0.049604502332 - 0.016678188099 i) |11111011\\rangle+ (0.049604502332 - 0.016678188099 i) |11111100\\rangle+ (0.049604502332 - 0.016678188099 i) |11111101\\rangle+ (0.049604502332 - 0.016678188099 i) |11111110\\rangle+ (0.049604502332 - 0.016678188099 i) |11111111\\rangle$$"
      ],
      "text/plain": [
       "<IPython.core.display.Latex object>"
      ]
     },
     "metadata": {},
     "output_type": "display_data"
    },
    {
     "name": "stdout",
     "output_type": "stream",
     "text": [
      "coherence of |ψ5⟩ =  197.04483289047616\n",
      "-------- 6  ITERATION--------\n"
     ]
    },
    {
     "data": {
      "text/plain": [
       "'applied O operator to |ψ2⟩'"
      ]
     },
     "metadata": {},
     "output_type": "display_data"
    },
    {
     "data": {
      "text/latex": [
       "$$(0.049604502332 - 0.016678188099 i) |00000000\\rangle+ (0.049604502332 - 0.016678188099 i) |00000001\\rangle+ (0.049604502332 - 0.016678188099 i) |00000010\\rangle+ (0.049604502332 - 0.016678188099 i) |00000011\\rangle+ (0.049604502332 - 0.016678188099 i) |00000100\\rangle+ (0.049604502332 - 0.016678188099 i) |00000101\\rangle + \\ldots + (0.049604502332 - 0.016678188099 i) |11111011\\rangle+ (0.049604502332 - 0.016678188099 i) |11111100\\rangle+ (0.049604502332 - 0.016678188099 i) |11111101\\rangle+ (0.049604502332 - 0.016678188099 i) |11111110\\rangle+ (0.049604502332 - 0.016678188099 i) |11111111\\rangle$$"
      ],
      "text/plain": [
       "<IPython.core.display.Latex object>"
      ]
     },
     "metadata": {},
     "output_type": "display_data"
    },
    {
     "name": "stdout",
     "output_type": "stream",
     "text": [
      "coherence of |ψ2⟩ =  197.04483289047616\n"
     ]
    },
    {
     "data": {
      "text/plain": [
       "'applied Hadamard to all |ψ1⟩'"
      ]
     },
     "metadata": {},
     "output_type": "display_data"
    },
    {
     "data": {
      "text/latex": [
       "$$(0.793672037308 - 0.313132640324 i) |00000000\\rangle+0.046281630747 i |00000011\\rangle- 0.046281630747 i |00000100\\rangle+0.046281630747 i |00000111\\rangle- 0.046281630747 i |00001001\\rangle+0.046281630747 i |00001010\\rangle + \\ldots +0.046281630747 i |11110111\\rangle- 0.046281630747 i |11111001\\rangle+0.046281630747 i |11111010\\rangle- 0.046281630747 i |11111101\\rangle+0.046281630747 i |11111110\\rangle$$"
      ],
      "text/plain": [
       "<IPython.core.display.Latex object>"
      ]
     },
     "metadata": {},
     "output_type": "display_data"
    },
    {
     "name": "stdout",
     "output_type": "stream",
     "text": [
      "coherence of |ψ1⟩ =  44.306053173185155\n"
     ]
    },
    {
     "data": {
      "text/plain": [
       "'applied P operator to |ψ4⟩'"
      ]
     },
     "metadata": {},
     "output_type": "display_data"
    },
    {
     "data": {
      "text/latex": [
       "$$(0.793672037308 - 0.313132640324 i) |00000000\\rangle- 0.046281630747 i |00000011\\rangle+0.046281630747 i |00000100\\rangle- 0.046281630747 i |00000111\\rangle+0.046281630747 i |00001001\\rangle- 0.046281630747 i |00001010\\rangle + \\ldots - 0.046281630747 i |11110111\\rangle+0.046281630747 i |11111001\\rangle- 0.046281630747 i |11111010\\rangle+0.046281630747 i |11111101\\rangle- 0.046281630747 i |11111110\\rangle$$"
      ],
      "text/plain": [
       "<IPython.core.display.Latex object>"
      ]
     },
     "metadata": {},
     "output_type": "display_data"
    },
    {
     "name": "stdout",
     "output_type": "stream",
     "text": [
      "coherence of |ψ4⟩ =  44.306053173185155\n"
     ]
    },
    {
     "data": {
      "text/plain": [
       "'applied Hadamard to all |ψ5⟩'"
      ]
     },
     "metadata": {},
     "output_type": "display_data"
    },
    {
     "data": {
      "text/latex": [
       "$$(0.049604502332 - 0.022463391942 i) |00000000\\rangle+ (0.049604502332 - 0.022463391942 i) |00000001\\rangle+ (0.049604502332 - 0.022463391942 i) |00000010\\rangle+ (0.049604502332 - 0.022463391942 i) |00000011\\rangle+ (0.049604502332 - 0.022463391942 i) |00000100\\rangle+ (0.049604502332 - 0.022463391942 i) |00000101\\rangle + \\ldots + (0.049604502332 - 0.022463391942 i) |11111011\\rangle+ (0.049604502332 - 0.022463391942 i) |11111100\\rangle+ (0.049604502332 - 0.022463391942 i) |11111101\\rangle+ (0.049604502332 - 0.022463391942 i) |11111110\\rangle+ (0.049604502332 - 0.022463391942 i) |11111111\\rangle$$"
      ],
      "text/plain": [
       "<IPython.core.display.Latex object>"
      ]
     },
     "metadata": {},
     "output_type": "display_data"
    },
    {
     "name": "stdout",
     "output_type": "stream",
     "text": [
      "coherence of |ψ5⟩ =  210.23339366667443\n",
      "-------- 7  ITERATION--------\n"
     ]
    },
    {
     "data": {
      "text/plain": [
       "'applied O operator to |ψ2⟩'"
      ]
     },
     "metadata": {},
     "output_type": "display_data"
    },
    {
     "data": {
      "text/latex": [
       "$$(0.049604502332 - 0.022463391942 i) |00000000\\rangle+ (0.049604502332 - 0.022463391942 i) |00000001\\rangle+ (0.049604502332 - 0.022463391942 i) |00000010\\rangle+ (0.049604502332 - 0.022463391942 i) |00000011\\rangle+ (0.049604502332 - 0.022463391942 i) |00000100\\rangle+ (0.049604502332 - 0.022463391942 i) |00000101\\rangle + \\ldots + (0.049604502332 - 0.022463391942 i) |11111011\\rangle+ (0.049604502332 - 0.022463391942 i) |11111100\\rangle+ (0.049604502332 - 0.022463391942 i) |11111101\\rangle+ (0.049604502332 - 0.022463391942 i) |11111110\\rangle+ (0.049604502332 - 0.022463391942 i) |11111111\\rangle$$"
      ],
      "text/plain": [
       "<IPython.core.display.Latex object>"
      ]
     },
     "metadata": {},
     "output_type": "display_data"
    },
    {
     "name": "stdout",
     "output_type": "stream",
     "text": [
      "coherence of |ψ2⟩ =  210.23339366667443\n"
     ]
    },
    {
     "data": {
      "text/plain": [
       "'applied Hadamard to all |ψ1⟩'"
      ]
     },
     "metadata": {},
     "output_type": "display_data"
    },
    {
     "data": {
      "text/latex": [
       "$$(0.803838482998 - 0.397355962919 i) |00000000\\rangle+ (-0.01016644569 + 0.037941691848 i) |00000011\\rangle+ (0.01016644569 - 0.037941691848 i) |00000100\\rangle+ (-0.01016644569 + 0.037941691848 i) |00000111\\rangle+ (0.01016644569 - 0.037941691848 i) |00001001\\rangle+ (-0.01016644569 + 0.037941691848 i) |00001010\\rangle + \\ldots + (-0.01016644569 + 0.037941691848 i) |11110111\\rangle+ (0.01016644569 - 0.037941691848 i) |11111001\\rangle+ (-0.01016644569 + 0.037941691848 i) |11111010\\rangle+ (0.01016644569 - 0.037941691848 i) |11111101\\rangle+ (-0.01016644569 + 0.037941691848 i) |11111110\\rangle$$"
      ],
      "text/plain": [
       "<IPython.core.display.Latex object>"
      ]
     },
     "metadata": {},
     "output_type": "display_data"
    },
    {
     "name": "stdout",
     "output_type": "stream",
     "text": [
      "coherence of |ψ1⟩ =  33.636329535346185\n"
     ]
    },
    {
     "data": {
      "text/plain": [
       "'applied P operator to |ψ4⟩'"
      ]
     },
     "metadata": {},
     "output_type": "display_data"
    },
    {
     "data": {
      "text/latex": [
       "$$(0.803838482998 - 0.397355962919 i) |00000000\\rangle+ (0.01016644569 - 0.037941691848 i) |00000011\\rangle+ (-0.01016644569 + 0.037941691848 i) |00000100\\rangle+ (0.01016644569 - 0.037941691848 i) |00000111\\rangle+ (-0.01016644569 + 0.037941691848 i) |00001001\\rangle+ (0.01016644569 - 0.037941691848 i) |00001010\\rangle + \\ldots + (0.01016644569 - 0.037941691848 i) |11110111\\rangle+ (-0.01016644569 + 0.037941691848 i) |11111001\\rangle+ (0.01016644569 - 0.037941691848 i) |11111010\\rangle+ (-0.01016644569 + 0.037941691848 i) |11111101\\rangle+ (0.01016644569 - 0.037941691848 i) |11111110\\rangle$$"
      ],
      "text/plain": [
       "<IPython.core.display.Latex object>"
      ]
     },
     "metadata": {},
     "output_type": "display_data"
    },
    {
     "name": "stdout",
     "output_type": "stream",
     "text": [
      "coherence of |ψ4⟩ =  33.636329535346185\n"
     ]
    },
    {
     "data": {
      "text/plain": [
       "'applied Hadamard to all |ψ5⟩'"
      ]
     },
     "metadata": {},
     "output_type": "display_data"
    },
    {
     "data": {
      "text/latex": [
       "$$(0.050875308043 - 0.027206103423 i) |00000000\\rangle+ (0.050875308043 - 0.027206103423 i) |00000001\\rangle+ (0.050875308043 - 0.027206103423 i) |00000010\\rangle+ (0.050875308043 - 0.027206103423 i) |00000011\\rangle+ (0.050875308043 - 0.027206103423 i) |00000100\\rangle+ (0.050875308043 - 0.027206103423 i) |00000101\\rangle + \\ldots + (0.050875308043 - 0.027206103423 i) |11111011\\rangle+ (0.050875308043 - 0.027206103423 i) |11111100\\rangle+ (0.050875308043 - 0.027206103423 i) |11111101\\rangle+ (0.050875308043 - 0.027206103423 i) |11111110\\rangle+ (0.050875308043 - 0.027206103423 i) |11111111\\rangle$$"
      ],
      "text/plain": [
       "<IPython.core.display.Latex object>"
      ]
     },
     "metadata": {},
     "output_type": "display_data"
    },
    {
     "name": "stdout",
     "output_type": "stream",
     "text": [
      "coherence of |ψ5⟩ =  230.34393154952022\n",
      "-------- 8  ITERATION--------\n"
     ]
    },
    {
     "data": {
      "text/plain": [
       "'applied O operator to |ψ2⟩'"
      ]
     },
     "metadata": {},
     "output_type": "display_data"
    },
    {
     "data": {
      "text/latex": [
       "$$(0.050875308043 - 0.027206103423 i) |00000000\\rangle+ (0.050875308043 - 0.027206103423 i) |00000001\\rangle+ (0.050875308043 - 0.027206103423 i) |00000010\\rangle+ (0.050875308043 - 0.027206103423 i) |00000011\\rangle+ (0.050875308043 - 0.027206103423 i) |00000100\\rangle+ (0.050875308043 - 0.027206103423 i) |00000101\\rangle + \\ldots + (0.050875308043 - 0.027206103423 i) |11111011\\rangle+ (0.050875308043 - 0.027206103423 i) |11111100\\rangle+ (0.050875308043 - 0.027206103423 i) |11111101\\rangle+ (0.050875308043 - 0.027206103423 i) |11111110\\rangle+ (0.050875308043 - 0.027206103423 i) |11111111\\rangle$$"
      ],
      "text/plain": [
       "<IPython.core.display.Latex object>"
      ]
     },
     "metadata": {},
     "output_type": "display_data"
    },
    {
     "name": "stdout",
     "output_type": "stream",
     "text": [
      "coherence of |ψ2⟩ =  230.34393154952022\n"
     ]
    },
    {
     "data": {
      "text/plain": [
       "'applied Hadamard to all |ψ1⟩'"
      ]
     },
     "metadata": {},
     "output_type": "display_data"
    },
    {
     "data": {
      "text/latex": [
       "$$(0.828212966229 - 0.459906697663 i) |00000000\\rangle+ (-0.01420803754 + 0.024609042895 i) |00000011\\rangle+ (0.01420803754 - 0.024609042895 i) |00000100\\rangle+ (-0.01420803754 + 0.024609042895 i) |00000111\\rangle+ (0.01420803754 - 0.024609042895 i) |00001001\\rangle+ (-0.01420803754 + 0.024609042895 i) |00001010\\rangle + \\ldots + (-0.01420803754 + 0.024609042895 i) |11110111\\rangle+ (0.01420803754 - 0.024609042895 i) |11111001\\rangle+ (-0.01420803754 + 0.024609042895 i) |11111010\\rangle+ (0.01420803754 - 0.024609042895 i) |11111101\\rangle+ (-0.01420803754 + 0.024609042895 i) |11111110\\rangle$$"
      ],
      "text/plain": [
       "<IPython.core.display.Latex object>"
      ]
     },
     "metadata": {},
     "output_type": "display_data"
    },
    {
     "name": "stdout",
     "output_type": "stream",
     "text": [
      "coherence of |ψ1⟩ =  19.758779660267063\n"
     ]
    },
    {
     "data": {
      "text/plain": [
       "'applied P operator to |ψ4⟩'"
      ]
     },
     "metadata": {},
     "output_type": "display_data"
    },
    {
     "data": {
      "text/latex": [
       "$$(0.828212966229 - 0.459906697663 i) |00000000\\rangle+ (0.01420803754 - 0.024609042895 i) |00000011\\rangle+ (-0.01420803754 + 0.024609042895 i) |00000100\\rangle+ (0.01420803754 - 0.024609042895 i) |00000111\\rangle+ (-0.01420803754 + 0.024609042895 i) |00001001\\rangle+ (0.01420803754 - 0.024609042895 i) |00001010\\rangle + \\ldots + (0.01420803754 - 0.024609042895 i) |11110111\\rangle+ (-0.01420803754 + 0.024609042895 i) |11111001\\rangle+ (0.01420803754 - 0.024609042895 i) |11111010\\rangle+ (-0.01420803754 + 0.024609042895 i) |11111101\\rangle+ (0.01420803754 - 0.024609042895 i) |11111110\\rangle$$"
      ],
      "text/plain": [
       "<IPython.core.display.Latex object>"
      ]
     },
     "metadata": {},
     "output_type": "display_data"
    },
    {
     "name": "stdout",
     "output_type": "stream",
     "text": [
      "coherence of |ψ4⟩ =  19.758779660267063\n"
     ]
    },
    {
     "data": {
      "text/plain": [
       "'applied Hadamard to all |ψ5⟩'"
      ]
     },
     "metadata": {},
     "output_type": "display_data"
    },
    {
     "data": {
      "text/latex": [
       "$$(0.052651312736 - 0.030282233785 i) |00000000\\rangle+ (0.052651312736 - 0.030282233785 i) |00000001\\rangle+ (0.052651312736 - 0.030282233785 i) |00000010\\rangle+ (0.052651312736 - 0.030282233785 i) |00000011\\rangle+ (0.052651312736 - 0.030282233785 i) |00000100\\rangle+ (0.052651312736 - 0.030282233785 i) |00000101\\rangle + \\ldots + (0.052651312736 - 0.030282233785 i) |11111011\\rangle+ (0.052651312736 - 0.030282233785 i) |11111100\\rangle+ (0.052651312736 - 0.030282233785 i) |11111101\\rangle+ (0.052651312736 - 0.030282233785 i) |11111110\\rangle+ (0.052651312736 - 0.030282233785 i) |11111111\\rangle$$"
      ],
      "text/plain": [
       "<IPython.core.display.Latex object>"
      ]
     },
     "metadata": {},
     "output_type": "display_data"
    },
    {
     "name": "stdout",
     "output_type": "stream",
     "text": [
      "coherence of |ψ5⟩ =  248.08481067766715\n",
      "======================================== FOR ϕ =  225.0 ========================================\n"
     ]
    },
    {
     "data": {
      "text/plain": [
       "'initialised |ψ0⟩'"
      ]
     },
     "metadata": {},
     "output_type": "display_data"
    },
    {
     "data": {
      "text/latex": [
       "$$ |00000000\\rangle$$"
      ],
      "text/plain": [
       "<IPython.core.display.Latex object>"
      ]
     },
     "metadata": {},
     "output_type": "display_data"
    },
    {
     "name": "stdout",
     "output_type": "stream",
     "text": [
      "coherence of |ψ0⟩ =  0.0\n"
     ]
    },
    {
     "data": {
      "text/plain": [
       "'applied Hadamard to all |ψ1⟩'"
      ]
     },
     "metadata": {},
     "output_type": "display_data"
    },
    {
     "data": {
      "text/latex": [
       "$$\\frac{1}{16} |00000000\\rangle+\\frac{1}{16} |00000001\\rangle+\\frac{1}{16} |00000010\\rangle+\\frac{1}{16} |00000011\\rangle+\\frac{1}{16} |00000100\\rangle+\\frac{1}{16} |00000101\\rangle + \\ldots +\\frac{1}{16} |11111011\\rangle+\\frac{1}{16} |11111100\\rangle+\\frac{1}{16} |11111101\\rangle+\\frac{1}{16} |11111110\\rangle+\\frac{1}{16} |11111111\\rangle$$"
      ],
      "text/plain": [
       "<IPython.core.display.Latex object>"
      ]
     },
     "metadata": {},
     "output_type": "display_data"
    },
    {
     "name": "stdout",
     "output_type": "stream",
     "text": [
      "coherence of |ψ1⟩ =  255.00000000000003\n",
      "-------- 1  ITERATION--------\n"
     ]
    },
    {
     "data": {
      "text/plain": [
       "'applied O operator to |ψ2⟩'"
      ]
     },
     "metadata": {},
     "output_type": "display_data"
    },
    {
     "data": {
      "text/latex": [
       "$$\\frac{1}{16} |00000000\\rangle+\\frac{1}{16} |00000001\\rangle+\\frac{1}{16} |00000010\\rangle+\\frac{1}{16} |00000011\\rangle+\\frac{1}{16} |00000100\\rangle+\\frac{1}{16} |00000101\\rangle + \\ldots +\\frac{1}{16} |11111011\\rangle+\\frac{1}{16} |11111100\\rangle+\\frac{1}{16} |11111101\\rangle+\\frac{1}{16} |11111110\\rangle+\\frac{1}{16} |11111111\\rangle$$"
      ],
      "text/plain": [
       "<IPython.core.display.Latex object>"
      ]
     },
     "metadata": {},
     "output_type": "display_data"
    },
    {
     "name": "stdout",
     "output_type": "stream",
     "text": [
      "coherence of |ψ2⟩ =  255.00000000000003\n"
     ]
    },
    {
     "data": {
      "text/plain": [
       "'applied Hadamard to all |ψ1⟩'"
      ]
     },
     "metadata": {},
     "output_type": "display_data"
    },
    {
     "data": {
      "text/latex": [
       "$$(0.986663228272 - 0.005524271728 i) |00000000\\rangle+ (0.013336771728 + 0.005524271728 i) |00000011\\rangle+ (-0.013336771728 - 0.005524271728 i) |00000100\\rangle+ (0.013336771728 + 0.005524271728 i) |00000111\\rangle+ (-0.013336771728 - 0.005524271728 i) |00001001\\rangle+ (0.013336771728 + 0.005524271728 i) |00001010\\rangle + \\ldots + (0.013336771728 + 0.005524271728 i) |11110111\\rangle+ (-0.013336771728 - 0.005524271728 i) |11111001\\rangle+ (0.013336771728 + 0.005524271728 i) |11111010\\rangle+ (-0.013336771728 - 0.005524271728 i) |11111101\\rangle+ (0.013336771728 + 0.005524271728 i) |11111110\\rangle$$"
      ],
      "text/plain": [
       "<IPython.core.display.Latex object>"
      ]
     },
     "metadata": {},
     "output_type": "display_data"
    },
    {
     "name": "stdout",
     "output_type": "stream",
     "text": [
      "coherence of |ψ1⟩ =  6.952412072538021\n"
     ]
    },
    {
     "data": {
      "text/plain": [
       "'applied P operator to |ψ4⟩'"
      ]
     },
     "metadata": {},
     "output_type": "display_data"
    },
    {
     "data": {
      "text/latex": [
       "$$(0.986663228272 - 0.005524271728 i) |00000000\\rangle+ (-0.013336771728 - 0.005524271728 i) |00000011\\rangle+ (0.013336771728 + 0.005524271728 i) |00000100\\rangle+ (-0.013336771728 - 0.005524271728 i) |00000111\\rangle+ (0.013336771728 + 0.005524271728 i) |00001001\\rangle+ (-0.013336771728 - 0.005524271728 i) |00001010\\rangle + \\ldots + (-0.013336771728 - 0.005524271728 i) |11110111\\rangle+ (0.013336771728 + 0.005524271728 i) |11111001\\rangle+ (-0.013336771728 - 0.005524271728 i) |11111010\\rangle+ (0.013336771728 + 0.005524271728 i) |11111101\\rangle+ (-0.013336771728 - 0.005524271728 i) |11111110\\rangle$$"
      ],
      "text/plain": [
       "<IPython.core.display.Latex object>"
      ]
     },
     "metadata": {},
     "output_type": "display_data"
    },
    {
     "name": "stdout",
     "output_type": "stream",
     "text": [
      "coherence of |ψ4⟩ =  6.952412072538021\n"
     ]
    },
    {
     "data": {
      "text/plain": [
       "'applied Hadamard to all |ψ5⟩'"
      ]
     },
     "metadata": {},
     "output_type": "display_data"
    },
    {
     "data": {
      "text/latex": [
       "$$(0.060832903534 - 0.000690533966 i) |00000000\\rangle+ (0.060832903534 - 0.000690533966 i) |00000001\\rangle+ (0.060832903534 - 0.000690533966 i) |00000010\\rangle+ (0.060832903534 - 0.000690533966 i) |00000011\\rangle+ (0.060832903534 - 0.000690533966 i) |00000100\\rangle+ (0.060832903534 - 0.000690533966 i) |00000101\\rangle + \\ldots + (0.060832903534 - 0.000690533966 i) |11111011\\rangle+ (0.060832903534 - 0.000690533966 i) |11111100\\rangle+ (0.060832903534 - 0.000690533966 i) |11111101\\rangle+ (0.060832903534 - 0.000690533966 i) |11111110\\rangle+ (0.060832903534 - 0.000690533966 i) |11111111\\rangle$$"
      ],
      "text/plain": [
       "<IPython.core.display.Latex object>"
      ]
     },
     "metadata": {},
     "output_type": "display_data"
    },
    {
     "name": "stdout",
     "output_type": "stream",
     "text": [
      "coherence of |ψ5⟩ =  248.59955035584065\n",
      "-------- 2  ITERATION--------\n"
     ]
    },
    {
     "data": {
      "text/plain": [
       "'applied O operator to |ψ2⟩'"
      ]
     },
     "metadata": {},
     "output_type": "display_data"
    },
    {
     "data": {
      "text/latex": [
       "$$(0.060832903534 - 0.000690533966 i) |00000000\\rangle+ (0.060832903534 - 0.000690533966 i) |00000001\\rangle+ (0.060832903534 - 0.000690533966 i) |00000010\\rangle+ (0.060832903534 - 0.000690533966 i) |00000011\\rangle+ (0.060832903534 - 0.000690533966 i) |00000100\\rangle+ (0.060832903534 - 0.000690533966 i) |00000101\\rangle + \\ldots + (0.060832903534 - 0.000690533966 i) |11111011\\rangle+ (0.060832903534 - 0.000690533966 i) |11111100\\rangle+ (0.060832903534 - 0.000690533966 i) |11111101\\rangle+ (0.060832903534 - 0.000690533966 i) |11111110\\rangle+ (0.060832903534 - 0.000690533966 i) |11111111\\rangle$$"
      ],
      "text/plain": [
       "<IPython.core.display.Latex object>"
      ]
     },
     "metadata": {},
     "output_type": "display_data"
    },
    {
     "name": "stdout",
     "output_type": "stream",
     "text": [
      "coherence of |ψ2⟩ =  248.59955035584065\n"
     ]
    },
    {
     "data": {
      "text/plain": [
       "'applied Hadamard to all |ψ1⟩'"
      ]
     },
     "metadata": {},
     "output_type": "display_data"
    },
    {
     "data": {
      "text/latex": [
       "$$(0.954760116892 - 0.029614883108 i) |00000000\\rangle+ (0.018566339652 + 0.018566339652 i) |00000011\\rangle+ (-0.018566339652 - 0.018566339652 i) |00000100\\rangle+ (0.018566339652 + 0.018566339652 i) |00000111\\rangle+ (-0.018566339652 - 0.018566339652 i) |00001001\\rangle+ (0.018566339652 + 0.018566339652 i) |00001010\\rangle + \\ldots + (0.018566339652 + 0.018566339652 i) |11110111\\rangle+ (-0.018566339652 - 0.018566339652 i) |11111001\\rangle+ (0.018566339652 + 0.018566339652 i) |11111010\\rangle+ (-0.018566339652 - 0.018566339652 i) |11111101\\rangle+ (0.018566339652 + 0.018566339652 i) |11111110\\rangle$$"
      ],
      "text/plain": [
       "<IPython.core.display.Latex object>"
      ]
     },
     "metadata": {},
     "output_type": "display_data"
    },
    {
     "name": "stdout",
     "output_type": "stream",
     "text": [
      "coherence of |ψ1⟩ =  17.402632951233443\n"
     ]
    },
    {
     "data": {
      "text/plain": [
       "'applied P operator to |ψ4⟩'"
      ]
     },
     "metadata": {},
     "output_type": "display_data"
    },
    {
     "data": {
      "text/latex": [
       "$$(0.954760116892 - 0.029614883108 i) |00000000\\rangle+ (-0.018566339652 - 0.018566339652 i) |00000011\\rangle+ (0.018566339652 + 0.018566339652 i) |00000100\\rangle+ (-0.018566339652 - 0.018566339652 i) |00000111\\rangle+ (0.018566339652 + 0.018566339652 i) |00001001\\rangle+ (-0.018566339652 - 0.018566339652 i) |00001010\\rangle + \\ldots + (-0.018566339652 - 0.018566339652 i) |11110111\\rangle+ (0.018566339652 + 0.018566339652 i) |11111001\\rangle+ (-0.018566339652 - 0.018566339652 i) |11111010\\rangle+ (0.018566339652 + 0.018566339652 i) |11111101\\rangle+ (-0.018566339652 - 0.018566339652 i) |11111110\\rangle$$"
      ],
      "text/plain": [
       "<IPython.core.display.Latex object>"
      ]
     },
     "metadata": {},
     "output_type": "display_data"
    },
    {
     "name": "stdout",
     "output_type": "stream",
     "text": [
      "coherence of |ψ4⟩ =  17.402632951233443\n"
     ]
    },
    {
     "data": {
      "text/plain": [
       "'applied Hadamard to all |ψ5⟩'"
      ]
     },
     "metadata": {},
     "output_type": "display_data"
    },
    {
     "data": {
      "text/latex": [
       "$$(0.058512111077 - 0.003011326423 i) |00000000\\rangle+ (0.058512111077 - 0.003011326423 i) |00000001\\rangle+ (0.058512111077 - 0.003011326423 i) |00000010\\rangle+ (0.058512111077 - 0.003011326423 i) |00000011\\rangle+ (0.058512111077 - 0.003011326423 i) |00000100\\rangle+ (0.058512111077 - 0.003011326423 i) |00000101\\rangle + \\ldots + (0.058512111077 - 0.003011326423 i) |11111011\\rangle+ (0.058512111077 - 0.003011326423 i) |11111100\\rangle+ (0.058512111077 - 0.003011326423 i) |11111101\\rangle+ (0.058512111077 - 0.003011326423 i) |11111110\\rangle+ (0.058512111077 - 0.003011326423 i) |11111111\\rangle$$"
      ],
      "text/plain": [
       "<IPython.core.display.Latex object>"
      ]
     },
     "metadata": {},
     "output_type": "display_data"
    },
    {
     "name": "stdout",
     "output_type": "stream",
     "text": [
      "coherence of |ψ5⟩ =  235.7867982174401\n",
      "-------- 3  ITERATION--------\n"
     ]
    },
    {
     "data": {
      "text/plain": [
       "'applied O operator to |ψ2⟩'"
      ]
     },
     "metadata": {},
     "output_type": "display_data"
    },
    {
     "data": {
      "text/latex": [
       "$$(0.058512111077 - 0.003011326423 i) |00000000\\rangle+ (0.058512111077 - 0.003011326423 i) |00000001\\rangle+ (0.058512111077 - 0.003011326423 i) |00000010\\rangle+ (0.058512111077 - 0.003011326423 i) |00000011\\rangle+ (0.058512111077 - 0.003011326423 i) |00000100\\rangle+ (0.058512111077 - 0.003011326423 i) |00000101\\rangle + \\ldots + (0.058512111077 - 0.003011326423 i) |11111011\\rangle+ (0.058512111077 - 0.003011326423 i) |11111100\\rangle+ (0.058512111077 - 0.003011326423 i) |11111101\\rangle+ (0.058512111077 - 0.003011326423 i) |11111110\\rangle+ (0.058512111077 - 0.003011326423 i) |11111111\\rangle$$"
      ],
      "text/plain": [
       "<IPython.core.display.Latex object>"
      ]
     },
     "metadata": {},
     "output_type": "display_data"
    },
    {
     "name": "stdout",
     "output_type": "stream",
     "text": [
      "coherence of |ψ2⟩ =  235.7867982174401\n"
     ]
    },
    {
     "data": {
      "text/plain": [
       "'applied Hadamard to all |ψ1⟩'"
      ]
     },
     "metadata": {},
     "output_type": "display_data"
    },
    {
     "data": {
      "text/latex": [
       "$$(0.923441808373 - 0.078967198946 i) |00000000\\rangle+ (0.012751968867 + 0.030785976186 i) |00000011\\rangle+ (-0.012751968867 - 0.030785976186 i) |00000100\\rangle+ (0.012751968867 + 0.030785976186 i) |00000111\\rangle+ (-0.012751968867 - 0.030785976186 i) |00001001\\rangle+ (0.012751968867 + 0.030785976186 i) |00001010\\rangle + \\ldots + (0.012751968867 + 0.030785976186 i) |11110111\\rangle+ (-0.012751968867 - 0.030785976186 i) |11111001\\rangle+ (0.012751968867 + 0.030785976186 i) |11111010\\rangle+ (-0.012751968867 - 0.030785976186 i) |11111101\\rangle+ (0.012751968867 + 0.030785976186 i) |11111110\\rangle$$"
      ],
      "text/plain": [
       "<IPython.core.display.Latex object>"
      ]
     },
     "metadata": {},
     "output_type": "display_data"
    },
    {
     "name": "stdout",
     "output_type": "stream",
     "text": [
      "coherence of |ψ1⟩ =  25.612904016019897\n"
     ]
    },
    {
     "data": {
      "text/plain": [
       "'applied P operator to |ψ4⟩'"
      ]
     },
     "metadata": {},
     "output_type": "display_data"
    },
    {
     "data": {
      "text/latex": [
       "$$(0.923441808373 - 0.078967198946 i) |00000000\\rangle+ (-0.012751968867 - 0.030785976186 i) |00000011\\rangle+ (0.012751968867 + 0.030785976186 i) |00000100\\rangle+ (-0.012751968867 - 0.030785976186 i) |00000111\\rangle+ (0.012751968867 + 0.030785976186 i) |00001001\\rangle+ (-0.012751968867 - 0.030785976186 i) |00001010\\rangle + \\ldots + (-0.012751968867 - 0.030785976186 i) |11110111\\rangle+ (0.012751968867 + 0.030785976186 i) |11111001\\rangle+ (-0.012751968867 - 0.030785976186 i) |11111010\\rangle+ (0.012751968867 + 0.030785976186 i) |11111101\\rangle+ (-0.012751968867 - 0.030785976186 i) |11111110\\rangle$$"
      ],
      "text/plain": [
       "<IPython.core.display.Latex object>"
      ]
     },
     "metadata": {},
     "output_type": "display_data"
    },
    {
     "name": "stdout",
     "output_type": "stream",
     "text": [
      "coherence of |ψ4⟩ =  25.612904016019897\n"
     ]
    },
    {
     "data": {
      "text/plain": [
       "'applied Hadamard to all |ψ5⟩'"
      ]
     },
     "metadata": {},
     "output_type": "display_data"
    },
    {
     "data": {
      "text/latex": [
       "$$(0.056918114969 - 0.006859573446 i) |00000000\\rangle+ (0.056918114969 - 0.006859573446 i) |00000001\\rangle+ (0.056918114969 - 0.006859573446 i) |00000010\\rangle+ (0.056918114969 - 0.006859573446 i) |00000011\\rangle+ (0.056918114969 - 0.006859573446 i) |00000100\\rangle+ (0.056918114969 - 0.006859573446 i) |00000101\\rangle + \\ldots + (0.056918114969 - 0.006859573446 i) |11111011\\rangle+ (0.056918114969 - 0.006859573446 i) |11111100\\rangle+ (0.056918114969 - 0.006859573446 i) |11111101\\rangle+ (0.056918114969 - 0.006859573446 i) |11111110\\rangle+ (0.056918114969 - 0.006859573446 i) |11111111\\rangle$$"
      ],
      "text/plain": [
       "<IPython.core.display.Latex object>"
      ]
     },
     "metadata": {},
     "output_type": "display_data"
    },
    {
     "name": "stdout",
     "output_type": "stream",
     "text": [
      "coherence of |ψ5⟩ =  228.1156814930606\n",
      "-------- 4  ITERATION--------\n"
     ]
    },
    {
     "data": {
      "text/plain": [
       "'applied O operator to |ψ2⟩'"
      ]
     },
     "metadata": {},
     "output_type": "display_data"
    },
    {
     "data": {
      "text/latex": [
       "$$(0.056918114969 - 0.006859573446 i) |00000000\\rangle+ (0.056918114969 - 0.006859573446 i) |00000001\\rangle+ (0.056918114969 - 0.006859573446 i) |00000010\\rangle+ (0.056918114969 - 0.006859573446 i) |00000011\\rangle+ (0.056918114969 - 0.006859573446 i) |00000100\\rangle+ (0.056918114969 - 0.006859573446 i) |00000101\\rangle + \\ldots + (0.056918114969 - 0.006859573446 i) |11111011\\rangle+ (0.056918114969 - 0.006859573446 i) |11111100\\rangle+ (0.056918114969 - 0.006859573446 i) |11111101\\rangle+ (0.056918114969 - 0.006859573446 i) |11111110\\rangle+ (0.056918114969 - 0.006859573446 i) |11111111\\rangle$$"
      ],
      "text/plain": [
       "<IPython.core.display.Latex object>"
      ]
     },
     "metadata": {},
     "output_type": "display_data"
    },
    {
     "name": "stdout",
     "output_type": "stream",
     "text": [
      "coherence of |ψ2⟩ =  228.1156814930606\n"
     ]
    },
    {
     "data": {
      "text/plain": [
       "'applied Hadamard to all |ψ1⟩'"
      ]
     },
     "metadata": {},
     "output_type": "display_data"
    },
    {
     "data": {
      "text/latex": [
       "$$(0.910689839506 - 0.144106296407 i) |00000000\\rangle+0.034353121276 i |00000011\\rangle- 0.034353121276 i |00000100\\rangle+0.034353121276 i |00000111\\rangle- 0.034353121276 i |00001001\\rangle+0.034353121276 i |00001010\\rangle + \\ldots +0.034353121276 i |11110111\\rangle- 0.034353121276 i |11111001\\rangle+0.034353121276 i |11111010\\rangle- 0.034353121276 i |11111101\\rangle+0.034353121276 i |11111110\\rangle$$"
      ],
      "text/plain": [
       "<IPython.core.display.Latex object>"
      ]
     },
     "metadata": {},
     "output_type": "display_data"
    },
    {
     "name": "stdout",
     "output_type": "stream",
     "text": [
      "coherence of |ψ1⟩ =  26.929822792119133\n"
     ]
    },
    {
     "data": {
      "text/plain": [
       "'applied P operator to |ψ4⟩'"
      ]
     },
     "metadata": {},
     "output_type": "display_data"
    },
    {
     "data": {
      "text/latex": [
       "$$(0.910689839506 - 0.144106296407 i) |00000000\\rangle- 0.034353121276 i |00000011\\rangle+0.034353121276 i |00000100\\rangle- 0.034353121276 i |00000111\\rangle+0.034353121276 i |00001001\\rangle- 0.034353121276 i |00001010\\rangle + \\ldots - 0.034353121276 i |11110111\\rangle+0.034353121276 i |11111001\\rangle- 0.034353121276 i |11111010\\rangle+0.034353121276 i |11111101\\rangle- 0.034353121276 i |11111110\\rangle$$"
      ],
      "text/plain": [
       "<IPython.core.display.Latex object>"
      ]
     },
     "metadata": {},
     "output_type": "display_data"
    },
    {
     "name": "stdout",
     "output_type": "stream",
     "text": [
      "coherence of |ψ4⟩ =  26.929822792119133\n"
     ]
    },
    {
     "data": {
      "text/plain": [
       "'applied Hadamard to all |ψ5⟩'"
      ]
     },
     "metadata": {},
     "output_type": "display_data"
    },
    {
     "data": {
      "text/latex": [
       "$$(0.056918114969 - 0.011153713605 i) |00000000\\rangle+ (0.056918114969 - 0.011153713605 i) |00000001\\rangle+ (0.056918114969 - 0.011153713605 i) |00000010\\rangle+ (0.056918114969 - 0.011153713605 i) |00000011\\rangle+ (0.056918114969 - 0.011153713605 i) |00000100\\rangle+ (0.056918114969 - 0.011153713605 i) |00000101\\rangle + \\ldots + (0.056918114969 - 0.011153713605 i) |11111011\\rangle+ (0.056918114969 - 0.011153713605 i) |11111100\\rangle+ (0.056918114969 - 0.011153713605 i) |11111101\\rangle+ (0.056918114969 - 0.011153713605 i) |11111110\\rangle+ (0.056918114969 - 0.011153713605 i) |11111111\\rangle$$"
      ],
      "text/plain": [
       "<IPython.core.display.Latex object>"
      ]
     },
     "metadata": {},
     "output_type": "display_data"
    },
    {
     "name": "stdout",
     "output_type": "stream",
     "text": [
      "coherence of |ψ5⟩ =  232.2235474509555\n",
      "-------- 5  ITERATION--------\n"
     ]
    },
    {
     "data": {
      "text/plain": [
       "'applied O operator to |ψ2⟩'"
      ]
     },
     "metadata": {},
     "output_type": "display_data"
    },
    {
     "data": {
      "text/latex": [
       "$$(0.056918114969 - 0.011153713605 i) |00000000\\rangle+ (0.056918114969 - 0.011153713605 i) |00000001\\rangle+ (0.056918114969 - 0.011153713605 i) |00000010\\rangle+ (0.056918114969 - 0.011153713605 i) |00000011\\rangle+ (0.056918114969 - 0.011153713605 i) |00000100\\rangle+ (0.056918114969 - 0.011153713605 i) |00000101\\rangle + \\ldots + (0.056918114969 - 0.011153713605 i) |11111011\\rangle+ (0.056918114969 - 0.011153713605 i) |11111100\\rangle+ (0.056918114969 - 0.011153713605 i) |11111101\\rangle+ (0.056918114969 - 0.011153713605 i) |11111110\\rangle+ (0.056918114969 - 0.011153713605 i) |11111111\\rangle$$"
      ],
      "text/plain": [
       "<IPython.core.display.Latex object>"
      ]
     },
     "metadata": {},
     "output_type": "display_data"
    },
    {
     "name": "stdout",
     "output_type": "stream",
     "text": [
      "coherence of |ψ2⟩ =  232.2235474509555\n"
     ]
    },
    {
     "data": {
      "text/plain": [
       "'applied Hadamard to all |ψ1⟩'"
      ]
     },
     "metadata": {},
     "output_type": "display_data"
    },
    {
     "data": {
      "text/latex": [
       "$$(0.921849643695 - 0.205401568309 i) |00000000\\rangle+ (-0.011159804189 + 0.026942150626 i) |00000011\\rangle+ (0.011159804189 - 0.026942150626 i) |00000100\\rangle+ (-0.011159804189 + 0.026942150626 i) |00000111\\rangle+ (0.011159804189 - 0.026942150626 i) |00001001\\rangle+ (-0.011159804189 + 0.026942150626 i) |00001010\\rangle + \\ldots + (-0.011159804189 + 0.026942150626 i) |11110111\\rangle+ (0.011159804189 - 0.026942150626 i) |11111001\\rangle+ (-0.011159804189 + 0.026942150626 i) |11111010\\rangle+ (0.011159804189 - 0.026942150626 i) |11111101\\rangle+ (-0.011159804189 + 0.026942150626 i) |11111110\\rangle$$"
      ],
      "text/plain": [
       "<IPython.core.display.Latex object>"
      ]
     },
     "metadata": {},
     "output_type": "display_data"
    },
    {
     "name": "stdout",
     "output_type": "stream",
     "text": [
      "coherence of |ψ1⟩ =  20.60414904135698\n"
     ]
    },
    {
     "data": {
      "text/plain": [
       "'applied P operator to |ψ4⟩'"
      ]
     },
     "metadata": {},
     "output_type": "display_data"
    },
    {
     "data": {
      "text/latex": [
       "$$(0.921849643695 - 0.205401568309 i) |00000000\\rangle+ (0.011159804189 - 0.026942150626 i) |00000011\\rangle+ (-0.011159804189 + 0.026942150626 i) |00000100\\rangle+ (0.011159804189 - 0.026942150626 i) |00000111\\rangle+ (-0.011159804189 + 0.026942150626 i) |00001001\\rangle+ (0.011159804189 - 0.026942150626 i) |00001010\\rangle + \\ldots + (0.011159804189 - 0.026942150626 i) |11110111\\rangle+ (-0.011159804189 + 0.026942150626 i) |11111001\\rangle+ (0.011159804189 - 0.026942150626 i) |11111010\\rangle+ (-0.011159804189 + 0.026942150626 i) |11111101\\rangle+ (0.011159804189 - 0.026942150626 i) |11111110\\rangle$$"
      ],
      "text/plain": [
       "<IPython.core.display.Latex object>"
      ]
     },
     "metadata": {},
     "output_type": "display_data"
    },
    {
     "name": "stdout",
     "output_type": "stream",
     "text": [
      "coherence of |ψ4⟩ =  20.60414904135698\n"
     ]
    },
    {
     "data": {
      "text/plain": [
       "'applied Hadamard to all |ψ5⟩'"
      ]
     },
     "metadata": {},
     "output_type": "display_data"
    },
    {
     "data": {
      "text/latex": [
       "$$(0.058313090493 - 0.014521482433 i) |00000000\\rangle+ (0.058313090493 - 0.014521482433 i) |00000001\\rangle+ (0.058313090493 - 0.014521482433 i) |00000010\\rangle+ (0.058313090493 - 0.014521482433 i) |00000011\\rangle+ (0.058313090493 - 0.014521482433 i) |00000100\\rangle+ (0.058313090493 - 0.014521482433 i) |00000101\\rangle + \\ldots + (0.058313090493 - 0.014521482433 i) |11111011\\rangle+ (0.058313090493 - 0.014521482433 i) |11111100\\rangle+ (0.058313090493 - 0.014521482433 i) |11111101\\rangle+ (0.058313090493 - 0.014521482433 i) |11111110\\rangle+ (0.058313090493 - 0.014521482433 i) |11111111\\rangle$$"
      ],
      "text/plain": [
       "<IPython.core.display.Latex object>"
      ]
     },
     "metadata": {},
     "output_type": "display_data"
    },
    {
     "name": "stdout",
     "output_type": "stream",
     "text": [
      "coherence of |ψ5⟩ =  244.5693316660826\n",
      "-------- 6  ITERATION--------\n"
     ]
    },
    {
     "data": {
      "text/plain": [
       "'applied O operator to |ψ2⟩'"
      ]
     },
     "metadata": {},
     "output_type": "display_data"
    },
    {
     "data": {
      "text/latex": [
       "$$(0.058313090493 - 0.014521482433 i) |00000000\\rangle+ (0.058313090493 - 0.014521482433 i) |00000001\\rangle+ (0.058313090493 - 0.014521482433 i) |00000010\\rangle+ (0.058313090493 - 0.014521482433 i) |00000011\\rangle+ (0.058313090493 - 0.014521482433 i) |00000100\\rangle+ (0.058313090493 - 0.014521482433 i) |00000101\\rangle + \\ldots + (0.058313090493 - 0.014521482433 i) |11111011\\rangle+ (0.058313090493 - 0.014521482433 i) |11111100\\rangle+ (0.058313090493 - 0.014521482433 i) |11111101\\rangle+ (0.058313090493 - 0.014521482433 i) |11111110\\rangle+ (0.058313090493 - 0.014521482433 i) |11111111\\rangle$$"
      ],
      "text/plain": [
       "<IPython.core.display.Latex object>"
      ]
     },
     "metadata": {},
     "output_type": "display_data"
    },
    {
     "name": "stdout",
     "output_type": "stream",
     "text": [
      "coherence of |ψ2⟩ =  244.5693316660826\n"
     ]
    },
    {
     "data": {
      "text/plain": [
       "'applied Hadamard to all |ψ1⟩'"
      ]
     },
     "metadata": {},
     "output_type": "display_data"
    },
    {
     "data": {
      "text/latex": [
       "$$(0.946224734645 - 0.245559005697 i) |00000000\\rangle+ (-0.013215286762 + 0.013215286762 i) |00000011\\rangle+ (0.013215286762 - 0.013215286762 i) |00000100\\rangle+ (-0.013215286762 + 0.013215286762 i) |00000111\\rangle+ (0.013215286762 - 0.013215286762 i) |00001001\\rangle+ (-0.013215286762 + 0.013215286762 i) |00001010\\rangle + \\ldots + (-0.013215286762 + 0.013215286762 i) |11110111\\rangle+ (0.013215286762 - 0.013215286762 i) |11111001\\rangle+ (-0.013215286762 + 0.013215286762 i) |11111010\\rangle+ (0.013215286762 - 0.013215286762 i) |11111101\\rangle+ (-0.013215286762 + 0.013215286762 i) |11111110\\rangle$$"
      ],
      "text/plain": [
       "<IPython.core.display.Latex object>"
      ]
     },
     "metadata": {},
     "output_type": "display_data"
    },
    {
     "name": "stdout",
     "output_type": "stream",
     "text": [
      "coherence of |ψ1⟩ =  10.229883615289243\n"
     ]
    },
    {
     "data": {
      "text/plain": [
       "'applied P operator to |ψ4⟩'"
      ]
     },
     "metadata": {},
     "output_type": "display_data"
    },
    {
     "data": {
      "text/latex": [
       "$$(0.946224734645 - 0.245559005697 i) |00000000\\rangle+ (0.013215286762 - 0.013215286762 i) |00000011\\rangle+ (-0.013215286762 + 0.013215286762 i) |00000100\\rangle+ (0.013215286762 - 0.013215286762 i) |00000111\\rangle+ (-0.013215286762 + 0.013215286762 i) |00001001\\rangle+ (0.013215286762 - 0.013215286762 i) |00001010\\rangle + \\ldots + (0.013215286762 - 0.013215286762 i) |11110111\\rangle+ (-0.013215286762 + 0.013215286762 i) |11111001\\rangle+ (0.013215286762 - 0.013215286762 i) |11111010\\rangle+ (-0.013215286762 + 0.013215286762 i) |11111101\\rangle+ (0.013215286762 - 0.013215286762 i) |11111110\\rangle$$"
      ],
      "text/plain": [
       "<IPython.core.display.Latex object>"
      ]
     },
     "metadata": {},
     "output_type": "display_data"
    },
    {
     "name": "stdout",
     "output_type": "stream",
     "text": [
      "coherence of |ψ4⟩ =  10.229883615289243\n"
     ]
    },
    {
     "data": {
      "text/plain": [
       "'applied Hadamard to all |ψ5⟩'"
      ]
     },
     "metadata": {},
     "output_type": "display_data"
    },
    {
     "data": {
      "text/latex": [
       "$$(0.059965001338 - 0.016173393279 i) |00000000\\rangle+ (0.059965001338 - 0.016173393279 i) |00000001\\rangle+ (0.059965001338 - 0.016173393279 i) |00000010\\rangle+ (0.059965001338 - 0.016173393279 i) |00000011\\rangle+ (0.059965001338 - 0.016173393279 i) |00000100\\rangle+ (0.059965001338 - 0.016173393279 i) |00000101\\rangle + \\ldots + (0.059965001338 - 0.016173393279 i) |11111011\\rangle+ (0.059965001338 - 0.016173393279 i) |11111100\\rangle+ (0.059965001338 - 0.016173393279 i) |11111101\\rangle+ (0.059965001338 - 0.016173393279 i) |11111110\\rangle+ (0.059965001338 - 0.016173393279 i) |11111111\\rangle$$"
      ],
      "text/plain": [
       "<IPython.core.display.Latex object>"
      ]
     },
     "metadata": {},
     "output_type": "display_data"
    },
    {
     "name": "stdout",
     "output_type": "stream",
     "text": [
      "coherence of |ψ5⟩ =  254.24880401546858\n",
      "-------- 7  ITERATION--------\n"
     ]
    },
    {
     "data": {
      "text/plain": [
       "'applied O operator to |ψ2⟩'"
      ]
     },
     "metadata": {},
     "output_type": "display_data"
    },
    {
     "data": {
      "text/latex": [
       "$$(0.059965001338 - 0.016173393279 i) |00000000\\rangle+ (0.059965001338 - 0.016173393279 i) |00000001\\rangle+ (0.059965001338 - 0.016173393279 i) |00000010\\rangle+ (0.059965001338 - 0.016173393279 i) |00000011\\rangle+ (0.059965001338 - 0.016173393279 i) |00000100\\rangle+ (0.059965001338 - 0.016173393279 i) |00000101\\rangle + \\ldots + (0.059965001338 - 0.016173393279 i) |11111011\\rangle+ (0.059965001338 - 0.016173393279 i) |11111100\\rangle+ (0.059965001338 - 0.016173393279 i) |11111101\\rangle+ (0.059965001338 - 0.016173393279 i) |11111110\\rangle+ (0.059965001338 - 0.016173393279 i) |11111111\\rangle$$"
      ],
      "text/plain": [
       "<IPython.core.display.Latex object>"
      ]
     },
     "metadata": {},
     "output_type": "display_data"
    },
    {
     "name": "stdout",
     "output_type": "stream",
     "text": [
      "coherence of |ψ2⟩ =  254.24880401546858\n"
     ]
    },
    {
     "data": {
      "text/plain": [
       "'applied Hadamard to all |ψ1⟩'"
      ]
     },
     "metadata": {},
     "output_type": "display_data"
    },
    {
     "data": {
      "text/latex": [
       "$$(0.963903887117 - 0.260623286176 i) |00000000\\rangle+ (-0.004463865709 + 0.001848993717 i) |00000011\\rangle+ (0.004463865709 - 0.001848993717 i) |00000100\\rangle+ (-0.004463865709 + 0.001848993717 i) |00000111\\rangle+ (0.004463865709 - 0.001848993717 i) |00001001\\rangle+ (-0.004463865709 + 0.001848993717 i) |00001010\\rangle + \\ldots + (-0.004463865709 + 0.001848993717 i) |11110111\\rangle+ (0.004463865709 - 0.001848993717 i) |11111001\\rangle+ (-0.004463865709 + 0.001848993717 i) |11111010\\rangle+ (0.004463865709 - 0.001848993717 i) |11111101\\rangle+ (-0.004463865709 + 0.001848993717 i) |11111110\\rangle$$"
      ],
      "text/plain": [
       "<IPython.core.display.Latex object>"
      ]
     },
     "metadata": {},
     "output_type": "display_data"
    },
    {
     "name": "stdout",
     "output_type": "stream",
     "text": [
      "coherence of |ψ1⟩ =  1.5989840471488574\n"
     ]
    },
    {
     "data": {
      "text/plain": [
       "'applied P operator to |ψ4⟩'"
      ]
     },
     "metadata": {},
     "output_type": "display_data"
    },
    {
     "data": {
      "text/latex": [
       "$$(0.963903887117 - 0.260623286176 i) |00000000\\rangle+ (0.004463865709 - 0.001848993717 i) |00000011\\rangle+ (-0.004463865709 + 0.001848993717 i) |00000100\\rangle+ (0.004463865709 - 0.001848993717 i) |00000111\\rangle+ (-0.004463865709 + 0.001848993717 i) |00001001\\rangle+ (0.004463865709 - 0.001848993717 i) |00001010\\rangle + \\ldots + (0.004463865709 - 0.001848993717 i) |11110111\\rangle+ (-0.004463865709 + 0.001848993717 i) |11111001\\rangle+ (0.004463865709 - 0.001848993717 i) |11111010\\rangle+ (-0.004463865709 + 0.001848993717 i) |11111101\\rangle+ (0.004463865709 - 0.001848993717 i) |11111110\\rangle$$"
      ],
      "text/plain": [
       "<IPython.core.display.Latex object>"
      ]
     },
     "metadata": {},
     "output_type": "display_data"
    },
    {
     "name": "stdout",
     "output_type": "stream",
     "text": [
      "coherence of |ψ4⟩ =  1.5989840471488574\n"
     ]
    },
    {
     "data": {
      "text/plain": [
       "'applied Hadamard to all |ψ5⟩'"
      ]
     },
     "metadata": {},
     "output_type": "display_data"
    },
    {
     "data": {
      "text/latex": [
       "$$(0.060522984552 - 0.016404517493 i) |00000000\\rangle+ (0.060522984552 - 0.016404517493 i) |00000001\\rangle+ (0.060522984552 - 0.016404517493 i) |00000010\\rangle+ (0.060522984552 - 0.016404517493 i) |00000011\\rangle+ (0.060522984552 - 0.016404517493 i) |00000100\\rangle+ (0.060522984552 - 0.016404517493 i) |00000101\\rangle + \\ldots + (0.060522984552 - 0.016404517493 i) |11111011\\rangle+ (0.060522984552 - 0.016404517493 i) |11111100\\rangle+ (0.060522984552 - 0.016404517493 i) |11111101\\rangle+ (0.060522984552 - 0.016404517493 i) |11111110\\rangle+ (0.060522984552 - 0.016404517493 i) |11111111\\rangle$$"
      ],
      "text/plain": [
       "<IPython.core.display.Latex object>"
      ]
     },
     "metadata": {},
     "output_type": "display_data"
    },
    {
     "name": "stdout",
     "output_type": "stream",
     "text": [
      "coherence of |ψ5⟩ =  254.2725210917521\n",
      "-------- 8  ITERATION--------\n"
     ]
    },
    {
     "data": {
      "text/plain": [
       "'applied O operator to |ψ2⟩'"
      ]
     },
     "metadata": {},
     "output_type": "display_data"
    },
    {
     "data": {
      "text/latex": [
       "$$(0.060522984552 - 0.016404517493 i) |00000000\\rangle+ (0.060522984552 - 0.016404517493 i) |00000001\\rangle+ (0.060522984552 - 0.016404517493 i) |00000010\\rangle+ (0.060522984552 - 0.016404517493 i) |00000011\\rangle+ (0.060522984552 - 0.016404517493 i) |00000100\\rangle+ (0.060522984552 - 0.016404517493 i) |00000101\\rangle + \\ldots + (0.060522984552 - 0.016404517493 i) |11111011\\rangle+ (0.060522984552 - 0.016404517493 i) |11111100\\rangle+ (0.060522984552 - 0.016404517493 i) |11111101\\rangle+ (0.060522984552 - 0.016404517493 i) |11111110\\rangle+ (0.060522984552 - 0.016404517493 i) |11111111\\rangle$$"
      ],
      "text/plain": [
       "<IPython.core.display.Latex object>"
      ]
     },
     "metadata": {},
     "output_type": "display_data"
    },
    {
     "name": "stdout",
     "output_type": "stream",
     "text": [
      "coherence of |ψ2⟩ =  254.2725210917521\n"
     ]
    },
    {
     "data": {
      "text/plain": [
       "'applied Hadamard to all |ψ1⟩'"
      ]
     },
     "metadata": {},
     "output_type": "display_data"
    },
    {
     "data": {
      "text/latex": [
       "$$(0.958466750672 - 0.262472279893 i) |00000000\\rangle+0.009901002154 |00000011\\rangle-0.009901002154 |00000100\\rangle+0.009901002154 |00000111\\rangle-0.009901002154 |00001001\\rangle+0.009901002154 |00001010\\rangle + \\ldots +0.009901002154 |11110111\\rangle-0.009901002154 |11111001\\rangle+0.009901002154 |11111010\\rangle-0.009901002154 |11111101\\rangle+0.009901002154 |11111110\\rangle$$"
      ],
      "text/plain": [
       "<IPython.core.display.Latex object>"
      ]
     },
     "metadata": {},
     "output_type": "display_data"
    },
    {
     "name": "stdout",
     "output_type": "stream",
     "text": [
      "coherence of |ψ1⟩ =  4.067824369531706\n"
     ]
    },
    {
     "data": {
      "text/plain": [
       "'applied P operator to |ψ4⟩'"
      ]
     },
     "metadata": {},
     "output_type": "display_data"
    },
    {
     "data": {
      "text/latex": [
       "$$(0.958466750672 - 0.262472279893 i) |00000000\\rangle-0.009901002154 |00000011\\rangle+0.009901002154 |00000100\\rangle-0.009901002154 |00000111\\rangle+0.009901002154 |00001001\\rangle-0.009901002154 |00001010\\rangle + \\ldots -0.009901002154 |11110111\\rangle+0.009901002154 |11111001\\rangle-0.009901002154 |11111010\\rangle+0.009901002154 |11111101\\rangle-0.009901002154 |11111110\\rangle$$"
      ],
      "text/plain": [
       "<IPython.core.display.Latex object>"
      ]
     },
     "metadata": {},
     "output_type": "display_data"
    },
    {
     "name": "stdout",
     "output_type": "stream",
     "text": [
      "coherence of |ψ4⟩ =  4.067824369531706\n"
     ]
    },
    {
     "data": {
      "text/plain": [
       "'applied Hadamard to all |ψ5⟩'"
      ]
     },
     "metadata": {},
     "output_type": "display_data"
    },
    {
     "data": {
      "text/latex": [
       "$$(0.059285359282 - 0.016404517493 i) |00000000\\rangle+ (0.059285359282 - 0.016404517493 i) |00000001\\rangle+ (0.059285359282 - 0.016404517493 i) |00000010\\rangle+ (0.059285359282 - 0.016404517493 i) |00000011\\rangle+ (0.059285359282 - 0.016404517493 i) |00000100\\rangle+ (0.059285359282 - 0.016404517493 i) |00000101\\rangle + \\ldots + (0.059285359282 - 0.016404517493 i) |11111011\\rangle+ (0.059285359282 - 0.016404517493 i) |11111100\\rangle+ (0.059285359282 - 0.016404517493 i) |11111101\\rangle+ (0.059285359282 - 0.016404517493 i) |11111110\\rangle+ (0.059285359282 - 0.016404517493 i) |11111111\\rangle$$"
      ],
      "text/plain": [
       "<IPython.core.display.Latex object>"
      ]
     },
     "metadata": {},
     "output_type": "display_data"
    },
    {
     "name": "stdout",
     "output_type": "stream",
     "text": [
      "coherence of |ψ5⟩ =  251.91341234921805\n",
      "======================================== FOR ϕ =  239.99999999999997 ========================================\n"
     ]
    },
    {
     "data": {
      "text/plain": [
       "'initialised |ψ0⟩'"
      ]
     },
     "metadata": {},
     "output_type": "display_data"
    },
    {
     "data": {
      "text/latex": [
       "$$ |00000000\\rangle$$"
      ],
      "text/plain": [
       "<IPython.core.display.Latex object>"
      ]
     },
     "metadata": {},
     "output_type": "display_data"
    },
    {
     "name": "stdout",
     "output_type": "stream",
     "text": [
      "coherence of |ψ0⟩ =  0.0\n"
     ]
    },
    {
     "data": {
      "text/plain": [
       "'applied Hadamard to all |ψ1⟩'"
      ]
     },
     "metadata": {},
     "output_type": "display_data"
    },
    {
     "data": {
      "text/latex": [
       "$$\\frac{1}{16} |00000000\\rangle+\\frac{1}{16} |00000001\\rangle+\\frac{1}{16} |00000010\\rangle+\\frac{1}{16} |00000011\\rangle+\\frac{1}{16} |00000100\\rangle+\\frac{1}{16} |00000101\\rangle + \\ldots +\\frac{1}{16} |11111011\\rangle+\\frac{1}{16} |11111100\\rangle+\\frac{1}{16} |11111101\\rangle+\\frac{1}{16} |11111110\\rangle+\\frac{1}{16} |11111111\\rangle$$"
      ],
      "text/plain": [
       "<IPython.core.display.Latex object>"
      ]
     },
     "metadata": {},
     "output_type": "display_data"
    },
    {
     "name": "stdout",
     "output_type": "stream",
     "text": [
      "coherence of |ψ1⟩ =  255.00000000000003\n",
      "-------- 1  ITERATION--------\n"
     ]
    },
    {
     "data": {
      "text/plain": [
       "'applied O operator to |ψ2⟩'"
      ]
     },
     "metadata": {},
     "output_type": "display_data"
    },
    {
     "data": {
      "text/latex": [
       "$$\\frac{1}{16} |00000000\\rangle+\\frac{1}{16} |00000001\\rangle+\\frac{1}{16} |00000010\\rangle+\\frac{1}{16} |00000011\\rangle+\\frac{1}{16} |00000100\\rangle+\\frac{1}{16} |00000101\\rangle + \\ldots +\\frac{1}{16} |11111011\\rangle+\\frac{1}{16} |11111100\\rangle+\\frac{1}{16} |11111101\\rangle+\\frac{1}{16} |11111110\\rangle+\\frac{1}{16} |11111111\\rangle$$"
      ],
      "text/plain": [
       "<IPython.core.display.Latex object>"
      ]
     },
     "metadata": {},
     "output_type": "display_data"
    },
    {
     "name": "stdout",
     "output_type": "stream",
     "text": [
      "coherence of |ψ2⟩ =  255.00000000000003\n"
     ]
    },
    {
     "data": {
      "text/plain": [
       "'applied Hadamard to all |ψ1⟩'"
      ]
     },
     "metadata": {},
     "output_type": "display_data"
    },
    {
     "data": {
      "text/latex": [
       "$$(0.98828125 - 0.006765823467 i) |00000000\\rangle+ (0.01171875 + 0.006765823467 i) |00000011\\rangle+ (-0.01171875 - 0.006765823467 i) |00000100\\rangle+ (0.01171875 + 0.006765823467 i) |00000111\\rangle+ (-0.01171875 - 0.006765823467 i) |00001001\\rangle+ (0.01171875 + 0.006765823467 i) |00001010\\rangle + \\ldots + (0.01171875 + 0.006765823467 i) |11110111\\rangle+ (-0.01171875 - 0.006765823467 i) |11111001\\rangle+ (0.01171875 + 0.006765823467 i) |11111010\\rangle+ (-0.01171875 - 0.006765823467 i) |11111101\\rangle+ (0.01171875 + 0.006765823467 i) |11111110\\rangle$$"
      ],
      "text/plain": [
       "<IPython.core.display.Latex object>"
      ]
     },
     "metadata": {},
     "output_type": "display_data"
    },
    {
     "name": "stdout",
     "output_type": "stream",
     "text": [
      "coherence of |ψ1⟩ =  6.326893838828024\n"
     ]
    },
    {
     "data": {
      "text/plain": [
       "'applied P operator to |ψ4⟩'"
      ]
     },
     "metadata": {},
     "output_type": "display_data"
    },
    {
     "data": {
      "text/latex": [
       "$$(0.98828125 - 0.006765823467 i) |00000000\\rangle+ (-0.01171875 - 0.006765823467 i) |00000011\\rangle+ (0.01171875 + 0.006765823467 i) |00000100\\rangle+ (-0.01171875 - 0.006765823467 i) |00000111\\rangle+ (0.01171875 + 0.006765823467 i) |00001001\\rangle+ (-0.01171875 - 0.006765823467 i) |00001010\\rangle + \\ldots + (-0.01171875 - 0.006765823467 i) |11110111\\rangle+ (0.01171875 + 0.006765823467 i) |11111001\\rangle+ (-0.01171875 - 0.006765823467 i) |11111010\\rangle+ (0.01171875 + 0.006765823467 i) |11111101\\rangle+ (-0.01171875 - 0.006765823467 i) |11111110\\rangle$$"
      ],
      "text/plain": [
       "<IPython.core.display.Latex object>"
      ]
     },
     "metadata": {},
     "output_type": "display_data"
    },
    {
     "name": "stdout",
     "output_type": "stream",
     "text": [
      "coherence of |ψ4⟩ =  6.326893838828024\n"
     ]
    },
    {
     "data": {
      "text/plain": [
       "'applied Hadamard to all |ψ5⟩'"
      ]
     },
     "metadata": {},
     "output_type": "display_data"
    },
    {
     "data": {
      "text/latex": [
       "$$(\\frac{125}{2048} - \\frac{941192 \\cdot 2^{\\frac{22}{45}} \\cdot 3^{\\frac{14}{15}} \\cdot 5^{\\frac{4}{45}} \\cdot 7^{\\frac{4}{15}} i \\pi^{\\frac{32}{9}}}{494384765625}) |00000000\\rangle+ (\\frac{125}{2048} - \\frac{941192 \\cdot 2^{\\frac{22}{45}} \\cdot 3^{\\frac{14}{15}} \\cdot 5^{\\frac{4}{45}} \\cdot 7^{\\frac{4}{15}} i \\pi^{\\frac{32}{9}}}{494384765625}) |00000001\\rangle+ (\\frac{125}{2048} - \\frac{941192 \\cdot 2^{\\frac{22}{45}} \\cdot 3^{\\frac{14}{15}} \\cdot 5^{\\frac{4}{45}} \\cdot 7^{\\frac{4}{15}} i \\pi^{\\frac{32}{9}}}{494384765625}) |00000010\\rangle+ (\\frac{125}{2048} - \\frac{941192 \\cdot 2^{\\frac{22}{45}} \\cdot 3^{\\frac{14}{15}} \\cdot 5^{\\frac{4}{45}} \\cdot 7^{\\frac{4}{15}} i \\pi^{\\frac{32}{9}}}{494384765625}) |00000011\\rangle+ (\\frac{125}{2048} - \\frac{941192 \\cdot 2^{\\frac{22}{45}} \\cdot 3^{\\frac{14}{15}} \\cdot 5^{\\frac{4}{45}} \\cdot 7^{\\frac{4}{15}} i \\pi^{\\frac{32}{9}}}{494384765625}) |00000100\\rangle+ (\\frac{125}{2048} - \\frac{941192 \\cdot 2^{\\frac{22}{45}} \\cdot 3^{\\frac{14}{15}} \\cdot 5^{\\frac{4}{45}} \\cdot 7^{\\frac{4}{15}} i \\pi^{\\frac{32}{9}}}{494384765625}) |00000101\\rangle + \\ldots + (\\frac{125}{2048} - \\frac{941192 \\cdot 2^{\\frac{22}{45}} \\cdot 3^{\\frac{14}{15}} \\cdot 5^{\\frac{4}{45}} \\cdot 7^{\\frac{4}{15}} i \\pi^{\\frac{32}{9}}}{494384765625}) |11111011\\rangle+ (\\frac{125}{2048} - \\frac{941192 \\cdot 2^{\\frac{22}{45}} \\cdot 3^{\\frac{14}{15}} \\cdot 5^{\\frac{4}{45}} \\cdot 7^{\\frac{4}{15}} i \\pi^{\\frac{32}{9}}}{494384765625}) |11111100\\rangle+ (\\frac{125}{2048} - \\frac{941192 \\cdot 2^{\\frac{22}{45}} \\cdot 3^{\\frac{14}{15}} \\cdot 5^{\\frac{4}{45}} \\cdot 7^{\\frac{4}{15}} i \\pi^{\\frac{32}{9}}}{494384765625}) |11111101\\rangle+ (\\frac{125}{2048} - \\frac{941192 \\cdot 2^{\\frac{22}{45}} \\cdot 3^{\\frac{14}{15}} \\cdot 5^{\\frac{4}{45}} \\cdot 7^{\\frac{4}{15}} i \\pi^{\\frac{32}{9}}}{494384765625}) |11111110\\rangle+ (\\frac{125}{2048} - \\frac{941192 \\cdot 2^{\\frac{22}{45}} \\cdot 3^{\\frac{14}{15}} \\cdot 5^{\\frac{4}{45}} \\cdot 7^{\\frac{4}{15}} i \\pi^{\\frac{32}{9}}}{494384765625}) |11111111\\rangle$$"
      ],
      "text/plain": [
       "<IPython.core.display.Latex object>"
      ]
     },
     "metadata": {},
     "output_type": "display_data"
    },
    {
     "name": "stdout",
     "output_type": "stream",
     "text": [
      "coherence of |ψ5⟩ =  249.64638145667297\n",
      "-------- 2  ITERATION--------\n"
     ]
    },
    {
     "data": {
      "text/plain": [
       "'applied O operator to |ψ2⟩'"
      ]
     },
     "metadata": {},
     "output_type": "display_data"
    },
    {
     "data": {
      "text/latex": [
       "$$(\\frac{125}{2048} - \\frac{941192 \\cdot 2^{\\frac{22}{45}} \\cdot 3^{\\frac{14}{15}} \\cdot 5^{\\frac{4}{45}} \\cdot 7^{\\frac{4}{15}} i \\pi^{\\frac{32}{9}}}{494384765625}) |00000000\\rangle+ (\\frac{125}{2048} - \\frac{941192 \\cdot 2^{\\frac{22}{45}} \\cdot 3^{\\frac{14}{15}} \\cdot 5^{\\frac{4}{45}} \\cdot 7^{\\frac{4}{15}} i \\pi^{\\frac{32}{9}}}{494384765625}) |00000001\\rangle+ (\\frac{125}{2048} - \\frac{941192 \\cdot 2^{\\frac{22}{45}} \\cdot 3^{\\frac{14}{15}} \\cdot 5^{\\frac{4}{45}} \\cdot 7^{\\frac{4}{15}} i \\pi^{\\frac{32}{9}}}{494384765625}) |00000010\\rangle+ (\\frac{125}{2048} - \\frac{941192 \\cdot 2^{\\frac{22}{45}} \\cdot 3^{\\frac{14}{15}} \\cdot 5^{\\frac{4}{45}} \\cdot 7^{\\frac{4}{15}} i \\pi^{\\frac{32}{9}}}{494384765625}) |00000011\\rangle+ (\\frac{125}{2048} - \\frac{941192 \\cdot 2^{\\frac{22}{45}} \\cdot 3^{\\frac{14}{15}} \\cdot 5^{\\frac{4}{45}} \\cdot 7^{\\frac{4}{15}} i \\pi^{\\frac{32}{9}}}{494384765625}) |00000100\\rangle+ (\\frac{125}{2048} - \\frac{941192 \\cdot 2^{\\frac{22}{45}} \\cdot 3^{\\frac{14}{15}} \\cdot 5^{\\frac{4}{45}} \\cdot 7^{\\frac{4}{15}} i \\pi^{\\frac{32}{9}}}{494384765625}) |00000101\\rangle + \\ldots + (\\frac{125}{2048} - \\frac{941192 \\cdot 2^{\\frac{22}{45}} \\cdot 3^{\\frac{14}{15}} \\cdot 5^{\\frac{4}{45}} \\cdot 7^{\\frac{4}{15}} i \\pi^{\\frac{32}{9}}}{494384765625}) |11111011\\rangle+ (\\frac{125}{2048} - \\frac{941192 \\cdot 2^{\\frac{22}{45}} \\cdot 3^{\\frac{14}{15}} \\cdot 5^{\\frac{4}{45}} \\cdot 7^{\\frac{4}{15}} i \\pi^{\\frac{32}{9}}}{494384765625}) |11111100\\rangle+ (\\frac{125}{2048} - \\frac{941192 \\cdot 2^{\\frac{22}{45}} \\cdot 3^{\\frac{14}{15}} \\cdot 5^{\\frac{4}{45}} \\cdot 7^{\\frac{4}{15}} i \\pi^{\\frac{32}{9}}}{494384765625}) |11111101\\rangle+ (\\frac{125}{2048} - \\frac{941192 \\cdot 2^{\\frac{22}{45}} \\cdot 3^{\\frac{14}{15}} \\cdot 5^{\\frac{4}{45}} \\cdot 7^{\\frac{4}{15}} i \\pi^{\\frac{32}{9}}}{494384765625}) |11111110\\rangle+ (\\frac{125}{2048} - \\frac{941192 \\cdot 2^{\\frac{22}{45}} \\cdot 3^{\\frac{14}{15}} \\cdot 5^{\\frac{4}{45}} \\cdot 7^{\\frac{4}{15}} i \\pi^{\\frac{32}{9}}}{494384765625}) |11111111\\rangle$$"
      ],
      "text/plain": [
       "<IPython.core.display.Latex object>"
      ]
     },
     "metadata": {},
     "output_type": "display_data"
    },
    {
     "name": "stdout",
     "output_type": "stream",
     "text": [
      "coherence of |ψ2⟩ =  249.64638145667297\n"
     ]
    },
    {
     "data": {
      "text/plain": [
       "'applied Hadamard to all |ψ1⟩'"
      ]
     },
     "metadata": {},
     "output_type": "display_data"
    },
    {
     "data": {
      "text/latex": [
       "$$(0.965026855469 - 0.03351196936 i) |00000000\\rangle+ (\\frac{2^{\\frac{211}{428}} \\cdot 3^{\\frac{67}{428}} \\cdot 5^{\\frac{185}{428}} \\cdot 7^{\\frac{149}{428}}}{245 \\pi^{\\frac{317}{428}}} + \\frac{9 \\cdot 2^{\\frac{11}{12}} \\cdot 3^{\\frac{25}{66}} \\cdot 5^{\\frac{17}{33}} \\cdot 7^{\\frac{43}{44}} i \\sqrt[11]{\\pi}}{21952}) |00000011\\rangle+ (- \\frac{2^{\\frac{211}{428}} \\cdot 3^{\\frac{67}{428}} \\cdot 5^{\\frac{185}{428}} \\cdot 7^{\\frac{149}{428}}}{245 \\pi^{\\frac{317}{428}}} - \\frac{9 \\cdot 2^{\\frac{11}{12}} \\cdot 3^{\\frac{25}{66}} \\cdot 5^{\\frac{17}{33}} \\cdot 7^{\\frac{43}{44}} i \\sqrt[11]{\\pi}}{21952}) |00000100\\rangle+ (\\frac{2^{\\frac{211}{428}} \\cdot 3^{\\frac{67}{428}} \\cdot 5^{\\frac{185}{428}} \\cdot 7^{\\frac{149}{428}}}{245 \\pi^{\\frac{317}{428}}} + \\frac{9 \\cdot 2^{\\frac{11}{12}} \\cdot 3^{\\frac{25}{66}} \\cdot 5^{\\frac{17}{33}} \\cdot 7^{\\frac{43}{44}} i \\sqrt[11]{\\pi}}{21952}) |00000111\\rangle+ (- \\frac{2^{\\frac{211}{428}} \\cdot 3^{\\frac{67}{428}} \\cdot 5^{\\frac{185}{428}} \\cdot 7^{\\frac{149}{428}}}{245 \\pi^{\\frac{317}{428}}} - \\frac{9 \\cdot 2^{\\frac{11}{12}} \\cdot 3^{\\frac{25}{66}} \\cdot 5^{\\frac{17}{33}} \\cdot 7^{\\frac{43}{44}} i \\sqrt[11]{\\pi}}{21952}) |00001001\\rangle+ (\\frac{2^{\\frac{211}{428}} \\cdot 3^{\\frac{67}{428}} \\cdot 5^{\\frac{185}{428}} \\cdot 7^{\\frac{149}{428}}}{245 \\pi^{\\frac{317}{428}}} + \\frac{9 \\cdot 2^{\\frac{11}{12}} \\cdot 3^{\\frac{25}{66}} \\cdot 5^{\\frac{17}{33}} \\cdot 7^{\\frac{43}{44}} i \\sqrt[11]{\\pi}}{21952}) |00001010\\rangle + \\ldots + (\\frac{2^{\\frac{211}{428}} \\cdot 3^{\\frac{67}{428}} \\cdot 5^{\\frac{185}{428}} \\cdot 7^{\\frac{149}{428}}}{245 \\pi^{\\frac{317}{428}}} + \\frac{9 \\cdot 2^{\\frac{11}{12}} \\cdot 3^{\\frac{25}{66}} \\cdot 5^{\\frac{17}{33}} \\cdot 7^{\\frac{43}{44}} i \\sqrt[11]{\\pi}}{21952}) |11110111\\rangle+ (- \\frac{2^{\\frac{211}{428}} \\cdot 3^{\\frac{67}{428}} \\cdot 5^{\\frac{185}{428}} \\cdot 7^{\\frac{149}{428}}}{245 \\pi^{\\frac{317}{428}}} - \\frac{9 \\cdot 2^{\\frac{11}{12}} \\cdot 3^{\\frac{25}{66}} \\cdot 5^{\\frac{17}{33}} \\cdot 7^{\\frac{43}{44}} i \\sqrt[11]{\\pi}}{21952}) |11111001\\rangle+ (\\frac{2^{\\frac{211}{428}} \\cdot 3^{\\frac{67}{428}} \\cdot 5^{\\frac{185}{428}} \\cdot 7^{\\frac{149}{428}}}{245 \\pi^{\\frac{317}{428}}} + \\frac{9 \\cdot 2^{\\frac{11}{12}} \\cdot 3^{\\frac{25}{66}} \\cdot 5^{\\frac{17}{33}} \\cdot 7^{\\frac{43}{44}} i \\sqrt[11]{\\pi}}{21952}) |11111010\\rangle+ (- \\frac{2^{\\frac{211}{428}} \\cdot 3^{\\frac{67}{428}} \\cdot 5^{\\frac{185}{428}} \\cdot 7^{\\frac{149}{428}}}{245 \\pi^{\\frac{317}{428}}} - \\frac{9 \\cdot 2^{\\frac{11}{12}} \\cdot 3^{\\frac{25}{66}} \\cdot 5^{\\frac{17}{33}} \\cdot 7^{\\frac{43}{44}} i \\sqrt[11]{\\pi}}{21952}) |11111101\\rangle+ (\\frac{2^{\\frac{211}{428}} \\cdot 3^{\\frac{67}{428}} \\cdot 5^{\\frac{185}{428}} \\cdot 7^{\\frac{149}{428}}}{245 \\pi^{\\frac{317}{428}}} + \\frac{9 \\cdot 2^{\\frac{11}{12}} \\cdot 3^{\\frac{25}{66}} \\cdot 5^{\\frac{17}{33}} \\cdot 7^{\\frac{43}{44}} i \\sqrt[11]{\\pi}}{21952}) |11111110\\rangle$$"
      ],
      "text/plain": [
       "<IPython.core.display.Latex object>"
      ]
     },
     "metadata": {},
     "output_type": "display_data"
    },
    {
     "name": "stdout",
     "output_type": "stream",
     "text": [
      "coherence of |ψ1⟩ =  14.176184499839565\n"
     ]
    },
    {
     "data": {
      "text/plain": [
       "'applied P operator to |ψ4⟩'"
      ]
     },
     "metadata": {},
     "output_type": "display_data"
    },
    {
     "data": {
      "text/latex": [
       "$$(0.965026855469 - 0.03351196936 i) |00000000\\rangle+ (- \\frac{2^{\\frac{211}{428}} \\cdot 3^{\\frac{67}{428}} \\cdot 5^{\\frac{185}{428}} \\cdot 7^{\\frac{149}{428}}}{245 \\pi^{\\frac{317}{428}}} - \\frac{9 \\cdot 2^{\\frac{11}{12}} \\cdot 3^{\\frac{25}{66}} \\cdot 5^{\\frac{17}{33}} \\cdot 7^{\\frac{43}{44}} i \\sqrt[11]{\\pi}}{21952}) |00000011\\rangle+ (\\frac{2^{\\frac{211}{428}} \\cdot 3^{\\frac{67}{428}} \\cdot 5^{\\frac{185}{428}} \\cdot 7^{\\frac{149}{428}}}{245 \\pi^{\\frac{317}{428}}} + \\frac{9 \\cdot 2^{\\frac{11}{12}} \\cdot 3^{\\frac{25}{66}} \\cdot 5^{\\frac{17}{33}} \\cdot 7^{\\frac{43}{44}} i \\sqrt[11]{\\pi}}{21952}) |00000100\\rangle+ (- \\frac{2^{\\frac{211}{428}} \\cdot 3^{\\frac{67}{428}} \\cdot 5^{\\frac{185}{428}} \\cdot 7^{\\frac{149}{428}}}{245 \\pi^{\\frac{317}{428}}} - \\frac{9 \\cdot 2^{\\frac{11}{12}} \\cdot 3^{\\frac{25}{66}} \\cdot 5^{\\frac{17}{33}} \\cdot 7^{\\frac{43}{44}} i \\sqrt[11]{\\pi}}{21952}) |00000111\\rangle+ (\\frac{2^{\\frac{211}{428}} \\cdot 3^{\\frac{67}{428}} \\cdot 5^{\\frac{185}{428}} \\cdot 7^{\\frac{149}{428}}}{245 \\pi^{\\frac{317}{428}}} + \\frac{9 \\cdot 2^{\\frac{11}{12}} \\cdot 3^{\\frac{25}{66}} \\cdot 5^{\\frac{17}{33}} \\cdot 7^{\\frac{43}{44}} i \\sqrt[11]{\\pi}}{21952}) |00001001\\rangle+ (- \\frac{2^{\\frac{211}{428}} \\cdot 3^{\\frac{67}{428}} \\cdot 5^{\\frac{185}{428}} \\cdot 7^{\\frac{149}{428}}}{245 \\pi^{\\frac{317}{428}}} - \\frac{9 \\cdot 2^{\\frac{11}{12}} \\cdot 3^{\\frac{25}{66}} \\cdot 5^{\\frac{17}{33}} \\cdot 7^{\\frac{43}{44}} i \\sqrt[11]{\\pi}}{21952}) |00001010\\rangle + \\ldots + (- \\frac{2^{\\frac{211}{428}} \\cdot 3^{\\frac{67}{428}} \\cdot 5^{\\frac{185}{428}} \\cdot 7^{\\frac{149}{428}}}{245 \\pi^{\\frac{317}{428}}} - \\frac{9 \\cdot 2^{\\frac{11}{12}} \\cdot 3^{\\frac{25}{66}} \\cdot 5^{\\frac{17}{33}} \\cdot 7^{\\frac{43}{44}} i \\sqrt[11]{\\pi}}{21952}) |11110111\\rangle+ (\\frac{2^{\\frac{211}{428}} \\cdot 3^{\\frac{67}{428}} \\cdot 5^{\\frac{185}{428}} \\cdot 7^{\\frac{149}{428}}}{245 \\pi^{\\frac{317}{428}}} + \\frac{9 \\cdot 2^{\\frac{11}{12}} \\cdot 3^{\\frac{25}{66}} \\cdot 5^{\\frac{17}{33}} \\cdot 7^{\\frac{43}{44}} i \\sqrt[11]{\\pi}}{21952}) |11111001\\rangle+ (- \\frac{2^{\\frac{211}{428}} \\cdot 3^{\\frac{67}{428}} \\cdot 5^{\\frac{185}{428}} \\cdot 7^{\\frac{149}{428}}}{245 \\pi^{\\frac{317}{428}}} - \\frac{9 \\cdot 2^{\\frac{11}{12}} \\cdot 3^{\\frac{25}{66}} \\cdot 5^{\\frac{17}{33}} \\cdot 7^{\\frac{43}{44}} i \\sqrt[11]{\\pi}}{21952}) |11111010\\rangle+ (\\frac{2^{\\frac{211}{428}} \\cdot 3^{\\frac{67}{428}} \\cdot 5^{\\frac{185}{428}} \\cdot 7^{\\frac{149}{428}}}{245 \\pi^{\\frac{317}{428}}} + \\frac{9 \\cdot 2^{\\frac{11}{12}} \\cdot 3^{\\frac{25}{66}} \\cdot 5^{\\frac{17}{33}} \\cdot 7^{\\frac{43}{44}} i \\sqrt[11]{\\pi}}{21952}) |11111101\\rangle+ (- \\frac{2^{\\frac{211}{428}} \\cdot 3^{\\frac{67}{428}} \\cdot 5^{\\frac{185}{428}} \\cdot 7^{\\frac{149}{428}}}{245 \\pi^{\\frac{317}{428}}} - \\frac{9 \\cdot 2^{\\frac{11}{12}} \\cdot 3^{\\frac{25}{66}} \\cdot 5^{\\frac{17}{33}} \\cdot 7^{\\frac{43}{44}} i \\sqrt[11]{\\pi}}{21952}) |11111110\\rangle$$"
      ],
      "text/plain": [
       "<IPython.core.display.Latex object>"
      ]
     },
     "metadata": {},
     "output_type": "display_data"
    },
    {
     "name": "stdout",
     "output_type": "stream",
     "text": [
      "coherence of |ψ4⟩ =  14.176184499839565\n"
     ]
    },
    {
     "data": {
      "text/plain": [
       "'applied Hadamard to all |ψ5⟩'"
      ]
     },
     "metadata": {},
     "output_type": "display_data"
    },
    {
     "data": {
      "text/latex": [
       "$$(0.059593200684 - 0.003343268237 i) |00000000\\rangle+ (0.059593200684 - 0.003343268237 i) |00000001\\rangle+ (0.059593200684 - 0.003343268237 i) |00000010\\rangle+ (0.059593200684 - 0.003343268237 i) |00000011\\rangle+ (0.059593200684 - 0.003343268237 i) |00000100\\rangle+ (0.059593200684 - 0.003343268237 i) |00000101\\rangle + \\ldots + (0.059593200684 - 0.003343268237 i) |11111011\\rangle+ (0.059593200684 - 0.003343268237 i) |11111100\\rangle+ (0.059593200684 - 0.003343268237 i) |11111101\\rangle+ (0.059593200684 - 0.003343268237 i) |11111110\\rangle+ (0.059593200684 - 0.003343268237 i) |11111111\\rangle$$"
      ],
      "text/plain": [
       "<IPython.core.display.Latex object>"
      ]
     },
     "metadata": {},
     "output_type": "display_data"
    },
    {
     "name": "stdout",
     "output_type": "stream",
     "text": [
      "coherence of |ψ5⟩ =  242.25503963040654\n",
      "-------- 3  ITERATION--------\n"
     ]
    },
    {
     "data": {
      "text/plain": [
       "'applied O operator to |ψ2⟩'"
      ]
     },
     "metadata": {},
     "output_type": "display_data"
    },
    {
     "data": {
      "text/latex": [
       "$$(0.059593200684 - 0.003343268237 i) |00000000\\rangle+ (0.059593200684 - 0.003343268237 i) |00000001\\rangle+ (0.059593200684 - 0.003343268237 i) |00000010\\rangle+ (0.059593200684 - 0.003343268237 i) |00000011\\rangle+ (0.059593200684 - 0.003343268237 i) |00000100\\rangle+ (0.059593200684 - 0.003343268237 i) |00000101\\rangle + \\ldots + (0.059593200684 - 0.003343268237 i) |11111011\\rangle+ (0.059593200684 - 0.003343268237 i) |11111100\\rangle+ (0.059593200684 - 0.003343268237 i) |11111101\\rangle+ (0.059593200684 - 0.003343268237 i) |11111110\\rangle+ (0.059593200684 - 0.003343268237 i) |11111111\\rangle$$"
      ],
      "text/plain": [
       "<IPython.core.display.Latex object>"
      ]
     },
     "metadata": {},
     "output_type": "display_data"
    },
    {
     "name": "stdout",
     "output_type": "stream",
     "text": [
      "coherence of |ψ2⟩ =  242.25503963040654\n"
     ]
    },
    {
     "data": {
      "text/plain": [
       "'applied Hadamard to all |ψ1⟩'"
      ]
     },
     "metadata": {},
     "output_type": "display_data"
    },
    {
     "data": {
      "text/latex": [
       "$$(0.953491210938 - 0.079296904629 i) |00000000\\rangle+0.025804612842 i |00000011\\rangle- 0.025804612842 i |00000100\\rangle+0.025804612842 i |00000111\\rangle- 0.025804612842 i |00001001\\rangle+0.025804612842 i |00001010\\rangle + \\ldots +0.025804612842 i |11110111\\rangle- 0.025804612842 i |11111001\\rangle+0.025804612842 i |11111010\\rangle- 0.025804612842 i |11111101\\rangle+0.025804612842 i |11111110\\rangle$$"
      ],
      "text/plain": [
       "<IPython.core.display.Latex object>"
      ]
     },
     "metadata": {},
     "output_type": "display_data"
    },
    {
     "name": "stdout",
     "output_type": "stream",
     "text": [
      "coherence of |ψ1⟩ =  16.92649108524676\n"
     ]
    },
    {
     "data": {
      "text/plain": [
       "'applied P operator to |ψ4⟩'"
      ]
     },
     "metadata": {},
     "output_type": "display_data"
    },
    {
     "data": {
      "text/latex": [
       "$$(0.953491210938 - 0.079296904629 i) |00000000\\rangle- 0.025804612842 i |00000011\\rangle+0.025804612842 i |00000100\\rangle- 0.025804612842 i |00000111\\rangle+0.025804612842 i |00001001\\rangle- 0.025804612842 i |00001010\\rangle + \\ldots - 0.025804612842 i |11110111\\rangle+0.025804612842 i |11111001\\rangle- 0.025804612842 i |11111010\\rangle+0.025804612842 i |11111101\\rangle- 0.025804612842 i |11111110\\rangle$$"
      ],
      "text/plain": [
       "<IPython.core.display.Latex object>"
      ]
     },
     "metadata": {},
     "output_type": "display_data"
    },
    {
     "name": "stdout",
     "output_type": "stream",
     "text": [
      "coherence of |ψ4⟩ =  16.92649108524676\n"
     ]
    },
    {
     "data": {
      "text/plain": [
       "'applied Hadamard to all |ψ5⟩'"
      ]
     },
     "metadata": {},
     "output_type": "display_data"
    },
    {
     "data": {
      "text/latex": [
       "$$(0.059593200684 - 0.006568844842 i) |00000000\\rangle+ (0.059593200684 - 0.006568844842 i) |00000001\\rangle+ (0.059593200684 - 0.006568844842 i) |00000010\\rangle+ (0.059593200684 - 0.006568844842 i) |00000011\\rangle+ (0.059593200684 - 0.006568844842 i) |00000100\\rangle+ (0.059593200684 - 0.006568844842 i) |00000101\\rangle + \\ldots + (0.059593200684 - 0.006568844842 i) |11111011\\rangle+ (0.059593200684 - 0.006568844842 i) |11111100\\rangle+ (0.059593200684 - 0.006568844842 i) |11111101\\rangle+ (0.059593200684 - 0.006568844842 i) |11111110\\rangle+ (0.059593200684 - 0.006568844842 i) |11111111\\rangle$$"
      ],
      "text/plain": [
       "<IPython.core.display.Latex object>"
      ]
     },
     "metadata": {},
     "output_type": "display_data"
    },
    {
     "name": "stdout",
     "output_type": "stream",
     "text": [
      "coherence of |ψ5⟩ =  243.78100351787572\n",
      "-------- 4  ITERATION--------\n"
     ]
    },
    {
     "data": {
      "text/plain": [
       "'applied O operator to |ψ2⟩'"
      ]
     },
     "metadata": {},
     "output_type": "display_data"
    },
    {
     "data": {
      "text/latex": [
       "$$(0.059593200684 - 0.006568844842 i) |00000000\\rangle+ (0.059593200684 - 0.006568844842 i) |00000001\\rangle+ (0.059593200684 - 0.006568844842 i) |00000010\\rangle+ (0.059593200684 - 0.006568844842 i) |00000011\\rangle+ (0.059593200684 - 0.006568844842 i) |00000100\\rangle+ (0.059593200684 - 0.006568844842 i) |00000101\\rangle + \\ldots + (0.059593200684 - 0.006568844842 i) |11111011\\rangle+ (0.059593200684 - 0.006568844842 i) |11111100\\rangle+ (0.059593200684 - 0.006568844842 i) |11111101\\rangle+ (0.059593200684 - 0.006568844842 i) |11111110\\rangle+ (0.059593200684 - 0.006568844842 i) |11111111\\rangle$$"
      ],
      "text/plain": [
       "<IPython.core.display.Latex object>"
      ]
     },
     "metadata": {},
     "output_type": "display_data"
    },
    {
     "name": "stdout",
     "output_type": "stream",
     "text": [
      "coherence of |ψ2⟩ =  243.78100351787572\n"
     ]
    },
    {
     "data": {
      "text/plain": [
       "'applied Hadamard to all |ψ1⟩'"
      ]
     },
     "metadata": {},
     "output_type": "display_data"
    },
    {
     "data": {
      "text/latex": [
       "$$(0.963953837752 - 0.123223318695 i) |00000000\\rangle+ (-0.010462626815 + 0.018121801224 i) |00000011\\rangle+ (0.010462626815 - 0.018121801224 i) |00000100\\rangle+ (-0.010462626815 + 0.018121801224 i) |00000111\\rangle+ (0.010462626815 - 0.018121801224 i) |00001001\\rangle+ (-0.010462626815 + 0.018121801224 i) |00001010\\rangle + \\ldots + (-0.010462626815 + 0.018121801224 i) |11110111\\rangle+ (0.010462626815 - 0.018121801224 i) |11111001\\rangle+ (-0.010462626815 + 0.018121801224 i) |11111010\\rangle+ (0.010462626815 - 0.018121801224 i) |11111101\\rangle+ (-0.010462626815 + 0.018121801224 i) |11111110\\rangle$$"
      ],
      "text/plain": [
       "<IPython.core.display.Latex object>"
      ]
     },
     "metadata": {},
     "output_type": "display_data"
    },
    {
     "name": "stdout",
     "output_type": "stream",
     "text": [
      "coherence of |ψ1⟩ =  12.17185495043226\n"
     ]
    },
    {
     "data": {
      "text/plain": [
       "'applied P operator to |ψ4⟩'"
      ]
     },
     "metadata": {},
     "output_type": "display_data"
    },
    {
     "data": {
      "text/latex": [
       "$$(0.963953837752 - 0.123223318695 i) |00000000\\rangle+ (0.010462626815 - 0.018121801224 i) |00000011\\rangle+ (-0.010462626815 + 0.018121801224 i) |00000100\\rangle+ (0.010462626815 - 0.018121801224 i) |00000111\\rangle+ (-0.010462626815 + 0.018121801224 i) |00001001\\rangle+ (0.010462626815 - 0.018121801224 i) |00001010\\rangle + \\ldots + (0.010462626815 - 0.018121801224 i) |11110111\\rangle+ (-0.010462626815 + 0.018121801224 i) |11111001\\rangle+ (0.010462626815 - 0.018121801224 i) |11111010\\rangle+ (-0.010462626815 + 0.018121801224 i) |11111101\\rangle+ (0.010462626815 - 0.018121801224 i) |11111110\\rangle$$"
      ],
      "text/plain": [
       "<IPython.core.display.Latex object>"
      ]
     },
     "metadata": {},
     "output_type": "display_data"
    },
    {
     "name": "stdout",
     "output_type": "stream",
     "text": [
      "coherence of |ψ4⟩ =  12.17185495043226\n"
     ]
    },
    {
     "data": {
      "text/plain": [
       "'applied Hadamard to all |ψ5⟩'"
      ]
     },
     "metadata": {},
     "output_type": "display_data"
    },
    {
     "data": {
      "text/latex": [
       "$$(0.060901029035 - 0.008834069995 i) |00000000\\rangle+ (0.060901029035 - 0.008834069995 i) |00000001\\rangle+ (0.060901029035 - 0.008834069995 i) |00000010\\rangle+ (0.060901029035 - 0.008834069995 i) |00000011\\rangle+ (0.060901029035 - 0.008834069995 i) |00000100\\rangle+ (0.060901029035 - 0.008834069995 i) |00000101\\rangle + \\ldots + (0.060901029035 - 0.008834069995 i) |11111011\\rangle+ (0.060901029035 - 0.008834069995 i) |11111100\\rangle+ (0.060901029035 - 0.008834069995 i) |11111101\\rangle+ (0.060901029035 - 0.008834069995 i) |11111110\\rangle+ (0.060901029035 - 0.008834069995 i) |11111111\\rangle$$"
      ],
      "text/plain": [
       "<IPython.core.display.Latex object>"
      ]
     },
     "metadata": {},
     "output_type": "display_data"
    },
    {
     "name": "stdout",
     "output_type": "stream",
     "text": [
      "coherence of |ψ5⟩ =  252.02721794461772\n",
      "-------- 5  ITERATION--------\n"
     ]
    },
    {
     "data": {
      "text/plain": [
       "'applied O operator to |ψ2⟩'"
      ]
     },
     "metadata": {},
     "output_type": "display_data"
    },
    {
     "data": {
      "text/latex": [
       "$$(0.060901029035 - 0.008834069995 i) |00000000\\rangle+ (0.060901029035 - 0.008834069995 i) |00000001\\rangle+ (0.060901029035 - 0.008834069995 i) |00000010\\rangle+ (0.060901029035 - 0.008834069995 i) |00000011\\rangle+ (0.060901029035 - 0.008834069995 i) |00000100\\rangle+ (0.060901029035 - 0.008834069995 i) |00000101\\rangle + \\ldots + (0.060901029035 - 0.008834069995 i) |11111011\\rangle+ (0.060901029035 - 0.008834069995 i) |11111100\\rangle+ (0.060901029035 - 0.008834069995 i) |11111101\\rangle+ (0.060901029035 - 0.008834069995 i) |11111110\\rangle+ (0.060901029035 - 0.008834069995 i) |11111111\\rangle$$"
      ],
      "text/plain": [
       "<IPython.core.display.Latex object>"
      ]
     },
     "metadata": {},
     "output_type": "display_data"
    },
    {
     "name": "stdout",
     "output_type": "stream",
     "text": [
      "coherence of |ψ2⟩ =  252.02721794461772\n"
     ]
    },
    {
     "data": {
      "text/plain": [
       "'applied Hadamard to all |ψ1⟩'"
      ]
     },
     "metadata": {},
     "output_type": "display_data"
    },
    {
     "data": {
      "text/latex": [
       "$$(0.982966459123 - 0.146281461578 i) |00000000\\rangle+ (-0.008549994556 + 0.004936341659 i) |00000011\\rangle+ (0.008549994556 - 0.004936341659 i) |00000100\\rangle+ (-0.008549994556 + 0.004936341659 i) |00000111\\rangle+ (0.008549994556 - 0.004936341659 i) |00001001\\rangle+ (-0.008549994556 + 0.004936341659 i) |00001010\\rangle + \\ldots + (-0.008549994556 + 0.004936341659 i) |11110111\\rangle+ (0.008549994556 - 0.004936341659 i) |11111001\\rangle+ (-0.008549994556 + 0.004936341659 i) |11111010\\rangle+ (0.008549994556 - 0.004936341659 i) |11111101\\rangle+ (-0.008549994556 + 0.004936341659 i) |11111110\\rangle$$"
      ],
      "text/plain": [
       "<IPython.core.display.Latex object>"
      ]
     },
     "metadata": {},
     "output_type": "display_data"
    },
    {
     "name": "stdout",
     "output_type": "stream",
     "text": [
      "coherence of |ψ1⟩ =  4.051805422428766\n"
     ]
    },
    {
     "data": {
      "text/plain": [
       "'applied P operator to |ψ4⟩'"
      ]
     },
     "metadata": {},
     "output_type": "display_data"
    },
    {
     "data": {
      "text/latex": [
       "$$(0.982966459123 - 0.146281461578 i) |00000000\\rangle+ (0.008549994556 - 0.004936341659 i) |00000011\\rangle+ (-0.008549994556 + 0.004936341659 i) |00000100\\rangle+ (0.008549994556 - 0.004936341659 i) |00000111\\rangle+ (-0.008549994556 + 0.004936341659 i) |00001001\\rangle+ (0.008549994556 - 0.004936341659 i) |00001010\\rangle + \\ldots + (0.008549994556 - 0.004936341659 i) |11110111\\rangle+ (-0.008549994556 + 0.004936341659 i) |11111001\\rangle+ (0.008549994556 - 0.004936341659 i) |11111010\\rangle+ (-0.008549994556 + 0.004936341659 i) |11111101\\rangle+ (0.008549994556 - 0.004936341659 i) |11111110\\rangle$$"
      ],
      "text/plain": [
       "<IPython.core.display.Latex object>"
      ]
     },
     "metadata": {},
     "output_type": "display_data"
    },
    {
     "name": "stdout",
     "output_type": "stream",
     "text": [
      "coherence of |ψ4⟩ =  4.051805422428766\n"
     ]
    },
    {
     "data": {
      "text/plain": [
       "'applied Hadamard to all |ψ5⟩'"
      ]
     },
     "metadata": {},
     "output_type": "display_data"
    },
    {
     "data": {
      "text/latex": [
       "$$(0.061969778355 - 0.009451112702 i) |00000000\\rangle+ (0.061969778355 - 0.009451112702 i) |00000001\\rangle+ (0.061969778355 - 0.009451112702 i) |00000010\\rangle+ (0.061969778355 - 0.009451112702 i) |00000011\\rangle+ (0.061969778355 - 0.009451112702 i) |00000100\\rangle+ (0.061969778355 - 0.009451112702 i) |00000101\\rangle + \\ldots + (0.061969778355 - 0.009451112702 i) |11111011\\rangle+ (0.061969778355 - 0.009451112702 i) |11111100\\rangle+ (0.061969778355 - 0.009451112702 i) |11111101\\rangle+ (0.061969778355 - 0.009451112702 i) |11111110\\rangle+ (0.061969778355 - 0.009451112702 i) |11111111\\rangle$$"
      ],
      "text/plain": [
       "<IPython.core.display.Latex object>"
      ]
     },
     "metadata": {},
     "output_type": "display_data"
    },
    {
     "name": "stdout",
     "output_type": "stream",
     "text": [
      "coherence of |ψ5⟩ =  254.4809058603511\n",
      "-------- 6  ITERATION--------\n"
     ]
    },
    {
     "data": {
      "text/plain": [
       "'applied O operator to |ψ2⟩'"
      ]
     },
     "metadata": {},
     "output_type": "display_data"
    },
    {
     "data": {
      "text/latex": [
       "$$(0.061969778355 - 0.009451112702 i) |00000000\\rangle+ (0.061969778355 - 0.009451112702 i) |00000001\\rangle+ (0.061969778355 - 0.009451112702 i) |00000010\\rangle+ (0.061969778355 - 0.009451112702 i) |00000011\\rangle+ (0.061969778355 - 0.009451112702 i) |00000100\\rangle+ (0.061969778355 - 0.009451112702 i) |00000101\\rangle + \\ldots + (0.061969778355 - 0.009451112702 i) |11111011\\rangle+ (0.061969778355 - 0.009451112702 i) |11111100\\rangle+ (0.061969778355 - 0.009451112702 i) |11111101\\rangle+ (0.061969778355 - 0.009451112702 i) |11111110\\rangle+ (0.061969778355 - 0.009451112702 i) |11111111\\rangle$$"
      ],
      "text/plain": [
       "<IPython.core.display.Latex object>"
      ]
     },
     "metadata": {},
     "output_type": "display_data"
    },
    {
     "name": "stdout",
     "output_type": "stream",
     "text": [
      "coherence of |ψ2⟩ =  254.4809058603511\n"
     ]
    },
    {
     "data": {
      "text/plain": [
       "'applied Hadamard to all |ψ1⟩'"
      ]
     },
     "metadata": {},
     "output_type": "display_data"
    },
    {
     "data": {
      "text/latex": [
       "$$(0.987424001833 - 0.151217803236 i) |00000000\\rangle+\\frac{9 \\cdot 2^{\\frac{13}{108}} \\cdot 3^{\\frac{37}{54}} \\cdot 5^{\\frac{17}{54}} \\cdot 7^{\\frac{20}{27}}}{17500 \\pi^{\\frac{67}{108}}} |00000011\\rangle- \\frac{9 \\cdot 2^{\\frac{13}{108}} \\cdot 3^{\\frac{37}{54}} \\cdot 5^{\\frac{17}{54}} \\cdot 7^{\\frac{20}{27}}}{17500 \\pi^{\\frac{67}{108}}} |00000100\\rangle+\\frac{9 \\cdot 2^{\\frac{13}{108}} \\cdot 3^{\\frac{37}{54}} \\cdot 5^{\\frac{17}{54}} \\cdot 7^{\\frac{20}{27}}}{17500 \\pi^{\\frac{67}{108}}} |00000111\\rangle- \\frac{9 \\cdot 2^{\\frac{13}{108}} \\cdot 3^{\\frac{37}{54}} \\cdot 5^{\\frac{17}{54}} \\cdot 7^{\\frac{20}{27}}}{17500 \\pi^{\\frac{67}{108}}} |00001001\\rangle+\\frac{9 \\cdot 2^{\\frac{13}{108}} \\cdot 3^{\\frac{37}{54}} \\cdot 5^{\\frac{17}{54}} \\cdot 7^{\\frac{20}{27}}}{17500 \\pi^{\\frac{67}{108}}} |00001010\\rangle + \\ldots +\\frac{9 \\cdot 2^{\\frac{13}{108}} \\cdot 3^{\\frac{37}{54}} \\cdot 5^{\\frac{17}{54}} \\cdot 7^{\\frac{20}{27}}}{17500 \\pi^{\\frac{67}{108}}} |11110111\\rangle- \\frac{9 \\cdot 2^{\\frac{13}{108}} \\cdot 3^{\\frac{37}{54}} \\cdot 5^{\\frac{17}{54}} \\cdot 7^{\\frac{20}{27}}}{17500 \\pi^{\\frac{67}{108}}} |11111001\\rangle+\\frac{9 \\cdot 2^{\\frac{13}{108}} \\cdot 3^{\\frac{37}{54}} \\cdot 5^{\\frac{17}{54}} \\cdot 7^{\\frac{20}{27}}}{17500 \\pi^{\\frac{67}{108}}} |11111010\\rangle- \\frac{9 \\cdot 2^{\\frac{13}{108}} \\cdot 3^{\\frac{37}{54}} \\cdot 5^{\\frac{17}{54}} \\cdot 7^{\\frac{20}{27}}}{17500 \\pi^{\\frac{67}{108}}} |11111101\\rangle+\\frac{9 \\cdot 2^{\\frac{13}{108}} \\cdot 3^{\\frac{37}{54}} \\cdot 5^{\\frac{17}{54}} \\cdot 7^{\\frac{20}{27}}}{17500 \\pi^{\\frac{67}{108}}} |11111110\\rangle$$"
      ],
      "text/plain": [
       "<IPython.core.display.Latex object>"
      ]
     },
     "metadata": {},
     "output_type": "display_data"
    },
    {
     "name": "stdout",
     "output_type": "stream",
     "text": [
      "coherence of |ψ1⟩ =  1.3063807723949874\n"
     ]
    },
    {
     "data": {
      "text/plain": [
       "'applied P operator to |ψ4⟩'"
      ]
     },
     "metadata": {},
     "output_type": "display_data"
    },
    {
     "data": {
      "text/latex": [
       "$$(0.987424001833 - 0.151217803236 i) |00000000\\rangle- \\frac{9 \\cdot 2^{\\frac{13}{108}} \\cdot 3^{\\frac{37}{54}} \\cdot 5^{\\frac{17}{54}} \\cdot 7^{\\frac{20}{27}}}{17500 \\pi^{\\frac{67}{108}}} |00000011\\rangle+\\frac{9 \\cdot 2^{\\frac{13}{108}} \\cdot 3^{\\frac{37}{54}} \\cdot 5^{\\frac{17}{54}} \\cdot 7^{\\frac{20}{27}}}{17500 \\pi^{\\frac{67}{108}}} |00000100\\rangle- \\frac{9 \\cdot 2^{\\frac{13}{108}} \\cdot 3^{\\frac{37}{54}} \\cdot 5^{\\frac{17}{54}} \\cdot 7^{\\frac{20}{27}}}{17500 \\pi^{\\frac{67}{108}}} |00000111\\rangle+\\frac{9 \\cdot 2^{\\frac{13}{108}} \\cdot 3^{\\frac{37}{54}} \\cdot 5^{\\frac{17}{54}} \\cdot 7^{\\frac{20}{27}}}{17500 \\pi^{\\frac{67}{108}}} |00001001\\rangle- \\frac{9 \\cdot 2^{\\frac{13}{108}} \\cdot 3^{\\frac{37}{54}} \\cdot 5^{\\frac{17}{54}} \\cdot 7^{\\frac{20}{27}}}{17500 \\pi^{\\frac{67}{108}}} |00001010\\rangle + \\ldots - \\frac{9 \\cdot 2^{\\frac{13}{108}} \\cdot 3^{\\frac{37}{54}} \\cdot 5^{\\frac{17}{54}} \\cdot 7^{\\frac{20}{27}}}{17500 \\pi^{\\frac{67}{108}}} |11110111\\rangle+\\frac{9 \\cdot 2^{\\frac{13}{108}} \\cdot 3^{\\frac{37}{54}} \\cdot 5^{\\frac{17}{54}} \\cdot 7^{\\frac{20}{27}}}{17500 \\pi^{\\frac{67}{108}}} |11111001\\rangle- \\frac{9 \\cdot 2^{\\frac{13}{108}} \\cdot 3^{\\frac{37}{54}} \\cdot 5^{\\frac{17}{54}} \\cdot 7^{\\frac{20}{27}}}{17500 \\pi^{\\frac{67}{108}}} |11111010\\rangle+\\frac{9 \\cdot 2^{\\frac{13}{108}} \\cdot 3^{\\frac{37}{54}} \\cdot 5^{\\frac{17}{54}} \\cdot 7^{\\frac{20}{27}}}{17500 \\pi^{\\frac{67}{108}}} |11111101\\rangle- \\frac{9 \\cdot 2^{\\frac{13}{108}} \\cdot 3^{\\frac{37}{54}} \\cdot 5^{\\frac{17}{54}} \\cdot 7^{\\frac{20}{27}}}{17500 \\pi^{\\frac{67}{108}}} |11111110\\rangle$$"
      ],
      "text/plain": [
       "<IPython.core.display.Latex object>"
      ]
     },
     "metadata": {},
     "output_type": "display_data"
    },
    {
     "name": "stdout",
     "output_type": "stream",
     "text": [
      "coherence of |ψ4⟩ =  1.3063807723949874\n"
     ]
    },
    {
     "data": {
      "text/plain": [
       "'applied Hadamard to all |ψ5⟩'"
      ]
     },
     "metadata": {},
     "output_type": "display_data"
    },
    {
     "data": {
      "text/latex": [
       "$$(0.061458221874 - 0.009451112702 i) |00000000\\rangle+ (0.061458221874 - 0.009451112702 i) |00000001\\rangle+ (0.061458221874 - 0.009451112702 i) |00000010\\rangle+ (0.061458221874 - 0.009451112702 i) |00000011\\rangle+ (0.061458221874 - 0.009451112702 i) |00000100\\rangle+ (0.061458221874 - 0.009451112702 i) |00000101\\rangle + \\ldots + (0.061458221874 - 0.009451112702 i) |11111011\\rangle+ (0.061458221874 - 0.009451112702 i) |11111100\\rangle+ (0.061458221874 - 0.009451112702 i) |11111101\\rangle+ (0.061458221874 - 0.009451112702 i) |11111110\\rangle+ (0.061458221874 - 0.009451112702 i) |11111111\\rangle$$"
      ],
      "text/plain": [
       "<IPython.core.display.Latex object>"
      ]
     },
     "metadata": {},
     "output_type": "display_data"
    },
    {
     "name": "stdout",
     "output_type": "stream",
     "text": [
      "coherence of |ψ5⟩ =  254.463751851934\n",
      "-------- 7  ITERATION--------\n"
     ]
    },
    {
     "data": {
      "text/plain": [
       "'applied O operator to |ψ2⟩'"
      ]
     },
     "metadata": {},
     "output_type": "display_data"
    },
    {
     "data": {
      "text/latex": [
       "$$(0.061458221874 - 0.009451112702 i) |00000000\\rangle+ (0.061458221874 - 0.009451112702 i) |00000001\\rangle+ (0.061458221874 - 0.009451112702 i) |00000010\\rangle+ (0.061458221874 - 0.009451112702 i) |00000011\\rangle+ (0.061458221874 - 0.009451112702 i) |00000100\\rangle+ (0.061458221874 - 0.009451112702 i) |00000101\\rangle + \\ldots + (0.061458221874 - 0.009451112702 i) |11111011\\rangle+ (0.061458221874 - 0.009451112702 i) |11111100\\rangle+ (0.061458221874 - 0.009451112702 i) |11111101\\rangle+ (0.061458221874 - 0.009451112702 i) |11111110\\rangle+ (0.061458221874 - 0.009451112702 i) |11111111\\rangle$$"
      ],
      "text/plain": [
       "<IPython.core.display.Latex object>"
      ]
     },
     "metadata": {},
     "output_type": "display_data"
    },
    {
     "name": "stdout",
     "output_type": "stream",
     "text": [
      "coherence of |ψ2⟩ =  254.463751851934\n"
     ]
    },
    {
     "data": {
      "text/plain": [
       "'applied Hadamard to all |ψ1⟩'"
      ]
     },
     "metadata": {},
     "output_type": "display_data"
    },
    {
     "data": {
      "text/latex": [
       "$$(0.968738794499 - 0.159642934545 i) |00000000\\rangle+ (0.014592755487 + 0.008425131308 i) |00000011\\rangle+ (-0.014592755487 - 0.008425131308 i) |00000100\\rangle+ (0.014592755487 + 0.008425131308 i) |00000111\\rangle+ (-0.014592755487 - 0.008425131308 i) |00001001\\rangle+ (0.014592755487 + 0.008425131308 i) |00001010\\rangle + \\ldots + (0.014592755487 + 0.008425131308 i) |11110111\\rangle+ (-0.014592755487 - 0.008425131308 i) |11111001\\rangle+ (0.014592755487 + 0.008425131308 i) |11111010\\rangle+ (-0.014592755487 - 0.008425131308 i) |11111101\\rangle+ (0.014592755487 + 0.008425131308 i) |11111110\\rangle$$"
      ],
      "text/plain": [
       "<IPython.core.display.Latex object>"
      ]
     },
     "metadata": {},
     "output_type": "display_data"
    },
    {
     "name": "stdout",
     "output_type": "stream",
     "text": [
      "coherence of |ψ1⟩ =  8.745561437373494\n"
     ]
    },
    {
     "data": {
      "text/plain": [
       "'applied P operator to |ψ4⟩'"
      ]
     },
     "metadata": {},
     "output_type": "display_data"
    },
    {
     "data": {
      "text/latex": [
       "$$(0.968738794499 - 0.159642934545 i) |00000000\\rangle+ (-0.014592755487 - 0.008425131308 i) |00000011\\rangle+ (0.014592755487 + 0.008425131308 i) |00000100\\rangle+ (-0.014592755487 - 0.008425131308 i) |00000111\\rangle+ (0.014592755487 + 0.008425131308 i) |00001001\\rangle+ (-0.014592755487 - 0.008425131308 i) |00001010\\rangle + \\ldots + (-0.014592755487 - 0.008425131308 i) |11110111\\rangle+ (0.014592755487 + 0.008425131308 i) |11111001\\rangle+ (-0.014592755487 - 0.008425131308 i) |11111010\\rangle+ (0.014592755487 + 0.008425131308 i) |11111101\\rangle+ (-0.014592755487 - 0.008425131308 i) |11111110\\rangle$$"
      ],
      "text/plain": [
       "<IPython.core.display.Latex object>"
      ]
     },
     "metadata": {},
     "output_type": "display_data"
    },
    {
     "name": "stdout",
     "output_type": "stream",
     "text": [
      "coherence of |ψ4⟩ =  8.745561437373494\n"
     ]
    },
    {
     "data": {
      "text/plain": [
       "'applied Hadamard to all |ψ5⟩'"
      ]
     },
     "metadata": {},
     "output_type": "display_data"
    },
    {
     "data": {
      "text/latex": [
       "$$(0.059634127438 - 0.010504254116 i) |00000000\\rangle+ (0.059634127438 - 0.010504254116 i) |00000001\\rangle+ (0.059634127438 - 0.010504254116 i) |00000010\\rangle+ (0.059634127438 - 0.010504254116 i) |00000011\\rangle+ (0.059634127438 - 0.010504254116 i) |00000100\\rangle+ (0.059634127438 - 0.010504254116 i) |00000101\\rangle + \\ldots + (0.059634127438 - 0.010504254116 i) |11111011\\rangle+ (0.059634127438 - 0.010504254116 i) |11111100\\rangle+ (0.059634127438 - 0.010504254116 i) |11111101\\rangle+ (0.059634127438 - 0.010504254116 i) |11111110\\rangle+ (0.059634127438 - 0.010504254116 i) |11111111\\rangle$$"
      ],
      "text/plain": [
       "<IPython.core.display.Latex object>"
      ]
     },
     "metadata": {},
     "output_type": "display_data"
    },
    {
     "name": "stdout",
     "output_type": "stream",
     "text": [
      "coherence of |ψ5⟩ =  247.09117601514893\n",
      "-------- 8  ITERATION--------\n"
     ]
    },
    {
     "data": {
      "text/plain": [
       "'applied O operator to |ψ2⟩'"
      ]
     },
     "metadata": {},
     "output_type": "display_data"
    },
    {
     "data": {
      "text/latex": [
       "$$(0.059634127438 - 0.010504254116 i) |00000000\\rangle+ (0.059634127438 - 0.010504254116 i) |00000001\\rangle+ (0.059634127438 - 0.010504254116 i) |00000010\\rangle+ (0.059634127438 - 0.010504254116 i) |00000011\\rangle+ (0.059634127438 - 0.010504254116 i) |00000100\\rangle+ (0.059634127438 - 0.010504254116 i) |00000101\\rangle + \\ldots + (0.059634127438 - 0.010504254116 i) |11111011\\rangle+ (0.059634127438 - 0.010504254116 i) |11111100\\rangle+ (0.059634127438 - 0.010504254116 i) |11111101\\rangle+ (0.059634127438 - 0.010504254116 i) |11111110\\rangle+ (0.059634127438 - 0.010504254116 i) |11111111\\rangle$$"
      ],
      "text/plain": [
       "<IPython.core.display.Latex object>"
      ]
     },
     "metadata": {},
     "output_type": "display_data"
    },
    {
     "name": "stdout",
     "output_type": "stream",
     "text": [
      "coherence of |ψ2⟩ =  247.09117601514893\n"
     ]
    },
    {
     "data": {
      "text/plain": [
       "'applied Hadamard to all |ψ1⟩'"
      ]
     },
     "metadata": {},
     "output_type": "display_data"
    },
    {
     "data": {
      "text/latex": [
       "$$(0.941827521253 - 0.189404364485 i) |00000000\\rangle+ (0.012318517759 + 0.021336298632 i) |00000011\\rangle+ (-0.012318517759 - 0.021336298632 i) |00000100\\rangle+ (0.012318517759 + 0.021336298632 i) |00000111\\rangle+ (-0.012318517759 - 0.021336298632 i) |00001001\\rangle+ (0.012318517759 + 0.021336298632 i) |00001010\\rangle + \\ldots + (0.012318517759 + 0.021336298632 i) |11110111\\rangle+ (-0.012318517759 - 0.021336298632 i) |11111001\\rangle+ (0.012318517759 + 0.021336298632 i) |11111010\\rangle+ (-0.012318517759 - 0.021336298632 i) |11111101\\rangle+ (0.012318517759 + 0.021336298632 i) |11111110\\rangle$$"
      ],
      "text/plain": [
       "<IPython.core.display.Latex object>"
      ]
     },
     "metadata": {},
     "output_type": "display_data"
    },
    {
     "name": "stdout",
     "output_type": "stream",
     "text": [
      "coherence of |ψ1⟩ =  15.724723220358182\n"
     ]
    },
    {
     "data": {
      "text/plain": [
       "'applied P operator to |ψ4⟩'"
      ]
     },
     "metadata": {},
     "output_type": "display_data"
    },
    {
     "data": {
      "text/latex": [
       "$$(0.941827521253 - 0.189404364485 i) |00000000\\rangle+ (-0.012318517759 - 0.021336298632 i) |00000011\\rangle+ (0.012318517759 + 0.021336298632 i) |00000100\\rangle+ (-0.012318517759 - 0.021336298632 i) |00000111\\rangle+ (0.012318517759 + 0.021336298632 i) |00001001\\rangle+ (-0.012318517759 - 0.021336298632 i) |00001010\\rangle + \\ldots + (-0.012318517759 - 0.021336298632 i) |11110111\\rangle+ (0.012318517759 + 0.021336298632 i) |11111001\\rangle+ (-0.012318517759 - 0.021336298632 i) |11111010\\rangle+ (0.012318517759 + 0.021336298632 i) |11111101\\rangle+ (-0.012318517759 - 0.021336298632 i) |11111110\\rangle$$"
      ],
      "text/plain": [
       "<IPython.core.display.Latex object>"
      ]
     },
     "metadata": {},
     "output_type": "display_data"
    },
    {
     "name": "stdout",
     "output_type": "stream",
     "text": [
      "coherence of |ψ4⟩ =  15.724723220358182\n"
     ]
    },
    {
     "data": {
      "text/plain": [
       "'applied Hadamard to all |ψ5⟩'"
      ]
     },
     "metadata": {},
     "output_type": "display_data"
    },
    {
     "data": {
      "text/latex": [
       "$$(0.058094312718 - 0.013171291445 i) |00000000\\rangle+ (0.058094312718 - 0.013171291445 i) |00000001\\rangle+ (0.058094312718 - 0.013171291445 i) |00000010\\rangle+ (0.058094312718 - 0.013171291445 i) |00000011\\rangle+ (0.058094312718 - 0.013171291445 i) |00000100\\rangle+ (0.058094312718 - 0.013171291445 i) |00000101\\rangle + \\ldots + (0.058094312718 - 0.013171291445 i) |11111011\\rangle+ (0.058094312718 - 0.013171291445 i) |11111100\\rangle+ (0.058094312718 - 0.013171291445 i) |11111101\\rangle+ (0.058094312718 - 0.013171291445 i) |11111110\\rangle+ (0.058094312718 - 0.013171291445 i) |11111111\\rangle$$"
      ],
      "text/plain": [
       "<IPython.core.display.Latex object>"
      ]
     },
     "metadata": {},
     "output_type": "display_data"
    },
    {
     "name": "stdout",
     "output_type": "stream",
     "text": [
      "coherence of |ψ5⟩ =  241.57275871318183\n",
      "======================================== FOR ϕ =  255.0 ========================================\n"
     ]
    },
    {
     "data": {
      "text/plain": [
       "'initialised |ψ0⟩'"
      ]
     },
     "metadata": {},
     "output_type": "display_data"
    },
    {
     "data": {
      "text/latex": [
       "$$ |00000000\\rangle$$"
      ],
      "text/plain": [
       "<IPython.core.display.Latex object>"
      ]
     },
     "metadata": {},
     "output_type": "display_data"
    },
    {
     "name": "stdout",
     "output_type": "stream",
     "text": [
      "coherence of |ψ0⟩ =  0.0\n"
     ]
    },
    {
     "data": {
      "text/plain": [
       "'applied Hadamard to all |ψ1⟩'"
      ]
     },
     "metadata": {},
     "output_type": "display_data"
    },
    {
     "data": {
      "text/latex": [
       "$$\\frac{1}{16} |00000000\\rangle+\\frac{1}{16} |00000001\\rangle+\\frac{1}{16} |00000010\\rangle+\\frac{1}{16} |00000011\\rangle+\\frac{1}{16} |00000100\\rangle+\\frac{1}{16} |00000101\\rangle + \\ldots +\\frac{1}{16} |11111011\\rangle+\\frac{1}{16} |11111100\\rangle+\\frac{1}{16} |11111101\\rangle+\\frac{1}{16} |11111110\\rangle+\\frac{1}{16} |11111111\\rangle$$"
      ],
      "text/plain": [
       "<IPython.core.display.Latex object>"
      ]
     },
     "metadata": {},
     "output_type": "display_data"
    },
    {
     "name": "stdout",
     "output_type": "stream",
     "text": [
      "coherence of |ψ1⟩ =  255.00000000000003\n",
      "-------- 1  ITERATION--------\n"
     ]
    },
    {
     "data": {
      "text/plain": [
       "'applied O operator to |ψ2⟩'"
      ]
     },
     "metadata": {},
     "output_type": "display_data"
    },
    {
     "data": {
      "text/latex": [
       "$$\\frac{1}{16} |00000000\\rangle+\\frac{1}{16} |00000001\\rangle+\\frac{1}{16} |00000010\\rangle+\\frac{1}{16} |00000011\\rangle+\\frac{1}{16} |00000100\\rangle+\\frac{1}{16} |00000101\\rangle + \\ldots +\\frac{1}{16} |11111011\\rangle+\\frac{1}{16} |11111100\\rangle+\\frac{1}{16} |11111101\\rangle+\\frac{1}{16} |11111110\\rangle+\\frac{1}{16} |11111111\\rangle$$"
      ],
      "text/plain": [
       "<IPython.core.display.Latex object>"
      ]
     },
     "metadata": {},
     "output_type": "display_data"
    },
    {
     "name": "stdout",
     "output_type": "stream",
     "text": [
      "coherence of |ψ2⟩ =  255.00000000000003\n"
     ]
    },
    {
     "data": {
      "text/plain": [
       "'applied Hadamard to all |ψ1⟩'"
      ]
     },
     "metadata": {},
     "output_type": "display_data"
    },
    {
     "data": {
      "text/latex": [
       "$$(0.99016547621 - 0.007546295518 i) |00000000\\rangle+ (0.00983452379 + 0.007546295518 i) |00000011\\rangle+ (-0.00983452379 - 0.007546295518 i) |00000100\\rangle+ (0.00983452379 + 0.007546295518 i) |00000111\\rangle+ (-0.00983452379 - 0.007546295518 i) |00001001\\rangle+ (0.00983452379 + 0.007546295518 i) |00001010\\rangle + \\ldots + (0.00983452379 + 0.007546295518 i) |11110111\\rangle+ (-0.00983452379 - 0.007546295518 i) |11111001\\rangle+ (0.00983452379 + 0.007546295518 i) |11111010\\rangle+ (-0.00983452379 - 0.007546295518 i) |11111101\\rangle+ (0.00983452379 + 0.007546295518 i) |11111110\\rangle$$"
      ],
      "text/plain": [
       "<IPython.core.display.Latex object>"
      ]
     },
     "metadata": {},
     "output_type": "display_data"
    },
    {
     "name": "stdout",
     "output_type": "stream",
     "text": [
      "coherence of |ψ1⟩ =  5.576684697524294\n"
     ]
    },
    {
     "data": {
      "text/plain": [
       "'applied P operator to |ψ4⟩'"
      ]
     },
     "metadata": {},
     "output_type": "display_data"
    },
    {
     "data": {
      "text/latex": [
       "$$(0.99016547621 - 0.007546295518 i) |00000000\\rangle+ (-0.00983452379 - 0.007546295518 i) |00000011\\rangle+ (0.00983452379 + 0.007546295518 i) |00000100\\rangle+ (-0.00983452379 - 0.007546295518 i) |00000111\\rangle+ (0.00983452379 + 0.007546295518 i) |00001001\\rangle+ (-0.00983452379 - 0.007546295518 i) |00001010\\rangle + \\ldots + (-0.00983452379 - 0.007546295518 i) |11110111\\rangle+ (0.00983452379 + 0.007546295518 i) |11111001\\rangle+ (-0.00983452379 - 0.007546295518 i) |11111010\\rangle+ (0.00983452379 + 0.007546295518 i) |11111101\\rangle+ (-0.00983452379 - 0.007546295518 i) |11111110\\rangle$$"
      ],
      "text/plain": [
       "<IPython.core.display.Latex object>"
      ]
     },
     "metadata": {},
     "output_type": "display_data"
    },
    {
     "name": "stdout",
     "output_type": "stream",
     "text": [
      "coherence of |ψ4⟩ =  5.576684697524294\n"
     ]
    },
    {
     "data": {
      "text/plain": [
       "'applied Hadamard to all |ψ5⟩'"
      ]
     },
     "metadata": {},
     "output_type": "display_data"
    },
    {
     "data": {
      "text/latex": [
       "$$(0.061270684526 - 0.00094328694 i) |00000000\\rangle+ (0.061270684526 - 0.00094328694 i) |00000001\\rangle+ (0.061270684526 - 0.00094328694 i) |00000010\\rangle+ (0.061270684526 - 0.00094328694 i) |00000011\\rangle+ (0.061270684526 - 0.00094328694 i) |00000100\\rangle+ (0.061270684526 - 0.00094328694 i) |00000101\\rangle + \\ldots + (0.061270684526 - 0.00094328694 i) |11111011\\rangle+ (0.061270684526 - 0.00094328694 i) |11111100\\rangle+ (0.061270684526 - 0.00094328694 i) |11111101\\rangle+ (0.061270684526 - 0.00094328694 i) |11111110\\rangle+ (0.061270684526 - 0.00094328694 i) |11111111\\rangle$$"
      ],
      "text/plain": [
       "<IPython.core.display.Latex object>"
      ]
     },
     "metadata": {},
     "output_type": "display_data"
    },
    {
     "name": "stdout",
     "output_type": "stream",
     "text": [
      "coherence of |ψ5⟩ =  250.8150578269137\n",
      "-------- 2  ITERATION--------\n"
     ]
    },
    {
     "data": {
      "text/plain": [
       "'applied O operator to |ψ2⟩'"
      ]
     },
     "metadata": {},
     "output_type": "display_data"
    },
    {
     "data": {
      "text/latex": [
       "$$(0.061270684526 - 0.00094328694 i) |00000000\\rangle+ (0.061270684526 - 0.00094328694 i) |00000001\\rangle+ (0.061270684526 - 0.00094328694 i) |00000010\\rangle+ (0.061270684526 - 0.00094328694 i) |00000011\\rangle+ (0.061270684526 - 0.00094328694 i) |00000100\\rangle+ (0.061270684526 - 0.00094328694 i) |00000101\\rangle + \\ldots + (0.061270684526 - 0.00094328694 i) |11111011\\rangle+ (0.061270684526 - 0.00094328694 i) |11111100\\rangle+ (0.061270684526 - 0.00094328694 i) |11111101\\rangle+ (0.061270684526 - 0.00094328694 i) |11111110\\rangle+ (0.061270684526 - 0.00094328694 i) |11111111\\rangle$$"
      ],
      "text/plain": [
       "<IPython.core.display.Latex object>"
      ]
     },
     "metadata": {},
     "output_type": "display_data"
    },
    {
     "name": "stdout",
     "output_type": "stream",
     "text": [
      "coherence of |ψ2⟩ =  250.8150578269137\n"
     ]
    },
    {
     "data": {
      "text/plain": [
       "'applied Hadamard to all |ψ1⟩'"
      ]
     },
     "metadata": {},
     "output_type": "display_data"
    },
    {
     "data": {
      "text/latex": [
       "$$(0.975319770872 - 0.03379457518 i) |00000000\\rangle+ (0.005011181548 + 0.018701984145 i) |00000011\\rangle+ (-0.005011181548 - 0.018701984145 i) |00000100\\rangle+ (0.005011181548 + 0.018701984145 i) |00000111\\rangle+ (-0.005011181548 - 0.018701984145 i) |00001001\\rangle+ (0.005011181548 + 0.018701984145 i) |00001010\\rangle + \\ldots + (0.005011181548 + 0.018701984145 i) |11110111\\rangle+ (-0.005011181548 - 0.018701984145 i) |11111001\\rangle+ (0.005011181548 + 0.018701984145 i) |11111010\\rangle+ (-0.005011181548 - 0.018701984145 i) |11111101\\rangle+ (0.005011181548 + 0.018701984145 i) |11111110\\rangle$$"
      ],
      "text/plain": [
       "<IPython.core.display.Latex object>"
      ]
     },
     "metadata": {},
     "output_type": "display_data"
    },
    {
     "name": "stdout",
     "output_type": "stream",
     "text": [
      "coherence of |ψ1⟩ =  10.798148895203628\n"
     ]
    },
    {
     "data": {
      "text/plain": [
       "'applied P operator to |ψ4⟩'"
      ]
     },
     "metadata": {},
     "output_type": "display_data"
    },
    {
     "data": {
      "text/latex": [
       "$$(0.975319770872 - 0.03379457518 i) |00000000\\rangle+ (-0.005011181548 - 0.018701984145 i) |00000011\\rangle+ (0.005011181548 + 0.018701984145 i) |00000100\\rangle+ (-0.005011181548 - 0.018701984145 i) |00000111\\rangle+ (0.005011181548 + 0.018701984145 i) |00001001\\rangle+ (-0.005011181548 - 0.018701984145 i) |00001010\\rangle + \\ldots + (-0.005011181548 - 0.018701984145 i) |11110111\\rangle+ (0.005011181548 + 0.018701984145 i) |11111001\\rangle+ (-0.005011181548 - 0.018701984145 i) |11111010\\rangle+ (0.005011181548 + 0.018701984145 i) |11111101\\rangle+ (-0.005011181548 - 0.018701984145 i) |11111110\\rangle$$"
      ],
      "text/plain": [
       "<IPython.core.display.Latex object>"
      ]
     },
     "metadata": {},
     "output_type": "display_data"
    },
    {
     "name": "stdout",
     "output_type": "stream",
     "text": [
      "coherence of |ψ4⟩ =  10.798148895203628\n"
     ]
    },
    {
     "data": {
      "text/plain": [
       "'applied Hadamard to all |ψ5⟩'"
      ]
     },
     "metadata": {},
     "output_type": "display_data"
    },
    {
     "data": {
      "text/latex": [
       "$$(0.060644286833 - 0.003281034958 i) |00000000\\rangle+ (0.060644286833 - 0.003281034958 i) |00000001\\rangle+ (0.060644286833 - 0.003281034958 i) |00000010\\rangle+ (0.060644286833 - 0.003281034958 i) |00000011\\rangle+ (0.060644286833 - 0.003281034958 i) |00000100\\rangle+ (0.060644286833 - 0.003281034958 i) |00000101\\rangle + \\ldots + (0.060644286833 - 0.003281034958 i) |11111011\\rangle+ (0.060644286833 - 0.003281034958 i) |11111100\\rangle+ (0.060644286833 - 0.003281034958 i) |11111101\\rangle+ (0.060644286833 - 0.003281034958 i) |11111110\\rangle+ (0.060644286833 - 0.003281034958 i) |11111111\\rangle$$"
      ],
      "text/plain": [
       "<IPython.core.display.Latex object>"
      ]
     },
     "metadata": {},
     "output_type": "display_data"
    },
    {
     "name": "stdout",
     "output_type": "stream",
     "text": [
      "coherence of |ψ5⟩ =  248.05529718281866\n",
      "-------- 3  ITERATION--------\n"
     ]
    },
    {
     "data": {
      "text/plain": [
       "'applied O operator to |ψ2⟩'"
      ]
     },
     "metadata": {},
     "output_type": "display_data"
    },
    {
     "data": {
      "text/latex": [
       "$$(0.060644286833 - 0.003281034958 i) |00000000\\rangle+ (0.060644286833 - 0.003281034958 i) |00000001\\rangle+ (0.060644286833 - 0.003281034958 i) |00000010\\rangle+ (0.060644286833 - 0.003281034958 i) |00000011\\rangle+ (0.060644286833 - 0.003281034958 i) |00000100\\rangle+ (0.060644286833 - 0.003281034958 i) |00000101\\rangle + \\ldots + (0.060644286833 - 0.003281034958 i) |11111011\\rangle+ (0.060644286833 - 0.003281034958 i) |11111100\\rangle+ (0.060644286833 - 0.003281034958 i) |11111101\\rangle+ (0.060644286833 - 0.003281034958 i) |11111110\\rangle+ (0.060644286833 - 0.003281034958 i) |11111111\\rangle$$"
      ],
      "text/plain": [
       "<IPython.core.display.Latex object>"
      ]
     },
     "metadata": {},
     "output_type": "display_data"
    },
    {
     "name": "stdout",
     "output_type": "stream",
     "text": [
      "coherence of |ψ2⟩ =  248.05529718281866\n"
     ]
    },
    {
     "data": {
      "text/plain": [
       "'applied Hadamard to all |ψ1⟩'"
      ]
     },
     "metadata": {},
     "output_type": "display_data"
    },
    {
     "data": {
      "text/latex": [
       "$$(0.977137652133 - 0.068983375378 i) |00000000\\rangle+ (-0.006829062809 + 0.016486816053 i) |00000011\\rangle+ (0.006829062809 - 0.016486816053 i) |00000100\\rangle+ (-0.006829062809 + 0.016486816053 i) |00000111\\rangle+ (0.006829062809 - 0.016486816053 i) |00001001\\rangle+ (-0.006829062809 + 0.016486816053 i) |00001010\\rangle + \\ldots + (-0.006829062809 + 0.016486816053 i) |11110111\\rangle+ (0.006829062809 - 0.016486816053 i) |11111001\\rangle+ (-0.006829062809 + 0.016486816053 i) |11111010\\rangle+ (0.006829062809 - 0.016486816053 i) |11111101\\rangle+ (-0.006829062809 + 0.016486816053 i) |11111110\\rangle$$"
      ],
      "text/plain": [
       "<IPython.core.display.Latex object>"
      ]
     },
     "metadata": {},
     "output_type": "display_data"
    },
    {
     "name": "stdout",
     "output_type": "stream",
     "text": [
      "coherence of |ψ1⟩ =  9.53593295579254\n"
     ]
    },
    {
     "data": {
      "text/plain": [
       "'applied P operator to |ψ4⟩'"
      ]
     },
     "metadata": {},
     "output_type": "display_data"
    },
    {
     "data": {
      "text/latex": [
       "$$(0.977137652133 - 0.068983375378 i) |00000000\\rangle+ (0.006829062809 - 0.016486816053 i) |00000011\\rangle+ (-0.006829062809 + 0.016486816053 i) |00000100\\rangle+ (0.006829062809 - 0.016486816053 i) |00000111\\rangle+ (-0.006829062809 + 0.016486816053 i) |00001001\\rangle+ (0.006829062809 - 0.016486816053 i) |00001010\\rangle + \\ldots + (0.006829062809 - 0.016486816053 i) |11110111\\rangle+ (-0.006829062809 + 0.016486816053 i) |11111001\\rangle+ (0.006829062809 - 0.016486816053 i) |11111010\\rangle+ (-0.006829062809 + 0.016486816053 i) |11111101\\rangle+ (0.006829062809 - 0.016486816053 i) |11111110\\rangle$$"
      ],
      "text/plain": [
       "<IPython.core.display.Latex object>"
      ]
     },
     "metadata": {},
     "output_type": "display_data"
    },
    {
     "name": "stdout",
     "output_type": "stream",
     "text": [
      "coherence of |ψ4⟩ =  9.53593295579254\n"
     ]
    },
    {
     "data": {
      "text/plain": [
       "'applied Hadamard to all |ψ5⟩'"
      ]
     },
     "metadata": {},
     "output_type": "display_data"
    },
    {
     "data": {
      "text/latex": [
       "$$(0.061497919684 - 0.005341886964 i) |00000000\\rangle+ (0.061497919684 - 0.005341886964 i) |00000001\\rangle+ (0.061497919684 - 0.005341886964 i) |00000010\\rangle+ (0.061497919684 - 0.005341886964 i) |00000011\\rangle+ (0.061497919684 - 0.005341886964 i) |00000100\\rangle+ (0.061497919684 - 0.005341886964 i) |00000101\\rangle + \\ldots + (0.061497919684 - 0.005341886964 i) |11111011\\rangle+ (0.061497919684 - 0.005341886964 i) |11111100\\rangle+ (0.061497919684 - 0.005341886964 i) |11111101\\rangle+ (0.061497919684 - 0.005341886964 i) |11111110\\rangle+ (0.061497919684 - 0.005341886964 i) |11111111\\rangle$$"
      ],
      "text/plain": [
       "<IPython.core.display.Latex object>"
      ]
     },
     "metadata": {},
     "output_type": "display_data"
    },
    {
     "name": "stdout",
     "output_type": "stream",
     "text": [
      "coherence of |ψ5⟩ =  252.85308989223913\n",
      "-------- 4  ITERATION--------\n"
     ]
    },
    {
     "data": {
      "text/plain": [
       "'applied O operator to |ψ2⟩'"
      ]
     },
     "metadata": {},
     "output_type": "display_data"
    },
    {
     "data": {
      "text/latex": [
       "$$(0.061497919684 - 0.005341886964 i) |00000000\\rangle+ (0.061497919684 - 0.005341886964 i) |00000001\\rangle+ (0.061497919684 - 0.005341886964 i) |00000010\\rangle+ (0.061497919684 - 0.005341886964 i) |00000011\\rangle+ (0.061497919684 - 0.005341886964 i) |00000100\\rangle+ (0.061497919684 - 0.005341886964 i) |00000101\\rangle + \\ldots + (0.061497919684 - 0.005341886964 i) |11111011\\rangle+ (0.061497919684 - 0.005341886964 i) |11111100\\rangle+ (0.061497919684 - 0.005341886964 i) |11111101\\rangle+ (0.061497919684 - 0.005341886964 i) |11111110\\rangle+ (0.061497919684 - 0.005341886964 i) |11111111\\rangle$$"
      ],
      "text/plain": [
       "<IPython.core.display.Latex object>"
      ]
     },
     "metadata": {},
     "output_type": "display_data"
    },
    {
     "name": "stdout",
     "output_type": "stream",
     "text": [
      "coherence of |ψ2⟩ =  252.85308989223913\n"
     ]
    },
    {
     "data": {
      "text/plain": [
       "'applied Hadamard to all |ψ1⟩'"
      ]
     },
     "metadata": {},
     "output_type": "display_data"
    },
    {
     "data": {
      "text/latex": [
       "$$(0.991337420487 - 0.089725670261 i) |00000000\\rangle+ (-0.007370705545 + 0.00425547883 i) |00000011\\rangle+ (0.007370705545 - 0.00425547883 i) |00000100\\rangle+ (-0.007370705545 + 0.00425547883 i) |00000111\\rangle+ (0.007370705545 - 0.00425547883 i) |00001001\\rangle+ (-0.007370705545 + 0.00425547883 i) |00001010\\rangle + \\ldots + (-0.007370705545 + 0.00425547883 i) |11110111\\rangle+ (0.007370705545 - 0.00425547883 i) |11111001\\rangle+ (-0.007370705545 + 0.00425547883 i) |11111010\\rangle+ (0.007370705545 - 0.00425547883 i) |11111101\\rangle+ (-0.007370705545 + 0.00425547883 i) |11111110\\rangle$$"
      ],
      "text/plain": [
       "<IPython.core.display.Latex object>"
      ]
     },
     "metadata": {},
     "output_type": "display_data"
    },
    {
     "name": "stdout",
     "output_type": "stream",
     "text": [
      "coherence of |ψ1⟩ =  3.310943969814222\n"
     ]
    },
    {
     "data": {
      "text/plain": [
       "'applied P operator to |ψ4⟩'"
      ]
     },
     "metadata": {},
     "output_type": "display_data"
    },
    {
     "data": {
      "text/latex": [
       "$$(0.991337420487 - 0.089725670261 i) |00000000\\rangle+ (0.007370705545 - 0.00425547883 i) |00000011\\rangle+ (-0.007370705545 + 0.00425547883 i) |00000100\\rangle+ (0.007370705545 - 0.00425547883 i) |00000111\\rangle+ (-0.007370705545 + 0.00425547883 i) |00001001\\rangle+ (0.007370705545 - 0.00425547883 i) |00001010\\rangle + \\ldots + (0.007370705545 - 0.00425547883 i) |11110111\\rangle+ (-0.007370705545 + 0.00425547883 i) |11111001\\rangle+ (0.007370705545 - 0.00425547883 i) |11111010\\rangle+ (-0.007370705545 + 0.00425547883 i) |11111101\\rangle+ (0.007370705545 - 0.00425547883 i) |11111110\\rangle$$"
      ],
      "text/plain": [
       "<IPython.core.display.Latex object>"
      ]
     },
     "metadata": {},
     "output_type": "display_data"
    },
    {
     "name": "stdout",
     "output_type": "stream",
     "text": [
      "coherence of |ψ4⟩ =  3.310943969814222\n"
     ]
    },
    {
     "data": {
      "text/plain": [
       "'applied Hadamard to all |ψ5⟩'"
      ]
     },
     "metadata": {},
     "output_type": "display_data"
    },
    {
     "data": {
      "text/latex": [
       "$$(0.062419257877 - 0.005873821818 i) |00000000\\rangle+ (0.062419257877 - 0.005873821818 i) |00000001\\rangle+ (0.062419257877 - 0.005873821818 i) |00000010\\rangle+ (0.062419257877 - 0.005873821818 i) |00000011\\rangle+ (0.062419257877 - 0.005873821818 i) |00000100\\rangle+ (0.062419257877 - 0.005873821818 i) |00000101\\rangle + \\ldots + (0.062419257877 - 0.005873821818 i) |11111011\\rangle+ (0.062419257877 - 0.005873821818 i) |11111100\\rangle+ (0.062419257877 - 0.005873821818 i) |11111101\\rangle+ (0.062419257877 - 0.005873821818 i) |11111110\\rangle+ (0.062419257877 - 0.005873821818 i) |11111111\\rangle$$"
      ],
      "text/plain": [
       "<IPython.core.display.Latex object>"
      ]
     },
     "metadata": {},
     "output_type": "display_data"
    },
    {
     "name": "stdout",
     "output_type": "stream",
     "text": [
      "coherence of |ψ5⟩ =  254.40185174741978\n",
      "-------- 5  ITERATION--------\n"
     ]
    },
    {
     "data": {
      "text/plain": [
       "'applied O operator to |ψ2⟩'"
      ]
     },
     "metadata": {},
     "output_type": "display_data"
    },
    {
     "data": {
      "text/latex": [
       "$$(0.062419257877 - 0.005873821818 i) |00000000\\rangle+ (0.062419257877 - 0.005873821818 i) |00000001\\rangle+ (0.062419257877 - 0.005873821818 i) |00000010\\rangle+ (0.062419257877 - 0.005873821818 i) |00000011\\rangle+ (0.062419257877 - 0.005873821818 i) |00000100\\rangle+ (0.062419257877 - 0.005873821818 i) |00000101\\rangle + \\ldots + (0.062419257877 - 0.005873821818 i) |11111011\\rangle+ (0.062419257877 - 0.005873821818 i) |11111100\\rangle+ (0.062419257877 - 0.005873821818 i) |11111101\\rangle+ (0.062419257877 - 0.005873821818 i) |11111110\\rangle+ (0.062419257877 - 0.005873821818 i) |11111111\\rangle$$"
      ],
      "text/plain": [
       "<IPython.core.display.Latex object>"
      ]
     },
     "metadata": {},
     "output_type": "display_data"
    },
    {
     "name": "stdout",
     "output_type": "stream",
     "text": [
      "coherence of |ψ2⟩ =  254.40185174741978\n"
     ]
    },
    {
     "data": {
      "text/plain": [
       "'applied Hadamard to all |ψ1⟩'"
      ]
     },
     "metadata": {},
     "output_type": "display_data"
    },
    {
     "data": {
      "text/latex": [
       "$$(0.994195253559 - 0.094575280023 i) |00000000\\rangle+ (0.004512872472 + 0.000594130932 i) |00000011\\rangle+ (-0.004512872472 - 0.000594130932 i) |00000100\\rangle+ (0.004512872472 + 0.000594130932 i) |00000111\\rangle+ (-0.004512872472 - 0.000594130932 i) |00001001\\rangle+ (0.004512872472 + 0.000594130932 i) |00001010\\rangle + \\ldots + (0.004512872472 + 0.000594130932 i) |11110111\\rangle+ (-0.004512872472 - 0.000594130932 i) |11111001\\rangle+ (0.004512872472 + 0.000594130932 i) |11111010\\rangle+ (-0.004512872472 - 0.000594130932 i) |11111101\\rangle+ (0.004512872472 + 0.000594130932 i) |11111110\\rangle$$"
      ],
      "text/plain": [
       "<IPython.core.display.Latex object>"
      ]
     },
     "metadata": {},
     "output_type": "display_data"
    },
    {
     "name": "stdout",
     "output_type": "stream",
     "text": [
      "coherence of |ψ1⟩ =  1.486184200526723\n"
     ]
    },
    {
     "data": {
      "text/plain": [
       "'applied P operator to |ψ4⟩'"
      ]
     },
     "metadata": {},
     "output_type": "display_data"
    },
    {
     "data": {
      "text/latex": [
       "$$(0.994195253559 - 0.094575280023 i) |00000000\\rangle+ (-0.004512872472 - 0.000594130932 i) |00000011\\rangle+ (0.004512872472 + 0.000594130932 i) |00000100\\rangle+ (-0.004512872472 - 0.000594130932 i) |00000111\\rangle+ (0.004512872472 + 0.000594130932 i) |00001001\\rangle+ (-0.004512872472 - 0.000594130932 i) |00001010\\rangle + \\ldots + (-0.004512872472 - 0.000594130932 i) |11110111\\rangle+ (0.004512872472 + 0.000594130932 i) |11111001\\rangle+ (-0.004512872472 - 0.000594130932 i) |11111010\\rangle+ (0.004512872472 + 0.000594130932 i) |11111101\\rangle+ (-0.004512872472 - 0.000594130932 i) |11111110\\rangle$$"
      ],
      "text/plain": [
       "<IPython.core.display.Latex object>"
      ]
     },
     "metadata": {},
     "output_type": "display_data"
    },
    {
     "name": "stdout",
     "output_type": "stream",
     "text": [
      "coherence of |ψ4⟩ =  1.486184200526723\n"
     ]
    },
    {
     "data": {
      "text/plain": [
       "'applied Hadamard to all |ψ5⟩'"
      ]
     },
     "metadata": {},
     "output_type": "display_data"
    },
    {
     "data": {
      "text/latex": [
       "$$(0.061855148818 - 0.005948088185 i) |00000000\\rangle+ (0.061855148818 - 0.005948088185 i) |00000001\\rangle+ (0.061855148818 - 0.005948088185 i) |00000010\\rangle+ (0.061855148818 - 0.005948088185 i) |00000011\\rangle+ (0.061855148818 - 0.005948088185 i) |00000100\\rangle+ (0.061855148818 - 0.005948088185 i) |00000101\\rangle + \\ldots + (0.061855148818 - 0.005948088185 i) |11111011\\rangle+ (0.061855148818 - 0.005948088185 i) |11111100\\rangle+ (0.061855148818 - 0.005948088185 i) |11111101\\rangle+ (0.061855148818 - 0.005948088185 i) |11111110\\rangle+ (0.061855148818 - 0.005948088185 i) |11111111\\rangle$$"
      ],
      "text/plain": [
       "<IPython.core.display.Latex object>"
      ]
     },
     "metadata": {},
     "output_type": "display_data"
    },
    {
     "name": "stdout",
     "output_type": "stream",
     "text": [
      "coherence of |ψ5⟩ =  254.34801948779491\n",
      "-------- 6  ITERATION--------\n"
     ]
    },
    {
     "data": {
      "text/plain": [
       "'applied O operator to |ψ2⟩'"
      ]
     },
     "metadata": {},
     "output_type": "display_data"
    },
    {
     "data": {
      "text/latex": [
       "$$(0.061855148818 - 0.005948088185 i) |00000000\\rangle+ (0.061855148818 - 0.005948088185 i) |00000001\\rangle+ (0.061855148818 - 0.005948088185 i) |00000010\\rangle+ (0.061855148818 - 0.005948088185 i) |00000011\\rangle+ (0.061855148818 - 0.005948088185 i) |00000100\\rangle+ (0.061855148818 - 0.005948088185 i) |00000101\\rangle + \\ldots + (0.061855148818 - 0.005948088185 i) |11111011\\rangle+ (0.061855148818 - 0.005948088185 i) |11111100\\rangle+ (0.061855148818 - 0.005948088185 i) |11111101\\rangle+ (0.061855148818 - 0.005948088185 i) |11111110\\rangle+ (0.061855148818 - 0.005948088185 i) |11111111\\rangle$$"
      ],
      "text/plain": [
       "<IPython.core.display.Latex object>"
      ]
     },
     "metadata": {},
     "output_type": "display_data"
    },
    {
     "name": "stdout",
     "output_type": "stream",
     "text": [
      "coherence of |ψ2⟩ =  254.34801948779491\n"
     ]
    },
    {
     "data": {
      "text/plain": [
       "'applied Hadamard to all |ψ1⟩'"
      ]
     },
     "metadata": {},
     "output_type": "display_data"
    },
    {
     "data": {
      "text/latex": [
       "$$(0.978637018734 - 0.106214773308 i) |00000000\\rangle+ (0.011045362353 + 0.011045362353 i) |00000011\\rangle+ (-0.011045362353 - 0.011045362353 i) |00000100\\rangle+ (0.011045362353 + 0.011045362353 i) |00000111\\rangle+ (-0.011045362353 - 0.011045362353 i) |00001001\\rangle+ (0.011045362353 + 0.011045362353 i) |00001010\\rangle + \\ldots + (0.011045362353 + 0.011045362353 i) |11110111\\rangle+ (-0.011045362353 - 0.011045362353 i) |11111001\\rangle+ (0.011045362353 + 0.011045362353 i) |11111010\\rangle+ (-0.011045362353 - 0.011045362353 i) |11111101\\rangle+ (0.011045362353 + 0.011045362353 i) |11111110\\rangle$$"
      ],
      "text/plain": [
       "<IPython.core.display.Latex object>"
      ]
     },
     "metadata": {},
     "output_type": "display_data"
    },
    {
     "name": "stdout",
     "output_type": "stream",
     "text": [
      "coherence of |ψ1⟩ =  7.810138371725359\n"
     ]
    },
    {
     "data": {
      "text/plain": [
       "'applied P operator to |ψ4⟩'"
      ]
     },
     "metadata": {},
     "output_type": "display_data"
    },
    {
     "data": {
      "text/latex": [
       "$$(0.978637018734 - 0.106214773308 i) |00000000\\rangle+ (-0.011045362353 - 0.011045362353 i) |00000011\\rangle+ (0.011045362353 + 0.011045362353 i) |00000100\\rangle+ (-0.011045362353 - 0.011045362353 i) |00000111\\rangle+ (0.011045362353 + 0.011045362353 i) |00001001\\rangle+ (-0.011045362353 - 0.011045362353 i) |00001010\\rangle + \\ldots + (-0.011045362353 - 0.011045362353 i) |11110111\\rangle+ (0.011045362353 + 0.011045362353 i) |11111001\\rangle+ (-0.011045362353 - 0.011045362353 i) |11111010\\rangle+ (0.011045362353 + 0.011045362353 i) |11111101\\rangle+ (-0.011045362353 - 0.011045362353 i) |11111110\\rangle$$"
      ],
      "text/plain": [
       "<IPython.core.display.Latex object>"
      ]
     },
     "metadata": {},
     "output_type": "display_data"
    },
    {
     "name": "stdout",
     "output_type": "stream",
     "text": [
      "coherence of |ψ4⟩ =  7.810138371725359\n"
     ]
    },
    {
     "data": {
      "text/plain": [
       "'applied Hadamard to all |ψ5⟩'"
      ]
     },
     "metadata": {},
     "output_type": "display_data"
    },
    {
     "data": {
      "text/latex": [
       "$$(0.060474478524 - 0.007328758479 i) |00000000\\rangle+ (0.060474478524 - 0.007328758479 i) |00000001\\rangle+ (0.060474478524 - 0.007328758479 i) |00000010\\rangle+ (0.060474478524 - 0.007328758479 i) |00000011\\rangle+ (0.060474478524 - 0.007328758479 i) |00000100\\rangle+ (0.060474478524 - 0.007328758479 i) |00000101\\rangle + \\ldots + (0.060474478524 - 0.007328758479 i) |11111011\\rangle+ (0.060474478524 - 0.007328758479 i) |11111100\\rangle+ (0.060474478524 - 0.007328758479 i) |11111101\\rangle+ (0.060474478524 - 0.007328758479 i) |11111110\\rangle+ (0.060474478524 - 0.007328758479 i) |11111111\\rangle$$"
      ],
      "text/plain": [
       "<IPython.core.display.Latex object>"
      ]
     },
     "metadata": {},
     "output_type": "display_data"
    },
    {
     "name": "stdout",
     "output_type": "stream",
     "text": [
      "coherence of |ψ5⟩ =  249.01416637523616\n",
      "-------- 7  ITERATION--------\n"
     ]
    },
    {
     "data": {
      "text/plain": [
       "'applied O operator to |ψ2⟩'"
      ]
     },
     "metadata": {},
     "output_type": "display_data"
    },
    {
     "data": {
      "text/latex": [
       "$$(0.060474478524 - 0.007328758479 i) |00000000\\rangle+ (0.060474478524 - 0.007328758479 i) |00000001\\rangle+ (0.060474478524 - 0.007328758479 i) |00000010\\rangle+ (0.060474478524 - 0.007328758479 i) |00000011\\rangle+ (0.060474478524 - 0.007328758479 i) |00000100\\rangle+ (0.060474478524 - 0.007328758479 i) |00000101\\rangle + \\ldots + (0.060474478524 - 0.007328758479 i) |11111011\\rangle+ (0.060474478524 - 0.007328758479 i) |11111100\\rangle+ (0.060474478524 - 0.007328758479 i) |11111101\\rangle+ (0.060474478524 - 0.007328758479 i) |11111110\\rangle+ (0.060474478524 - 0.007328758479 i) |11111111\\rangle$$"
      ],
      "text/plain": [
       "<IPython.core.display.Latex object>"
      ]
     },
     "metadata": {},
     "output_type": "display_data"
    },
    {
     "name": "stdout",
     "output_type": "stream",
     "text": [
      "coherence of |ψ2⟩ =  249.01416637523616\n"
     ]
    },
    {
     "data": {
      "text/plain": [
       "'applied Hadamard to all |ψ1⟩'"
      ]
     },
     "metadata": {},
     "output_type": "display_data"
    },
    {
     "data": {
      "text/latex": [
       "$$(0.965001224202 - 0.136936421541 i) |00000000\\rangle+ (0.002590432179 + 0.01967628588 i) |00000011\\rangle+ (-0.002590432179 - 0.01967628588 i) |00000100\\rangle+ (0.002590432179 + 0.01967628588 i) |00000111\\rangle+ (-0.002590432179 - 0.01967628588 i) |00001001\\rangle+ (0.002590432179 + 0.01967628588 i) |00001010\\rangle + \\ldots + (0.002590432179 + 0.01967628588 i) |11110111\\rangle+ (-0.002590432179 - 0.01967628588 i) |11111001\\rangle+ (0.002590432179 + 0.01967628588 i) |11111010\\rangle+ (-0.002590432179 - 0.01967628588 i) |11111101\\rangle+ (0.002590432179 + 0.01967628588 i) |11111110\\rangle$$"
      ],
      "text/plain": [
       "<IPython.core.display.Latex object>"
      ]
     },
     "metadata": {},
     "output_type": "display_data"
    },
    {
     "name": "stdout",
     "output_type": "stream",
     "text": [
      "coherence of |ψ1⟩ =  11.215862063760277\n"
     ]
    },
    {
     "data": {
      "text/plain": [
       "'applied P operator to |ψ4⟩'"
      ]
     },
     "metadata": {},
     "output_type": "display_data"
    },
    {
     "data": {
      "text/latex": [
       "$$(0.965001224202 - 0.136936421541 i) |00000000\\rangle+ (-0.002590432179 - 0.01967628588 i) |00000011\\rangle+ (0.002590432179 + 0.01967628588 i) |00000100\\rangle+ (-0.002590432179 - 0.01967628588 i) |00000111\\rangle+ (0.002590432179 + 0.01967628588 i) |00001001\\rangle+ (-0.002590432179 - 0.01967628588 i) |00001010\\rangle + \\ldots + (-0.002590432179 - 0.01967628588 i) |11110111\\rangle+ (0.002590432179 + 0.01967628588 i) |11111001\\rangle+ (-0.002590432179 - 0.01967628588 i) |11111010\\rangle+ (0.002590432179 + 0.01967628588 i) |11111101\\rangle+ (-0.002590432179 - 0.01967628588 i) |11111110\\rangle$$"
      ],
      "text/plain": [
       "<IPython.core.display.Latex object>"
      ]
     },
     "metadata": {},
     "output_type": "display_data"
    },
    {
     "name": "stdout",
     "output_type": "stream",
     "text": [
      "coherence of |ψ4⟩ =  11.215862063760277\n"
     ]
    },
    {
     "data": {
      "text/plain": [
       "'applied Hadamard to all |ψ5⟩'"
      ]
     },
     "metadata": {},
     "output_type": "display_data"
    },
    {
     "data": {
      "text/latex": [
       "$$(0.060150674501 - 0.009788294214 i) |00000000\\rangle+ (0.060150674501 - 0.009788294214 i) |00000001\\rangle+ (0.060150674501 - 0.009788294214 i) |00000010\\rangle+ (0.060150674501 - 0.009788294214 i) |00000011\\rangle+ (0.060150674501 - 0.009788294214 i) |00000100\\rangle+ (0.060150674501 - 0.009788294214 i) |00000101\\rangle + \\ldots + (0.060150674501 - 0.009788294214 i) |11111011\\rangle+ (0.060150674501 - 0.009788294214 i) |11111100\\rangle+ (0.060150674501 - 0.009788294214 i) |11111101\\rangle+ (0.060150674501 - 0.009788294214 i) |11111110\\rangle+ (0.060150674501 - 0.009788294214 i) |11111111\\rangle$$"
      ],
      "text/plain": [
       "<IPython.core.display.Latex object>"
      ]
     },
     "metadata": {},
     "output_type": "display_data"
    },
    {
     "name": "stdout",
     "output_type": "stream",
     "text": [
      "coherence of |ψ5⟩ =  249.14232372377083\n",
      "-------- 8  ITERATION--------\n"
     ]
    },
    {
     "data": {
      "text/plain": [
       "'applied O operator to |ψ2⟩'"
      ]
     },
     "metadata": {},
     "output_type": "display_data"
    },
    {
     "data": {
      "text/latex": [
       "$$(0.060150674501 - 0.009788294214 i) |00000000\\rangle+ (0.060150674501 - 0.009788294214 i) |00000001\\rangle+ (0.060150674501 - 0.009788294214 i) |00000010\\rangle+ (0.060150674501 - 0.009788294214 i) |00000011\\rangle+ (0.060150674501 - 0.009788294214 i) |00000100\\rangle+ (0.060150674501 - 0.009788294214 i) |00000101\\rangle + \\ldots + (0.060150674501 - 0.009788294214 i) |11111011\\rangle+ (0.060150674501 - 0.009788294214 i) |11111100\\rangle+ (0.060150674501 - 0.009788294214 i) |11111101\\rangle+ (0.060150674501 - 0.009788294214 i) |11111110\\rangle+ (0.060150674501 - 0.009788294214 i) |11111111\\rangle$$"
      ],
      "text/plain": [
       "<IPython.core.display.Latex object>"
      ]
     },
     "metadata": {},
     "output_type": "display_data"
    },
    {
     "name": "stdout",
     "output_type": "stream",
     "text": [
      "coherence of |ψ2⟩ =  249.14232372377083\n"
     ]
    },
    {
     "data": {
      "text/plain": [
       "'applied Hadamard to all |ψ1⟩'"
      ]
     },
     "metadata": {},
     "output_type": "display_data"
    },
    {
     "data": {
      "text/latex": [
       "$$(0.970099473935 - 0.169929895137 i) |00000000\\rangle+ (-0.007688681912 + 0.013317187715 i) |00000011\\rangle+ (0.007688681912 - 0.013317187715 i) |00000100\\rangle+ (-0.007688681912 + 0.013317187715 i) |00000111\\rangle+ (0.007688681912 - 0.013317187715 i) |00001001\\rangle+ (-0.007688681912 + 0.013317187715 i) |00001010\\rangle + \\ldots + (-0.007688681912 + 0.013317187715 i) |11110111\\rangle+ (0.007688681912 - 0.013317187715 i) |11111001\\rangle+ (-0.007688681912 + 0.013317187715 i) |11111010\\rangle+ (0.007688681912 - 0.013317187715 i) |11111101\\rangle+ (-0.007688681912 + 0.013317187715 i) |11111110\\rangle$$"
      ],
      "text/plain": [
       "<IPython.core.display.Latex object>"
      ]
     },
     "metadata": {},
     "output_type": "display_data"
    },
    {
     "name": "stdout",
     "output_type": "stream",
     "text": [
      "coherence of |ψ1⟩ =  7.630641391645894\n"
     ]
    },
    {
     "data": {
      "text/plain": [
       "'applied P operator to |ψ4⟩'"
      ]
     },
     "metadata": {},
     "output_type": "display_data"
    },
    {
     "data": {
      "text/latex": [
       "$$(0.970099473935 - 0.169929895137 i) |00000000\\rangle+ (0.007688681912 - 0.013317187715 i) |00000011\\rangle+ (-0.007688681912 + 0.013317187715 i) |00000100\\rangle+ (0.007688681912 - 0.013317187715 i) |00000111\\rangle+ (-0.007688681912 + 0.013317187715 i) |00001001\\rangle+ (0.007688681912 - 0.013317187715 i) |00001010\\rangle + \\ldots + (0.007688681912 - 0.013317187715 i) |11110111\\rangle+ (-0.007688681912 + 0.013317187715 i) |11111001\\rangle+ (0.007688681912 - 0.013317187715 i) |11111010\\rangle+ (-0.007688681912 + 0.013317187715 i) |11111101\\rangle+ (0.007688681912 - 0.013317187715 i) |11111110\\rangle$$"
      ],
      "text/plain": [
       "<IPython.core.display.Latex object>"
      ]
     },
     "metadata": {},
     "output_type": "display_data"
    },
    {
     "name": "stdout",
     "output_type": "stream",
     "text": [
      "coherence of |ψ4⟩ =  7.630641391645894\n"
     ]
    },
    {
     "data": {
      "text/plain": [
       "'applied Hadamard to all |ψ5⟩'"
      ]
     },
     "metadata": {},
     "output_type": "display_data"
    },
    {
     "data": {
      "text/latex": [
       "$$(0.06111175974 - 0.011452942678 i) |00000000\\rangle+ (0.06111175974 - 0.011452942678 i) |00000001\\rangle+ (0.06111175974 - 0.011452942678 i) |00000010\\rangle+ (0.06111175974 - 0.011452942678 i) |00000011\\rangle+ (0.06111175974 - 0.011452942678 i) |00000100\\rangle+ (0.06111175974 - 0.011452942678 i) |00000101\\rangle + \\ldots + (0.06111175974 - 0.011452942678 i) |11111011\\rangle+ (0.06111175974 - 0.011452942678 i) |11111100\\rangle+ (0.06111175974 - 0.011452942678 i) |11111101\\rangle+ (0.06111175974 - 0.011452942678 i) |11111110\\rangle+ (0.06111175974 - 0.011452942678 i) |11111111\\rangle$$"
      ],
      "text/plain": [
       "<IPython.core.display.Latex object>"
      ]
     },
     "metadata": {},
     "output_type": "display_data"
    },
    {
     "name": "stdout",
     "output_type": "stream",
     "text": [
      "coherence of |ψ5⟩ =  254.44981158604773\n",
      "======================================== FOR ϕ =  270.0 ========================================\n"
     ]
    },
    {
     "data": {
      "text/plain": [
       "'initialised |ψ0⟩'"
      ]
     },
     "metadata": {},
     "output_type": "display_data"
    },
    {
     "data": {
      "text/latex": [
       "$$ |00000000\\rangle$$"
      ],
      "text/plain": [
       "<IPython.core.display.Latex object>"
      ]
     },
     "metadata": {},
     "output_type": "display_data"
    },
    {
     "name": "stdout",
     "output_type": "stream",
     "text": [
      "coherence of |ψ0⟩ =  0.0\n"
     ]
    },
    {
     "data": {
      "text/plain": [
       "'applied Hadamard to all |ψ1⟩'"
      ]
     },
     "metadata": {},
     "output_type": "display_data"
    },
    {
     "data": {
      "text/latex": [
       "$$\\frac{1}{16} |00000000\\rangle+\\frac{1}{16} |00000001\\rangle+\\frac{1}{16} |00000010\\rangle+\\frac{1}{16} |00000011\\rangle+\\frac{1}{16} |00000100\\rangle+\\frac{1}{16} |00000101\\rangle + \\ldots +\\frac{1}{16} |11111011\\rangle+\\frac{1}{16} |11111100\\rangle+\\frac{1}{16} |11111101\\rangle+\\frac{1}{16} |11111110\\rangle+\\frac{1}{16} |11111111\\rangle$$"
      ],
      "text/plain": [
       "<IPython.core.display.Latex object>"
      ]
     },
     "metadata": {},
     "output_type": "display_data"
    },
    {
     "name": "stdout",
     "output_type": "stream",
     "text": [
      "coherence of |ψ1⟩ =  255.00000000000003\n",
      "-------- 1  ITERATION--------\n"
     ]
    },
    {
     "data": {
      "text/plain": [
       "'applied O operator to |ψ2⟩'"
      ]
     },
     "metadata": {},
     "output_type": "display_data"
    },
    {
     "data": {
      "text/latex": [
       "$$\\frac{1}{16} |00000000\\rangle+\\frac{1}{16} |00000001\\rangle+\\frac{1}{16} |00000010\\rangle+\\frac{1}{16} |00000011\\rangle+\\frac{1}{16} |00000100\\rangle+\\frac{1}{16} |00000101\\rangle + \\ldots +\\frac{1}{16} |11111011\\rangle+\\frac{1}{16} |11111100\\rangle+\\frac{1}{16} |11111101\\rangle+\\frac{1}{16} |11111110\\rangle+\\frac{1}{16} |11111111\\rangle$$"
      ],
      "text/plain": [
       "<IPython.core.display.Latex object>"
      ]
     },
     "metadata": {},
     "output_type": "display_data"
    },
    {
     "name": "stdout",
     "output_type": "stream",
     "text": [
      "coherence of |ψ2⟩ =  255.00000000000003\n"
     ]
    },
    {
     "data": {
      "text/plain": [
       "'applied Hadamard to all |ψ1⟩'"
      ]
     },
     "metadata": {},
     "output_type": "display_data"
    },
    {
     "data": {
      "text/latex": [
       "$$(\\frac{127}{128} - \\frac{i}{128}) |00000000\\rangle+ (\\frac{1}{128} + \\frac{i}{128}) |00000011\\rangle+ (- \\frac{1}{128} - \\frac{i}{128}) |00000100\\rangle+ (\\frac{1}{128} + \\frac{i}{128}) |00000111\\rangle+ (- \\frac{1}{128} - \\frac{i}{128}) |00001001\\rangle+ (\\frac{1}{128} + \\frac{i}{128}) |00001010\\rangle + \\ldots + (\\frac{1}{128} + \\frac{i}{128}) |11110111\\rangle+ (- \\frac{1}{128} - \\frac{i}{128}) |11111001\\rangle+ (\\frac{1}{128} + \\frac{i}{128}) |11111010\\rangle+ (- \\frac{1}{128} - \\frac{i}{128}) |11111101\\rangle+ (\\frac{1}{128} + \\frac{i}{128}) |11111110\\rangle$$"
      ],
      "text/plain": [
       "<IPython.core.display.Latex object>"
      ]
     },
     "metadata": {},
     "output_type": "display_data"
    },
    {
     "name": "stdout",
     "output_type": "stream",
     "text": [
      "coherence of |ψ1⟩ =  4.737861040446418\n"
     ]
    },
    {
     "data": {
      "text/plain": [
       "'applied P operator to |ψ4⟩'"
      ]
     },
     "metadata": {},
     "output_type": "display_data"
    },
    {
     "data": {
      "text/latex": [
       "$$(\\frac{127}{128} - \\frac{i}{128}) |00000000\\rangle+ (- \\frac{1}{128} - \\frac{i}{128}) |00000011\\rangle+ (\\frac{1}{128} + \\frac{i}{128}) |00000100\\rangle+ (- \\frac{1}{128} - \\frac{i}{128}) |00000111\\rangle+ (\\frac{1}{128} + \\frac{i}{128}) |00001001\\rangle+ (- \\frac{1}{128} - \\frac{i}{128}) |00001010\\rangle + \\ldots + (- \\frac{1}{128} - \\frac{i}{128}) |11110111\\rangle+ (\\frac{1}{128} + \\frac{i}{128}) |11111001\\rangle+ (- \\frac{1}{128} - \\frac{i}{128}) |11111010\\rangle+ (\\frac{1}{128} + \\frac{i}{128}) |11111101\\rangle+ (- \\frac{1}{128} - \\frac{i}{128}) |11111110\\rangle$$"
      ],
      "text/plain": [
       "<IPython.core.display.Latex object>"
      ]
     },
     "metadata": {},
     "output_type": "display_data"
    },
    {
     "name": "stdout",
     "output_type": "stream",
     "text": [
      "coherence of |ψ4⟩ =  4.737861040446418\n"
     ]
    },
    {
     "data": {
      "text/plain": [
       "'applied Hadamard to all |ψ5⟩'"
      ]
     },
     "metadata": {},
     "output_type": "display_data"
    },
    {
     "data": {
      "text/latex": [
       "$$(\\frac{63}{1024} - \\frac{i}{1024}) |00000000\\rangle+ (\\frac{63}{1024} - \\frac{i}{1024}) |00000001\\rangle+ (\\frac{63}{1024} - \\frac{i}{1024}) |00000010\\rangle+ (\\frac{63}{1024} - \\frac{i}{1024}) |00000011\\rangle+ (\\frac{63}{1024} - \\frac{i}{1024}) |00000100\\rangle+ (\\frac{63}{1024} - \\frac{i}{1024}) |00000101\\rangle + \\ldots + (\\frac{63}{1024} - \\frac{i}{1024}) |11111011\\rangle+ (\\frac{63}{1024} - \\frac{i}{1024}) |11111100\\rangle+ (\\frac{63}{1024} - \\frac{i}{1024}) |11111101\\rangle+ (\\frac{63}{1024} - \\frac{i}{1024}) |11111110\\rangle+ (\\frac{63}{1024} - \\frac{i}{1024}) |11111111\\rangle$$"
      ],
      "text/plain": [
       "<IPython.core.display.Latex object>"
      ]
     },
     "metadata": {},
     "output_type": "display_data"
    },
    {
     "name": "stdout",
     "output_type": "stream",
     "text": [
      "coherence of |ψ5⟩ =  251.99482705853848\n",
      "-------- 2  ITERATION--------\n"
     ]
    },
    {
     "data": {
      "text/plain": [
       "'applied O operator to |ψ2⟩'"
      ]
     },
     "metadata": {},
     "output_type": "display_data"
    },
    {
     "data": {
      "text/latex": [
       "$$(\\frac{63}{1024} - \\frac{i}{1024}) |00000000\\rangle+ (\\frac{63}{1024} - \\frac{i}{1024}) |00000001\\rangle+ (\\frac{63}{1024} - \\frac{i}{1024}) |00000010\\rangle+ (\\frac{63}{1024} - \\frac{i}{1024}) |00000011\\rangle+ (\\frac{63}{1024} - \\frac{i}{1024}) |00000100\\rangle+ (\\frac{63}{1024} - \\frac{i}{1024}) |00000101\\rangle + \\ldots + (\\frac{63}{1024} - \\frac{i}{1024}) |11111011\\rangle+ (\\frac{63}{1024} - \\frac{i}{1024}) |11111100\\rangle+ (\\frac{63}{1024} - \\frac{i}{1024}) |11111101\\rangle+ (\\frac{63}{1024} - \\frac{i}{1024}) |11111110\\rangle+ (\\frac{63}{1024} - \\frac{i}{1024}) |11111111\\rangle$$"
      ],
      "text/plain": [
       "<IPython.core.display.Latex object>"
      ]
     },
     "metadata": {},
     "output_type": "display_data"
    },
    {
     "name": "stdout",
     "output_type": "stream",
     "text": [
      "coherence of |ψ2⟩ =  251.99482705853848\n"
     ]
    },
    {
     "data": {
      "text/plain": [
       "'applied Hadamard to all |ψ1⟩'"
      ]
     },
     "metadata": {},
     "output_type": "display_data"
    },
    {
     "data": {
      "text/latex": [
       "$$(0.984375 - 0.031005859375 i) |00000000\\rangle+\\frac{63 i}{4096} |00000011\\rangle- \\frac{63 i}{4096} |00000100\\rangle+\\frac{63 i}{4096} |00000111\\rangle- \\frac{63 i}{4096} |00001001\\rangle+\\frac{63 i}{4096} |00001010\\rangle + \\ldots +\\frac{63 i}{4096} |11110111\\rangle- \\frac{63 i}{4096} |11111001\\rangle+\\frac{63 i}{4096} |11111010\\rangle- \\frac{63 i}{4096} |11111101\\rangle+\\frac{63 i}{4096} |11111110\\rangle$$"
      ],
      "text/plain": [
       "<IPython.core.display.Latex object>"
      ]
     },
     "metadata": {},
     "output_type": "display_data"
    },
    {
     "name": "stdout",
     "output_type": "stream",
     "text": [
      "coherence of |ψ1⟩ =  7.633209231485532\n"
     ]
    },
    {
     "data": {
      "text/plain": [
       "'applied P operator to |ψ4⟩'"
      ]
     },
     "metadata": {},
     "output_type": "display_data"
    },
    {
     "data": {
      "text/latex": [
       "$$(0.984375 - 0.031005859375 i) |00000000\\rangle- \\frac{63 i}{4096} |00000011\\rangle+\\frac{63 i}{4096} |00000100\\rangle- \\frac{63 i}{4096} |00000111\\rangle+\\frac{63 i}{4096} |00001001\\rangle- \\frac{63 i}{4096} |00001010\\rangle + \\ldots - \\frac{63 i}{4096} |11110111\\rangle+\\frac{63 i}{4096} |11111001\\rangle- \\frac{63 i}{4096} |11111010\\rangle+\\frac{63 i}{4096} |11111101\\rangle- \\frac{63 i}{4096} |11111110\\rangle$$"
      ],
      "text/plain": [
       "<IPython.core.display.Latex object>"
      ]
     },
     "metadata": {},
     "output_type": "display_data"
    },
    {
     "name": "stdout",
     "output_type": "stream",
     "text": [
      "coherence of |ψ4⟩ =  7.633209231485532\n"
     ]
    },
    {
     "data": {
      "text/plain": [
       "'applied Hadamard to all |ψ5⟩'"
      ]
     },
     "metadata": {},
     "output_type": "display_data"
    },
    {
     "data": {
      "text/latex": [
       "$$(0.0615234375 - 0.002899169922 i) |00000000\\rangle+ (0.0615234375 - 0.002899169922 i) |00000001\\rangle+ (0.0615234375 - 0.002899169922 i) |00000010\\rangle+ (0.0615234375 - 0.002899169922 i) |00000011\\rangle+ (0.0615234375 - 0.002899169922 i) |00000100\\rangle+ (0.0615234375 - 0.002899169922 i) |00000101\\rangle + \\ldots + (0.0615234375 - 0.002899169922 i) |11111011\\rangle+ (0.0615234375 - 0.002899169922 i) |11111100\\rangle+ (0.0615234375 - 0.002899169922 i) |11111101\\rangle+ (0.0615234375 - 0.002899169922 i) |11111110\\rangle+ (0.0615234375 - 0.002899169922 i) |11111111\\rangle$$"
      ],
      "text/plain": [
       "<IPython.core.display.Latex object>"
      ]
     },
     "metadata": {},
     "output_type": "display_data"
    },
    {
     "name": "stdout",
     "output_type": "stream",
     "text": [
      "coherence of |ψ5⟩ =  252.26371529433348\n",
      "-------- 3  ITERATION--------\n"
     ]
    },
    {
     "data": {
      "text/plain": [
       "'applied O operator to |ψ2⟩'"
      ]
     },
     "metadata": {},
     "output_type": "display_data"
    },
    {
     "data": {
      "text/latex": [
       "$$(0.0615234375 - 0.002899169922 i) |00000000\\rangle+ (0.0615234375 - 0.002899169922 i) |00000001\\rangle+ (0.0615234375 - 0.002899169922 i) |00000010\\rangle+ (0.0615234375 - 0.002899169922 i) |00000011\\rangle+ (0.0615234375 - 0.002899169922 i) |00000100\\rangle+ (0.0615234375 - 0.002899169922 i) |00000101\\rangle + \\ldots + (0.0615234375 - 0.002899169922 i) |11111011\\rangle+ (0.0615234375 - 0.002899169922 i) |11111100\\rangle+ (0.0615234375 - 0.002899169922 i) |11111101\\rangle+ (0.0615234375 - 0.002899169922 i) |11111110\\rangle+ (0.0615234375 - 0.002899169922 i) |11111111\\rangle$$"
      ],
      "text/plain": [
       "<IPython.core.display.Latex object>"
      ]
     },
     "metadata": {},
     "output_type": "display_data"
    },
    {
     "name": "stdout",
     "output_type": "stream",
     "text": [
      "coherence of |ψ2⟩ =  252.26371529433348\n"
     ]
    },
    {
     "data": {
      "text/plain": [
       "'applied Hadamard to all |ψ1⟩'"
      ]
     },
     "metadata": {},
     "output_type": "display_data"
    },
    {
     "data": {
      "text/latex": [
       "$$(0.991703033447 - 0.053714752197 i) |00000000\\rangle+ (-0.007328033447 + 0.007328033447 i) |00000011\\rangle+ (0.007328033447 - 0.007328033447 i) |00000100\\rangle+ (-0.007328033447 + 0.007328033447 i) |00000111\\rangle+ (0.007328033447 - 0.007328033447 i) |00001001\\rangle+ (-0.007328033447 + 0.007328033447 i) |00001010\\rangle + \\ldots + (-0.007328033447 + 0.007328033447 i) |11110111\\rangle+ (0.007328033447 - 0.007328033447 i) |11111001\\rangle+ (-0.007328033447 + 0.007328033447 i) |11111010\\rangle+ (0.007328033447 - 0.007328033447 i) |11111101\\rangle+ (-0.007328033447 + 0.007328033447 i) |11111110\\rangle$$"
      ],
      "text/plain": [
       "<IPython.core.display.Latex object>"
      ]
     },
     "metadata": {},
     "output_type": "display_data"
    },
    {
     "name": "stdout",
     "output_type": "stream",
     "text": [
      "coherence of |ψ1⟩ =  4.3329081472293245\n"
     ]
    },
    {
     "data": {
      "text/plain": [
       "'applied P operator to |ψ4⟩'"
      ]
     },
     "metadata": {},
     "output_type": "display_data"
    },
    {
     "data": {
      "text/latex": [
       "$$(0.991703033447 - 0.053714752197 i) |00000000\\rangle+ (0.007328033447 - 0.007328033447 i) |00000011\\rangle+ (-0.007328033447 + 0.007328033447 i) |00000100\\rangle+ (0.007328033447 - 0.007328033447 i) |00000111\\rangle+ (-0.007328033447 + 0.007328033447 i) |00001001\\rangle+ (0.007328033447 - 0.007328033447 i) |00001010\\rangle + \\ldots + (0.007328033447 - 0.007328033447 i) |11110111\\rangle+ (-0.007328033447 + 0.007328033447 i) |11111001\\rangle+ (0.007328033447 - 0.007328033447 i) |11111010\\rangle+ (-0.007328033447 + 0.007328033447 i) |11111101\\rangle+ (0.007328033447 - 0.007328033447 i) |11111110\\rangle$$"
      ],
      "text/plain": [
       "<IPython.core.display.Latex object>"
      ]
     },
     "metadata": {},
     "output_type": "display_data"
    },
    {
     "name": "stdout",
     "output_type": "stream",
     "text": [
      "coherence of |ψ4⟩ =  4.3329081472293245\n"
     ]
    },
    {
     "data": {
      "text/plain": [
       "'applied Hadamard to all |ψ5⟩'"
      ]
     },
     "metadata": {},
     "output_type": "display_data"
    },
    {
     "data": {
      "text/latex": [
       "$$(0.062439441681 - 0.003815174103 i) |00000000\\rangle+ (0.062439441681 - 0.003815174103 i) |00000001\\rangle+ (0.062439441681 - 0.003815174103 i) |00000010\\rangle+ (0.062439441681 - 0.003815174103 i) |00000011\\rangle+ (0.062439441681 - 0.003815174103 i) |00000100\\rangle+ (0.062439441681 - 0.003815174103 i) |00000101\\rangle + \\ldots + (0.062439441681 - 0.003815174103 i) |11111011\\rangle+ (0.062439441681 - 0.003815174103 i) |11111100\\rangle+ (0.062439441681 - 0.003815174103 i) |11111101\\rangle+ (0.062439441681 - 0.003815174103 i) |11111110\\rangle+ (0.062439441681 - 0.003815174103 i) |11111111\\rangle$$"
      ],
      "text/plain": [
       "<IPython.core.display.Latex object>"
      ]
     },
     "metadata": {},
     "output_type": "display_data"
    },
    {
     "name": "stdout",
     "output_type": "stream",
     "text": [
      "coherence of |ψ5⟩ =  254.97054837718503\n",
      "-------- 4  ITERATION--------\n"
     ]
    },
    {
     "data": {
      "text/plain": [
       "'applied O operator to |ψ2⟩'"
      ]
     },
     "metadata": {},
     "output_type": "display_data"
    },
    {
     "data": {
      "text/latex": [
       "$$(0.062439441681 - 0.003815174103 i) |00000000\\rangle+ (0.062439441681 - 0.003815174103 i) |00000001\\rangle+ (0.062439441681 - 0.003815174103 i) |00000010\\rangle+ (0.062439441681 - 0.003815174103 i) |00000011\\rangle+ (0.062439441681 - 0.003815174103 i) |00000100\\rangle+ (0.062439441681 - 0.003815174103 i) |00000101\\rangle + \\ldots + (0.062439441681 - 0.003815174103 i) |11111011\\rangle+ (0.062439441681 - 0.003815174103 i) |11111100\\rangle+ (0.062439441681 - 0.003815174103 i) |11111101\\rangle+ (0.062439441681 - 0.003815174103 i) |11111110\\rangle+ (0.062439441681 - 0.003815174103 i) |11111111\\rangle$$"
      ],
      "text/plain": [
       "<IPython.core.display.Latex object>"
      ]
     },
     "metadata": {},
     "output_type": "display_data"
    },
    {
     "name": "stdout",
     "output_type": "stream",
     "text": [
      "coherence of |ψ2⟩ =  254.97054837718503\n"
     ]
    },
    {
     "data": {
      "text/plain": [
       "'applied Hadamard to all |ψ1⟩'"
      ]
     },
     "metadata": {},
     "output_type": "display_data"
    },
    {
     "data": {
      "text/latex": [
       "$$(0.998077273369 - 0.061042785645 i) |00000000\\rangle+0.000953793526 |00000011\\rangle-0.000953793526 |00000100\\rangle+0.000953793526 |00000111\\rangle-0.000953793526 |00001001\\rangle+0.000953793526 |00001010\\rangle + \\ldots +0.000953793526 |11110111\\rangle-0.000953793526 |11111001\\rangle+0.000953793526 |11111010\\rangle-0.000953793526 |11111101\\rangle+0.000953793526 |11111110\\rangle$$"
      ],
      "text/plain": [
       "<IPython.core.display.Latex object>"
      ]
     },
     "metadata": {},
     "output_type": "display_data"
    },
    {
     "name": "stdout",
     "output_type": "stream",
     "text": [
      "coherence of |ψ1⟩ =  0.2568069330769558\n"
     ]
    },
    {
     "data": {
      "text/plain": [
       "'applied P operator to |ψ4⟩'"
      ]
     },
     "metadata": {},
     "output_type": "display_data"
    },
    {
     "data": {
      "text/latex": [
       "$$(0.998077273369 - 0.061042785645 i) |00000000\\rangle-0.000953793526 |00000011\\rangle+0.000953793526 |00000100\\rangle-0.000953793526 |00000111\\rangle+0.000953793526 |00001001\\rangle-0.000953793526 |00001010\\rangle + \\ldots -0.000953793526 |11110111\\rangle+0.000953793526 |11111001\\rangle-0.000953793526 |11111010\\rangle+0.000953793526 |11111101\\rangle-0.000953793526 |11111110\\rangle$$"
      ],
      "text/plain": [
       "<IPython.core.display.Latex object>"
      ]
     },
     "metadata": {},
     "output_type": "display_data"
    },
    {
     "name": "stdout",
     "output_type": "stream",
     "text": [
      "coherence of |ψ4⟩ =  0.2568069330769558\n"
     ]
    },
    {
     "data": {
      "text/plain": [
       "'applied Hadamard to all |ψ5⟩'"
      ]
     },
     "metadata": {},
     "output_type": "display_data"
    },
    {
     "data": {
      "text/latex": [
       "$$(0.06232021749 - 0.003815174103 i) |00000000\\rangle+ (0.06232021749 - 0.003815174103 i) |00000001\\rangle+ (0.06232021749 - 0.003815174103 i) |00000010\\rangle+ (0.06232021749 - 0.003815174103 i) |00000011\\rangle+ (0.06232021749 - 0.003815174103 i) |00000100\\rangle+ (0.06232021749 - 0.003815174103 i) |00000101\\rangle + \\ldots + (0.06232021749 - 0.003815174103 i) |11111011\\rangle+ (0.06232021749 - 0.003815174103 i) |11111100\\rangle+ (0.06232021749 - 0.003815174103 i) |11111101\\rangle+ (0.06232021749 - 0.003815174103 i) |11111110\\rangle+ (0.06232021749 - 0.003815174103 i) |11111111\\rangle$$"
      ],
      "text/plain": [
       "<IPython.core.display.Latex object>"
      ]
     },
     "metadata": {},
     "output_type": "display_data"
    },
    {
     "name": "stdout",
     "output_type": "stream",
     "text": [
      "coherence of |ψ5⟩ =  254.97052154154935\n",
      "-------- 5  ITERATION--------\n"
     ]
    },
    {
     "data": {
      "text/plain": [
       "'applied O operator to |ψ2⟩'"
      ]
     },
     "metadata": {},
     "output_type": "display_data"
    },
    {
     "data": {
      "text/latex": [
       "$$(0.06232021749 - 0.003815174103 i) |00000000\\rangle+ (0.06232021749 - 0.003815174103 i) |00000001\\rangle+ (0.06232021749 - 0.003815174103 i) |00000010\\rangle+ (0.06232021749 - 0.003815174103 i) |00000011\\rangle+ (0.06232021749 - 0.003815174103 i) |00000100\\rangle+ (0.06232021749 - 0.003815174103 i) |00000101\\rangle + \\ldots + (0.06232021749 - 0.003815174103 i) |11111011\\rangle+ (0.06232021749 - 0.003815174103 i) |11111100\\rangle+ (0.06232021749 - 0.003815174103 i) |11111101\\rangle+ (0.06232021749 - 0.003815174103 i) |11111110\\rangle+ (0.06232021749 - 0.003815174103 i) |11111111\\rangle$$"
      ],
      "text/plain": [
       "<IPython.core.display.Latex object>"
      ]
     },
     "metadata": {},
     "output_type": "display_data"
    },
    {
     "name": "stdout",
     "output_type": "stream",
     "text": [
      "coherence of |ψ2⟩ =  254.97052154154935\n"
     ]
    },
    {
     "data": {
      "text/plain": [
       "'applied Hadamard to all |ψ1⟩'"
      ]
     },
     "metadata": {},
     "output_type": "display_data"
    },
    {
     "data": {
      "text/latex": [
       "$$(0.988856555894 - 0.069309709594 i) |00000000\\rangle+ (0.008266923949 + 0.008266923949 i) |00000011\\rangle+ (-0.008266923949 - 0.008266923949 i) |00000100\\rangle+ (0.008266923949 + 0.008266923949 i) |00000111\\rangle+ (-0.008266923949 - 0.008266923949 i) |00001001\\rangle+ (0.008266923949 + 0.008266923949 i) |00001010\\rangle + \\ldots + (0.008266923949 + 0.008266923949 i) |11110111\\rangle+ (-0.008266923949 - 0.008266923949 i) |11111001\\rangle+ (0.008266923949 + 0.008266923949 i) |11111010\\rangle+ (-0.008266923949 - 0.008266923949 i) |11111101\\rangle+ (0.008266923949 + 0.008266923949 i) |11111110\\rangle$$"
      ],
      "text/plain": [
       "<IPython.core.display.Latex object>"
      ]
     },
     "metadata": {},
     "output_type": "display_data"
    },
    {
     "name": "stdout",
     "output_type": "stream",
     "text": [
      "coherence of |ψ1⟩ =  5.130895175828643\n"
     ]
    },
    {
     "data": {
      "text/plain": [
       "'applied P operator to |ψ4⟩'"
      ]
     },
     "metadata": {},
     "output_type": "display_data"
    },
    {
     "data": {
      "text/latex": [
       "$$(0.988856555894 - 0.069309709594 i) |00000000\\rangle+ (-0.008266923949 - 0.008266923949 i) |00000011\\rangle+ (0.008266923949 + 0.008266923949 i) |00000100\\rangle+ (-0.008266923949 - 0.008266923949 i) |00000111\\rangle+ (0.008266923949 + 0.008266923949 i) |00001001\\rangle+ (-0.008266923949 - 0.008266923949 i) |00001010\\rangle + \\ldots + (-0.008266923949 - 0.008266923949 i) |11110111\\rangle+ (0.008266923949 + 0.008266923949 i) |11111001\\rangle+ (-0.008266923949 - 0.008266923949 i) |11111010\\rangle+ (0.008266923949 + 0.008266923949 i) |11111101\\rangle+ (-0.008266923949 - 0.008266923949 i) |11111110\\rangle$$"
      ],
      "text/plain": [
       "<IPython.core.display.Latex object>"
      ]
     },
     "metadata": {},
     "output_type": "display_data"
    },
    {
     "name": "stdout",
     "output_type": "stream",
     "text": [
      "coherence of |ψ4⟩ =  5.130895175828643\n"
     ]
    },
    {
     "data": {
      "text/plain": [
       "'applied Hadamard to all |ψ5⟩'"
      ]
     },
     "metadata": {},
     "output_type": "display_data"
    },
    {
     "data": {
      "text/latex": [
       "$$(0.061286851997 - 0.004848539596 i) |00000000\\rangle+ (0.061286851997 - 0.004848539596 i) |00000001\\rangle+ (0.061286851997 - 0.004848539596 i) |00000010\\rangle+ (0.061286851997 - 0.004848539596 i) |00000011\\rangle+ (0.061286851997 - 0.004848539596 i) |00000100\\rangle+ (0.061286851997 - 0.004848539596 i) |00000101\\rangle + \\ldots + (0.061286851997 - 0.004848539596 i) |11111011\\rangle+ (0.061286851997 - 0.004848539596 i) |11111100\\rangle+ (0.061286851997 - 0.004848539596 i) |11111101\\rangle+ (0.061286851997 - 0.004848539596 i) |11111110\\rangle+ (0.061286851997 - 0.004848539596 i) |11111111\\rangle$$"
      ],
      "text/plain": [
       "<IPython.core.display.Latex object>"
      ]
     },
     "metadata": {},
     "output_type": "display_data"
    },
    {
     "name": "stdout",
     "output_type": "stream",
     "text": [
      "coherence of |ψ5⟩ =  251.75558190862083\n",
      "-------- 6  ITERATION--------\n"
     ]
    },
    {
     "data": {
      "text/plain": [
       "'applied O operator to |ψ2⟩'"
      ]
     },
     "metadata": {},
     "output_type": "display_data"
    },
    {
     "data": {
      "text/latex": [
       "$$(0.061286851997 - 0.004848539596 i) |00000000\\rangle+ (0.061286851997 - 0.004848539596 i) |00000001\\rangle+ (0.061286851997 - 0.004848539596 i) |00000010\\rangle+ (0.061286851997 - 0.004848539596 i) |00000011\\rangle+ (0.061286851997 - 0.004848539596 i) |00000100\\rangle+ (0.061286851997 - 0.004848539596 i) |00000101\\rangle + \\ldots + (0.061286851997 - 0.004848539596 i) |11111011\\rangle+ (0.061286851997 - 0.004848539596 i) |11111100\\rangle+ (0.061286851997 - 0.004848539596 i) |11111101\\rangle+ (0.061286851997 - 0.004848539596 i) |11111110\\rangle+ (0.061286851997 - 0.004848539596 i) |11111111\\rangle$$"
      ],
      "text/plain": [
       "<IPython.core.display.Latex object>"
      ]
     },
     "metadata": {},
     "output_type": "display_data"
    },
    {
     "name": "stdout",
     "output_type": "stream",
     "text": [
      "coherence of |ψ2⟩ =  251.75558190862083\n"
     ]
    },
    {
     "data": {
      "text/plain": [
       "'applied Hadamard to all |ψ1⟩'"
      ]
     },
     "metadata": {},
     "output_type": "display_data"
    },
    {
     "data": {
      "text/latex": [
       "$$(0.980589631945 - 0.092898346542 i) |00000000\\rangle+0.015321712999 i |00000011\\rangle- 0.015321712999 i |00000100\\rangle+0.015321712999 i |00000111\\rangle- 0.015321712999 i |00001001\\rangle+0.015321712999 i |00001010\\rangle + \\ldots +0.015321712999 i |11110111\\rangle- 0.015321712999 i |11111001\\rangle+0.015321712999 i |11111010\\rangle- 0.015321712999 i |11111101\\rangle+0.015321712999 i |11111110\\rangle$$"
      ],
      "text/plain": [
       "<IPython.core.display.Latex object>"
      ]
     },
     "metadata": {},
     "output_type": "display_data"
    },
    {
     "name": "stdout",
     "output_type": "stream",
     "text": [
      "coherence of |ψ1⟩ =  7.589810322780867\n"
     ]
    },
    {
     "data": {
      "text/plain": [
       "'applied P operator to |ψ4⟩'"
      ]
     },
     "metadata": {},
     "output_type": "display_data"
    },
    {
     "data": {
      "text/latex": [
       "$$(0.980589631945 - 0.092898346542 i) |00000000\\rangle- 0.015321712999 i |00000011\\rangle+0.015321712999 i |00000100\\rangle- 0.015321712999 i |00000111\\rangle+0.015321712999 i |00001001\\rangle- 0.015321712999 i |00001010\\rangle + \\ldots - 0.015321712999 i |11110111\\rangle+0.015321712999 i |11111001\\rangle- 0.015321712999 i |11111010\\rangle+0.015321712999 i |11111101\\rangle- 0.015321712999 i |11111110\\rangle$$"
      ],
      "text/plain": [
       "<IPython.core.display.Latex object>"
      ]
     },
     "metadata": {},
     "output_type": "display_data"
    },
    {
     "name": "stdout",
     "output_type": "stream",
     "text": [
      "coherence of |ψ4⟩ =  7.589810322780867\n"
     ]
    },
    {
     "data": {
      "text/plain": [
       "'applied Hadamard to all |ψ5⟩'"
      ]
     },
     "metadata": {},
     "output_type": "display_data"
    },
    {
     "data": {
      "text/latex": [
       "$$(0.061286851997 - 0.006763753721 i) |00000000\\rangle+ (0.061286851997 - 0.006763753721 i) |00000001\\rangle+ (0.061286851997 - 0.006763753721 i) |00000010\\rangle+ (0.061286851997 - 0.006763753721 i) |00000011\\rangle+ (0.061286851997 - 0.006763753721 i) |00000100\\rangle+ (0.061286851997 - 0.006763753721 i) |00000101\\rangle + \\ldots + (0.061286851997 - 0.006763753721 i) |11111011\\rangle+ (0.061286851997 - 0.006763753721 i) |11111100\\rangle+ (0.061286851997 - 0.006763753721 i) |11111101\\rangle+ (0.061286851997 - 0.006763753721 i) |11111110\\rangle+ (0.061286851997 - 0.006763753721 i) |11111111\\rangle$$"
      ],
      "text/plain": [
       "<IPython.core.display.Latex object>"
      ]
     },
     "metadata": {},
     "output_type": "display_data"
    },
    {
     "name": "stdout",
     "output_type": "stream",
     "text": [
      "coherence of |ψ5⟩ =  252.5555556448472\n",
      "-------- 7  ITERATION--------\n"
     ]
    },
    {
     "data": {
      "text/plain": [
       "'applied O operator to |ψ2⟩'"
      ]
     },
     "metadata": {},
     "output_type": "display_data"
    },
    {
     "data": {
      "text/latex": [
       "$$(0.061286851997 - 0.006763753721 i) |00000000\\rangle+ (0.061286851997 - 0.006763753721 i) |00000001\\rangle+ (0.061286851997 - 0.006763753721 i) |00000010\\rangle+ (0.061286851997 - 0.006763753721 i) |00000011\\rangle+ (0.061286851997 - 0.006763753721 i) |00000100\\rangle+ (0.061286851997 - 0.006763753721 i) |00000101\\rangle + \\ldots + (0.061286851997 - 0.006763753721 i) |11111011\\rangle+ (0.061286851997 - 0.006763753721 i) |11111100\\rangle+ (0.061286851997 - 0.006763753721 i) |11111101\\rangle+ (0.061286851997 - 0.006763753721 i) |11111110\\rangle+ (0.061286851997 - 0.006763753721 i) |11111111\\rangle$$"
      ],
      "text/plain": [
       "<IPython.core.display.Latex object>"
      ]
     },
     "metadata": {},
     "output_type": "display_data"
    },
    {
     "name": "stdout",
     "output_type": "stream",
     "text": [
      "coherence of |ψ2⟩ =  252.5555556448472\n"
     ]
    },
    {
     "data": {
      "text/plain": [
       "'applied Hadamard to all |ψ1⟩'"
      ]
     },
     "metadata": {},
     "output_type": "display_data"
    },
    {
     "data": {
      "text/latex": [
       "$$(0.987405019229 - 0.115035446825 i) |00000000\\rangle+ (-0.006815387284 + 0.006815387284 i) |00000011\\rangle+ (0.006815387284 - 0.006815387284 i) |00000100\\rangle+ (-0.006815387284 + 0.006815387284 i) |00000111\\rangle+ (0.006815387284 - 0.006815387284 i) |00001001\\rangle+ (-0.006815387284 + 0.006815387284 i) |00001010\\rangle + \\ldots + (-0.006815387284 + 0.006815387284 i) |11110111\\rangle+ (0.006815387284 - 0.006815387284 i) |11111001\\rangle+ (-0.006815387284 + 0.006815387284 i) |11111010\\rangle+ (0.006815387284 - 0.006815387284 i) |11111101\\rangle+ (-0.006815387284 + 0.006815387284 i) |11111110\\rangle$$"
      ],
      "text/plain": [
       "<IPython.core.display.Latex object>"
      ]
     },
     "metadata": {},
     "output_type": "display_data"
    },
    {
     "name": "stdout",
     "output_type": "stream",
     "text": [
      "coherence of |ψ1⟩ =  3.920242115054315\n"
     ]
    },
    {
     "data": {
      "text/plain": [
       "'applied P operator to |ψ4⟩'"
      ]
     },
     "metadata": {},
     "output_type": "display_data"
    },
    {
     "data": {
      "text/latex": [
       "$$(0.987405019229 - 0.115035446825 i) |00000000\\rangle+ (0.006815387284 - 0.006815387284 i) |00000011\\rangle+ (-0.006815387284 + 0.006815387284 i) |00000100\\rangle+ (0.006815387284 - 0.006815387284 i) |00000111\\rangle+ (-0.006815387284 + 0.006815387284 i) |00001001\\rangle+ (0.006815387284 - 0.006815387284 i) |00001010\\rangle + \\ldots + (0.006815387284 - 0.006815387284 i) |11110111\\rangle+ (-0.006815387284 + 0.006815387284 i) |11111001\\rangle+ (0.006815387284 - 0.006815387284 i) |11111010\\rangle+ (-0.006815387284 + 0.006815387284 i) |11111101\\rangle+ (0.006815387284 - 0.006815387284 i) |11111110\\rangle$$"
      ],
      "text/plain": [
       "<IPython.core.display.Latex object>"
      ]
     },
     "metadata": {},
     "output_type": "display_data"
    },
    {
     "name": "stdout",
     "output_type": "stream",
     "text": [
      "coherence of |ψ4⟩ =  3.920242115054315\n"
     ]
    },
    {
     "data": {
      "text/plain": [
       "'applied Hadamard to all |ψ5⟩'"
      ]
     },
     "metadata": {},
     "output_type": "display_data"
    },
    {
     "data": {
      "text/latex": [
       "$$(0.062138775407 - 0.007615677132 i) |00000000\\rangle+ (0.062138775407 - 0.007615677132 i) |00000001\\rangle+ (0.062138775407 - 0.007615677132 i) |00000010\\rangle+ (0.062138775407 - 0.007615677132 i) |00000011\\rangle+ (0.062138775407 - 0.007615677132 i) |00000100\\rangle+ (0.062138775407 - 0.007615677132 i) |00000101\\rangle + \\ldots + (0.062138775407 - 0.007615677132 i) |11111011\\rangle+ (0.062138775407 - 0.007615677132 i) |11111100\\rangle+ (0.062138775407 - 0.007615677132 i) |11111101\\rangle+ (0.062138775407 - 0.007615677132 i) |11111110\\rangle+ (0.062138775407 - 0.007615677132 i) |11111111\\rangle$$"
      ],
      "text/plain": [
       "<IPython.core.display.Latex object>"
      ]
     },
     "metadata": {},
     "output_type": "display_data"
    },
    {
     "name": "stdout",
     "output_type": "stream",
     "text": [
      "coherence of |ψ5⟩ =  254.88444540172364\n",
      "-------- 8  ITERATION--------\n"
     ]
    },
    {
     "data": {
      "text/plain": [
       "'applied O operator to |ψ2⟩'"
      ]
     },
     "metadata": {},
     "output_type": "display_data"
    },
    {
     "data": {
      "text/latex": [
       "$$(0.062138775407 - 0.007615677132 i) |00000000\\rangle+ (0.062138775407 - 0.007615677132 i) |00000001\\rangle+ (0.062138775407 - 0.007615677132 i) |00000010\\rangle+ (0.062138775407 - 0.007615677132 i) |00000011\\rangle+ (0.062138775407 - 0.007615677132 i) |00000100\\rangle+ (0.062138775407 - 0.007615677132 i) |00000101\\rangle + \\ldots + (0.062138775407 - 0.007615677132 i) |11111011\\rangle+ (0.062138775407 - 0.007615677132 i) |11111100\\rangle+ (0.062138775407 - 0.007615677132 i) |11111101\\rangle+ (0.062138775407 - 0.007615677132 i) |11111110\\rangle+ (0.062138775407 - 0.007615677132 i) |11111111\\rangle$$"
      ],
      "text/plain": [
       "<IPython.core.display.Latex object>"
      ]
     },
     "metadata": {},
     "output_type": "display_data"
    },
    {
     "name": "stdout",
     "output_type": "stream",
     "text": [
      "coherence of |ψ2⟩ =  254.88444540172364\n"
     ]
    },
    {
     "data": {
      "text/plain": [
       "'applied Hadamard to all |ψ1⟩'"
      ]
     },
     "metadata": {},
     "output_type": "display_data"
    },
    {
     "data": {
      "text/latex": [
       "$$(0.992316487231 - 0.12185083411 i) |00000000\\rangle+0.001903919283 |00000011\\rangle-0.001903919283 |00000100\\rangle+0.001903919283 |00000111\\rangle-0.001903919283 |00001001\\rangle+0.001903919283 |00001010\\rangle + \\ldots +0.001903919283 |11110111\\rangle-0.001903919283 |11111001\\rangle+0.001903919283 |11111010\\rangle-0.001903919283 |11111101\\rangle+0.001903919283 |11111110\\rangle$$"
      ],
      "text/plain": [
       "<IPython.core.display.Latex object>"
      ]
     },
     "metadata": {},
     "output_type": "display_data"
    },
    {
     "name": "stdout",
     "output_type": "stream",
     "text": [
      "coherence of |ψ1⟩ =  0.5414899582200668\n"
     ]
    },
    {
     "data": {
      "text/plain": [
       "'applied P operator to |ψ4⟩'"
      ]
     },
     "metadata": {},
     "output_type": "display_data"
    },
    {
     "data": {
      "text/latex": [
       "$$(0.992316487231 - 0.12185083411 i) |00000000\\rangle-0.001903919283 |00000011\\rangle+0.001903919283 |00000100\\rangle-0.001903919283 |00000111\\rangle+0.001903919283 |00001001\\rangle-0.001903919283 |00001010\\rangle + \\ldots -0.001903919283 |11110111\\rangle+0.001903919283 |11111001\\rangle-0.001903919283 |11111010\\rangle+0.001903919283 |11111101\\rangle-0.001903919283 |11111110\\rangle$$"
      ],
      "text/plain": [
       "<IPython.core.display.Latex object>"
      ]
     },
     "metadata": {},
     "output_type": "display_data"
    },
    {
     "name": "stdout",
     "output_type": "stream",
     "text": [
      "coherence of |ψ4⟩ =  0.5414899582200668\n"
     ]
    },
    {
     "data": {
      "text/plain": [
       "'applied Hadamard to all |ψ5⟩'"
      ]
     },
     "metadata": {},
     "output_type": "display_data"
    },
    {
     "data": {
      "text/latex": [
       "$$(0.061900785497 - 0.007615677132 i) |00000000\\rangle+ (0.061900785497 - 0.007615677132 i) |00000001\\rangle+ (0.061900785497 - 0.007615677132 i) |00000010\\rangle+ (0.061900785497 - 0.007615677132 i) |00000011\\rangle+ (0.061900785497 - 0.007615677132 i) |00000100\\rangle+ (0.061900785497 - 0.007615677132 i) |00000101\\rangle + \\ldots + (0.061900785497 - 0.007615677132 i) |11111011\\rangle+ (0.061900785497 - 0.007615677132 i) |11111100\\rangle+ (0.061900785497 - 0.007615677132 i) |11111101\\rangle+ (0.061900785497 - 0.007615677132 i) |11111110\\rangle+ (0.061900785497 - 0.007615677132 i) |11111111\\rangle$$"
      ],
      "text/plain": [
       "<IPython.core.display.Latex object>"
      ]
     },
     "metadata": {},
     "output_type": "display_data"
    },
    {
     "name": "stdout",
     "output_type": "stream",
     "text": [
      "coherence of |ψ5⟩ =  254.88356119978732\n",
      "======================================== FOR ϕ =  285.00000000000006 ========================================\n"
     ]
    },
    {
     "data": {
      "text/plain": [
       "'initialised |ψ0⟩'"
      ]
     },
     "metadata": {},
     "output_type": "display_data"
    },
    {
     "data": {
      "text/latex": [
       "$$ |00000000\\rangle$$"
      ],
      "text/plain": [
       "<IPython.core.display.Latex object>"
      ]
     },
     "metadata": {},
     "output_type": "display_data"
    },
    {
     "name": "stdout",
     "output_type": "stream",
     "text": [
      "coherence of |ψ0⟩ =  0.0\n"
     ]
    },
    {
     "data": {
      "text/plain": [
       "'applied Hadamard to all |ψ1⟩'"
      ]
     },
     "metadata": {},
     "output_type": "display_data"
    },
    {
     "data": {
      "text/latex": [
       "$$\\frac{1}{16} |00000000\\rangle+\\frac{1}{16} |00000001\\rangle+\\frac{1}{16} |00000010\\rangle+\\frac{1}{16} |00000011\\rangle+\\frac{1}{16} |00000100\\rangle+\\frac{1}{16} |00000101\\rangle + \\ldots +\\frac{1}{16} |11111011\\rangle+\\frac{1}{16} |11111100\\rangle+\\frac{1}{16} |11111101\\rangle+\\frac{1}{16} |11111110\\rangle+\\frac{1}{16} |11111111\\rangle$$"
      ],
      "text/plain": [
       "<IPython.core.display.Latex object>"
      ]
     },
     "metadata": {},
     "output_type": "display_data"
    },
    {
     "name": "stdout",
     "output_type": "stream",
     "text": [
      "coherence of |ψ1⟩ =  255.00000000000003\n",
      "-------- 1  ITERATION--------\n"
     ]
    },
    {
     "data": {
      "text/plain": [
       "'applied O operator to |ψ2⟩'"
      ]
     },
     "metadata": {},
     "output_type": "display_data"
    },
    {
     "data": {
      "text/latex": [
       "$$\\frac{1}{16} |00000000\\rangle+\\frac{1}{16} |00000001\\rangle+\\frac{1}{16} |00000010\\rangle+\\frac{1}{16} |00000011\\rangle+\\frac{1}{16} |00000100\\rangle+\\frac{1}{16} |00000101\\rangle + \\ldots +\\frac{1}{16} |11111011\\rangle+\\frac{1}{16} |11111100\\rangle+\\frac{1}{16} |11111101\\rangle+\\frac{1}{16} |11111110\\rangle+\\frac{1}{16} |11111111\\rangle$$"
      ],
      "text/plain": [
       "<IPython.core.display.Latex object>"
      ]
     },
     "metadata": {},
     "output_type": "display_data"
    },
    {
     "name": "stdout",
     "output_type": "stream",
     "text": [
      "coherence of |ψ2⟩ =  255.00000000000003\n"
     ]
    },
    {
     "data": {
      "text/plain": [
       "'applied Hadamard to all |ψ1⟩'"
      ]
     },
     "metadata": {},
     "output_type": "display_data"
    },
    {
     "data": {
      "text/latex": [
       "$$(0.99420952379 - 0.007546295518 i) |00000000\\rangle+ (0.00579047621 + 0.007546295518 i) |00000011\\rangle+ (-0.00579047621 - 0.007546295518 i) |00000100\\rangle+ (0.00579047621 + 0.007546295518 i) |00000111\\rangle+ (-0.00579047621 - 0.007546295518 i) |00001001\\rangle+ (0.00579047621 + 0.007546295518 i) |00001010\\rangle + \\ldots + (0.00579047621 + 0.007546295518 i) |11110111\\rangle+ (-0.00579047621 - 0.007546295518 i) |11111001\\rangle+ (0.00579047621 + 0.007546295518 i) |11111010\\rangle+ (-0.00579047621 - 0.007546295518 i) |11111101\\rangle+ (0.00579047621 + 0.007546295518 i) |11111110\\rangle$$"
      ],
      "text/plain": [
       "<IPython.core.display.Latex object>"
      ]
     },
     "metadata": {},
     "output_type": "display_data"
    },
    {
     "name": "stdout",
     "output_type": "stream",
     "text": [
      "coherence of |ψ1⟩ =  3.849901200585787\n"
     ]
    },
    {
     "data": {
      "text/plain": [
       "'applied P operator to |ψ4⟩'"
      ]
     },
     "metadata": {},
     "output_type": "display_data"
    },
    {
     "data": {
      "text/latex": [
       "$$(0.99420952379 - 0.007546295518 i) |00000000\\rangle+ (-0.00579047621 - 0.007546295518 i) |00000011\\rangle+ (0.00579047621 + 0.007546295518 i) |00000100\\rangle+ (-0.00579047621 - 0.007546295518 i) |00000111\\rangle+ (0.00579047621 + 0.007546295518 i) |00001001\\rangle+ (-0.00579047621 - 0.007546295518 i) |00001010\\rangle + \\ldots + (-0.00579047621 - 0.007546295518 i) |11110111\\rangle+ (0.00579047621 + 0.007546295518 i) |11111001\\rangle+ (-0.00579047621 - 0.007546295518 i) |11111010\\rangle+ (0.00579047621 + 0.007546295518 i) |11111101\\rangle+ (-0.00579047621 - 0.007546295518 i) |11111110\\rangle$$"
      ],
      "text/plain": [
       "<IPython.core.display.Latex object>"
      ]
     },
     "metadata": {},
     "output_type": "display_data"
    },
    {
     "name": "stdout",
     "output_type": "stream",
     "text": [
      "coherence of |ψ4⟩ =  3.849901200585787\n"
     ]
    },
    {
     "data": {
      "text/plain": [
       "'applied Hadamard to all |ψ5⟩'"
      ]
     },
     "metadata": {},
     "output_type": "display_data"
    },
    {
     "data": {
      "text/latex": [
       "$$(0.061776190474 - 0.00094328694 i) |00000000\\rangle+ (0.061776190474 - 0.00094328694 i) |00000001\\rangle+ (0.061776190474 - 0.00094328694 i) |00000010\\rangle+ (0.061776190474 - 0.00094328694 i) |00000011\\rangle+ (0.061776190474 - 0.00094328694 i) |00000100\\rangle+ (0.061776190474 - 0.00094328694 i) |00000101\\rangle + \\ldots + (0.061776190474 - 0.00094328694 i) |11111011\\rangle+ (0.061776190474 - 0.00094328694 i) |11111100\\rangle+ (0.061776190474 - 0.00094328694 i) |11111101\\rangle+ (0.061776190474 - 0.00094328694 i) |11111110\\rangle+ (0.061776190474 - 0.00094328694 i) |11111111\\rangle$$"
      ],
      "text/plain": [
       "<IPython.core.display.Latex object>"
      ]
     },
     "metadata": {},
     "output_type": "display_data"
    },
    {
     "name": "stdout",
     "output_type": "stream",
     "text": [
      "coherence of |ψ5⟩ =  253.07395453911928\n",
      "-------- 2  ITERATION--------\n"
     ]
    },
    {
     "data": {
      "text/plain": [
       "'applied O operator to |ψ2⟩'"
      ]
     },
     "metadata": {},
     "output_type": "display_data"
    },
    {
     "data": {
      "text/latex": [
       "$$(0.061776190474 - 0.00094328694 i) |00000000\\rangle+ (0.061776190474 - 0.00094328694 i) |00000001\\rangle+ (0.061776190474 - 0.00094328694 i) |00000010\\rangle+ (0.061776190474 - 0.00094328694 i) |00000011\\rangle+ (0.061776190474 - 0.00094328694 i) |00000100\\rangle+ (0.061776190474 - 0.00094328694 i) |00000101\\rangle + \\ldots + (0.061776190474 - 0.00094328694 i) |11111011\\rangle+ (0.061776190474 - 0.00094328694 i) |11111100\\rangle+ (0.061776190474 - 0.00094328694 i) |11111101\\rangle+ (0.061776190474 - 0.00094328694 i) |11111110\\rangle+ (0.061776190474 - 0.00094328694 i) |11111111\\rangle$$"
      ],
      "text/plain": [
       "<IPython.core.display.Latex object>"
      ]
     },
     "metadata": {},
     "output_type": "display_data"
    },
    {
     "name": "stdout",
     "output_type": "stream",
     "text": [
      "coherence of |ψ2⟩ =  253.07395453911928\n"
     ]
    },
    {
     "data": {
      "text/plain": [
       "'applied Hadamard to all |ψ1⟩'"
      ]
     },
     "metadata": {},
     "output_type": "display_data"
    },
    {
     "data": {
      "text/latex": [
       "$$(0.991369584704 - 0.026104145493 i) |00000000\\rangle+ (-0.002950537124 + 0.011011554457 i) |00000011\\rangle+ (0.002950537124 - 0.011011554457 i) |00000100\\rangle+ (-0.002950537124 + 0.011011554457 i) |00000111\\rangle+ (0.002950537124 - 0.011011554457 i) |00001001\\rangle+ (-0.002950537124 + 0.011011554457 i) |00001010\\rangle + \\ldots + (-0.002950537124 + 0.011011554457 i) |11110111\\rangle+ (0.002950537124 - 0.011011554457 i) |11111001\\rangle+ (-0.002950537124 + 0.011011554457 i) |11111010\\rangle+ (0.002950537124 - 0.011011554457 i) |11111101\\rangle+ (-0.002950537124 + 0.011011554457 i) |11111110\\rangle$$"
      ],
      "text/plain": [
       "<IPython.core.display.Latex object>"
      ]
     },
     "metadata": {},
     "output_type": "display_data"
    },
    {
     "name": "stdout",
     "output_type": "stream",
     "text": [
      "coherence of |ψ1⟩ =  4.95122469868979\n"
     ]
    },
    {
     "data": {
      "text/plain": [
       "'applied P operator to |ψ4⟩'"
      ]
     },
     "metadata": {},
     "output_type": "display_data"
    },
    {
     "data": {
      "text/latex": [
       "$$(0.991369584704 - 0.026104145493 i) |00000000\\rangle+ (0.002950537124 - 0.011011554457 i) |00000011\\rangle+ (-0.002950537124 + 0.011011554457 i) |00000100\\rangle+ (0.002950537124 - 0.011011554457 i) |00000111\\rangle+ (-0.002950537124 + 0.011011554457 i) |00001001\\rangle+ (0.002950537124 - 0.011011554457 i) |00001010\\rangle + \\ldots + (0.002950537124 - 0.011011554457 i) |11110111\\rangle+ (-0.002950537124 + 0.011011554457 i) |11111001\\rangle+ (0.002950537124 - 0.011011554457 i) |11111010\\rangle+ (-0.002950537124 + 0.011011554457 i) |11111101\\rangle+ (0.002950537124 - 0.011011554457 i) |11111110\\rangle$$"
      ],
      "text/plain": [
       "<IPython.core.display.Latex object>"
      ]
     },
     "metadata": {},
     "output_type": "display_data"
    },
    {
     "name": "stdout",
     "output_type": "stream",
     "text": [
      "coherence of |ψ4⟩ =  4.95122469868979\n"
     ]
    },
    {
     "data": {
      "text/plain": [
       "'applied Hadamard to all |ψ5⟩'"
      ]
     },
     "metadata": {},
     "output_type": "display_data"
    },
    {
     "data": {
      "text/latex": [
       "$$(0.062145007614 - 0.002319731247 i) |00000000\\rangle+ (0.062145007614 - 0.002319731247 i) |00000001\\rangle+ (0.062145007614 - 0.002319731247 i) |00000010\\rangle+ (0.062145007614 - 0.002319731247 i) |00000011\\rangle+ (0.062145007614 - 0.002319731247 i) |00000100\\rangle+ (0.062145007614 - 0.002319731247 i) |00000101\\rangle + \\ldots + (0.062145007614 - 0.002319731247 i) |11111011\\rangle+ (0.062145007614 - 0.002319731247 i) |11111100\\rangle+ (0.062145007614 - 0.002319731247 i) |11111101\\rangle+ (0.062145007614 - 0.002319731247 i) |11111110\\rangle+ (0.062145007614 - 0.002319731247 i) |11111111\\rangle$$"
      ],
      "text/plain": [
       "<IPython.core.display.Latex object>"
      ]
     },
     "metadata": {},
     "output_type": "display_data"
    },
    {
     "name": "stdout",
     "output_type": "stream",
     "text": [
      "coherence of |ψ5⟩ =  254.48482070301176\n",
      "-------- 3  ITERATION--------\n"
     ]
    },
    {
     "data": {
      "text/plain": [
       "'applied O operator to |ψ2⟩'"
      ]
     },
     "metadata": {},
     "output_type": "display_data"
    },
    {
     "data": {
      "text/latex": [
       "$$(0.062145007614 - 0.002319731247 i) |00000000\\rangle+ (0.062145007614 - 0.002319731247 i) |00000001\\rangle+ (0.062145007614 - 0.002319731247 i) |00000010\\rangle+ (0.062145007614 - 0.002319731247 i) |00000011\\rangle+ (0.062145007614 - 0.002319731247 i) |00000100\\rangle+ (0.062145007614 - 0.002319731247 i) |00000101\\rangle + \\ldots + (0.062145007614 - 0.002319731247 i) |11111011\\rangle+ (0.062145007614 - 0.002319731247 i) |11111100\\rangle+ (0.062145007614 - 0.002319731247 i) |11111101\\rangle+ (0.062145007614 - 0.002319731247 i) |11111110\\rangle+ (0.062145007614 - 0.002319731247 i) |11111111\\rangle$$"
      ],
      "text/plain": [
       "<IPython.core.display.Latex object>"
      ]
     },
     "metadata": {},
     "output_type": "display_data"
    },
    {
     "name": "stdout",
     "output_type": "stream",
     "text": [
      "coherence of |ψ2⟩ =  254.48482070301176\n"
     ]
    },
    {
     "data": {
      "text/plain": [
       "'applied Hadamard to all |ψ1⟩'"
      ]
     },
     "metadata": {},
     "output_type": "display_data"
    },
    {
     "data": {
      "text/latex": [
       "$$(0.998155138414 - 0.038704215832 i) |00000000\\rangle+ (-0.003835016586 + 0.001588515882 i) |00000011\\rangle+ (0.003835016586 - 0.001588515882 i) |00000100\\rangle+ (-0.003835016586 + 0.001588515882 i) |00000111\\rangle+ (0.003835016586 - 0.001588515882 i) |00001001\\rangle+ (-0.003835016586 + 0.001588515882 i) |00001010\\rangle + \\ldots + (-0.003835016586 + 0.001588515882 i) |11110111\\rangle+ (0.003835016586 - 0.001588515882 i) |11111001\\rangle+ (-0.003835016586 + 0.001588515882 i) |11111010\\rangle+ (0.003835016586 - 0.001588515882 i) |11111101\\rangle+ (-0.003835016586 + 0.001588515882 i) |11111110\\rangle$$"
      ],
      "text/plain": [
       "<IPython.core.display.Latex object>"
      ]
     },
     "metadata": {},
     "output_type": "display_data"
    },
    {
     "name": "stdout",
     "output_type": "stream",
     "text": [
      "coherence of |ψ1⟩ =  1.328923945673931\n"
     ]
    },
    {
     "data": {
      "text/plain": [
       "'applied P operator to |ψ4⟩'"
      ]
     },
     "metadata": {},
     "output_type": "display_data"
    },
    {
     "data": {
      "text/latex": [
       "$$(0.998155138414 - 0.038704215832 i) |00000000\\rangle+ (0.003835016586 - 0.001588515882 i) |00000011\\rangle+ (-0.003835016586 + 0.001588515882 i) |00000100\\rangle+ (0.003835016586 - 0.001588515882 i) |00000111\\rangle+ (-0.003835016586 + 0.001588515882 i) |00001001\\rangle+ (0.003835016586 - 0.001588515882 i) |00001010\\rangle + \\ldots + (0.003835016586 - 0.001588515882 i) |11110111\\rangle+ (-0.003835016586 + 0.001588515882 i) |11111001\\rangle+ (0.003835016586 - 0.001588515882 i) |11111010\\rangle+ (-0.003835016586 + 0.001588515882 i) |11111101\\rangle+ (0.003835016586 - 0.001588515882 i) |11111110\\rangle$$"
      ],
      "text/plain": [
       "<IPython.core.display.Latex object>"
      ]
     },
     "metadata": {},
     "output_type": "display_data"
    },
    {
     "name": "stdout",
     "output_type": "stream",
     "text": [
      "coherence of |ψ4⟩ =  1.328923945673931\n"
     ]
    },
    {
     "data": {
      "text/plain": [
       "'applied Hadamard to all |ψ5⟩'"
      ]
     },
     "metadata": {},
     "output_type": "display_data"
    },
    {
     "data": {
      "text/latex": [
       "$$(0.062624384687 - 0.002518295732 i) |00000000\\rangle+ (0.062624384687 - 0.002518295732 i) |00000001\\rangle+ (0.062624384687 - 0.002518295732 i) |00000010\\rangle+ (0.062624384687 - 0.002518295732 i) |00000011\\rangle+ (0.062624384687 - 0.002518295732 i) |00000100\\rangle+ (0.062624384687 - 0.002518295732 i) |00000101\\rangle + \\ldots + (0.062624384687 - 0.002518295732 i) |11111011\\rangle+ (0.062624384687 - 0.002518295732 i) |11111100\\rangle+ (0.062624384687 - 0.002518295732 i) |11111101\\rangle+ (0.062624384687 - 0.002518295732 i) |11111110\\rangle+ (0.062624384687 - 0.002518295732 i) |11111111\\rangle$$"
      ],
      "text/plain": [
       "<IPython.core.display.Latex object>"
      ]
     },
     "metadata": {},
     "output_type": "display_data"
    },
    {
     "name": "stdout",
     "output_type": "stream",
     "text": [
      "coherence of |ψ5⟩ =  254.56849218982816\n",
      "-------- 4  ITERATION--------\n"
     ]
    },
    {
     "data": {
      "text/plain": [
       "'applied O operator to |ψ2⟩'"
      ]
     },
     "metadata": {},
     "output_type": "display_data"
    },
    {
     "data": {
      "text/latex": [
       "$$(0.062624384687 - 0.002518295732 i) |00000000\\rangle+ (0.062624384687 - 0.002518295732 i) |00000001\\rangle+ (0.062624384687 - 0.002518295732 i) |00000010\\rangle+ (0.062624384687 - 0.002518295732 i) |00000011\\rangle+ (0.062624384687 - 0.002518295732 i) |00000100\\rangle+ (0.062624384687 - 0.002518295732 i) |00000101\\rangle + \\ldots + (0.062624384687 - 0.002518295732 i) |11111011\\rangle+ (0.062624384687 - 0.002518295732 i) |11111100\\rangle+ (0.062624384687 - 0.002518295732 i) |11111101\\rangle+ (0.062624384687 - 0.002518295732 i) |11111110\\rangle+ (0.062624384687 - 0.002518295732 i) |11111111\\rangle$$"
      ],
      "text/plain": [
       "<IPython.core.display.Latex object>"
      ]
     },
     "metadata": {},
     "output_type": "display_data"
    },
    {
     "name": "stdout",
     "output_type": "stream",
     "text": [
      "coherence of |ψ2⟩ =  254.56849218982816\n"
     ]
    },
    {
     "data": {
      "text/plain": [
       "'applied Hadamard to all |ψ1⟩'"
      ]
     },
     "metadata": {},
     "output_type": "display_data"
    },
    {
     "data": {
      "text/latex": [
       "$$(0.996425907169 - 0.043505251697 i) |00000000\\rangle+ (0.005564247831 + 0.003212519983 i) |00000011\\rangle+ (-0.005564247831 - 0.003212519983 i) |00000100\\rangle+ (0.005564247831 + 0.003212519983 i) |00000111\\rangle+ (-0.005564247831 - 0.003212519983 i) |00001001\\rangle+ (0.005564247831 + 0.003212519983 i) |00001010\\rangle + \\ldots + (0.005564247831 + 0.003212519983 i) |11110111\\rangle+ (-0.005564247831 - 0.003212519983 i) |11111001\\rangle+ (0.005564247831 + 0.003212519983 i) |11111010\\rangle+ (-0.005564247831 - 0.003212519983 i) |11111101\\rangle+ (0.005564247831 + 0.003212519983 i) |11111110\\rangle$$"
      ],
      "text/plain": [
       "<IPython.core.display.Latex object>"
      ]
     },
     "metadata": {},
     "output_type": "display_data"
    },
    {
     "name": "stdout",
     "output_type": "stream",
     "text": [
      "coherence of |ψ1⟩ =  2.2882573665378967\n"
     ]
    },
    {
     "data": {
      "text/plain": [
       "'applied P operator to |ψ4⟩'"
      ]
     },
     "metadata": {},
     "output_type": "display_data"
    },
    {
     "data": {
      "text/latex": [
       "$$(0.996425907169 - 0.043505251697 i) |00000000\\rangle+ (-0.005564247831 - 0.003212519983 i) |00000011\\rangle+ (0.005564247831 + 0.003212519983 i) |00000100\\rangle+ (-0.005564247831 - 0.003212519983 i) |00000111\\rangle+ (0.005564247831 + 0.003212519983 i) |00001001\\rangle+ (-0.005564247831 - 0.003212519983 i) |00001010\\rangle + \\ldots + (-0.005564247831 - 0.003212519983 i) |11110111\\rangle+ (0.005564247831 + 0.003212519983 i) |11111001\\rangle+ (-0.005564247831 - 0.003212519983 i) |11111010\\rangle+ (0.005564247831 + 0.003212519983 i) |11111101\\rangle+ (-0.005564247831 - 0.003212519983 i) |11111110\\rangle$$"
      ],
      "text/plain": [
       "<IPython.core.display.Latex object>"
      ]
     },
     "metadata": {},
     "output_type": "display_data"
    },
    {
     "name": "stdout",
     "output_type": "stream",
     "text": [
      "coherence of |ψ4⟩ =  2.2882573665378967\n"
     ]
    },
    {
     "data": {
      "text/plain": [
       "'applied Hadamard to all |ψ5⟩'"
      ]
     },
     "metadata": {},
     "output_type": "display_data"
    },
    {
     "data": {
      "text/latex": [
       "$$(0.061928853709 - 0.00291986073 i) |00000000\\rangle+ (0.061928853709 - 0.00291986073 i) |00000001\\rangle+ (0.061928853709 - 0.00291986073 i) |00000010\\rangle+ (0.061928853709 - 0.00291986073 i) |00000011\\rangle+ (0.061928853709 - 0.00291986073 i) |00000100\\rangle+ (0.061928853709 - 0.00291986073 i) |00000101\\rangle + \\ldots + (0.061928853709 - 0.00291986073 i) |11111011\\rangle+ (0.061928853709 - 0.00291986073 i) |11111100\\rangle+ (0.061928853709 - 0.00291986073 i) |11111101\\rangle+ (0.061928853709 - 0.00291986073 i) |11111110\\rangle+ (0.061928853709 - 0.00291986073 i) |11111111\\rangle$$"
      ],
      "text/plain": [
       "<IPython.core.display.Latex object>"
      ]
     },
     "metadata": {},
     "output_type": "display_data"
    },
    {
     "name": "stdout",
     "output_type": "stream",
     "text": [
      "coherence of |ψ5⟩ =  253.88471507616077\n",
      "-------- 5  ITERATION--------\n"
     ]
    },
    {
     "data": {
      "text/plain": [
       "'applied O operator to |ψ2⟩'"
      ]
     },
     "metadata": {},
     "output_type": "display_data"
    },
    {
     "data": {
      "text/latex": [
       "$$(0.061928853709 - 0.00291986073 i) |00000000\\rangle+ (0.061928853709 - 0.00291986073 i) |00000001\\rangle+ (0.061928853709 - 0.00291986073 i) |00000010\\rangle+ (0.061928853709 - 0.00291986073 i) |00000011\\rangle+ (0.061928853709 - 0.00291986073 i) |00000100\\rangle+ (0.061928853709 - 0.00291986073 i) |00000101\\rangle + \\ldots + (0.061928853709 - 0.00291986073 i) |11111011\\rangle+ (0.061928853709 - 0.00291986073 i) |11111100\\rangle+ (0.061928853709 - 0.00291986073 i) |11111101\\rangle+ (0.061928853709 - 0.00291986073 i) |11111110\\rangle+ (0.061928853709 - 0.00291986073 i) |11111111\\rangle$$"
      ],
      "text/plain": [
       "<IPython.core.display.Latex object>"
      ]
     },
     "metadata": {},
     "output_type": "display_data"
    },
    {
     "name": "stdout",
     "output_type": "stream",
     "text": [
      "coherence of |ψ2⟩ =  253.88471507616077\n"
     ]
    },
    {
     "data": {
      "text/plain": [
       "'applied Hadamard to all |ψ1⟩'"
      ]
     },
     "metadata": {},
     "output_type": "display_data"
    },
    {
     "data": {
      "text/latex": [
       "$$(0.98931474169 - 0.058467777762 i) |00000000\\rangle+ (0.001546917647 + 0.011750006083 i) |00000011\\rangle+ (-0.001546917647 - 0.011750006083 i) |00000100\\rangle+ (0.001546917647 + 0.011750006083 i) |00000111\\rangle+ (-0.001546917647 - 0.011750006083 i) |00001001\\rangle+ (0.001546917647 + 0.011750006083 i) |00001010\\rangle + \\ldots + (0.001546917647 + 0.011750006083 i) |11110111\\rangle+ (-0.001546917647 - 0.011750006083 i) |11111001\\rangle+ (0.001546917647 + 0.011750006083 i) |11111010\\rangle+ (-0.001546917647 - 0.011750006083 i) |11111101\\rangle+ (0.001546917647 + 0.011750006083 i) |11111110\\rangle$$"
      ],
      "text/plain": [
       "<IPython.core.display.Latex object>"
      ]
     },
     "metadata": {},
     "output_type": "display_data"
    },
    {
     "name": "stdout",
     "output_type": "stream",
     "text": [
      "coherence of |ψ1⟩ =  5.230856095922799\n"
     ]
    },
    {
     "data": {
      "text/plain": [
       "'applied P operator to |ψ4⟩'"
      ]
     },
     "metadata": {},
     "output_type": "display_data"
    },
    {
     "data": {
      "text/latex": [
       "$$(0.98931474169 - 0.058467777762 i) |00000000\\rangle+ (-0.001546917647 - 0.011750006083 i) |00000011\\rangle+ (0.001546917647 + 0.011750006083 i) |00000100\\rangle+ (-0.001546917647 - 0.011750006083 i) |00000111\\rangle+ (0.001546917647 + 0.011750006083 i) |00001001\\rangle+ (-0.001546917647 - 0.011750006083 i) |00001010\\rangle + \\ldots + (-0.001546917647 - 0.011750006083 i) |11110111\\rangle+ (0.001546917647 + 0.011750006083 i) |11111001\\rangle+ (-0.001546917647 - 0.011750006083 i) |11111010\\rangle+ (0.001546917647 + 0.011750006083 i) |11111101\\rangle+ (-0.001546917647 - 0.011750006083 i) |11111110\\rangle$$"
      ],
      "text/plain": [
       "<IPython.core.display.Latex object>"
      ]
     },
     "metadata": {},
     "output_type": "display_data"
    },
    {
     "name": "stdout",
     "output_type": "stream",
     "text": [
      "coherence of |ψ4⟩ =  5.230856095922799\n"
     ]
    },
    {
     "data": {
      "text/plain": [
       "'applied Hadamard to all |ψ5⟩'"
      ]
     },
     "metadata": {},
     "output_type": "display_data"
    },
    {
     "data": {
      "text/latex": [
       "$$(0.061735489003 - 0.00438861149 i) |00000000\\rangle+ (0.061735489003 - 0.00438861149 i) |00000001\\rangle+ (0.061735489003 - 0.00438861149 i) |00000010\\rangle+ (0.061735489003 - 0.00438861149 i) |00000011\\rangle+ (0.061735489003 - 0.00438861149 i) |00000100\\rangle+ (0.061735489003 - 0.00438861149 i) |00000101\\rangle + \\ldots + (0.061735489003 - 0.00438861149 i) |11111011\\rangle+ (0.061735489003 - 0.00438861149 i) |11111100\\rangle+ (0.061735489003 - 0.00438861149 i) |11111101\\rangle+ (0.061735489003 - 0.00438861149 i) |11111110\\rangle+ (0.061735489003 - 0.00438861149 i) |11111111\\rangle$$"
      ],
      "text/plain": [
       "<IPython.core.display.Latex object>"
      ]
     },
     "metadata": {},
     "output_type": "display_data"
    },
    {
     "name": "stdout",
     "output_type": "stream",
     "text": [
      "coherence of |ψ5⟩ =  253.49689152834242\n",
      "-------- 6  ITERATION--------\n"
     ]
    },
    {
     "data": {
      "text/plain": [
       "'applied O operator to |ψ2⟩'"
      ]
     },
     "metadata": {},
     "output_type": "display_data"
    },
    {
     "data": {
      "text/latex": [
       "$$(0.061735489003 - 0.00438861149 i) |00000000\\rangle+ (0.061735489003 - 0.00438861149 i) |00000001\\rangle+ (0.061735489003 - 0.00438861149 i) |00000010\\rangle+ (0.061735489003 - 0.00438861149 i) |00000011\\rangle+ (0.061735489003 - 0.00438861149 i) |00000100\\rangle+ (0.061735489003 - 0.00438861149 i) |00000101\\rangle + \\ldots + (0.061735489003 - 0.00438861149 i) |11111011\\rangle+ (0.061735489003 - 0.00438861149 i) |11111100\\rangle+ (0.061735489003 - 0.00438861149 i) |11111101\\rangle+ (0.061735489003 - 0.00438861149 i) |11111110\\rangle+ (0.061735489003 - 0.00438861149 i) |11111111\\rangle$$"
      ],
      "text/plain": [
       "<IPython.core.display.Latex object>"
      ]
     },
     "metadata": {},
     "output_type": "display_data"
    },
    {
     "name": "stdout",
     "output_type": "stream",
     "text": [
      "coherence of |ψ2⟩ =  253.49689152834242\n"
     ]
    },
    {
     "data": {
      "text/plain": [
       "'applied Hadamard to all |ψ1⟩'"
      ]
     },
     "metadata": {},
     "output_type": "display_data"
    },
    {
     "data": {
      "text/latex": [
       "$$(0.993268299892 - 0.075718259694 i) |00000000\\rangle+ (-0.005500475849 + 0.005500475849 i) |00000011\\rangle+ (0.005500475849 - 0.005500475849 i) |00000100\\rangle+ (-0.005500475849 + 0.005500475849 i) |00000111\\rangle+ (0.005500475849 - 0.005500475849 i) |00001001\\rangle+ (-0.005500475849 + 0.005500475849 i) |00001010\\rangle + \\ldots + (-0.005500475849 + 0.005500475849 i) |11110111\\rangle+ (0.005500475849 - 0.005500475849 i) |11111001\\rangle+ (-0.005500475849 + 0.005500475849 i) |11111010\\rangle+ (0.005500475849 - 0.005500475849 i) |11111101\\rangle+ (-0.005500475849 + 0.005500475849 i) |11111110\\rangle$$"
      ],
      "text/plain": [
       "<IPython.core.display.Latex object>"
      ]
     },
     "metadata": {},
     "output_type": "display_data"
    },
    {
     "name": "stdout",
     "output_type": "stream",
     "text": [
      "coherence of |ψ1⟩ =  2.9365092134917528\n"
     ]
    },
    {
     "data": {
      "text/plain": [
       "'applied P operator to |ψ4⟩'"
      ]
     },
     "metadata": {},
     "output_type": "display_data"
    },
    {
     "data": {
      "text/latex": [
       "$$(0.993268299892 - 0.075718259694 i) |00000000\\rangle+ (0.005500475849 - 0.005500475849 i) |00000011\\rangle+ (-0.005500475849 + 0.005500475849 i) |00000100\\rangle+ (0.005500475849 - 0.005500475849 i) |00000111\\rangle+ (-0.005500475849 + 0.005500475849 i) |00001001\\rangle+ (0.005500475849 - 0.005500475849 i) |00001010\\rangle + \\ldots + (0.005500475849 - 0.005500475849 i) |11110111\\rangle+ (-0.005500475849 + 0.005500475849 i) |11111001\\rangle+ (0.005500475849 - 0.005500475849 i) |11111010\\rangle+ (-0.005500475849 + 0.005500475849 i) |11111101\\rangle+ (0.005500475849 - 0.005500475849 i) |11111110\\rangle$$"
      ],
      "text/plain": [
       "<IPython.core.display.Latex object>"
      ]
     },
     "metadata": {},
     "output_type": "display_data"
    },
    {
     "name": "stdout",
     "output_type": "stream",
     "text": [
      "coherence of |ψ4⟩ =  2.9365092134917528\n"
     ]
    },
    {
     "data": {
      "text/plain": [
       "'applied Hadamard to all |ψ5⟩'"
      ]
     },
     "metadata": {},
     "output_type": "display_data"
    },
    {
     "data": {
      "text/latex": [
       "$$(0.062423048484 - 0.005076170971 i) |00000000\\rangle+ (0.062423048484 - 0.005076170971 i) |00000001\\rangle+ (0.062423048484 - 0.005076170971 i) |00000010\\rangle+ (0.062423048484 - 0.005076170971 i) |00000011\\rangle+ (0.062423048484 - 0.005076170971 i) |00000100\\rangle+ (0.062423048484 - 0.005076170971 i) |00000101\\rangle + \\ldots + (0.062423048484 - 0.005076170971 i) |11111011\\rangle+ (0.062423048484 - 0.005076170971 i) |11111100\\rangle+ (0.062423048484 - 0.005076170971 i) |11111101\\rangle+ (0.062423048484 - 0.005076170971 i) |11111110\\rangle+ (0.062423048484 - 0.005076170971 i) |11111111\\rangle$$"
      ],
      "text/plain": [
       "<IPython.core.display.Latex object>"
      ]
     },
     "metadata": {},
     "output_type": "display_data"
    },
    {
     "name": "stdout",
     "output_type": "stream",
     "text": [
      "coherence of |ψ5⟩ =  254.80556900528322\n",
      "-------- 7  ITERATION--------\n"
     ]
    },
    {
     "data": {
      "text/plain": [
       "'applied O operator to |ψ2⟩'"
      ]
     },
     "metadata": {},
     "output_type": "display_data"
    },
    {
     "data": {
      "text/latex": [
       "$$(0.062423048484 - 0.005076170971 i) |00000000\\rangle+ (0.062423048484 - 0.005076170971 i) |00000001\\rangle+ (0.062423048484 - 0.005076170971 i) |00000010\\rangle+ (0.062423048484 - 0.005076170971 i) |00000011\\rangle+ (0.062423048484 - 0.005076170971 i) |00000100\\rangle+ (0.062423048484 - 0.005076170971 i) |00000101\\rangle + \\ldots + (0.062423048484 - 0.005076170971 i) |11111011\\rangle+ (0.062423048484 - 0.005076170971 i) |11111100\\rangle+ (0.062423048484 - 0.005076170971 i) |11111101\\rangle+ (0.062423048484 - 0.005076170971 i) |11111110\\rangle+ (0.062423048484 - 0.005076170971 i) |11111111\\rangle$$"
      ],
      "text/plain": [
       "<IPython.core.display.Latex object>"
      ]
     },
     "metadata": {},
     "output_type": "display_data"
    },
    {
     "name": "stdout",
     "output_type": "stream",
     "text": [
      "coherence of |ψ2⟩ =  254.80556900528322\n"
     ]
    },
    {
     "data": {
      "text/plain": [
       "'applied Hadamard to all |ψ1⟩'"
      ]
     },
     "metadata": {},
     "output_type": "display_data"
    },
    {
     "data": {
      "text/latex": [
       "$$(0.996261952098 - 0.081548765137 i) |00000000\\rangle+ (0.002506823643 + 0.000330029594 i) |00000011\\rangle+ (-0.002506823643 - 0.000330029594 i) |00000100\\rangle+ (0.002506823643 + 0.000330029594 i) |00000111\\rangle+ (-0.002506823643 - 0.000330029594 i) |00001001\\rangle+ (0.002506823643 + 0.000330029594 i) |00001010\\rangle + \\ldots + (0.002506823643 + 0.000330029594 i) |11110111\\rangle+ (-0.002506823643 - 0.000330029594 i) |11111001\\rangle+ (0.002506823643 + 0.000330029594 i) |11111010\\rangle+ (-0.002506823643 - 0.000330029594 i) |11111101\\rangle+ (0.002506823643 + 0.000330029594 i) |11111110\\rangle$$"
      ],
      "text/plain": [
       "<IPython.core.display.Latex object>"
      ]
     },
     "metadata": {},
     "output_type": "display_data"
    },
    {
     "name": "stdout",
     "output_type": "stream",
     "text": [
      "coherence of |ψ1⟩ =  0.7442689139239249\n"
     ]
    },
    {
     "data": {
      "text/plain": [
       "'applied P operator to |ψ4⟩'"
      ]
     },
     "metadata": {},
     "output_type": "display_data"
    },
    {
     "data": {
      "text/latex": [
       "$$(0.996261952098 - 0.081548765137 i) |00000000\\rangle+ (-0.002506823643 - 0.000330029594 i) |00000011\\rangle+ (0.002506823643 + 0.000330029594 i) |00000100\\rangle+ (-0.002506823643 - 0.000330029594 i) |00000111\\rangle+ (0.002506823643 + 0.000330029594 i) |00001001\\rangle+ (-0.002506823643 - 0.000330029594 i) |00001010\\rangle + \\ldots + (-0.002506823643 - 0.000330029594 i) |11110111\\rangle+ (0.002506823643 + 0.000330029594 i) |11111001\\rangle+ (-0.002506823643 - 0.000330029594 i) |11111010\\rangle+ (0.002506823643 + 0.000330029594 i) |11111101\\rangle+ (-0.002506823643 - 0.000330029594 i) |11111110\\rangle$$"
      ],
      "text/plain": [
       "<IPython.core.display.Latex object>"
      ]
     },
     "metadata": {},
     "output_type": "display_data"
    },
    {
     "name": "stdout",
     "output_type": "stream",
     "text": [
      "coherence of |ψ4⟩ =  0.7442689139239249\n"
     ]
    },
    {
     "data": {
      "text/plain": [
       "'applied Hadamard to all |ψ5⟩'"
      ]
     },
     "metadata": {},
     "output_type": "display_data"
    },
    {
     "data": {
      "text/latex": [
       "$$(0.062109695528 - 0.005117424671 i) |00000000\\rangle+ (0.062109695528 - 0.005117424671 i) |00000001\\rangle+ (0.062109695528 - 0.005117424671 i) |00000010\\rangle+ (0.062109695528 - 0.005117424671 i) |00000011\\rangle+ (0.062109695528 - 0.005117424671 i) |00000100\\rangle+ (0.062109695528 - 0.005117424671 i) |00000101\\rangle + \\ldots + (0.062109695528 - 0.005117424671 i) |11111011\\rangle+ (0.062109695528 - 0.005117424671 i) |11111100\\rangle+ (0.062109695528 - 0.005117424671 i) |11111101\\rangle+ (0.062109695528 - 0.005117424671 i) |11111110\\rangle+ (0.062109695528 - 0.005117424671 i) |11111111\\rangle$$"
      ],
      "text/plain": [
       "<IPython.core.display.Latex object>"
      ]
     },
     "metadata": {},
     "output_type": "display_data"
    },
    {
     "name": "stdout",
     "output_type": "stream",
     "text": [
      "coherence of |ψ5⟩ =  254.799201614306\n",
      "-------- 8  ITERATION--------\n"
     ]
    },
    {
     "data": {
      "text/plain": [
       "'applied O operator to |ψ2⟩'"
      ]
     },
     "metadata": {},
     "output_type": "display_data"
    },
    {
     "data": {
      "text/latex": [
       "$$(0.062109695528 - 0.005117424671 i) |00000000\\rangle+ (0.062109695528 - 0.005117424671 i) |00000001\\rangle+ (0.062109695528 - 0.005117424671 i) |00000010\\rangle+ (0.062109695528 - 0.005117424671 i) |00000011\\rangle+ (0.062109695528 - 0.005117424671 i) |00000100\\rangle+ (0.062109695528 - 0.005117424671 i) |00000101\\rangle + \\ldots + (0.062109695528 - 0.005117424671 i) |11111011\\rangle+ (0.062109695528 - 0.005117424671 i) |11111100\\rangle+ (0.062109695528 - 0.005117424671 i) |11111101\\rangle+ (0.062109695528 - 0.005117424671 i) |11111110\\rangle+ (0.062109695528 - 0.005117424671 i) |11111111\\rangle$$"
      ],
      "text/plain": [
       "<IPython.core.display.Latex object>"
      ]
     },
     "metadata": {},
     "output_type": "display_data"
    },
    {
     "name": "stdout",
     "output_type": "stream",
     "text": [
      "coherence of |ψ2⟩ =  254.799201614306\n"
     ]
    },
    {
     "data": {
      "text/plain": [
       "'applied Hadamard to all |ψ1⟩'"
      ]
     },
     "metadata": {},
     "output_type": "display_data"
    },
    {
     "data": {
      "text/latex": [
       "$$(0.988350529253 - 0.091239835143 i) |00000000\\rangle+ (0.005404599202 + 0.009361040413 i) |00000011\\rangle+ (-0.005404599202 - 0.009361040413 i) |00000100\\rangle+ (0.005404599202 + 0.009361040413 i) |00000111\\rangle+ (-0.005404599202 - 0.009361040413 i) |00001001\\rangle+ (0.005404599202 + 0.009361040413 i) |00001010\\rangle + \\ldots + (0.005404599202 + 0.009361040413 i) |11110111\\rangle+ (-0.005404599202 - 0.009361040413 i) |11111001\\rangle+ (0.005404599202 + 0.009361040413 i) |11111010\\rangle+ (-0.005404599202 - 0.009361040413 i) |11111101\\rangle+ (0.005404599202 + 0.009361040413 i) |11111110\\rangle$$"
      ],
      "text/plain": [
       "<IPython.core.display.Latex object>"
      ]
     },
     "metadata": {},
     "output_type": "display_data"
    },
    {
     "name": "stdout",
     "output_type": "stream",
     "text": [
      "coherence of |ψ1⟩ =  4.594744410652679\n"
     ]
    },
    {
     "data": {
      "text/plain": [
       "'applied P operator to |ψ4⟩'"
      ]
     },
     "metadata": {},
     "output_type": "display_data"
    },
    {
     "data": {
      "text/latex": [
       "$$(0.988350529253 - 0.091239835143 i) |00000000\\rangle+ (-0.005404599202 - 0.009361040413 i) |00000011\\rangle+ (0.005404599202 + 0.009361040413 i) |00000100\\rangle+ (-0.005404599202 - 0.009361040413 i) |00000111\\rangle+ (0.005404599202 + 0.009361040413 i) |00001001\\rangle+ (-0.005404599202 - 0.009361040413 i) |00001010\\rangle + \\ldots + (-0.005404599202 - 0.009361040413 i) |11110111\\rangle+ (0.005404599202 + 0.009361040413 i) |11111001\\rangle+ (-0.005404599202 - 0.009361040413 i) |11111010\\rangle+ (0.005404599202 + 0.009361040413 i) |11111101\\rangle+ (-0.005404599202 - 0.009361040413 i) |11111110\\rangle$$"
      ],
      "text/plain": [
       "<IPython.core.display.Latex object>"
      ]
     },
     "metadata": {},
     "output_type": "display_data"
    },
    {
     "name": "stdout",
     "output_type": "stream",
     "text": [
      "coherence of |ψ4⟩ =  4.594744410652679\n"
     ]
    },
    {
     "data": {
      "text/plain": [
       "'applied Hadamard to all |ψ5⟩'"
      ]
     },
     "metadata": {},
     "output_type": "display_data"
    },
    {
     "data": {
      "text/latex": [
       "$$(0.061434120628 - 0.006287554722 i) |00000000\\rangle+ (0.061434120628 - 0.006287554722 i) |00000001\\rangle+ (0.061434120628 - 0.006287554722 i) |00000010\\rangle+ (0.061434120628 - 0.006287554722 i) |00000011\\rangle+ (0.061434120628 - 0.006287554722 i) |00000100\\rangle+ (0.061434120628 - 0.006287554722 i) |00000101\\rangle + \\ldots + (0.061434120628 - 0.006287554722 i) |11111011\\rangle+ (0.061434120628 - 0.006287554722 i) |11111100\\rangle+ (0.061434120628 - 0.006287554722 i) |11111101\\rangle+ (0.061434120628 - 0.006287554722 i) |11111110\\rangle+ (0.061434120628 - 0.006287554722 i) |11111111\\rangle$$"
      ],
      "text/plain": [
       "<IPython.core.display.Latex object>"
      ]
     },
     "metadata": {},
     "output_type": "display_data"
    },
    {
     "name": "stdout",
     "output_type": "stream",
     "text": [
      "coherence of |ψ5⟩ =  252.95850546061897\n",
      "======================================== FOR ϕ =  300.00000000000006 ========================================\n"
     ]
    },
    {
     "data": {
      "text/plain": [
       "'initialised |ψ0⟩'"
      ]
     },
     "metadata": {},
     "output_type": "display_data"
    },
    {
     "data": {
      "text/latex": [
       "$$ |00000000\\rangle$$"
      ],
      "text/plain": [
       "<IPython.core.display.Latex object>"
      ]
     },
     "metadata": {},
     "output_type": "display_data"
    },
    {
     "name": "stdout",
     "output_type": "stream",
     "text": [
      "coherence of |ψ0⟩ =  0.0\n"
     ]
    },
    {
     "data": {
      "text/plain": [
       "'applied Hadamard to all |ψ1⟩'"
      ]
     },
     "metadata": {},
     "output_type": "display_data"
    },
    {
     "data": {
      "text/latex": [
       "$$\\frac{1}{16} |00000000\\rangle+\\frac{1}{16} |00000001\\rangle+\\frac{1}{16} |00000010\\rangle+\\frac{1}{16} |00000011\\rangle+\\frac{1}{16} |00000100\\rangle+\\frac{1}{16} |00000101\\rangle + \\ldots +\\frac{1}{16} |11111011\\rangle+\\frac{1}{16} |11111100\\rangle+\\frac{1}{16} |11111101\\rangle+\\frac{1}{16} |11111110\\rangle+\\frac{1}{16} |11111111\\rangle$$"
      ],
      "text/plain": [
       "<IPython.core.display.Latex object>"
      ]
     },
     "metadata": {},
     "output_type": "display_data"
    },
    {
     "name": "stdout",
     "output_type": "stream",
     "text": [
      "coherence of |ψ1⟩ =  255.00000000000003\n",
      "-------- 1  ITERATION--------\n"
     ]
    },
    {
     "data": {
      "text/plain": [
       "'applied O operator to |ψ2⟩'"
      ]
     },
     "metadata": {},
     "output_type": "display_data"
    },
    {
     "data": {
      "text/latex": [
       "$$\\frac{1}{16} |00000000\\rangle+\\frac{1}{16} |00000001\\rangle+\\frac{1}{16} |00000010\\rangle+\\frac{1}{16} |00000011\\rangle+\\frac{1}{16} |00000100\\rangle+\\frac{1}{16} |00000101\\rangle + \\ldots +\\frac{1}{16} |11111011\\rangle+\\frac{1}{16} |11111100\\rangle+\\frac{1}{16} |11111101\\rangle+\\frac{1}{16} |11111110\\rangle+\\frac{1}{16} |11111111\\rangle$$"
      ],
      "text/plain": [
       "<IPython.core.display.Latex object>"
      ]
     },
     "metadata": {},
     "output_type": "display_data"
    },
    {
     "name": "stdout",
     "output_type": "stream",
     "text": [
      "coherence of |ψ2⟩ =  255.00000000000003\n"
     ]
    },
    {
     "data": {
      "text/plain": [
       "'applied Hadamard to all |ψ1⟩'"
      ]
     },
     "metadata": {},
     "output_type": "display_data"
    },
    {
     "data": {
      "text/latex": [
       "$$(0.99609375 - 0.006765823467 i) |00000000\\rangle+ (0.00390625 + 0.006765823467 i) |00000011\\rangle+ (-0.00390625 - 0.006765823467 i) |00000100\\rangle+ (0.00390625 + 0.006765823467 i) |00000111\\rangle+ (-0.00390625 - 0.006765823467 i) |00001001\\rangle+ (0.00390625 + 0.006765823467 i) |00001010\\rangle + \\ldots + (0.00390625 + 0.006765823467 i) |11110111\\rangle+ (-0.00390625 - 0.006765823467 i) |11111001\\rangle+ (0.00390625 + 0.006765823467 i) |11111010\\rangle+ (-0.00390625 - 0.006765823467 i) |11111101\\rangle+ (0.00390625 + 0.006765823467 i) |11111110\\rangle$$"
      ],
      "text/plain": [
       "<IPython.core.display.Latex object>"
      ]
     },
     "metadata": {},
     "output_type": "display_data"
    },
    {
     "name": "stdout",
     "output_type": "stream",
     "text": [
      "coherence of |ψ1⟩ =  2.9533537017948808\n"
     ]
    },
    {
     "data": {
      "text/plain": [
       "'applied P operator to |ψ4⟩'"
      ]
     },
     "metadata": {},
     "output_type": "display_data"
    },
    {
     "data": {
      "text/latex": [
       "$$(0.99609375 - 0.006765823467 i) |00000000\\rangle+ (-0.00390625 - 0.006765823467 i) |00000011\\rangle+ (0.00390625 + 0.006765823467 i) |00000100\\rangle+ (-0.00390625 - 0.006765823467 i) |00000111\\rangle+ (0.00390625 + 0.006765823467 i) |00001001\\rangle+ (-0.00390625 - 0.006765823467 i) |00001010\\rangle + \\ldots + (-0.00390625 - 0.006765823467 i) |11110111\\rangle+ (0.00390625 + 0.006765823467 i) |11111001\\rangle+ (-0.00390625 - 0.006765823467 i) |11111010\\rangle+ (0.00390625 + 0.006765823467 i) |11111101\\rangle+ (-0.00390625 - 0.006765823467 i) |11111110\\rangle$$"
      ],
      "text/plain": [
       "<IPython.core.display.Latex object>"
      ]
     },
     "metadata": {},
     "output_type": "display_data"
    },
    {
     "name": "stdout",
     "output_type": "stream",
     "text": [
      "coherence of |ψ4⟩ =  2.9533537017948808\n"
     ]
    },
    {
     "data": {
      "text/plain": [
       "'applied Hadamard to all |ψ5⟩'"
      ]
     },
     "metadata": {},
     "output_type": "display_data"
    },
    {
     "data": {
      "text/latex": [
       "$$(0.06201171875 - 0.000845727933 i) |00000000\\rangle+ (0.06201171875 - 0.000845727933 i) |00000001\\rangle+ (0.06201171875 - 0.000845727933 i) |00000010\\rangle+ (0.06201171875 - 0.000845727933 i) |00000011\\rangle+ (0.06201171875 - 0.000845727933 i) |00000100\\rangle+ (0.06201171875 - 0.000845727933 i) |00000101\\rangle + \\ldots + (0.06201171875 - 0.000845727933 i) |11111011\\rangle+ (0.06201171875 - 0.000845727933 i) |11111100\\rangle+ (0.06201171875 - 0.000845727933 i) |11111101\\rangle+ (0.06201171875 - 0.000845727933 i) |11111110\\rangle+ (0.06201171875 - 0.000845727933 i) |11111111\\rangle$$"
      ],
      "text/plain": [
       "<IPython.core.display.Latex object>"
      ]
     },
     "metadata": {},
     "output_type": "display_data"
    },
    {
     "name": "stdout",
     "output_type": "stream",
     "text": [
      "coherence of |ψ5⟩ =  253.95334250385557\n",
      "-------- 2  ITERATION--------\n"
     ]
    },
    {
     "data": {
      "text/plain": [
       "'applied O operator to |ψ2⟩'"
      ]
     },
     "metadata": {},
     "output_type": "display_data"
    },
    {
     "data": {
      "text/latex": [
       "$$(0.06201171875 - 0.000845727933 i) |00000000\\rangle+ (0.06201171875 - 0.000845727933 i) |00000001\\rangle+ (0.06201171875 - 0.000845727933 i) |00000010\\rangle+ (0.06201171875 - 0.000845727933 i) |00000011\\rangle+ (0.06201171875 - 0.000845727933 i) |00000100\\rangle+ (0.06201171875 - 0.000845727933 i) |00000101\\rangle + \\ldots + (0.06201171875 - 0.000845727933 i) |11111011\\rangle+ (0.06201171875 - 0.000845727933 i) |11111100\\rangle+ (0.06201171875 - 0.000845727933 i) |11111101\\rangle+ (0.06201171875 - 0.000845727933 i) |11111110\\rangle+ (0.06201171875 - 0.000845727933 i) |11111111\\rangle$$"
      ],
      "text/plain": [
       "<IPython.core.display.Latex object>"
      ]
     },
     "metadata": {},
     "output_type": "display_data"
    },
    {
     "name": "stdout",
     "output_type": "stream",
     "text": [
      "coherence of |ψ2⟩ =  253.95334250385557\n"
     ]
    },
    {
     "data": {
      "text/plain": [
       "'applied Hadamard to all |ψ1⟩'"
      ]
     },
     "metadata": {},
     "output_type": "display_data"
    },
    {
     "data": {
      "text/latex": [
       "$$(0.996032714844 - 0.02019175441 i) |00000000\\rangle+ (-0.003845214844 + 0.006660107475 i) |00000011\\rangle+ (0.003845214844 - 0.006660107475 i) |00000100\\rangle+ (-0.003845214844 + 0.006660107475 i) |00000111\\rangle+ (0.003845214844 - 0.006660107475 i) |00001001\\rangle+ (-0.003845214844 + 0.006660107475 i) |00001010\\rangle + \\ldots + (-0.003845214844 + 0.006660107475 i) |11110111\\rangle+ (0.003845214844 - 0.006660107475 i) |11111001\\rangle+ (-0.003845214844 + 0.006660107475 i) |11111010\\rangle+ (0.003845214844 - 0.006660107475 i) |11111101\\rangle+ (-0.003845214844 + 0.006660107475 i) |11111110\\rangle$$"
      ],
      "text/plain": [
       "<IPython.core.display.Latex object>"
      ]
     },
     "metadata": {},
     "output_type": "display_data"
    },
    {
     "name": "stdout",
     "output_type": "stream",
     "text": [
      "coherence of |ψ1⟩ =  2.892420940187692\n"
     ]
    },
    {
     "data": {
      "text/plain": [
       "'applied P operator to |ψ4⟩'"
      ]
     },
     "metadata": {},
     "output_type": "display_data"
    },
    {
     "data": {
      "text/latex": [
       "$$(0.996032714844 - 0.02019175441 i) |00000000\\rangle+ (0.003845214844 - 0.006660107475 i) |00000011\\rangle+ (-0.003845214844 + 0.006660107475 i) |00000100\\rangle+ (0.003845214844 - 0.006660107475 i) |00000111\\rangle+ (-0.003845214844 + 0.006660107475 i) |00001001\\rangle+ (0.003845214844 - 0.006660107475 i) |00001010\\rangle + \\ldots + (0.003845214844 - 0.006660107475 i) |11110111\\rangle+ (-0.003845214844 + 0.006660107475 i) |11111001\\rangle+ (0.003845214844 - 0.006660107475 i) |11111010\\rangle+ (-0.003845214844 + 0.006660107475 i) |11111101\\rangle+ (0.003845214844 - 0.006660107475 i) |11111110\\rangle$$"
      ],
      "text/plain": [
       "<IPython.core.display.Latex object>"
      ]
     },
     "metadata": {},
     "output_type": "display_data"
    },
    {
     "name": "stdout",
     "output_type": "stream",
     "text": [
      "coherence of |ψ4⟩ =  2.892420940187692\n"
     ]
    },
    {
     "data": {
      "text/plain": [
       "'applied Hadamard to all |ψ5⟩'"
      ]
     },
     "metadata": {},
     "output_type": "display_data"
    },
    {
     "data": {
      "text/latex": [
       "$$(0.062492370605 - 0.001678241368 i) |00000000\\rangle+ (0.062492370605 - 0.001678241368 i) |00000001\\rangle+ (0.062492370605 - 0.001678241368 i) |00000010\\rangle+ (0.062492370605 - 0.001678241368 i) |00000011\\rangle+ (0.062492370605 - 0.001678241368 i) |00000100\\rangle+ (0.062492370605 - 0.001678241368 i) |00000101\\rangle + \\ldots + (0.062492370605 - 0.001678241368 i) |11111011\\rangle+ (0.062492370605 - 0.001678241368 i) |11111100\\rangle+ (0.062492370605 - 0.001678241368 i) |11111101\\rangle+ (0.062492370605 - 0.001678241368 i) |11111110\\rangle+ (0.062492370605 - 0.001678241368 i) |11111111\\rangle$$"
      ],
      "text/plain": [
       "<IPython.core.display.Latex object>"
      ]
     },
     "metadata": {},
     "output_type": "display_data"
    },
    {
     "name": "stdout",
     "output_type": "stream",
     "text": [
      "coherence of |ψ5⟩ =  254.9980937134837\n",
      "-------- 3  ITERATION--------\n"
     ]
    },
    {
     "data": {
      "text/plain": [
       "'applied O operator to |ψ2⟩'"
      ]
     },
     "metadata": {},
     "output_type": "display_data"
    },
    {
     "data": {
      "text/latex": [
       "$$(0.062492370605 - 0.001678241368 i) |00000000\\rangle+ (0.062492370605 - 0.001678241368 i) |00000001\\rangle+ (0.062492370605 - 0.001678241368 i) |00000010\\rangle+ (0.062492370605 - 0.001678241368 i) |00000011\\rangle+ (0.062492370605 - 0.001678241368 i) |00000100\\rangle+ (0.062492370605 - 0.001678241368 i) |00000101\\rangle + \\ldots + (0.062492370605 - 0.001678241368 i) |11111011\\rangle+ (0.062492370605 - 0.001678241368 i) |11111100\\rangle+ (0.062492370605 - 0.001678241368 i) |11111101\\rangle+ (0.062492370605 - 0.001678241368 i) |11111110\\rangle+ (0.062492370605 - 0.001678241368 i) |11111111\\rangle$$"
      ],
      "text/plain": [
       "<IPython.core.display.Latex object>"
      ]
     },
     "metadata": {},
     "output_type": "display_data"
    },
    {
     "name": "stdout",
     "output_type": "stream",
     "text": [
      "coherence of |ψ2⟩ =  254.9980937134837\n"
     ]
    },
    {
     "data": {
      "text/plain": [
       "'applied Hadamard to all |ψ1⟩'"
      ]
     },
     "metadata": {},
     "output_type": "display_data"
    },
    {
     "data": {
      "text/latex": [
       "$$(0.999635696411 - 0.026851861885 i) |00000000\\rangle+0.000242233276 |00000011\\rangle-0.000242233276 |00000100\\rangle+0.000242233276 |00000111\\rangle-0.000242233276 |00001001\\rangle+0.000242233276 |00001010\\rangle + \\ldots +0.000242233276 |11110111\\rangle-0.000242233276 |11111001\\rangle+0.000242233276 |11111010\\rangle-0.000242233276 |11111101\\rangle+0.000242233276 |11111110\\rangle$$"
      ],
      "text/plain": [
       "<IPython.core.display.Latex object>"
      ]
     },
     "metadata": {},
     "output_type": "display_data"
    },
    {
     "name": "stdout",
     "output_type": "stream",
     "text": [
      "coherence of |ψ1⟩ =  0.0624659716638948\n"
     ]
    },
    {
     "data": {
      "text/plain": [
       "'applied P operator to |ψ4⟩'"
      ]
     },
     "metadata": {},
     "output_type": "display_data"
    },
    {
     "data": {
      "text/latex": [
       "$$(0.999635696411 - 0.026851861885 i) |00000000\\rangle-0.000242233276 |00000011\\rangle+0.000242233276 |00000100\\rangle-0.000242233276 |00000111\\rangle+0.000242233276 |00001001\\rangle-0.000242233276 |00001010\\rangle + \\ldots -0.000242233276 |11110111\\rangle+0.000242233276 |11111001\\rangle-0.000242233276 |11111010\\rangle+0.000242233276 |11111101\\rangle-0.000242233276 |11111110\\rangle$$"
      ],
      "text/plain": [
       "<IPython.core.display.Latex object>"
      ]
     },
     "metadata": {},
     "output_type": "display_data"
    },
    {
     "name": "stdout",
     "output_type": "stream",
     "text": [
      "coherence of |ψ4⟩ =  0.0624659716638948\n"
     ]
    },
    {
     "data": {
      "text/plain": [
       "'applied Hadamard to all |ψ5⟩'"
      ]
     },
     "metadata": {},
     "output_type": "display_data"
    },
    {
     "data": {
      "text/latex": [
       "$$(0.062462091446 - 0.001678241368 i) |00000000\\rangle+ (0.062462091446 - 0.001678241368 i) |00000001\\rangle+ (0.062462091446 - 0.001678241368 i) |00000010\\rangle+ (0.062462091446 - 0.001678241368 i) |00000011\\rangle+ (0.062462091446 - 0.001678241368 i) |00000100\\rangle+ (0.062462091446 - 0.001678241368 i) |00000101\\rangle + \\ldots + (0.062462091446 - 0.001678241368 i) |11111011\\rangle+ (0.062462091446 - 0.001678241368 i) |11111100\\rangle+ (0.062462091446 - 0.001678241368 i) |11111101\\rangle+ (0.062462091446 - 0.001678241368 i) |11111110\\rangle+ (0.062462091446 - 0.001678241368 i) |11111111\\rangle$$"
      ],
      "text/plain": [
       "<IPython.core.display.Latex object>"
      ]
     },
     "metadata": {},
     "output_type": "display_data"
    },
    {
     "name": "stdout",
     "output_type": "stream",
     "text": [
      "coherence of |ψ5⟩ =  254.99809362945874\n",
      "-------- 4  ITERATION--------\n"
     ]
    },
    {
     "data": {
      "text/plain": [
       "'applied O operator to |ψ2⟩'"
      ]
     },
     "metadata": {},
     "output_type": "display_data"
    },
    {
     "data": {
      "text/latex": [
       "$$(0.062462091446 - 0.001678241368 i) |00000000\\rangle+ (0.062462091446 - 0.001678241368 i) |00000001\\rangle+ (0.062462091446 - 0.001678241368 i) |00000010\\rangle+ (0.062462091446 - 0.001678241368 i) |00000011\\rangle+ (0.062462091446 - 0.001678241368 i) |00000100\\rangle+ (0.062462091446 - 0.001678241368 i) |00000101\\rangle + \\ldots + (0.062462091446 - 0.001678241368 i) |11111011\\rangle+ (0.062462091446 - 0.001678241368 i) |11111100\\rangle+ (0.062462091446 - 0.001678241368 i) |11111101\\rangle+ (0.062462091446 - 0.001678241368 i) |11111110\\rangle+ (0.062462091446 - 0.001678241368 i) |11111111\\rangle$$"
      ],
      "text/plain": [
       "<IPython.core.display.Latex object>"
      ]
     },
     "metadata": {},
     "output_type": "display_data"
    },
    {
     "name": "stdout",
     "output_type": "stream",
     "text": [
      "coherence of |ψ2⟩ =  254.99809362945874\n"
     ]
    },
    {
     "data": {
      "text/plain": [
       "'applied Hadamard to all |ψ1⟩'"
      ]
     },
     "metadata": {},
     "output_type": "display_data"
    },
    {
     "data": {
      "text/latex": [
       "$$(0.9954290241 - 0.033718471716 i) |00000000\\rangle+ (0.003964439034 + 0.006866609831 i) |00000011\\rangle+ (-0.003964439034 - 0.006866609831 i) |00000100\\rangle+ (0.003964439034 + 0.006866609831 i) |00000111\\rangle+ (-0.003964439034 - 0.006866609831 i) |00001001\\rangle+ (0.003964439034 + 0.006866609831 i) |00001010\\rangle + \\ldots + (0.003964439034 + 0.006866609831 i) |11110111\\rangle+ (-0.003964439034 - 0.006866609831 i) |11111001\\rangle+ (0.003964439034 + 0.006866609831 i) |11111010\\rangle+ (-0.003964439034 - 0.006866609831 i) |11111101\\rangle+ (0.003964439034 + 0.006866609831 i) |11111110\\rangle$$"
      ],
      "text/plain": [
       "<IPython.core.display.Latex object>"
      ]
     },
     "metadata": {},
     "output_type": "display_data"
    },
    {
     "name": "stdout",
     "output_type": "stream",
     "text": [
      "coherence of |ψ1⟩ =  3.011878618518994\n"
     ]
    },
    {
     "data": {
      "text/plain": [
       "'applied P operator to |ψ4⟩'"
      ]
     },
     "metadata": {},
     "output_type": "display_data"
    },
    {
     "data": {
      "text/latex": [
       "$$(0.9954290241 - 0.033718471716 i) |00000000\\rangle+ (-0.003964439034 - 0.006866609831 i) |00000011\\rangle+ (0.003964439034 + 0.006866609831 i) |00000100\\rangle+ (-0.003964439034 - 0.006866609831 i) |00000111\\rangle+ (0.003964439034 + 0.006866609831 i) |00001001\\rangle+ (-0.003964439034 - 0.006866609831 i) |00001010\\rangle + \\ldots + (-0.003964439034 - 0.006866609831 i) |11110111\\rangle+ (0.003964439034 + 0.006866609831 i) |11111001\\rangle+ (-0.003964439034 - 0.006866609831 i) |11111010\\rangle+ (0.003964439034 + 0.006866609831 i) |11111101\\rangle+ (-0.003964439034 - 0.006866609831 i) |11111110\\rangle$$"
      ],
      "text/plain": [
       "<IPython.core.display.Latex object>"
      ]
     },
     "metadata": {},
     "output_type": "display_data"
    },
    {
     "name": "stdout",
     "output_type": "stream",
     "text": [
      "coherence of |ψ4⟩ =  3.011878618518994\n"
     ]
    },
    {
     "data": {
      "text/plain": [
       "'applied Hadamard to all |ψ5⟩'"
      ]
     },
     "metadata": {},
     "output_type": "display_data"
    },
    {
     "data": {
      "text/latex": [
       "$$(0.061966536567 - 0.002536567597 i) |00000000\\rangle+ (0.061966536567 - 0.002536567597 i) |00000001\\rangle+ (0.061966536567 - 0.002536567597 i) |00000010\\rangle+ (0.061966536567 - 0.002536567597 i) |00000011\\rangle+ (0.061966536567 - 0.002536567597 i) |00000100\\rangle+ (0.061966536567 - 0.002536567597 i) |00000101\\rangle + \\ldots + (0.061966536567 - 0.002536567597 i) |11111011\\rangle+ (0.061966536567 - 0.002536567597 i) |11111100\\rangle+ (0.061966536567 - 0.002536567597 i) |11111101\\rangle+ (0.061966536567 - 0.002536567597 i) |11111110\\rangle+ (0.061966536567 - 0.002536567597 i) |11111111\\rangle$$"
      ],
      "text/plain": [
       "<IPython.core.display.Latex object>"
      ]
     },
     "metadata": {},
     "output_type": "display_data"
    },
    {
     "name": "stdout",
     "output_type": "stream",
     "text": [
      "coherence of |ψ5⟩ =  253.9565830832824\n",
      "-------- 5  ITERATION--------\n"
     ]
    },
    {
     "data": {
      "text/plain": [
       "'applied O operator to |ψ2⟩'"
      ]
     },
     "metadata": {},
     "output_type": "display_data"
    },
    {
     "data": {
      "text/latex": [
       "$$(0.061966536567 - 0.002536567597 i) |00000000\\rangle+ (0.061966536567 - 0.002536567597 i) |00000001\\rangle+ (0.061966536567 - 0.002536567597 i) |00000010\\rangle+ (0.061966536567 - 0.002536567597 i) |00000011\\rangle+ (0.061966536567 - 0.002536567597 i) |00000100\\rangle+ (0.061966536567 - 0.002536567597 i) |00000101\\rangle + \\ldots + (0.061966536567 - 0.002536567597 i) |11111011\\rangle+ (0.061966536567 - 0.002536567597 i) |11111100\\rangle+ (0.061966536567 - 0.002536567597 i) |11111101\\rangle+ (0.061966536567 - 0.002536567597 i) |11111110\\rangle+ (0.061966536567 - 0.002536567597 i) |11111111\\rangle$$"
      ],
      "text/plain": [
       "<IPython.core.display.Latex object>"
      ]
     },
     "metadata": {},
     "output_type": "display_data"
    },
    {
     "name": "stdout",
     "output_type": "stream",
     "text": [
      "coherence of |ψ2⟩ =  253.9565830832824\n"
     ]
    },
    {
     "data": {
      "text/plain": [
       "'applied Hadamard to all |ψ1⟩'"
      ]
     },
     "metadata": {},
     "output_type": "display_data"
    },
    {
     "data": {
      "text/latex": [
       "$$(0.995245963102 - 0.047134620429 i) |00000000\\rangle+ (-0.003781378036 + 0.006549538882 i) |00000011\\rangle+ (0.003781378036 - 0.006549538882 i) |00000100\\rangle+ (-0.003781378036 + 0.006549538882 i) |00000111\\rangle+ (0.003781378036 - 0.006549538882 i) |00001001\\rangle+ (-0.003781378036 + 0.006549538882 i) |00001010\\rangle + \\ldots + (-0.003781378036 + 0.006549538882 i) |11110111\\rangle+ (0.003781378036 - 0.006549538882 i) |11111001\\rangle+ (-0.003781378036 + 0.006549538882 i) |11111010\\rangle+ (0.003781378036 - 0.006549538882 i) |11111101\\rangle+ (-0.003781378036 + 0.006549538882 i) |11111110\\rangle$$"
      ],
      "text/plain": [
       "<IPython.core.display.Latex object>"
      ]
     },
     "metadata": {},
     "output_type": "display_data"
    },
    {
     "name": "stdout",
     "output_type": "stream",
     "text": [
      "coherence of |ψ1⟩ =  2.8291895255821133\n"
     ]
    },
    {
     "data": {
      "text/plain": [
       "'applied P operator to |ψ4⟩'"
      ]
     },
     "metadata": {},
     "output_type": "display_data"
    },
    {
     "data": {
      "text/latex": [
       "$$(0.995245963102 - 0.047134620429 i) |00000000\\rangle+ (0.003781378036 - 0.006549538882 i) |00000011\\rangle+ (-0.003781378036 + 0.006549538882 i) |00000100\\rangle+ (0.003781378036 - 0.006549538882 i) |00000111\\rangle+ (-0.003781378036 + 0.006549538882 i) |00001001\\rangle+ (0.003781378036 - 0.006549538882 i) |00001010\\rangle + \\ldots + (0.003781378036 - 0.006549538882 i) |11110111\\rangle+ (-0.003781378036 + 0.006549538882 i) |11111001\\rangle+ (0.003781378036 - 0.006549538882 i) |11111010\\rangle+ (-0.003781378036 + 0.006549538882 i) |11111101\\rangle+ (0.003781378036 - 0.006549538882 i) |11111110\\rangle$$"
      ],
      "text/plain": [
       "<IPython.core.display.Latex object>"
      ]
     },
     "metadata": {},
     "output_type": "display_data"
    },
    {
     "name": "stdout",
     "output_type": "stream",
     "text": [
      "coherence of |ψ4⟩ =  2.8291895255821133\n"
     ]
    },
    {
     "data": {
      "text/plain": [
       "'applied Hadamard to all |ψ5⟩'"
      ]
     },
     "metadata": {},
     "output_type": "display_data"
    },
    {
     "data": {
      "text/latex": [
       "$$(0.062439208821 - 0.003355259957 i) |00000000\\rangle+ (0.062439208821 - 0.003355259957 i) |00000001\\rangle+ (0.062439208821 - 0.003355259957 i) |00000010\\rangle+ (0.062439208821 - 0.003355259957 i) |00000011\\rangle+ (0.062439208821 - 0.003355259957 i) |00000100\\rangle+ (0.062439208821 - 0.003355259957 i) |00000101\\rangle + \\ldots + (0.062439208821 - 0.003355259957 i) |11111011\\rangle+ (0.062439208821 - 0.003355259957 i) |11111100\\rangle+ (0.062439208821 - 0.003355259957 i) |11111101\\rangle+ (0.062439208821 - 0.003355259957 i) |11111110\\rangle+ (0.062439208821 - 0.003355259957 i) |11111111\\rangle$$"
      ],
      "text/plain": [
       "<IPython.core.display.Latex object>"
      ]
     },
     "metadata": {},
     "output_type": "display_data"
    },
    {
     "name": "stdout",
     "output_type": "stream",
     "text": [
      "coherence of |ψ5⟩ =  254.99239814090927\n",
      "-------- 6  ITERATION--------\n"
     ]
    },
    {
     "data": {
      "text/plain": [
       "'applied O operator to |ψ2⟩'"
      ]
     },
     "metadata": {},
     "output_type": "display_data"
    },
    {
     "data": {
      "text/latex": [
       "$$(0.062439208821 - 0.003355259957 i) |00000000\\rangle+ (0.062439208821 - 0.003355259957 i) |00000001\\rangle+ (0.062439208821 - 0.003355259957 i) |00000010\\rangle+ (0.062439208821 - 0.003355259957 i) |00000011\\rangle+ (0.062439208821 - 0.003355259957 i) |00000100\\rangle+ (0.062439208821 - 0.003355259957 i) |00000101\\rangle + \\ldots + (0.062439208821 - 0.003355259957 i) |11111011\\rangle+ (0.062439208821 - 0.003355259957 i) |11111100\\rangle+ (0.062439208821 - 0.003355259957 i) |11111101\\rangle+ (0.062439208821 - 0.003355259957 i) |11111110\\rangle+ (0.062439208821 - 0.003355259957 i) |11111111\\rangle$$"
      ],
      "text/plain": [
       "<IPython.core.display.Latex object>"
      ]
     },
     "metadata": {},
     "output_type": "display_data"
    },
    {
     "name": "stdout",
     "output_type": "stream",
     "text": [
      "coherence of |ψ2⟩ =  254.99239814090927\n"
     ]
    },
    {
     "data": {
      "text/plain": [
       "'applied Hadamard to all |ψ1⟩'"
      ]
     },
     "metadata": {},
     "output_type": "display_data"
    },
    {
     "data": {
      "text/latex": [
       "$$(0.998543051079 - 0.053684159311 i) |00000000\\rangle+0.00048429006 |00000011\\rangle-0.00048429006 |00000100\\rangle+0.00048429006 |00000111\\rangle-0.00048429006 |00001001\\rangle+0.00048429006 |00001010\\rangle + \\ldots +0.00048429006 |11110111\\rangle-0.00048429006 |11111001\\rangle+0.00048429006 |11111010\\rangle-0.00048429006 |11111101\\rangle+0.00048429006 |11111110\\rangle$$"
      ],
      "text/plain": [
       "<IPython.core.display.Latex object>"
      ]
     },
     "metadata": {},
     "output_type": "display_data"
    },
    {
     "name": "stdout",
     "output_type": "stream",
     "text": [
      "coherence of |ψ1⟩ =  0.1267609020556823\n"
     ]
    },
    {
     "data": {
      "text/plain": [
       "'applied P operator to |ψ4⟩'"
      ]
     },
     "metadata": {},
     "output_type": "display_data"
    },
    {
     "data": {
      "text/latex": [
       "$$(0.998543051079 - 0.053684159311 i) |00000000\\rangle-0.00048429006 |00000011\\rangle+0.00048429006 |00000100\\rangle-0.00048429006 |00000111\\rangle+0.00048429006 |00001001\\rangle-0.00048429006 |00001010\\rangle + \\ldots -0.00048429006 |11110111\\rangle+0.00048429006 |11111001\\rangle-0.00048429006 |11111010\\rangle+0.00048429006 |11111101\\rangle-0.00048429006 |11111110\\rangle$$"
      ],
      "text/plain": [
       "<IPython.core.display.Latex object>"
      ]
     },
     "metadata": {},
     "output_type": "display_data"
    },
    {
     "name": "stdout",
     "output_type": "stream",
     "text": [
      "coherence of |ψ4⟩ =  0.1267609020556823\n"
     ]
    },
    {
     "data": {
      "text/plain": [
       "'applied Hadamard to all |ψ5⟩'"
      ]
     },
     "metadata": {},
     "output_type": "display_data"
    },
    {
     "data": {
      "text/latex": [
       "$$(0.062378672564 - 0.003355259957 i) |00000000\\rangle+ (0.062378672564 - 0.003355259957 i) |00000001\\rangle+ (0.062378672564 - 0.003355259957 i) |00000010\\rangle+ (0.062378672564 - 0.003355259957 i) |00000011\\rangle+ (0.062378672564 - 0.003355259957 i) |00000100\\rangle+ (0.062378672564 - 0.003355259957 i) |00000101\\rangle + \\ldots + (0.062378672564 - 0.003355259957 i) |11111011\\rangle+ (0.062378672564 - 0.003355259957 i) |11111100\\rangle+ (0.062378672564 - 0.003355259957 i) |11111101\\rangle+ (0.062378672564 - 0.003355259957 i) |11111110\\rangle+ (0.062378672564 - 0.003355259957 i) |11111111\\rangle$$"
      ],
      "text/plain": [
       "<IPython.core.display.Latex object>"
      ]
     },
     "metadata": {},
     "output_type": "display_data"
    },
    {
     "name": "stdout",
     "output_type": "stream",
     "text": [
      "coherence of |ψ5⟩ =  254.99239545262017\n",
      "-------- 7  ITERATION--------\n"
     ]
    },
    {
     "data": {
      "text/plain": [
       "'applied O operator to |ψ2⟩'"
      ]
     },
     "metadata": {},
     "output_type": "display_data"
    },
    {
     "data": {
      "text/latex": [
       "$$(0.062378672564 - 0.003355259957 i) |00000000\\rangle+ (0.062378672564 - 0.003355259957 i) |00000001\\rangle+ (0.062378672564 - 0.003355259957 i) |00000010\\rangle+ (0.062378672564 - 0.003355259957 i) |00000011\\rangle+ (0.062378672564 - 0.003355259957 i) |00000100\\rangle+ (0.062378672564 - 0.003355259957 i) |00000101\\rangle + \\ldots + (0.062378672564 - 0.003355259957 i) |11111011\\rangle+ (0.062378672564 - 0.003355259957 i) |11111100\\rangle+ (0.062378672564 - 0.003355259957 i) |11111101\\rangle+ (0.062378672564 - 0.003355259957 i) |11111110\\rangle+ (0.062378672564 - 0.003355259957 i) |11111111\\rangle$$"
      ],
      "text/plain": [
       "<IPython.core.display.Latex object>"
      ]
     },
     "metadata": {},
     "output_type": "display_data"
    },
    {
     "name": "stdout",
     "output_type": "stream",
     "text": [
      "coherence of |ψ2⟩ =  254.99239545262017\n"
     ]
    },
    {
     "data": {
      "text/plain": [
       "'applied Hadamard to all |ψ1⟩'"
      ]
     },
     "metadata": {},
     "output_type": "display_data"
    },
    {
     "data": {
      "text/latex": [
       "$$(0.994039021469 - 0.060646552445 i) |00000000\\rangle+ (0.00401973955 + 0.006962393134 i) |00000011\\rangle+ (-0.00401973955 - 0.006962393134 i) |00000100\\rangle+ (0.00401973955 + 0.006962393134 i) |00000111\\rangle+ (-0.00401973955 - 0.006962393134 i) |00001001\\rangle+ (0.00401973955 + 0.006962393134 i) |00001010\\rangle + \\ldots + (0.00401973955 + 0.006962393134 i) |11110111\\rangle+ (-0.00401973955 - 0.006962393134 i) |11111001\\rangle+ (0.00401973955 + 0.006962393134 i) |11111010\\rangle+ (-0.00401973955 - 0.006962393134 i) |11111101\\rangle+ (0.00401973955 + 0.006962393134 i) |11111110\\rangle$$"
      ],
      "text/plain": [
       "<IPython.core.display.Latex object>"
      ]
     },
     "metadata": {},
     "output_type": "display_data"
    },
    {
     "name": "stdout",
     "output_type": "stream",
     "text": [
      "coherence of |ψ1⟩ =  3.0678903658400727\n"
     ]
    },
    {
     "data": {
      "text/plain": [
       "'applied P operator to |ψ4⟩'"
      ]
     },
     "metadata": {},
     "output_type": "display_data"
    },
    {
     "data": {
      "text/latex": [
       "$$(0.994039021469 - 0.060646552445 i) |00000000\\rangle+ (-0.00401973955 - 0.006962393134 i) |00000011\\rangle+ (0.00401973955 + 0.006962393134 i) |00000100\\rangle+ (-0.00401973955 - 0.006962393134 i) |00000111\\rangle+ (0.00401973955 + 0.006962393134 i) |00001001\\rangle+ (-0.00401973955 - 0.006962393134 i) |00001010\\rangle + \\ldots + (-0.00401973955 - 0.006962393134 i) |11110111\\rangle+ (0.00401973955 + 0.006962393134 i) |11111001\\rangle+ (-0.00401973955 - 0.006962393134 i) |11111010\\rangle+ (0.00401973955 + 0.006962393134 i) |11111101\\rangle+ (-0.00401973955 - 0.006962393134 i) |11111110\\rangle$$"
      ],
      "text/plain": [
       "<IPython.core.display.Latex object>"
      ]
     },
     "metadata": {},
     "output_type": "display_data"
    },
    {
     "name": "stdout",
     "output_type": "stream",
     "text": [
      "coherence of |ψ4⟩ =  3.0678903658400727\n"
     ]
    },
    {
     "data": {
      "text/plain": [
       "'applied Hadamard to all |ψ5⟩'"
      ]
     },
     "metadata": {},
     "output_type": "display_data"
    },
    {
     "data": {
      "text/latex": [
       "$$(0.06187620512 - 0.004225559099 i) |00000000\\rangle+ (0.06187620512 - 0.004225559099 i) |00000001\\rangle+ (0.06187620512 - 0.004225559099 i) |00000010\\rangle+ (0.06187620512 - 0.004225559099 i) |00000011\\rangle+ (0.06187620512 - 0.004225559099 i) |00000100\\rangle+ (0.06187620512 - 0.004225559099 i) |00000101\\rangle + \\ldots + (0.06187620512 - 0.004225559099 i) |11111011\\rangle+ (0.06187620512 - 0.004225559099 i) |11111100\\rangle+ (0.06187620512 - 0.004225559099 i) |11111101\\rangle+ (0.06187620512 - 0.004225559099 i) |11111110\\rangle+ (0.06187620512 - 0.004225559099 i) |11111111\\rangle$$"
      ],
      "text/plain": [
       "<IPython.core.display.Latex object>"
      ]
     },
     "metadata": {},
     "output_type": "display_data"
    },
    {
     "name": "stdout",
     "output_type": "stream",
     "text": [
      "coherence of |ψ5⟩ =  253.96304592767092\n",
      "-------- 8  ITERATION--------\n"
     ]
    },
    {
     "data": {
      "text/plain": [
       "'applied O operator to |ψ2⟩'"
      ]
     },
     "metadata": {},
     "output_type": "display_data"
    },
    {
     "data": {
      "text/latex": [
       "$$(0.06187620512 - 0.004225559099 i) |00000000\\rangle+ (0.06187620512 - 0.004225559099 i) |00000001\\rangle+ (0.06187620512 - 0.004225559099 i) |00000010\\rangle+ (0.06187620512 - 0.004225559099 i) |00000011\\rangle+ (0.06187620512 - 0.004225559099 i) |00000100\\rangle+ (0.06187620512 - 0.004225559099 i) |00000101\\rangle + \\ldots + (0.06187620512 - 0.004225559099 i) |11111011\\rangle+ (0.06187620512 - 0.004225559099 i) |11111100\\rangle+ (0.06187620512 - 0.004225559099 i) |11111101\\rangle+ (0.06187620512 - 0.004225559099 i) |11111110\\rangle+ (0.06187620512 - 0.004225559099 i) |11111111\\rangle$$"
      ],
      "text/plain": [
       "<IPython.core.display.Latex object>"
      ]
     },
     "metadata": {},
     "output_type": "display_data"
    },
    {
     "name": "stdout",
     "output_type": "stream",
     "text": [
      "coherence of |ψ2⟩ =  253.96304592767092\n"
     ]
    },
    {
     "data": {
      "text/plain": [
       "'applied Hadamard to all |ψ1⟩'"
      ]
     },
     "metadata": {},
     "output_type": "display_data"
    },
    {
     "data": {
      "text/latex": [
       "$$(0.993734068008 - 0.074043143826 i) |00000000\\rangle+ (-0.00371478609 + 0.006434198247 i) |00000011\\rangle+ (0.00371478609 - 0.006434198247 i) |00000100\\rangle+ (-0.00371478609 + 0.006434198247 i) |00000111\\rangle+ (0.00371478609 - 0.006434198247 i) |00001001\\rangle+ (-0.00371478609 + 0.006434198247 i) |00001010\\rangle + \\ldots + (-0.00371478609 + 0.006434198247 i) |11110111\\rangle+ (0.00371478609 - 0.006434198247 i) |11111001\\rangle+ (-0.00371478609 + 0.006434198247 i) |11111010\\rangle+ (0.00371478609 - 0.006434198247 i) |11111101\\rangle+ (-0.00371478609 + 0.006434198247 i) |11111110\\rangle$$"
      ],
      "text/plain": [
       "<IPython.core.display.Latex object>"
      ]
     },
     "metadata": {},
     "output_type": "display_data"
    },
    {
     "name": "stdout",
     "output_type": "stream",
     "text": [
      "coherence of |ψ1⟩ =  2.7637722539019034\n"
     ]
    },
    {
     "data": {
      "text/plain": [
       "'applied P operator to |ψ4⟩'"
      ]
     },
     "metadata": {},
     "output_type": "display_data"
    },
    {
     "data": {
      "text/latex": [
       "$$(0.993734068008 - 0.074043143826 i) |00000000\\rangle+ (0.00371478609 - 0.006434198247 i) |00000011\\rangle+ (-0.00371478609 + 0.006434198247 i) |00000100\\rangle+ (0.00371478609 - 0.006434198247 i) |00000111\\rangle+ (-0.00371478609 + 0.006434198247 i) |00001001\\rangle+ (0.00371478609 - 0.006434198247 i) |00001010\\rangle + \\ldots + (0.00371478609 - 0.006434198247 i) |11110111\\rangle+ (-0.00371478609 + 0.006434198247 i) |11111001\\rangle+ (0.00371478609 - 0.006434198247 i) |11111010\\rangle+ (-0.00371478609 + 0.006434198247 i) |11111101\\rangle+ (0.00371478609 - 0.006434198247 i) |11111110\\rangle$$"
      ],
      "text/plain": [
       "<IPython.core.display.Latex object>"
      ]
     },
     "metadata": {},
     "output_type": "display_data"
    },
    {
     "name": "stdout",
     "output_type": "stream",
     "text": [
      "coherence of |ψ4⟩ =  2.7637722539019034\n"
     ]
    },
    {
     "data": {
      "text/plain": [
       "'applied Hadamard to all |ψ5⟩'"
      ]
     },
     "metadata": {},
     "output_type": "display_data"
    },
    {
     "data": {
      "text/latex": [
       "$$(0.062340553381 - 0.00502983388 i) |00000000\\rangle+ (0.062340553381 - 0.00502983388 i) |00000001\\rangle+ (0.062340553381 - 0.00502983388 i) |00000010\\rangle+ (0.062340553381 - 0.00502983388 i) |00000011\\rangle+ (0.062340553381 - 0.00502983388 i) |00000100\\rangle+ (0.062340553381 - 0.00502983388 i) |00000101\\rangle + \\ldots + (0.062340553381 - 0.00502983388 i) |11111011\\rangle+ (0.062340553381 - 0.00502983388 i) |11111100\\rangle+ (0.062340553381 - 0.00502983388 i) |11111101\\rangle+ (0.062340553381 - 0.00502983388 i) |11111110\\rangle+ (0.062340553381 - 0.00502983388 i) |11111111\\rangle$$"
      ],
      "text/plain": [
       "<IPython.core.display.Latex object>"
      ]
     },
     "metadata": {},
     "output_type": "display_data"
    },
    {
     "name": "stdout",
     "output_type": "stream",
     "text": [
      "coherence of |ψ5⟩ =  254.98298612216024\n",
      "======================================== FOR ϕ =  315.0 ========================================\n"
     ]
    },
    {
     "data": {
      "text/plain": [
       "'initialised |ψ0⟩'"
      ]
     },
     "metadata": {},
     "output_type": "display_data"
    },
    {
     "data": {
      "text/latex": [
       "$$ |00000000\\rangle$$"
      ],
      "text/plain": [
       "<IPython.core.display.Latex object>"
      ]
     },
     "metadata": {},
     "output_type": "display_data"
    },
    {
     "name": "stdout",
     "output_type": "stream",
     "text": [
      "coherence of |ψ0⟩ =  0.0\n"
     ]
    },
    {
     "data": {
      "text/plain": [
       "'applied Hadamard to all |ψ1⟩'"
      ]
     },
     "metadata": {},
     "output_type": "display_data"
    },
    {
     "data": {
      "text/latex": [
       "$$\\frac{1}{16} |00000000\\rangle+\\frac{1}{16} |00000001\\rangle+\\frac{1}{16} |00000010\\rangle+\\frac{1}{16} |00000011\\rangle+\\frac{1}{16} |00000100\\rangle+\\frac{1}{16} |00000101\\rangle + \\ldots +\\frac{1}{16} |11111011\\rangle+\\frac{1}{16} |11111100\\rangle+\\frac{1}{16} |11111101\\rangle+\\frac{1}{16} |11111110\\rangle+\\frac{1}{16} |11111111\\rangle$$"
      ],
      "text/plain": [
       "<IPython.core.display.Latex object>"
      ]
     },
     "metadata": {},
     "output_type": "display_data"
    },
    {
     "name": "stdout",
     "output_type": "stream",
     "text": [
      "coherence of |ψ1⟩ =  255.00000000000003\n",
      "-------- 1  ITERATION--------\n"
     ]
    },
    {
     "data": {
      "text/plain": [
       "'applied O operator to |ψ2⟩'"
      ]
     },
     "metadata": {},
     "output_type": "display_data"
    },
    {
     "data": {
      "text/latex": [
       "$$\\frac{1}{16} |00000000\\rangle+\\frac{1}{16} |00000001\\rangle+\\frac{1}{16} |00000010\\rangle+\\frac{1}{16} |00000011\\rangle+\\frac{1}{16} |00000100\\rangle+\\frac{1}{16} |00000101\\rangle + \\ldots +\\frac{1}{16} |11111011\\rangle+\\frac{1}{16} |11111100\\rangle+\\frac{1}{16} |11111101\\rangle+\\frac{1}{16} |11111110\\rangle+\\frac{1}{16} |11111111\\rangle$$"
      ],
      "text/plain": [
       "<IPython.core.display.Latex object>"
      ]
     },
     "metadata": {},
     "output_type": "display_data"
    },
    {
     "name": "stdout",
     "output_type": "stream",
     "text": [
      "coherence of |ψ2⟩ =  255.00000000000003\n"
     ]
    },
    {
     "data": {
      "text/plain": [
       "'applied Hadamard to all |ψ1⟩'"
      ]
     },
     "metadata": {},
     "output_type": "display_data"
    },
    {
     "data": {
      "text/latex": [
       "$$(0.997711771728 - 0.005524271728 i) |00000000\\rangle+ (0.002288228272 + 0.005524271728 i) |00000011\\rangle+ (-0.002288228272 - 0.005524271728 i) |00000100\\rangle+ (0.002288228272 + 0.005524271728 i) |00000111\\rangle+ (-0.002288228272 - 0.005524271728 i) |00001001\\rangle+ (0.002288228272 + 0.005524271728 i) |00001010\\rangle + \\ldots + (0.002288228272 + 0.005524271728 i) |11110111\\rangle+ (-0.002288228272 - 0.005524271728 i) |11111001\\rangle+ (0.002288228272 + 0.005524271728 i) |11111010\\rangle+ (-0.002288228272 - 0.005524271728 i) |11111101\\rangle+ (0.002288228272 + 0.005524271728 i) |11111110\\rangle$$"
      ],
      "text/plain": [
       "<IPython.core.display.Latex object>"
      ]
     },
     "metadata": {},
     "output_type": "display_data"
    },
    {
     "name": "stdout",
     "output_type": "stream",
     "text": [
      "coherence of |ψ1⟩ =  2.087451371364072\n"
     ]
    },
    {
     "data": {
      "text/plain": [
       "'applied P operator to |ψ4⟩'"
      ]
     },
     "metadata": {},
     "output_type": "display_data"
    },
    {
     "data": {
      "text/latex": [
       "$$(0.997711771728 - 0.005524271728 i) |00000000\\rangle+ (-0.002288228272 - 0.005524271728 i) |00000011\\rangle+ (0.002288228272 + 0.005524271728 i) |00000100\\rangle+ (-0.002288228272 - 0.005524271728 i) |00000111\\rangle+ (0.002288228272 + 0.005524271728 i) |00001001\\rangle+ (-0.002288228272 - 0.005524271728 i) |00001010\\rangle + \\ldots + (-0.002288228272 - 0.005524271728 i) |11110111\\rangle+ (0.002288228272 + 0.005524271728 i) |11111001\\rangle+ (-0.002288228272 - 0.005524271728 i) |11111010\\rangle+ (0.002288228272 + 0.005524271728 i) |11111101\\rangle+ (-0.002288228272 - 0.005524271728 i) |11111110\\rangle$$"
      ],
      "text/plain": [
       "<IPython.core.display.Latex object>"
      ]
     },
     "metadata": {},
     "output_type": "display_data"
    },
    {
     "name": "stdout",
     "output_type": "stream",
     "text": [
      "coherence of |ψ4⟩ =  2.087451371364072\n"
     ]
    },
    {
     "data": {
      "text/plain": [
       "'applied Hadamard to all |ψ5⟩'"
      ]
     },
     "metadata": {},
     "output_type": "display_data"
    },
    {
     "data": {
      "text/latex": [
       "$$(0.062213971466 - 0.000690533966 i) |00000000\\rangle+ (0.062213971466 - 0.000690533966 i) |00000001\\rangle+ (0.062213971466 - 0.000690533966 i) |00000010\\rangle+ (0.062213971466 - 0.000690533966 i) |00000011\\rangle+ (0.062213971466 - 0.000690533966 i) |00000100\\rangle+ (0.062213971466 - 0.000690533966 i) |00000101\\rangle + \\ldots + (0.062213971466 - 0.000690533966 i) |11111011\\rangle+ (0.062213971466 - 0.000690533966 i) |11111100\\rangle+ (0.062213971466 - 0.000690533966 i) |11111101\\rangle+ (0.062213971466 - 0.000690533966 i) |11111110\\rangle+ (0.062213971466 - 0.000690533966 i) |11111111\\rangle$$"
      ],
      "text/plain": [
       "<IPython.core.display.Latex object>"
      ]
     },
     "metadata": {},
     "output_type": "display_data"
    },
    {
     "name": "stdout",
     "output_type": "stream",
     "text": [
      "coherence of |ψ5⟩ =  254.56380638853355\n",
      "-------- 2  ITERATION--------\n"
     ]
    },
    {
     "data": {
      "text/plain": [
       "'applied O operator to |ψ2⟩'"
      ]
     },
     "metadata": {},
     "output_type": "display_data"
    },
    {
     "data": {
      "text/latex": [
       "$$(0.062213971466 - 0.000690533966 i) |00000000\\rangle+ (0.062213971466 - 0.000690533966 i) |00000001\\rangle+ (0.062213971466 - 0.000690533966 i) |00000010\\rangle+ (0.062213971466 - 0.000690533966 i) |00000011\\rangle+ (0.062213971466 - 0.000690533966 i) |00000100\\rangle+ (0.062213971466 - 0.000690533966 i) |00000101\\rangle + \\ldots + (0.062213971466 - 0.000690533966 i) |11111011\\rangle+ (0.062213971466 - 0.000690533966 i) |11111100\\rangle+ (0.062213971466 - 0.000690533966 i) |11111101\\rangle+ (0.062213971466 - 0.000690533966 i) |11111110\\rangle+ (0.062213971466 - 0.000690533966 i) |11111111\\rangle$$"
      ],
      "text/plain": [
       "<IPython.core.display.Latex object>"
      ]
     },
     "metadata": {},
     "output_type": "display_data"
    },
    {
     "name": "stdout",
     "output_type": "stream",
     "text": [
      "coherence of |ψ2⟩ =  254.56380638853355\n"
     ]
    },
    {
     "data": {
      "text/plain": [
       "'applied Hadamard to all |ψ1⟩'"
      ]
     },
     "metadata": {},
     "output_type": "display_data"
    },
    {
     "data": {
      "text/latex": [
       "$$(0.998609023733 - 0.014234023733 i) |00000000\\rangle+ (-0.003185480277 + 0.003185480277 i) |00000011\\rangle+ (0.003185480277 - 0.003185480277 i) |00000100\\rangle+ (-0.003185480277 + 0.003185480277 i) |00000111\\rangle+ (0.003185480277 - 0.003185480277 i) |00001001\\rangle+ (-0.003185480277 + 0.003185480277 i) |00001010\\rangle + \\ldots + (-0.003185480277 + 0.003185480277 i) |11110111\\rangle+ (0.003185480277 - 0.003185480277 i) |11111001\\rangle+ (-0.003185480277 + 0.003185480277 i) |11111010\\rangle+ (0.003185480277 - 0.003185480277 i) |11111101\\rangle+ (-0.003185480277 + 0.003185480277 i) |11111110\\rangle$$"
      ],
      "text/plain": [
       "<IPython.core.display.Latex object>"
      ]
     },
     "metadata": {},
     "output_type": "display_data"
    },
    {
     "name": "stdout",
     "output_type": "stream",
     "text": [
      "coherence of |ψ1⟩ =  1.4675352849774812\n"
     ]
    },
    {
     "data": {
      "text/plain": [
       "'applied P operator to |ψ4⟩'"
      ]
     },
     "metadata": {},
     "output_type": "display_data"
    },
    {
     "data": {
      "text/latex": [
       "$$(0.998609023733 - 0.014234023733 i) |00000000\\rangle+ (0.003185480277 - 0.003185480277 i) |00000011\\rangle+ (-0.003185480277 + 0.003185480277 i) |00000100\\rangle+ (0.003185480277 - 0.003185480277 i) |00000111\\rangle+ (-0.003185480277 + 0.003185480277 i) |00001001\\rangle+ (0.003185480277 - 0.003185480277 i) |00001010\\rangle + \\ldots + (0.003185480277 - 0.003185480277 i) |11110111\\rangle+ (-0.003185480277 + 0.003185480277 i) |11111001\\rangle+ (0.003185480277 - 0.003185480277 i) |11111010\\rangle+ (-0.003185480277 + 0.003185480277 i) |11111101\\rangle+ (0.003185480277 - 0.003185480277 i) |11111110\\rangle$$"
      ],
      "text/plain": [
       "<IPython.core.display.Latex object>"
      ]
     },
     "metadata": {},
     "output_type": "display_data"
    },
    {
     "name": "stdout",
     "output_type": "stream",
     "text": [
      "coherence of |ψ4⟩ =  1.4675352849774812\n"
     ]
    },
    {
     "data": {
      "text/plain": [
       "'applied Hadamard to all |ψ5⟩'"
      ]
     },
     "metadata": {},
     "output_type": "display_data"
    },
    {
     "data": {
      "text/latex": [
       "$$(0.062612156501 - 0.001088719001 i) |00000000\\rangle+ (0.062612156501 - 0.001088719001 i) |00000001\\rangle+ (0.062612156501 - 0.001088719001 i) |00000010\\rangle+ (0.062612156501 - 0.001088719001 i) |00000011\\rangle+ (0.062612156501 - 0.001088719001 i) |00000100\\rangle+ (0.062612156501 - 0.001088719001 i) |00000101\\rangle + \\ldots + (0.062612156501 - 0.001088719001 i) |11111011\\rangle+ (0.062612156501 - 0.001088719001 i) |11111100\\rangle+ (0.062612156501 - 0.001088719001 i) |11111101\\rangle+ (0.062612156501 - 0.001088719001 i) |11111110\\rangle+ (0.062612156501 - 0.001088719001 i) |11111111\\rangle$$"
      ],
      "text/plain": [
       "<IPython.core.display.Latex object>"
      ]
     },
     "metadata": {},
     "output_type": "display_data"
    },
    {
     "name": "stdout",
     "output_type": "stream",
     "text": [
      "coherence of |ψ5⟩ =  254.8318036062152\n",
      "-------- 3  ITERATION--------\n"
     ]
    },
    {
     "data": {
      "text/plain": [
       "'applied O operator to |ψ2⟩'"
      ]
     },
     "metadata": {},
     "output_type": "display_data"
    },
    {
     "data": {
      "text/latex": [
       "$$(0.062612156501 - 0.001088719001 i) |00000000\\rangle+ (0.062612156501 - 0.001088719001 i) |00000001\\rangle+ (0.062612156501 - 0.001088719001 i) |00000010\\rangle+ (0.062612156501 - 0.001088719001 i) |00000011\\rangle+ (0.062612156501 - 0.001088719001 i) |00000100\\rangle+ (0.062612156501 - 0.001088719001 i) |00000101\\rangle + \\ldots + (0.062612156501 - 0.001088719001 i) |11111011\\rangle+ (0.062612156501 - 0.001088719001 i) |11111100\\rangle+ (0.062612156501 - 0.001088719001 i) |11111101\\rangle+ (0.062612156501 - 0.001088719001 i) |11111110\\rangle+ (0.062612156501 - 0.001088719001 i) |11111111\\rangle$$"
      ],
      "text/plain": [
       "<IPython.core.display.Latex object>"
      ]
     },
     "metadata": {},
     "output_type": "display_data"
    },
    {
     "name": "stdout",
     "output_type": "stream",
     "text": [
      "coherence of |ψ2⟩ =  254.8318036062152\n"
     ]
    },
    {
     "data": {
      "text/plain": [
       "'applied Hadamard to all |ψ1⟩'"
      ]
     },
     "metadata": {},
     "output_type": "display_data"
    },
    {
     "data": {
      "text/latex": [
       "$$(0.99940593943 - 0.018408879854 i) |00000000\\rangle+ (0.00238856458 + 0.000989375844 i) |00000011\\rangle+ (-0.00238856458 - 0.000989375844 i) |00000100\\rangle+ (0.00238856458 + 0.000989375844 i) |00000111\\rangle+ (-0.00238856458 - 0.000989375844 i) |00001001\\rangle+ (0.00238856458 + 0.000989375844 i) |00001010\\rangle + \\ldots + (0.00238856458 + 0.000989375844 i) |11110111\\rangle+ (-0.00238856458 - 0.000989375844 i) |11111001\\rangle+ (0.00238856458 + 0.000989375844 i) |11111010\\rangle+ (-0.00238856458 - 0.000989375844 i) |11111101\\rangle+ (0.00238856458 + 0.000989375844 i) |11111110\\rangle$$"
      ],
      "text/plain": [
       "<IPython.core.display.Latex object>"
      ]
     },
     "metadata": {},
     "output_type": "display_data"
    },
    {
     "name": "stdout",
     "output_type": "stream",
     "text": [
      "coherence of |ψ1⟩ =  0.7633626439418625\n"
     ]
    },
    {
     "data": {
      "text/plain": [
       "'applied P operator to |ψ4⟩'"
      ]
     },
     "metadata": {},
     "output_type": "display_data"
    },
    {
     "data": {
      "text/latex": [
       "$$(0.99940593943 - 0.018408879854 i) |00000000\\rangle+ (-0.00238856458 - 0.000989375844 i) |00000011\\rangle+ (0.00238856458 + 0.000989375844 i) |00000100\\rangle+ (-0.00238856458 - 0.000989375844 i) |00000111\\rangle+ (0.00238856458 + 0.000989375844 i) |00001001\\rangle+ (-0.00238856458 - 0.000989375844 i) |00001010\\rangle + \\ldots + (-0.00238856458 - 0.000989375844 i) |11110111\\rangle+ (0.00238856458 + 0.000989375844 i) |11111001\\rangle+ (-0.00238856458 - 0.000989375844 i) |11111010\\rangle+ (0.00238856458 + 0.000989375844 i) |11111101\\rangle+ (-0.00238856458 - 0.000989375844 i) |11111110\\rangle$$"
      ],
      "text/plain": [
       "<IPython.core.display.Latex object>"
      ]
     },
     "metadata": {},
     "output_type": "display_data"
    },
    {
     "name": "stdout",
     "output_type": "stream",
     "text": [
      "coherence of |ψ4⟩ =  0.7633626439418625\n"
     ]
    },
    {
     "data": {
      "text/plain": [
       "'applied Hadamard to all |ψ5⟩'"
      ]
     },
     "metadata": {},
     "output_type": "display_data"
    },
    {
     "data": {
      "text/latex": [
       "$$(0.062313585928 - 0.001212390981 i) |00000000\\rangle+ (0.062313585928 - 0.001212390981 i) |00000001\\rangle+ (0.062313585928 - 0.001212390981 i) |00000010\\rangle+ (0.062313585928 - 0.001212390981 i) |00000011\\rangle+ (0.062313585928 - 0.001212390981 i) |00000100\\rangle+ (0.062313585928 - 0.001212390981 i) |00000101\\rangle + \\ldots + (0.062313585928 - 0.001212390981 i) |11111011\\rangle+ (0.062313585928 - 0.001212390981 i) |11111100\\rangle+ (0.062313585928 - 0.001212390981 i) |11111101\\rangle+ (0.062313585928 - 0.001212390981 i) |11111110\\rangle+ (0.062313585928 - 0.001212390981 i) |11111111\\rangle$$"
      ],
      "text/plain": [
       "<IPython.core.display.Latex object>"
      ]
     },
     "metadata": {},
     "output_type": "display_data"
    },
    {
     "name": "stdout",
     "output_type": "stream",
     "text": [
      "coherence of |ψ5⟩ =  254.80935795233333\n",
      "-------- 4  ITERATION--------\n"
     ]
    },
    {
     "data": {
      "text/plain": [
       "'applied O operator to |ψ2⟩'"
      ]
     },
     "metadata": {},
     "output_type": "display_data"
    },
    {
     "data": {
      "text/latex": [
       "$$(0.062313585928 - 0.001212390981 i) |00000000\\rangle+ (0.062313585928 - 0.001212390981 i) |00000001\\rangle+ (0.062313585928 - 0.001212390981 i) |00000010\\rangle+ (0.062313585928 - 0.001212390981 i) |00000011\\rangle+ (0.062313585928 - 0.001212390981 i) |00000100\\rangle+ (0.062313585928 - 0.001212390981 i) |00000101\\rangle + \\ldots + (0.062313585928 - 0.001212390981 i) |11111011\\rangle+ (0.062313585928 - 0.001212390981 i) |11111100\\rangle+ (0.062313585928 - 0.001212390981 i) |11111101\\rangle+ (0.062313585928 - 0.001212390981 i) |11111110\\rangle+ (0.062313585928 - 0.001212390981 i) |11111111\\rangle$$"
      ],
      "text/plain": [
       "<IPython.core.display.Latex object>"
      ]
     },
     "metadata": {},
     "output_type": "display_data"
    },
    {
     "name": "stdout",
     "output_type": "stream",
     "text": [
      "coherence of |ψ2⟩ =  254.80935795233333\n"
     ]
    },
    {
     "data": {
      "text/plain": [
       "'applied Hadamard to all |ψ1⟩'"
      ]
     },
     "metadata": {},
     "output_type": "display_data"
    },
    {
     "data": {
      "text/latex": [
       "$$(0.99701737485 - 0.025851038801 i) |00000000\\rangle+\\frac{2^{\\frac{40}{121}} \\cdot 3^{\\frac{13}{121}} \\cdot 5^{\\frac{84}{121}} \\cdot 7^{\\frac{91}{121}} i \\pi^{\\frac{188}{121}}}{17150} |00000011\\rangle- \\frac{2^{\\frac{40}{121}} \\cdot 3^{\\frac{13}{121}} \\cdot 5^{\\frac{84}{121}} \\cdot 7^{\\frac{91}{121}} i \\pi^{\\frac{188}{121}}}{17150} |00000100\\rangle+\\frac{2^{\\frac{40}{121}} \\cdot 3^{\\frac{13}{121}} \\cdot 5^{\\frac{84}{121}} \\cdot 7^{\\frac{91}{121}} i \\pi^{\\frac{188}{121}}}{17150} |00000111\\rangle- \\frac{2^{\\frac{40}{121}} \\cdot 3^{\\frac{13}{121}} \\cdot 5^{\\frac{84}{121}} \\cdot 7^{\\frac{91}{121}} i \\pi^{\\frac{188}{121}}}{17150} |00001001\\rangle+\\frac{2^{\\frac{40}{121}} \\cdot 3^{\\frac{13}{121}} \\cdot 5^{\\frac{84}{121}} \\cdot 7^{\\frac{91}{121}} i \\pi^{\\frac{188}{121}}}{17150} |00001010\\rangle + \\ldots +\\frac{2^{\\frac{40}{121}} \\cdot 3^{\\frac{13}{121}} \\cdot 5^{\\frac{84}{121}} \\cdot 7^{\\frac{91}{121}} i \\pi^{\\frac{188}{121}}}{17150} |11110111\\rangle- \\frac{2^{\\frac{40}{121}} \\cdot 3^{\\frac{13}{121}} \\cdot 5^{\\frac{84}{121}} \\cdot 7^{\\frac{91}{121}} i \\pi^{\\frac{188}{121}}}{17150} |11111001\\rangle+\\frac{2^{\\frac{40}{121}} \\cdot 3^{\\frac{13}{121}} \\cdot 5^{\\frac{84}{121}} \\cdot 7^{\\frac{91}{121}} i \\pi^{\\frac{188}{121}}}{17150} |11111010\\rangle- \\frac{2^{\\frac{40}{121}} \\cdot 3^{\\frac{13}{121}} \\cdot 5^{\\frac{84}{121}} \\cdot 7^{\\frac{91}{121}} i \\pi^{\\frac{188}{121}}}{17150} |11111101\\rangle+\\frac{2^{\\frac{40}{121}} \\cdot 3^{\\frac{13}{121}} \\cdot 5^{\\frac{84}{121}} \\cdot 7^{\\frac{91}{121}} i \\pi^{\\frac{188}{121}}}{17150} |11111110\\rangle$$"
      ],
      "text/plain": [
       "<IPython.core.display.Latex object>"
      ]
     },
     "metadata": {},
     "output_type": "display_data"
    },
    {
     "name": "stdout",
     "output_type": "stream",
     "text": [
      "coherence of |ψ1⟩ =  2.30096539879647\n"
     ]
    },
    {
     "data": {
      "text/plain": [
       "'applied P operator to |ψ4⟩'"
      ]
     },
     "metadata": {},
     "output_type": "display_data"
    },
    {
     "data": {
      "text/latex": [
       "$$(0.99701737485 - 0.025851038801 i) |00000000\\rangle- \\frac{2^{\\frac{40}{121}} \\cdot 3^{\\frac{13}{121}} \\cdot 5^{\\frac{84}{121}} \\cdot 7^{\\frac{91}{121}} i \\pi^{\\frac{188}{121}}}{17150} |00000011\\rangle+\\frac{2^{\\frac{40}{121}} \\cdot 3^{\\frac{13}{121}} \\cdot 5^{\\frac{84}{121}} \\cdot 7^{\\frac{91}{121}} i \\pi^{\\frac{188}{121}}}{17150} |00000100\\rangle- \\frac{2^{\\frac{40}{121}} \\cdot 3^{\\frac{13}{121}} \\cdot 5^{\\frac{84}{121}} \\cdot 7^{\\frac{91}{121}} i \\pi^{\\frac{188}{121}}}{17150} |00000111\\rangle+\\frac{2^{\\frac{40}{121}} \\cdot 3^{\\frac{13}{121}} \\cdot 5^{\\frac{84}{121}} \\cdot 7^{\\frac{91}{121}} i \\pi^{\\frac{188}{121}}}{17150} |00001001\\rangle- \\frac{2^{\\frac{40}{121}} \\cdot 3^{\\frac{13}{121}} \\cdot 5^{\\frac{84}{121}} \\cdot 7^{\\frac{91}{121}} i \\pi^{\\frac{188}{121}}}{17150} |00001010\\rangle + \\ldots - \\frac{2^{\\frac{40}{121}} \\cdot 3^{\\frac{13}{121}} \\cdot 5^{\\frac{84}{121}} \\cdot 7^{\\frac{91}{121}} i \\pi^{\\frac{188}{121}}}{17150} |11110111\\rangle+\\frac{2^{\\frac{40}{121}} \\cdot 3^{\\frac{13}{121}} \\cdot 5^{\\frac{84}{121}} \\cdot 7^{\\frac{91}{121}} i \\pi^{\\frac{188}{121}}}{17150} |11111001\\rangle- \\frac{2^{\\frac{40}{121}} \\cdot 3^{\\frac{13}{121}} \\cdot 5^{\\frac{84}{121}} \\cdot 7^{\\frac{91}{121}} i \\pi^{\\frac{188}{121}}}{17150} |11111010\\rangle+\\frac{2^{\\frac{40}{121}} \\cdot 3^{\\frac{13}{121}} \\cdot 5^{\\frac{84}{121}} \\cdot 7^{\\frac{91}{121}} i \\pi^{\\frac{188}{121}}}{17150} |11111101\\rangle- \\frac{2^{\\frac{40}{121}} \\cdot 3^{\\frac{13}{121}} \\cdot 5^{\\frac{84}{121}} \\cdot 7^{\\frac{91}{121}} i \\pi^{\\frac{188}{121}}}{17150} |11111110\\rangle$$"
      ],
      "text/plain": [
       "<IPython.core.display.Latex object>"
      ]
     },
     "metadata": {},
     "output_type": "display_data"
    },
    {
     "name": "stdout",
     "output_type": "stream",
     "text": [
      "coherence of |ψ4⟩ =  2.30096539879647\n"
     ]
    },
    {
     "data": {
      "text/plain": [
       "'applied Hadamard to all |ψ5⟩'"
      ]
     },
     "metadata": {},
     "output_type": "display_data"
    },
    {
     "data": {
      "text/latex": [
       "$$(0.062313585928 - 0.002018988869 i) |00000000\\rangle+ (0.062313585928 - 0.002018988869 i) |00000001\\rangle+ (0.062313585928 - 0.002018988869 i) |00000010\\rangle+ (0.062313585928 - 0.002018988869 i) |00000011\\rangle+ (0.062313585928 - 0.002018988869 i) |00000100\\rangle+ (0.062313585928 - 0.002018988869 i) |00000101\\rangle + \\ldots + (0.062313585928 - 0.002018988869 i) |11111011\\rangle+ (0.062313585928 - 0.002018988869 i) |11111100\\rangle+ (0.062313585928 - 0.002018988869 i) |11111101\\rangle+ (0.062313585928 - 0.002018988869 i) |11111110\\rangle+ (0.062313585928 - 0.002018988869 i) |11111111\\rangle$$"
      ],
      "text/plain": [
       "<IPython.core.display.Latex object>"
      ]
     },
     "metadata": {},
     "output_type": "display_data"
    },
    {
     "name": "stdout",
     "output_type": "stream",
     "text": [
      "coherence of |ψ5⟩ =  254.84796760995056\n",
      "-------- 5  ITERATION--------\n"
     ]
    },
    {
     "data": {
      "text/plain": [
       "'applied O operator to |ψ2⟩'"
      ]
     },
     "metadata": {},
     "output_type": "display_data"
    },
    {
     "data": {
      "text/latex": [
       "$$(0.062313585928 - 0.002018988869 i) |00000000\\rangle+ (0.062313585928 - 0.002018988869 i) |00000001\\rangle+ (0.062313585928 - 0.002018988869 i) |00000010\\rangle+ (0.062313585928 - 0.002018988869 i) |00000011\\rangle+ (0.062313585928 - 0.002018988869 i) |00000100\\rangle+ (0.062313585928 - 0.002018988869 i) |00000101\\rangle + \\ldots + (0.062313585928 - 0.002018988869 i) |11111011\\rangle+ (0.062313585928 - 0.002018988869 i) |11111100\\rangle+ (0.062313585928 - 0.002018988869 i) |11111101\\rangle+ (0.062313585928 - 0.002018988869 i) |11111110\\rangle+ (0.062313585928 - 0.002018988869 i) |11111111\\rangle$$"
      ],
      "text/plain": [
       "<IPython.core.display.Latex object>"
      ]
     },
     "metadata": {},
     "output_type": "display_data"
    },
    {
     "name": "stdout",
     "output_type": "stream",
     "text": [
      "coherence of |ψ2⟩ =  254.84796760995056\n"
     ]
    },
    {
     "data": {
      "text/plain": [
       "'applied Hadamard to all |ψ1⟩'"
      ]
     },
     "metadata": {},
     "output_type": "display_data"
    },
    {
     "data": {
      "text/latex": [
       "$$(0.999120323104 - 0.033174891591 i) |00000000\\rangle+ (-0.002102948255 + 0.000871069688 i) |00000011\\rangle+ (0.002102948255 - 0.000871069688 i) |00000100\\rangle+ (-0.002102948255 + 0.000871069688 i) |00000111\\rangle+ (0.002102948255 - 0.000871069688 i) |00001001\\rangle+ (-0.002102948255 + 0.000871069688 i) |00001010\\rangle + \\ldots + (-0.002102948255 + 0.000871069688 i) |11110111\\rangle+ (0.002102948255 - 0.000871069688 i) |11111001\\rangle+ (-0.002102948255 + 0.000871069688 i) |11111010\\rangle+ (0.002102948255 - 0.000871069688 i) |11111101\\rangle+ (-0.002102948255 + 0.000871069688 i) |11111110\\rangle$$"
      ],
      "text/plain": [
       "<IPython.core.display.Latex object>"
      ]
     },
     "metadata": {},
     "output_type": "display_data"
    },
    {
     "name": "stdout",
     "output_type": "stream",
     "text": [
      "coherence of |ψ1⟩ =  0.6608771314624298\n"
     ]
    },
    {
     "data": {
      "text/plain": [
       "'applied P operator to |ψ4⟩'"
      ]
     },
     "metadata": {},
     "output_type": "display_data"
    },
    {
     "data": {
      "text/latex": [
       "$$(0.999120323104 - 0.033174891591 i) |00000000\\rangle+ (0.002102948255 - 0.000871069688 i) |00000011\\rangle+ (-0.002102948255 + 0.000871069688 i) |00000100\\rangle+ (0.002102948255 - 0.000871069688 i) |00000111\\rangle+ (-0.002102948255 + 0.000871069688 i) |00001001\\rangle+ (0.002102948255 - 0.000871069688 i) |00001010\\rangle + \\ldots + (0.002102948255 - 0.000871069688 i) |11110111\\rangle+ (-0.002102948255 + 0.000871069688 i) |11111001\\rangle+ (0.002102948255 - 0.000871069688 i) |11111010\\rangle+ (-0.002102948255 + 0.000871069688 i) |11111101\\rangle+ (0.002102948255 - 0.000871069688 i) |11111110\\rangle$$"
      ],
      "text/plain": [
       "<IPython.core.display.Latex object>"
      ]
     },
     "metadata": {},
     "output_type": "display_data"
    },
    {
     "name": "stdout",
     "output_type": "stream",
     "text": [
      "coherence of |ψ4⟩ =  0.6608771314624298\n"
     ]
    },
    {
     "data": {
      "text/plain": [
       "'applied Hadamard to all |ψ5⟩'"
      ]
     },
     "metadata": {},
     "output_type": "display_data"
    },
    {
     "data": {
      "text/latex": [
       "$$(0.06257645446 - 0.00212787258 i) |00000000\\rangle+ (0.06257645446 - 0.00212787258 i) |00000001\\rangle+ (0.06257645446 - 0.00212787258 i) |00000010\\rangle+ (0.06257645446 - 0.00212787258 i) |00000011\\rangle+ (0.06257645446 - 0.00212787258 i) |00000100\\rangle+ (0.06257645446 - 0.00212787258 i) |00000101\\rangle + \\ldots + (0.06257645446 - 0.00212787258 i) |11111011\\rangle+ (0.06257645446 - 0.00212787258 i) |11111100\\rangle+ (0.06257645446 - 0.00212787258 i) |11111101\\rangle+ (0.06257645446 - 0.00212787258 i) |11111110\\rangle+ (0.06257645446 - 0.00212787258 i) |11111111\\rangle$$"
      ],
      "text/plain": [
       "<IPython.core.display.Latex object>"
      ]
     },
     "metadata": {},
     "output_type": "display_data"
    },
    {
     "name": "stdout",
     "output_type": "stream",
     "text": [
      "coherence of |ψ5⟩ =  254.85994142290923\n",
      "-------- 6  ITERATION--------\n"
     ]
    },
    {
     "data": {
      "text/plain": [
       "'applied O operator to |ψ2⟩'"
      ]
     },
     "metadata": {},
     "output_type": "display_data"
    },
    {
     "data": {
      "text/latex": [
       "$$(0.06257645446 - 0.00212787258 i) |00000000\\rangle+ (0.06257645446 - 0.00212787258 i) |00000001\\rangle+ (0.06257645446 - 0.00212787258 i) |00000010\\rangle+ (0.06257645446 - 0.00212787258 i) |00000011\\rangle+ (0.06257645446 - 0.00212787258 i) |00000100\\rangle+ (0.06257645446 - 0.00212787258 i) |00000101\\rangle + \\ldots + (0.06257645446 - 0.00212787258 i) |11111011\\rangle+ (0.06257645446 - 0.00212787258 i) |11111100\\rangle+ (0.06257645446 - 0.00212787258 i) |11111101\\rangle+ (0.06257645446 - 0.00212787258 i) |11111110\\rangle+ (0.06257645446 - 0.00212787258 i) |11111111\\rangle$$"
      ],
      "text/plain": [
       "<IPython.core.display.Latex object>"
      ]
     },
     "metadata": {},
     "output_type": "display_data"
    },
    {
     "name": "stdout",
     "output_type": "stream",
     "text": [
      "coherence of |ψ2⟩ =  254.85994142290923\n"
     ]
    },
    {
     "data": {
      "text/plain": [
       "'applied Hadamard to all |ψ1⟩'"
      ]
     },
     "metadata": {},
     "output_type": "display_data"
    },
    {
     "data": {
      "text/latex": [
       "$$(0.997873095133 - 0.037396137505 i) |00000000\\rangle+ (0.003350176226 + 0.003350176226 i) |00000011\\rangle+ (-0.003350176226 - 0.003350176226 i) |00000100\\rangle+ (0.003350176226 + 0.003350176226 i) |00000111\\rangle+ (-0.003350176226 - 0.003350176226 i) |00001001\\rangle+ (0.003350176226 + 0.003350176226 i) |00001010\\rangle + \\ldots + (0.003350176226 + 0.003350176226 i) |11110111\\rangle+ (-0.003350176226 - 0.003350176226 i) |11111001\\rangle+ (0.003350176226 + 0.003350176226 i) |11111010\\rangle+ (-0.003350176226 - 0.003350176226 i) |11111101\\rangle+ (0.003350176226 + 0.003350176226 i) |11111110\\rangle$$"
      ],
      "text/plain": [
       "<IPython.core.display.Latex object>"
      ]
     },
     "metadata": {},
     "output_type": "display_data"
    },
    {
     "name": "stdout",
     "output_type": "stream",
     "text": [
      "coherence of |ψ1⟩ =  1.5609037159641186\n"
     ]
    },
    {
     "data": {
      "text/plain": [
       "'applied P operator to |ψ4⟩'"
      ]
     },
     "metadata": {},
     "output_type": "display_data"
    },
    {
     "data": {
      "text/latex": [
       "$$(0.997873095133 - 0.037396137505 i) |00000000\\rangle+ (-0.003350176226 - 0.003350176226 i) |00000011\\rangle+ (0.003350176226 + 0.003350176226 i) |00000100\\rangle+ (-0.003350176226 - 0.003350176226 i) |00000111\\rangle+ (0.003350176226 + 0.003350176226 i) |00001001\\rangle+ (-0.003350176226 - 0.003350176226 i) |00001010\\rangle + \\ldots + (-0.003350176226 - 0.003350176226 i) |11110111\\rangle+ (0.003350176226 + 0.003350176226 i) |11111001\\rangle+ (-0.003350176226 - 0.003350176226 i) |11111010\\rangle+ (0.003350176226 + 0.003350176226 i) |11111101\\rangle+ (-0.003350176226 - 0.003350176226 i) |11111110\\rangle$$"
      ],
      "text/plain": [
       "<IPython.core.display.Latex object>"
      ]
     },
     "metadata": {},
     "output_type": "display_data"
    },
    {
     "name": "stdout",
     "output_type": "stream",
     "text": [
      "coherence of |ψ4⟩ =  1.5609037159641186\n"
     ]
    },
    {
     "data": {
      "text/plain": [
       "'applied Hadamard to all |ψ5⟩'"
      ]
     },
     "metadata": {},
     "output_type": "display_data"
    },
    {
     "data": {
      "text/latex": [
       "$$(0.062157682432 - 0.002546644608 i) |00000000\\rangle+ (0.062157682432 - 0.002546644608 i) |00000001\\rangle+ (0.062157682432 - 0.002546644608 i) |00000010\\rangle+ (0.062157682432 - 0.002546644608 i) |00000011\\rangle+ (0.062157682432 - 0.002546644608 i) |00000100\\rangle+ (0.062157682432 - 0.002546644608 i) |00000101\\rangle + \\ldots + (0.062157682432 - 0.002546644608 i) |11111011\\rangle+ (0.062157682432 - 0.002546644608 i) |11111100\\rangle+ (0.062157682432 - 0.002546644608 i) |11111101\\rangle+ (0.062157682432 - 0.002546644608 i) |11111110\\rangle+ (0.062157682432 - 0.002546644608 i) |11111111\\rangle$$"
      ],
      "text/plain": [
       "<IPython.core.display.Latex object>"
      ]
     },
     "metadata": {},
     "output_type": "display_data"
    },
    {
     "name": "stdout",
     "output_type": "stream",
     "text": [
      "coherence of |ψ5⟩ =  254.54290559426772\n",
      "-------- 7  ITERATION--------\n"
     ]
    },
    {
     "data": {
      "text/plain": [
       "'applied O operator to |ψ2⟩'"
      ]
     },
     "metadata": {},
     "output_type": "display_data"
    },
    {
     "data": {
      "text/latex": [
       "$$(0.062157682432 - 0.002546644608 i) |00000000\\rangle+ (0.062157682432 - 0.002546644608 i) |00000001\\rangle+ (0.062157682432 - 0.002546644608 i) |00000010\\rangle+ (0.062157682432 - 0.002546644608 i) |00000011\\rangle+ (0.062157682432 - 0.002546644608 i) |00000100\\rangle+ (0.062157682432 - 0.002546644608 i) |00000101\\rangle + \\ldots + (0.062157682432 - 0.002546644608 i) |11111011\\rangle+ (0.062157682432 - 0.002546644608 i) |11111100\\rangle+ (0.062157682432 - 0.002546644608 i) |11111101\\rangle+ (0.062157682432 - 0.002546644608 i) |11111110\\rangle+ (0.062157682432 - 0.002546644608 i) |11111111\\rangle$$"
      ],
      "text/plain": [
       "<IPython.core.display.Latex object>"
      ]
     },
     "metadata": {},
     "output_type": "display_data"
    },
    {
     "name": "stdout",
     "output_type": "stream",
     "text": [
      "coherence of |ψ2⟩ =  254.5429055942677\n"
     ]
    },
    {
     "data": {
      "text/plain": [
       "'applied Hadamard to all |ψ1⟩'"
      ]
     },
     "metadata": {},
     "output_type": "display_data"
    },
    {
     "data": {
      "text/latex": [
       "$$(0.996759994393 - 0.046147091707 i) |00000000\\rangle+ (-0.002237075485 + 0.005400777977 i) |00000011\\rangle+ (0.002237075485 - 0.005400777977 i) |00000100\\rangle+ (-0.002237075485 + 0.005400777977 i) |00000111\\rangle+ (0.002237075485 - 0.005400777977 i) |00001001\\rangle+ (-0.002237075485 + 0.005400777977 i) |00001010\\rangle + \\ldots + (-0.002237075485 + 0.005400777977 i) |11110111\\rangle+ (0.002237075485 - 0.005400777977 i) |11111001\\rangle+ (-0.002237075485 + 0.005400777977 i) |11111010\\rangle+ (0.002237075485 - 0.005400777977 i) |11111101\\rangle+ (-0.002237075485 + 0.005400777977 i) |11111110\\rangle$$"
      ],
      "text/plain": [
       "<IPython.core.display.Latex object>"
      ]
     },
     "metadata": {},
     "output_type": "display_data"
    },
    {
     "name": "stdout",
     "output_type": "stream",
     "text": [
      "coherence of |ψ1⟩ =  2.0284323873358447\n"
     ]
    },
    {
     "data": {
      "text/plain": [
       "'applied P operator to |ψ4⟩'"
      ]
     },
     "metadata": {},
     "output_type": "display_data"
    },
    {
     "data": {
      "text/latex": [
       "$$(0.996759994393 - 0.046147091707 i) |00000000\\rangle+ (0.002237075485 - 0.005400777977 i) |00000011\\rangle+ (-0.002237075485 + 0.005400777977 i) |00000100\\rangle+ (0.002237075485 - 0.005400777977 i) |00000111\\rangle+ (-0.002237075485 + 0.005400777977 i) |00001001\\rangle+ (0.002237075485 - 0.005400777977 i) |00001010\\rangle + \\ldots + (0.002237075485 - 0.005400777977 i) |11110111\\rangle+ (-0.002237075485 + 0.005400777977 i) |11111001\\rangle+ (0.002237075485 - 0.005400777977 i) |11111010\\rangle+ (-0.002237075485 + 0.005400777977 i) |11111101\\rangle+ (0.002237075485 - 0.005400777977 i) |11111110\\rangle$$"
      ],
      "text/plain": [
       "<IPython.core.display.Latex object>"
      ]
     },
     "metadata": {},
     "output_type": "display_data"
    },
    {
     "name": "stdout",
     "output_type": "stream",
     "text": [
      "coherence of |ψ4⟩ =  2.0284323873358447\n"
     ]
    },
    {
     "data": {
      "text/plain": [
       "'applied Hadamard to all |ψ5⟩'"
      ]
     },
     "metadata": {},
     "output_type": "display_data"
    },
    {
     "data": {
      "text/latex": [
       "$$(0.062437316867 - 0.003221741855 i) |00000000\\rangle+ (0.062437316867 - 0.003221741855 i) |00000001\\rangle+ (0.062437316867 - 0.003221741855 i) |00000010\\rangle+ (0.062437316867 - 0.003221741855 i) |00000011\\rangle+ (0.062437316867 - 0.003221741855 i) |00000100\\rangle+ (0.062437316867 - 0.003221741855 i) |00000101\\rangle + \\ldots + (0.062437316867 - 0.003221741855 i) |11111011\\rangle+ (0.062437316867 - 0.003221741855 i) |11111100\\rangle+ (0.062437316867 - 0.003221741855 i) |11111101\\rangle+ (0.062437316867 - 0.003221741855 i) |11111110\\rangle+ (0.062437316867 - 0.003221741855 i) |11111111\\rangle$$"
      ],
      "text/plain": [
       "<IPython.core.display.Latex object>"
      ]
     },
     "metadata": {},
     "output_type": "display_data"
    },
    {
     "name": "stdout",
     "output_type": "stream",
     "text": [
      "coherence of |ψ5⟩ =  254.99639132719244\n",
      "-------- 8  ITERATION--------\n"
     ]
    },
    {
     "data": {
      "text/plain": [
       "'applied O operator to |ψ2⟩'"
      ]
     },
     "metadata": {},
     "output_type": "display_data"
    },
    {
     "data": {
      "text/latex": [
       "$$(0.062437316867 - 0.003221741855 i) |00000000\\rangle+ (0.062437316867 - 0.003221741855 i) |00000001\\rangle+ (0.062437316867 - 0.003221741855 i) |00000010\\rangle+ (0.062437316867 - 0.003221741855 i) |00000011\\rangle+ (0.062437316867 - 0.003221741855 i) |00000100\\rangle+ (0.062437316867 - 0.003221741855 i) |00000101\\rangle + \\ldots + (0.062437316867 - 0.003221741855 i) |11111011\\rangle+ (0.062437316867 - 0.003221741855 i) |11111100\\rangle+ (0.062437316867 - 0.003221741855 i) |11111101\\rangle+ (0.062437316867 - 0.003221741855 i) |11111110\\rangle+ (0.062437316867 - 0.003221741855 i) |11111111\\rangle$$"
      ],
      "text/plain": [
       "<IPython.core.display.Latex object>"
      ]
     },
     "metadata": {},
     "output_type": "display_data"
    },
    {
     "name": "stdout",
     "output_type": "stream",
     "text": [
      "coherence of |ψ2⟩ =  254.99639132719244\n"
     ]
    },
    {
     "data": {
      "text/plain": [
       "'applied Hadamard to all |ψ1⟩'"
      ]
     },
     "metadata": {},
     "output_type": "display_data"
    },
    {
     "data": {
      "text/latex": [
       "$$(0.998663447586 - 0.051547869684 i) |00000000\\rangle+0.000333622293 |00000011\\rangle-0.000333622293 |00000100\\rangle+0.000333622293 |00000111\\rangle-0.000333622293 |00001001\\rangle+0.000333622293 |00001010\\rangle + \\ldots +0.000333622293 |11110111\\rangle-0.000333622293 |11111001\\rangle+0.000333622293 |11111010\\rangle-0.000333622293 |11111101\\rangle+0.000333622293 |11111110\\rangle$$"
      ],
      "text/plain": [
       "<IPython.core.display.Latex object>"
      ]
     },
     "metadata": {},
     "output_type": "display_data"
    },
    {
     "name": "stdout",
     "output_type": "stream",
     "text": [
      "coherence of |ψ1⟩ =  0.0865205473804685\n"
     ]
    },
    {
     "data": {
      "text/plain": [
       "'applied P operator to |ψ4⟩'"
      ]
     },
     "metadata": {},
     "output_type": "display_data"
    },
    {
     "data": {
      "text/latex": [
       "$$(0.998663447586 - 0.051547869684 i) |00000000\\rangle-0.000333622293 |00000011\\rangle+0.000333622293 |00000100\\rangle-0.000333622293 |00000111\\rangle+0.000333622293 |00001001\\rangle-0.000333622293 |00001010\\rangle + \\ldots -0.000333622293 |11110111\\rangle+0.000333622293 |11111001\\rangle-0.000333622293 |11111010\\rangle+0.000333622293 |11111101\\rangle-0.000333622293 |11111110\\rangle$$"
      ],
      "text/plain": [
       "<IPython.core.display.Latex object>"
      ]
     },
     "metadata": {},
     "output_type": "display_data"
    },
    {
     "name": "stdout",
     "output_type": "stream",
     "text": [
      "coherence of |ψ4⟩ =  0.0865205473804685\n"
     ]
    },
    {
     "data": {
      "text/plain": [
       "'applied Hadamard to all |ψ5⟩'"
      ]
     },
     "metadata": {},
     "output_type": "display_data"
    },
    {
     "data": {
      "text/latex": [
       "$$(0.062395614081 - 0.003221741855 i) |00000000\\rangle+ (0.062395614081 - 0.003221741855 i) |00000001\\rangle+ (0.062395614081 - 0.003221741855 i) |00000010\\rangle+ (0.062395614081 - 0.003221741855 i) |00000011\\rangle+ (0.062395614081 - 0.003221741855 i) |00000100\\rangle+ (0.062395614081 - 0.003221741855 i) |00000101\\rangle + \\ldots + (0.062395614081 - 0.003221741855 i) |11111011\\rangle+ (0.062395614081 - 0.003221741855 i) |11111100\\rangle+ (0.062395614081 - 0.003221741855 i) |11111101\\rangle+ (0.062395614081 - 0.003221741855 i) |11111110\\rangle+ (0.062395614081 - 0.003221741855 i) |11111111\\rangle$$"
      ],
      "text/plain": [
       "<IPython.core.display.Latex object>"
      ]
     },
     "metadata": {},
     "output_type": "display_data"
    },
    {
     "name": "stdout",
     "output_type": "stream",
     "text": [
      "coherence of |ψ5⟩ =  254.99639051827447\n",
      "======================================== FOR ϕ =  329.99999999999994 ========================================\n"
     ]
    },
    {
     "data": {
      "text/plain": [
       "'initialised |ψ0⟩'"
      ]
     },
     "metadata": {},
     "output_type": "display_data"
    },
    {
     "data": {
      "text/latex": [
       "$$ |00000000\\rangle$$"
      ],
      "text/plain": [
       "<IPython.core.display.Latex object>"
      ]
     },
     "metadata": {},
     "output_type": "display_data"
    },
    {
     "name": "stdout",
     "output_type": "stream",
     "text": [
      "coherence of |ψ0⟩ =  0.0\n"
     ]
    },
    {
     "data": {
      "text/plain": [
       "'applied Hadamard to all |ψ1⟩'"
      ]
     },
     "metadata": {},
     "output_type": "display_data"
    },
    {
     "data": {
      "text/latex": [
       "$$\\frac{1}{16} |00000000\\rangle+\\frac{1}{16} |00000001\\rangle+\\frac{1}{16} |00000010\\rangle+\\frac{1}{16} |00000011\\rangle+\\frac{1}{16} |00000100\\rangle+\\frac{1}{16} |00000101\\rangle + \\ldots +\\frac{1}{16} |11111011\\rangle+\\frac{1}{16} |11111100\\rangle+\\frac{1}{16} |11111101\\rangle+\\frac{1}{16} |11111110\\rangle+\\frac{1}{16} |11111111\\rangle$$"
      ],
      "text/plain": [
       "<IPython.core.display.Latex object>"
      ]
     },
     "metadata": {},
     "output_type": "display_data"
    },
    {
     "name": "stdout",
     "output_type": "stream",
     "text": [
      "coherence of |ψ1⟩ =  255.00000000000003\n",
      "-------- 1  ITERATION--------\n"
     ]
    },
    {
     "data": {
      "text/plain": [
       "'applied O operator to |ψ2⟩'"
      ]
     },
     "metadata": {},
     "output_type": "display_data"
    },
    {
     "data": {
      "text/latex": [
       "$$\\frac{1}{16} |00000000\\rangle+\\frac{1}{16} |00000001\\rangle+\\frac{1}{16} |00000010\\rangle+\\frac{1}{16} |00000011\\rangle+\\frac{1}{16} |00000100\\rangle+\\frac{1}{16} |00000101\\rangle + \\ldots +\\frac{1}{16} |11111011\\rangle+\\frac{1}{16} |11111100\\rangle+\\frac{1}{16} |11111101\\rangle+\\frac{1}{16} |11111110\\rangle+\\frac{1}{16} |11111111\\rangle$$"
      ],
      "text/plain": [
       "<IPython.core.display.Latex object>"
      ]
     },
     "metadata": {},
     "output_type": "display_data"
    },
    {
     "name": "stdout",
     "output_type": "stream",
     "text": [
      "coherence of |ψ2⟩ =  255.00000000000003\n"
     ]
    },
    {
     "data": {
      "text/plain": [
       "'applied Hadamard to all |ψ1⟩'"
      ]
     },
     "metadata": {},
     "output_type": "display_data"
    },
    {
     "data": {
      "text/latex": [
       "$$(0.998953323467 - 0.00390625 i) |00000000\\rangle+ (0.001046676533 + 0.00390625 i) |00000011\\rangle+ (-0.001046676533 - 0.00390625 i) |00000100\\rangle+ (0.001046676533 + 0.00390625 i) |00000111\\rangle+ (-0.001046676533 - 0.00390625 i) |00001001\\rangle+ (0.001046676533 + 0.00390625 i) |00001010\\rangle + \\ldots + (0.001046676533 + 0.00390625 i) |11110111\\rangle+ (-0.001046676533 - 0.00390625 i) |11111001\\rangle+ (0.001046676533 + 0.00390625 i) |11111010\\rangle+ (-0.001046676533 - 0.00390625 i) |11111101\\rangle+ (0.001046676533 + 0.00390625 i) |11111110\\rangle$$"
      ],
      "text/plain": [
       "<IPython.core.display.Latex object>"
      ]
     },
     "metadata": {},
     "output_type": "display_data"
    },
    {
     "name": "stdout",
     "output_type": "stream",
     "text": [
      "coherence of |ψ1⟩ =  1.2878226384671523\n"
     ]
    },
    {
     "data": {
      "text/plain": [
       "'applied P operator to |ψ4⟩'"
      ]
     },
     "metadata": {},
     "output_type": "display_data"
    },
    {
     "data": {
      "text/latex": [
       "$$(0.998953323467 - 0.00390625 i) |00000000\\rangle+ (-0.001046676533 - 0.00390625 i) |00000011\\rangle+ (0.001046676533 + 0.00390625 i) |00000100\\rangle+ (-0.001046676533 - 0.00390625 i) |00000111\\rangle+ (0.001046676533 + 0.00390625 i) |00001001\\rangle+ (-0.001046676533 - 0.00390625 i) |00001010\\rangle + \\ldots + (-0.001046676533 - 0.00390625 i) |11110111\\rangle+ (0.001046676533 + 0.00390625 i) |11111001\\rangle+ (-0.001046676533 - 0.00390625 i) |11111010\\rangle+ (0.001046676533 + 0.00390625 i) |11111101\\rangle+ (-0.001046676533 - 0.00390625 i) |11111110\\rangle$$"
      ],
      "text/plain": [
       "<IPython.core.display.Latex object>"
      ]
     },
     "metadata": {},
     "output_type": "display_data"
    },
    {
     "name": "stdout",
     "output_type": "stream",
     "text": [
      "coherence of |ψ4⟩ =  1.2878226384671523\n"
     ]
    },
    {
     "data": {
      "text/plain": [
       "'applied Hadamard to all |ψ5⟩'"
      ]
     },
     "metadata": {},
     "output_type": "display_data"
    },
    {
     "data": {
      "text/latex": [
       "$$(0.062369165433 - 0.00048828125 i) |00000000\\rangle+ (0.062369165433 - 0.00048828125 i) |00000001\\rangle+ (0.062369165433 - 0.00048828125 i) |00000010\\rangle+ (0.062369165433 - 0.00048828125 i) |00000011\\rangle+ (0.062369165433 - 0.00048828125 i) |00000100\\rangle+ (0.062369165433 - 0.00048828125 i) |00000101\\rangle + \\ldots + (0.062369165433 - 0.00048828125 i) |11111011\\rangle+ (0.062369165433 - 0.00048828125 i) |11111100\\rangle+ (0.062369165433 - 0.00048828125 i) |11111101\\rangle+ (0.062369165433 - 0.00048828125 i) |11111110\\rangle+ (0.062369165433 - 0.00048828125 i) |11111111\\rangle$$"
      ],
      "text/plain": [
       "<IPython.core.display.Latex object>"
      ]
     },
     "metadata": {},
     "output_type": "display_data"
    },
    {
     "name": "stdout",
     "output_type": "stream",
     "text": [
      "coherence of |ψ5⟩ =  254.88917347173665\n",
      "-------- 2  ITERATION--------\n"
     ]
    },
    {
     "data": {
      "text/plain": [
       "'applied O operator to |ψ2⟩'"
      ]
     },
     "metadata": {},
     "output_type": "display_data"
    },
    {
     "data": {
      "text/latex": [
       "$$(0.062369165433 - 0.00048828125 i) |00000000\\rangle+ (0.062369165433 - 0.00048828125 i) |00000001\\rangle+ (0.062369165433 - 0.00048828125 i) |00000010\\rangle+ (0.062369165433 - 0.00048828125 i) |00000011\\rangle+ (0.062369165433 - 0.00048828125 i) |00000100\\rangle+ (0.062369165433 - 0.00048828125 i) |00000101\\rangle + \\ldots + (0.062369165433 - 0.00048828125 i) |11111011\\rangle+ (0.062369165433 - 0.00048828125 i) |11111100\\rangle+ (0.062369165433 - 0.00048828125 i) |11111101\\rangle+ (0.062369165433 - 0.00048828125 i) |11111110\\rangle+ (0.062369165433 - 0.00048828125 i) |11111111\\rangle$$"
      ],
      "text/plain": [
       "<IPython.core.display.Latex object>"
      ]
     },
     "metadata": {},
     "output_type": "display_data"
    },
    {
     "name": "stdout",
     "output_type": "stream",
     "text": [
      "coherence of |ψ2⟩ =  254.88917347173665\n"
     ]
    },
    {
     "data": {
      "text/plain": [
       "'applied Hadamard to all |ψ1⟩'"
      ]
     },
     "metadata": {},
     "output_type": "display_data"
    },
    {
     "data": {
      "text/latex": [
       "$$(0.999691217354 - 0.008842822212 i) |00000000\\rangle+ (-0.00178457042 + 0.001030322212 i) |00000011\\rangle+ (0.00178457042 - 0.001030322212 i) |00000100\\rangle+ (-0.00178457042 + 0.001030322212 i) |00000111\\rangle+ (0.00178457042 - 0.001030322212 i) |00001001\\rangle+ (-0.00178457042 + 0.001030322212 i) |00001010\\rangle + \\ldots + (-0.00178457042 + 0.001030322212 i) |11110111\\rangle+ (0.00178457042 - 0.001030322212 i) |11111001\\rangle+ (-0.00178457042 + 0.001030322212 i) |11111010\\rangle+ (0.00178457042 - 0.001030322212 i) |11111101\\rangle+ (-0.00178457042 + 0.001030322212 i) |11111110\\rangle$$"
      ],
      "text/plain": [
       "<IPython.core.display.Latex object>"
      ]
     },
     "metadata": {},
     "output_type": "display_data"
    },
    {
     "name": "stdout",
     "output_type": "stream",
     "text": [
      "coherence of |ψ1⟩ =  0.5912111152033729\n"
     ]
    },
    {
     "data": {
      "text/plain": [
       "'applied P operator to |ψ4⟩'"
      ]
     },
     "metadata": {},
     "output_type": "display_data"
    },
    {
     "data": {
      "text/latex": [
       "$$(0.999691217354 - 0.008842822212 i) |00000000\\rangle+ (0.00178457042 - 0.001030322212 i) |00000011\\rangle+ (-0.00178457042 + 0.001030322212 i) |00000100\\rangle+ (0.00178457042 - 0.001030322212 i) |00000111\\rangle+ (-0.00178457042 + 0.001030322212 i) |00001001\\rangle+ (0.00178457042 - 0.001030322212 i) |00001010\\rangle + \\ldots + (0.00178457042 - 0.001030322212 i) |11110111\\rangle+ (-0.00178457042 + 0.001030322212 i) |11111001\\rangle+ (0.00178457042 - 0.001030322212 i) |11111010\\rangle+ (-0.00178457042 + 0.001030322212 i) |11111101\\rangle+ (0.00178457042 - 0.001030322212 i) |11111110\\rangle$$"
      ],
      "text/plain": [
       "<IPython.core.display.Latex object>"
      ]
     },
     "metadata": {},
     "output_type": "display_data"
    },
    {
     "name": "stdout",
     "output_type": "stream",
     "text": [
      "coherence of |ψ4⟩ =  0.5912111152033729\n"
     ]
    },
    {
     "data": {
      "text/plain": [
       "'applied Hadamard to all |ψ5⟩'"
      ]
     },
     "metadata": {},
     "output_type": "display_data"
    },
    {
     "data": {
      "text/latex": [
       "$$(0.062592236736 - 0.000617071527 i) |00000000\\rangle+ (0.062592236736 - 0.000617071527 i) |00000001\\rangle+ (0.062592236736 - 0.000617071527 i) |00000010\\rangle+ (0.062592236736 - 0.000617071527 i) |00000011\\rangle+ (0.062592236736 - 0.000617071527 i) |00000100\\rangle+ (0.062592236736 - 0.000617071527 i) |00000101\\rangle + \\ldots + (0.062592236736 - 0.000617071527 i) |11111011\\rangle+ (0.062592236736 - 0.000617071527 i) |11111100\\rangle+ (0.062592236736 - 0.000617071527 i) |11111101\\rangle+ (0.062592236736 - 0.000617071527 i) |11111110\\rangle+ (0.062592236736 - 0.000617071527 i) |11111111\\rangle$$"
      ],
      "text/plain": [
       "<IPython.core.display.Latex object>"
      ]
     },
     "metadata": {},
     "output_type": "display_data"
    },
    {
     "name": "stdout",
     "output_type": "stream",
     "text": [
      "coherence of |ψ5⟩ =  254.90491008949596\n",
      "-------- 3  ITERATION--------\n"
     ]
    },
    {
     "data": {
      "text/plain": [
       "'applied O operator to |ψ2⟩'"
      ]
     },
     "metadata": {},
     "output_type": "display_data"
    },
    {
     "data": {
      "text/latex": [
       "$$(0.062592236736 - 0.000617071527 i) |00000000\\rangle+ (0.062592236736 - 0.000617071527 i) |00000001\\rangle+ (0.062592236736 - 0.000617071527 i) |00000010\\rangle+ (0.062592236736 - 0.000617071527 i) |00000011\\rangle+ (0.062592236736 - 0.000617071527 i) |00000100\\rangle+ (0.062592236736 - 0.000617071527 i) |00000101\\rangle + \\ldots + (0.062592236736 - 0.000617071527 i) |11111011\\rangle+ (0.062592236736 - 0.000617071527 i) |11111100\\rangle+ (0.062592236736 - 0.000617071527 i) |11111101\\rangle+ (0.062592236736 - 0.000617071527 i) |11111110\\rangle+ (0.062592236736 - 0.000617071527 i) |11111111\\rangle$$"
      ],
      "text/plain": [
       "<IPython.core.display.Latex object>"
      ]
     },
     "metadata": {},
     "output_type": "display_data"
    },
    {
     "name": "stdout",
     "output_type": "stream",
     "text": [
      "coherence of |ψ2⟩ =  254.90491008949596\n"
     ]
    },
    {
     "data": {
      "text/plain": [
       "'applied Hadamard to all |ψ1⟩'"
      ]
     },
     "metadata": {},
     "output_type": "display_data"
    },
    {
     "data": {
      "text/latex": [
       "$$(0.999358677385 - 0.011990254812 i) |00000000\\rangle+ (0.002117110388 + 0.002117110388 i) |00000011\\rangle+ (-0.002117110388 - 0.002117110388 i) |00000100\\rangle+ (0.002117110388 + 0.002117110388 i) |00000111\\rangle+ (-0.002117110388 - 0.002117110388 i) |00001001\\rangle+ (0.002117110388 + 0.002117110388 i) |00001010\\rangle + \\ldots + (0.002117110388 + 0.002117110388 i) |11110111\\rangle+ (-0.002117110388 - 0.002117110388 i) |11111001\\rangle+ (0.002117110388 + 0.002117110388 i) |11111010\\rangle+ (-0.002117110388 - 0.002117110388 i) |11111101\\rangle+ (0.002117110388 + 0.002117110388 i) |11111110\\rangle$$"
      ],
      "text/plain": [
       "<IPython.core.display.Latex object>"
      ]
     },
     "metadata": {},
     "output_type": "display_data"
    },
    {
     "name": "stdout",
     "output_type": "stream",
     "text": [
      "coherence of |ψ1⟩ =  0.9035016553842633\n"
     ]
    },
    {
     "data": {
      "text/plain": [
       "'applied P operator to |ψ4⟩'"
      ]
     },
     "metadata": {},
     "output_type": "display_data"
    },
    {
     "data": {
      "text/latex": [
       "$$(0.999358677385 - 0.011990254812 i) |00000000\\rangle+ (-0.002117110388 - 0.002117110388 i) |00000011\\rangle+ (0.002117110388 + 0.002117110388 i) |00000100\\rangle+ (-0.002117110388 - 0.002117110388 i) |00000111\\rangle+ (0.002117110388 + 0.002117110388 i) |00001001\\rangle+ (-0.002117110388 - 0.002117110388 i) |00001010\\rangle + \\ldots + (-0.002117110388 - 0.002117110388 i) |11110111\\rangle+ (0.002117110388 + 0.002117110388 i) |11111001\\rangle+ (-0.002117110388 - 0.002117110388 i) |11111010\\rangle+ (0.002117110388 + 0.002117110388 i) |11111101\\rangle+ (-0.002117110388 - 0.002117110388 i) |11111110\\rangle$$"
      ],
      "text/plain": [
       "<IPython.core.display.Latex object>"
      ]
     },
     "metadata": {},
     "output_type": "display_data"
    },
    {
     "name": "stdout",
     "output_type": "stream",
     "text": [
      "coherence of |ψ4⟩ =  0.9035016553842633\n"
     ]
    },
    {
     "data": {
      "text/plain": [
       "'applied Hadamard to all |ψ5⟩'"
      ]
     },
     "metadata": {},
     "output_type": "display_data"
    },
    {
     "data": {
      "text/latex": [
       "$$(0.062327597937 - 0.000881710325 i) |00000000\\rangle+ (0.062327597937 - 0.000881710325 i) |00000001\\rangle+ (0.062327597937 - 0.000881710325 i) |00000010\\rangle+ (0.062327597937 - 0.000881710325 i) |00000011\\rangle+ (0.062327597937 - 0.000881710325 i) |00000100\\rangle+ (0.062327597937 - 0.000881710325 i) |00000101\\rangle + \\ldots + (0.062327597937 - 0.000881710325 i) |11111011\\rangle+ (0.062327597937 - 0.000881710325 i) |11111100\\rangle+ (0.062327597937 - 0.000881710325 i) |11111101\\rangle+ (0.062327597937 - 0.000881710325 i) |11111110\\rangle+ (0.062327597937 - 0.000881710325 i) |11111111\\rangle$$"
      ],
      "text/plain": [
       "<IPython.core.display.Latex object>"
      ]
     },
     "metadata": {},
     "output_type": "display_data"
    },
    {
     "name": "stdout",
     "output_type": "stream",
     "text": [
      "coherence of |ψ5⟩ =  254.8253785848895\n",
      "-------- 4  ITERATION--------\n"
     ]
    },
    {
     "data": {
      "text/plain": [
       "'applied O operator to |ψ2⟩'"
      ]
     },
     "metadata": {},
     "output_type": "display_data"
    },
    {
     "data": {
      "text/latex": [
       "$$(0.062327597937 - 0.000881710325 i) |00000000\\rangle+ (0.062327597937 - 0.000881710325 i) |00000001\\rangle+ (0.062327597937 - 0.000881710325 i) |00000010\\rangle+ (0.062327597937 - 0.000881710325 i) |00000011\\rangle+ (0.062327597937 - 0.000881710325 i) |00000100\\rangle+ (0.062327597937 - 0.000881710325 i) |00000101\\rangle + \\ldots + (0.062327597937 - 0.000881710325 i) |11111011\\rangle+ (0.062327597937 - 0.000881710325 i) |11111100\\rangle+ (0.062327597937 - 0.000881710325 i) |11111101\\rangle+ (0.062327597937 - 0.000881710325 i) |11111110\\rangle+ (0.062327597937 - 0.000881710325 i) |11111111\\rangle$$"
      ],
      "text/plain": [
       "<IPython.core.display.Latex object>"
      ]
     },
     "metadata": {},
     "output_type": "display_data"
    },
    {
     "name": "stdout",
     "output_type": "stream",
     "text": [
      "coherence of |ψ2⟩ =  254.8253785848895\n"
     ]
    },
    {
     "data": {
      "text/plain": [
       "'applied Hadamard to all |ψ1⟩'"
      ]
     },
     "metadata": {},
     "output_type": "display_data"
    },
    {
     "data": {
      "text/latex": [
       "$$(0.999034697329 - 0.017213158038 i) |00000000\\rangle+ (-0.001793130331 + 0.003105792838 i) |00000011\\rangle+ (0.001793130331 - 0.003105792838 i) |00000100\\rangle+ (-0.001793130331 + 0.003105792838 i) |00000111\\rangle+ (0.001793130331 - 0.003105792838 i) |00001001\\rangle+ (-0.001793130331 + 0.003105792838 i) |00001010\\rangle + \\ldots + (-0.001793130331 + 0.003105792838 i) |11110111\\rangle+ (0.001793130331 - 0.003105792838 i) |11111001\\rangle+ (-0.001793130331 + 0.003105792838 i) |11111010\\rangle+ (0.001793130331 - 0.003105792838 i) |11111101\\rangle+ (-0.001793130331 + 0.003105792838 i) |11111110\\rangle$$"
      ],
      "text/plain": [
       "<IPython.core.display.Latex object>"
      ]
     },
     "metadata": {},
     "output_type": "display_data"
    },
    {
     "name": "stdout",
     "output_type": "stream",
     "text": [
      "coherence of |ψ1⟩ =  1.1159719438577158\n"
     ]
    },
    {
     "data": {
      "text/plain": [
       "'applied P operator to |ψ4⟩'"
      ]
     },
     "metadata": {},
     "output_type": "display_data"
    },
    {
     "data": {
      "text/latex": [
       "$$(0.999034697329 - 0.017213158038 i) |00000000\\rangle+ (0.001793130331 - 0.003105792838 i) |00000011\\rangle+ (-0.001793130331 + 0.003105792838 i) |00000100\\rangle+ (0.001793130331 - 0.003105792838 i) |00000111\\rangle+ (-0.001793130331 + 0.003105792838 i) |00001001\\rangle+ (0.001793130331 - 0.003105792838 i) |00001010\\rangle + \\ldots + (0.001793130331 - 0.003105792838 i) |11110111\\rangle+ (-0.001793130331 + 0.003105792838 i) |11111001\\rangle+ (0.001793130331 - 0.003105792838 i) |11111010\\rangle+ (-0.001793130331 + 0.003105792838 i) |11111101\\rangle+ (0.001793130331 - 0.003105792838 i) |11111110\\rangle$$"
      ],
      "text/plain": [
       "<IPython.core.display.Latex object>"
      ]
     },
     "metadata": {},
     "output_type": "display_data"
    },
    {
     "name": "stdout",
     "output_type": "stream",
     "text": [
      "coherence of |ψ4⟩ =  1.1159719438577158\n"
     ]
    },
    {
     "data": {
      "text/plain": [
       "'applied Hadamard to all |ψ5⟩'"
      ]
     },
     "metadata": {},
     "output_type": "display_data"
    },
    {
     "data": {
      "text/latex": [
       "$$(0.062551739229 - 0.00126993443 i) |00000000\\rangle+ (0.062551739229 - 0.00126993443 i) |00000001\\rangle+ (0.062551739229 - 0.00126993443 i) |00000010\\rangle+ (0.062551739229 - 0.00126993443 i) |00000011\\rangle+ (0.062551739229 - 0.00126993443 i) |00000100\\rangle+ (0.062551739229 - 0.00126993443 i) |00000101\\rangle + \\ldots + (0.062551739229 - 0.00126993443 i) |11111011\\rangle+ (0.062551739229 - 0.00126993443 i) |11111100\\rangle+ (0.062551739229 - 0.00126993443 i) |11111101\\rangle+ (0.062551739229 - 0.00126993443 i) |11111110\\rangle+ (0.062551739229 - 0.00126993443 i) |11111111\\rangle$$"
      ],
      "text/plain": [
       "<IPython.core.display.Latex object>"
      ]
     },
     "metadata": {},
     "output_type": "display_data"
    },
    {
     "name": "stdout",
     "output_type": "stream",
     "text": [
      "coherence of |ψ5⟩ =  254.95974785587828\n",
      "-------- 5  ITERATION--------\n"
     ]
    },
    {
     "data": {
      "text/plain": [
       "'applied O operator to |ψ2⟩'"
      ]
     },
     "metadata": {},
     "output_type": "display_data"
    },
    {
     "data": {
      "text/latex": [
       "$$(0.062551739229 - 0.00126993443 i) |00000000\\rangle+ (0.062551739229 - 0.00126993443 i) |00000001\\rangle+ (0.062551739229 - 0.00126993443 i) |00000010\\rangle+ (0.062551739229 - 0.00126993443 i) |00000011\\rangle+ (0.062551739229 - 0.00126993443 i) |00000100\\rangle+ (0.062551739229 - 0.00126993443 i) |00000101\\rangle + \\ldots + (0.062551739229 - 0.00126993443 i) |11111011\\rangle+ (0.062551739229 - 0.00126993443 i) |11111100\\rangle+ (0.062551739229 - 0.00126993443 i) |11111101\\rangle+ (0.062551739229 - 0.00126993443 i) |11111110\\rangle+ (0.062551739229 - 0.00126993443 i) |11111111\\rangle$$"
      ],
      "text/plain": [
       "<IPython.core.display.Latex object>"
      ]
     },
     "metadata": {},
     "output_type": "display_data"
    },
    {
     "name": "stdout",
     "output_type": "stream",
     "text": [
      "coherence of |ψ2⟩ =  254.95974785587828\n"
     ]
    },
    {
     "data": {
      "text/plain": [
       "'applied Hadamard to all |ψ1⟩'"
      ]
     },
     "metadata": {},
     "output_type": "display_data"
    },
    {
     "data": {
      "text/latex": [
       "$$(0.999700913757 - 0.020620906547 i) |00000000\\rangle+ (0.001126913903 + 0.00030195567 i) |00000011\\rangle+ (-0.001126913903 - 0.00030195567 i) |00000100\\rangle+ (0.001126913903 + 0.00030195567 i) |00000111\\rangle+ (-0.001126913903 - 0.00030195567 i) |00001001\\rangle+ (0.001126913903 + 0.00030195567 i) |00001010\\rangle + \\ldots + (0.001126913903 + 0.00030195567 i) |11110111\\rangle+ (-0.001126913903 - 0.00030195567 i) |11111001\\rangle+ (0.001126913903 + 0.00030195567 i) |11111010\\rangle+ (-0.001126913903 - 0.00030195567 i) |11111101\\rangle+ (0.001126913903 + 0.00030195567 i) |11111110\\rangle$$"
      ],
      "text/plain": [
       "<IPython.core.display.Latex object>"
      ]
     },
     "metadata": {},
     "output_type": "display_data"
    },
    {
     "name": "stdout",
     "output_type": "stream",
     "text": [
      "coherence of |ψ1⟩ =  0.31808835222373644\n"
     ]
    },
    {
     "data": {
      "text/plain": [
       "'applied P operator to |ψ4⟩'"
      ]
     },
     "metadata": {},
     "output_type": "display_data"
    },
    {
     "data": {
      "text/latex": [
       "$$(0.999700913757 - 0.020620906547 i) |00000000\\rangle+ (-0.001126913903 - 0.00030195567 i) |00000011\\rangle+ (0.001126913903 + 0.00030195567 i) |00000100\\rangle+ (-0.001126913903 - 0.00030195567 i) |00000111\\rangle+ (0.001126913903 + 0.00030195567 i) |00001001\\rangle+ (-0.001126913903 - 0.00030195567 i) |00001010\\rangle + \\ldots + (-0.001126913903 - 0.00030195567 i) |11110111\\rangle+ (0.001126913903 + 0.00030195567 i) |11111001\\rangle+ (-0.001126913903 - 0.00030195567 i) |11111010\\rangle+ (0.001126913903 + 0.00030195567 i) |11111101\\rangle+ (-0.001126913903 - 0.00030195567 i) |11111110\\rangle$$"
      ],
      "text/plain": [
       "<IPython.core.display.Latex object>"
      ]
     },
     "metadata": {},
     "output_type": "display_data"
    },
    {
     "name": "stdout",
     "output_type": "stream",
     "text": [
      "coherence of |ψ4⟩ =  0.31808835222373644\n"
     ]
    },
    {
     "data": {
      "text/plain": [
       "'applied Hadamard to all |ψ5⟩'"
      ]
     },
     "metadata": {},
     "output_type": "display_data"
    },
    {
     "data": {
      "text/latex": [
       "$$(0.062410874991 - 0.001307678889 i) |00000000\\rangle+ (0.062410874991 - 0.001307678889 i) |00000001\\rangle+ (0.062410874991 - 0.001307678889 i) |00000010\\rangle+ (0.062410874991 - 0.001307678889 i) |00000011\\rangle+ (0.062410874991 - 0.001307678889 i) |00000100\\rangle+ (0.062410874991 - 0.001307678889 i) |00000101\\rangle + \\ldots + (0.062410874991 - 0.001307678889 i) |11111011\\rangle+ (0.062410874991 - 0.001307678889 i) |11111100\\rangle+ (0.062410874991 - 0.001307678889 i) |11111101\\rangle+ (0.062410874991 - 0.001307678889 i) |11111110\\rangle+ (0.062410874991 - 0.001307678889 i) |11111111\\rangle$$"
      ],
      "text/plain": [
       "<IPython.core.display.Latex object>"
      ]
     },
     "metadata": {},
     "output_type": "display_data"
    },
    {
     "name": "stdout",
     "output_type": "stream",
     "text": [
      "coherence of |ψ5⟩ =  254.95875862433226\n",
      "-------- 6  ITERATION--------\n"
     ]
    },
    {
     "data": {
      "text/plain": [
       "'applied O operator to |ψ2⟩'"
      ]
     },
     "metadata": {},
     "output_type": "display_data"
    },
    {
     "data": {
      "text/latex": [
       "$$(0.062410874991 - 0.001307678889 i) |00000000\\rangle+ (0.062410874991 - 0.001307678889 i) |00000001\\rangle+ (0.062410874991 - 0.001307678889 i) |00000010\\rangle+ (0.062410874991 - 0.001307678889 i) |00000011\\rangle+ (0.062410874991 - 0.001307678889 i) |00000100\\rangle+ (0.062410874991 - 0.001307678889 i) |00000101\\rangle + \\ldots + (0.062410874991 - 0.001307678889 i) |11111011\\rangle+ (0.062410874991 - 0.001307678889 i) |11111100\\rangle+ (0.062410874991 - 0.001307678889 i) |11111101\\rangle+ (0.062410874991 - 0.001307678889 i) |11111110\\rangle+ (0.062410874991 - 0.001307678889 i) |11111111\\rangle$$"
      ],
      "text/plain": [
       "<IPython.core.display.Latex object>"
      ]
     },
     "metadata": {},
     "output_type": "display_data"
    },
    {
     "name": "stdout",
     "output_type": "stream",
     "text": [
      "coherence of |ψ2⟩ =  254.95875862433226\n"
     ]
    },
    {
     "data": {
      "text/plain": [
       "'applied Hadamard to all |ψ1⟩'"
      ]
     },
     "metadata": {},
     "output_type": "display_data"
    },
    {
     "data": {
      "text/latex": [
       "$$(0.998573999855 - 0.025103598105 i) |00000000\\rangle+0.004180735888 i |00000011\\rangle- 0.004180735888 i |00000100\\rangle+0.004180735888 i |00000111\\rangle- 0.004180735888 i |00001001\\rangle+0.004180735888 i |00001010\\rangle + \\ldots +0.004180735888 i |11110111\\rangle- 0.004180735888 i |11111001\\rangle+0.004180735888 i |11111010\\rangle- 0.004180735888 i |11111101\\rangle+0.004180735888 i |11111110\\rangle$$"
      ],
      "text/plain": [
       "<IPython.core.display.Latex object>"
      ]
     },
     "metadata": {},
     "output_type": "display_data"
    },
    {
     "name": "stdout",
     "output_type": "stream",
     "text": [
      "coherence of |ψ1⟩ =  1.3404194611535787\n"
     ]
    },
    {
     "data": {
      "text/plain": [
       "'applied P operator to |ψ4⟩'"
      ]
     },
     "metadata": {},
     "output_type": "display_data"
    },
    {
     "data": {
      "text/latex": [
       "$$(0.998573999855 - 0.025103598105 i) |00000000\\rangle- 0.004180735888 i |00000011\\rangle+0.004180735888 i |00000100\\rangle- 0.004180735888 i |00000111\\rangle+0.004180735888 i |00001001\\rangle- 0.004180735888 i |00001010\\rangle + \\ldots - 0.004180735888 i |11110111\\rangle+0.004180735888 i |11111001\\rangle- 0.004180735888 i |11111010\\rangle+0.004180735888 i |11111101\\rangle- 0.004180735888 i |11111110\\rangle$$"
      ],
      "text/plain": [
       "<IPython.core.display.Latex object>"
      ]
     },
     "metadata": {},
     "output_type": "display_data"
    },
    {
     "name": "stdout",
     "output_type": "stream",
     "text": [
      "coherence of |ψ4⟩ =  1.3404194611535787\n"
     ]
    },
    {
     "data": {
      "text/plain": [
       "'applied Hadamard to all |ψ5⟩'"
      ]
     },
     "metadata": {},
     "output_type": "display_data"
    },
    {
     "data": {
      "text/latex": [
       "$$(0.062410874991 - 0.001830270875 i) |00000000\\rangle+ (0.062410874991 - 0.001830270875 i) |00000001\\rangle+ (0.062410874991 - 0.001830270875 i) |00000010\\rangle+ (0.062410874991 - 0.001830270875 i) |00000011\\rangle+ (0.062410874991 - 0.001830270875 i) |00000100\\rangle+ (0.062410874991 - 0.001830270875 i) |00000101\\rangle + \\ldots + (0.062410874991 - 0.001830270875 i) |11111011\\rangle+ (0.062410874991 - 0.001830270875 i) |11111100\\rangle+ (0.062410874991 - 0.001830270875 i) |11111101\\rangle+ (0.062410874991 - 0.001830270875 i) |11111110\\rangle+ (0.062410874991 - 0.001830270875 i) |11111111\\rangle$$"
      ],
      "text/plain": [
       "<IPython.core.display.Latex object>"
      ]
     },
     "metadata": {},
     "output_type": "display_data"
    },
    {
     "name": "stdout",
     "output_type": "stream",
     "text": [
      "coherence of |ψ5⟩ =  254.97124051033873\n",
      "-------- 7  ITERATION--------\n"
     ]
    },
    {
     "data": {
      "text/plain": [
       "'applied O operator to |ψ2⟩'"
      ]
     },
     "metadata": {},
     "output_type": "display_data"
    },
    {
     "data": {
      "text/latex": [
       "$$(0.062410874991 - 0.001830270875 i) |00000000\\rangle+ (0.062410874991 - 0.001830270875 i) |00000001\\rangle+ (0.062410874991 - 0.001830270875 i) |00000010\\rangle+ (0.062410874991 - 0.001830270875 i) |00000011\\rangle+ (0.062410874991 - 0.001830270875 i) |00000100\\rangle+ (0.062410874991 - 0.001830270875 i) |00000101\\rangle + \\ldots + (0.062410874991 - 0.001830270875 i) |11111011\\rangle+ (0.062410874991 - 0.001830270875 i) |11111100\\rangle+ (0.062410874991 - 0.001830270875 i) |11111101\\rangle+ (0.062410874991 - 0.001830270875 i) |11111110\\rangle+ (0.062410874991 - 0.001830270875 i) |11111111\\rangle$$"
      ],
      "text/plain": [
       "<IPython.core.display.Latex object>"
      ]
     },
     "metadata": {},
     "output_type": "display_data"
    },
    {
     "name": "stdout",
     "output_type": "stream",
     "text": [
      "coherence of |ψ2⟩ =  254.97124051033873\n"
     ]
    },
    {
     "data": {
      "text/plain": [
       "'applied Hadamard to all |ψ1⟩'"
      ]
     },
     "metadata": {},
     "output_type": "display_data"
    },
    {
     "data": {
      "text/latex": [
       "$$(0.999504791897 - 0.02953373897 i) |00000000\\rangle+ (-0.000930792042 + 0.000249404976 i) |00000011\\rangle+ (0.000930792042 - 0.000249404976 i) |00000100\\rangle+ (-0.000930792042 + 0.000249404976 i) |00000111\\rangle+ (0.000930792042 - 0.000249404976 i) |00001001\\rangle+ (-0.000930792042 + 0.000249404976 i) |00001010\\rangle + \\ldots + (-0.000930792042 + 0.000249404976 i) |11110111\\rangle+ (0.000930792042 - 0.000249404976 i) |11111001\\rangle+ (-0.000930792042 + 0.000249404976 i) |11111010\\rangle+ (0.000930792042 - 0.000249404976 i) |11111101\\rangle+ (-0.000930792042 + 0.000249404976 i) |11111110\\rangle$$"
      ],
      "text/plain": [
       "<IPython.core.display.Latex object>"
      ]
     },
     "metadata": {},
     "output_type": "display_data"
    },
    {
     "name": "stdout",
     "output_type": "stream",
     "text": [
      "coherence of |ψ1⟩ =  0.25960586608878494\n"
     ]
    },
    {
     "data": {
      "text/plain": [
       "'applied P operator to |ψ4⟩'"
      ]
     },
     "metadata": {},
     "output_type": "display_data"
    },
    {
     "data": {
      "text/latex": [
       "$$(0.999504791897 - 0.02953373897 i) |00000000\\rangle+ (0.000930792042 - 0.000249404976 i) |00000011\\rangle+ (-0.000930792042 + 0.000249404976 i) |00000100\\rangle+ (0.000930792042 - 0.000249404976 i) |00000111\\rangle+ (-0.000930792042 + 0.000249404976 i) |00001001\\rangle+ (0.000930792042 - 0.000249404976 i) |00001010\\rangle + \\ldots + (0.000930792042 - 0.000249404976 i) |11110111\\rangle+ (-0.000930792042 + 0.000249404976 i) |11111001\\rangle+ (0.000930792042 - 0.000249404976 i) |11111010\\rangle+ (-0.000930792042 + 0.000249404976 i) |11111101\\rangle+ (0.000930792042 - 0.000249404976 i) |11111110\\rangle$$"
      ],
      "text/plain": [
       "<IPython.core.display.Latex object>"
      ]
     },
     "metadata": {},
     "output_type": "display_data"
    },
    {
     "name": "stdout",
     "output_type": "stream",
     "text": [
      "coherence of |ψ4⟩ =  0.25960586608878494\n"
     ]
    },
    {
     "data": {
      "text/plain": [
       "'applied Hadamard to all |ψ5⟩'"
      ]
     },
     "metadata": {},
     "output_type": "display_data"
    },
    {
     "data": {
      "text/latex": [
       "$$(0.062527223996 - 0.001861446497 i) |00000000\\rangle+ (0.062527223996 - 0.001861446497 i) |00000001\\rangle+ (0.062527223996 - 0.001861446497 i) |00000010\\rangle+ (0.062527223996 - 0.001861446497 i) |00000011\\rangle+ (0.062527223996 - 0.001861446497 i) |00000100\\rangle+ (0.062527223996 - 0.001861446497 i) |00000101\\rangle + \\ldots + (0.062527223996 - 0.001861446497 i) |11111011\\rangle+ (0.062527223996 - 0.001861446497 i) |11111100\\rangle+ (0.062527223996 - 0.001861446497 i) |11111101\\rangle+ (0.062527223996 - 0.001861446497 i) |11111110\\rangle+ (0.062527223996 - 0.001861446497 i) |11111111\\rangle$$"
      ],
      "text/plain": [
       "<IPython.core.display.Latex object>"
      ]
     },
     "metadata": {},
     "output_type": "display_data"
    },
    {
     "name": "stdout",
     "output_type": "stream",
     "text": [
      "coherence of |ψ5⟩ =  254.97162372223553\n",
      "-------- 8  ITERATION--------\n"
     ]
    },
    {
     "data": {
      "text/plain": [
       "'applied O operator to |ψ2⟩'"
      ]
     },
     "metadata": {},
     "output_type": "display_data"
    },
    {
     "data": {
      "text/latex": [
       "$$(0.062527223996 - 0.001861446497 i) |00000000\\rangle+ (0.062527223996 - 0.001861446497 i) |00000001\\rangle+ (0.062527223996 - 0.001861446497 i) |00000010\\rangle+ (0.062527223996 - 0.001861446497 i) |00000011\\rangle+ (0.062527223996 - 0.001861446497 i) |00000100\\rangle+ (0.062527223996 - 0.001861446497 i) |00000101\\rangle + \\ldots + (0.062527223996 - 0.001861446497 i) |11111011\\rangle+ (0.062527223996 - 0.001861446497 i) |11111100\\rangle+ (0.062527223996 - 0.001861446497 i) |11111101\\rangle+ (0.062527223996 - 0.001861446497 i) |11111110\\rangle+ (0.062527223996 - 0.001861446497 i) |11111111\\rangle$$"
      ],
      "text/plain": [
       "<IPython.core.display.Latex object>"
      ]
     },
     "metadata": {},
     "output_type": "display_data"
    },
    {
     "name": "stdout",
     "output_type": "stream",
     "text": [
      "coherence of |ψ2⟩ =  254.97162372223553\n"
     ]
    },
    {
     "data": {
      "text/plain": [
       "'applied Hadamard to all |ψ1⟩'"
      ]
     },
     "metadata": {},
     "output_type": "display_data"
    },
    {
     "data": {
      "text/latex": [
       "$$(0.998590724019 - 0.032978535061 i) |00000000\\rangle+ (0.001844859921 + 0.003195391116 i) |00000011\\rangle+ (-0.001844859921 - 0.003195391116 i) |00000100\\rangle+ (0.001844859921 + 0.003195391116 i) |00000111\\rangle+ (-0.001844859921 - 0.003195391116 i) |00001001\\rangle+ (0.001844859921 + 0.003195391116 i) |00001010\\rangle + \\ldots + (0.001844859921 + 0.003195391116 i) |11110111\\rangle+ (-0.001844859921 - 0.003195391116 i) |11111001\\rangle+ (0.001844859921 + 0.003195391116 i) |11111010\\rangle+ (-0.001844859921 - 0.003195391116 i) |11111101\\rangle+ (0.001844859921 + 0.003195391116 i) |11111110\\rangle$$"
      ],
      "text/plain": [
       "<IPython.core.display.Latex object>"
      ]
     },
     "metadata": {},
     "output_type": "display_data"
    },
    {
     "name": "stdout",
     "output_type": "stream",
     "text": [
      "coherence of |ψ1⟩ =  1.1542300460751125\n"
     ]
    },
    {
     "data": {
      "text/plain": [
       "'applied P operator to |ψ4⟩'"
      ]
     },
     "metadata": {},
     "output_type": "display_data"
    },
    {
     "data": {
      "text/latex": [
       "$$(0.998590724019 - 0.032978535061 i) |00000000\\rangle+ (-0.001844859921 - 0.003195391116 i) |00000011\\rangle+ (0.001844859921 + 0.003195391116 i) |00000100\\rangle+ (-0.001844859921 - 0.003195391116 i) |00000111\\rangle+ (0.001844859921 + 0.003195391116 i) |00001001\\rangle+ (-0.001844859921 - 0.003195391116 i) |00001010\\rangle + \\ldots + (-0.001844859921 - 0.003195391116 i) |11110111\\rangle+ (0.001844859921 + 0.003195391116 i) |11111001\\rangle+ (-0.001844859921 - 0.003195391116 i) |11111010\\rangle+ (0.001844859921 + 0.003195391116 i) |11111101\\rangle+ (-0.001844859921 - 0.003195391116 i) |11111110\\rangle$$"
      ],
      "text/plain": [
       "<IPython.core.display.Latex object>"
      ]
     },
     "metadata": {},
     "output_type": "display_data"
    },
    {
     "name": "stdout",
     "output_type": "stream",
     "text": [
      "coherence of |ψ4⟩ =  1.1542300460751125\n"
     ]
    },
    {
     "data": {
      "text/plain": [
       "'applied Hadamard to all |ψ5⟩'"
      ]
     },
     "metadata": {},
     "output_type": "display_data"
    },
    {
     "data": {
      "text/latex": [
       "$$(0.062296616506 - 0.002260870386 i) |00000000\\rangle+ (0.062296616506 - 0.002260870386 i) |00000001\\rangle+ (0.062296616506 - 0.002260870386 i) |00000010\\rangle+ (0.062296616506 - 0.002260870386 i) |00000011\\rangle+ (0.062296616506 - 0.002260870386 i) |00000100\\rangle+ (0.062296616506 - 0.002260870386 i) |00000101\\rangle + \\ldots + (0.062296616506 - 0.002260870386 i) |11111011\\rangle+ (0.062296616506 - 0.002260870386 i) |11111100\\rangle+ (0.062296616506 - 0.002260870386 i) |11111101\\rangle+ (0.062296616506 - 0.002260870386 i) |11111110\\rangle+ (0.062296616506 - 0.002260870386 i) |11111111\\rangle$$"
      ],
      "text/plain": [
       "<IPython.core.display.Latex object>"
      ]
     },
     "metadata": {},
     "output_type": "display_data"
    },
    {
     "name": "stdout",
     "output_type": "stream",
     "text": [
      "coherence of |ψ5⟩ =  254.8323913838426\n",
      "======================================== FOR ϕ =  345.0 ========================================\n"
     ]
    },
    {
     "data": {
      "text/plain": [
       "'initialised |ψ0⟩'"
      ]
     },
     "metadata": {},
     "output_type": "display_data"
    },
    {
     "data": {
      "text/latex": [
       "$$ |00000000\\rangle$$"
      ],
      "text/plain": [
       "<IPython.core.display.Latex object>"
      ]
     },
     "metadata": {},
     "output_type": "display_data"
    },
    {
     "name": "stdout",
     "output_type": "stream",
     "text": [
      "coherence of |ψ0⟩ =  0.0\n"
     ]
    },
    {
     "data": {
      "text/plain": [
       "'applied Hadamard to all |ψ1⟩'"
      ]
     },
     "metadata": {},
     "output_type": "display_data"
    },
    {
     "data": {
      "text/latex": [
       "$$\\frac{1}{16} |00000000\\rangle+\\frac{1}{16} |00000001\\rangle+\\frac{1}{16} |00000010\\rangle+\\frac{1}{16} |00000011\\rangle+\\frac{1}{16} |00000100\\rangle+\\frac{1}{16} |00000101\\rangle + \\ldots +\\frac{1}{16} |11111011\\rangle+\\frac{1}{16} |11111100\\rangle+\\frac{1}{16} |11111101\\rangle+\\frac{1}{16} |11111110\\rangle+\\frac{1}{16} |11111111\\rangle$$"
      ],
      "text/plain": [
       "<IPython.core.display.Latex object>"
      ]
     },
     "metadata": {},
     "output_type": "display_data"
    },
    {
     "name": "stdout",
     "output_type": "stream",
     "text": [
      "coherence of |ψ1⟩ =  255.00000000000003\n",
      "-------- 1  ITERATION--------\n"
     ]
    },
    {
     "data": {
      "text/plain": [
       "'applied O operator to |ψ2⟩'"
      ]
     },
     "metadata": {},
     "output_type": "display_data"
    },
    {
     "data": {
      "text/latex": [
       "$$\\frac{1}{16} |00000000\\rangle+\\frac{1}{16} |00000001\\rangle+\\frac{1}{16} |00000010\\rangle+\\frac{1}{16} |00000011\\rangle+\\frac{1}{16} |00000100\\rangle+\\frac{1}{16} |00000101\\rangle + \\ldots +\\frac{1}{16} |11111011\\rangle+\\frac{1}{16} |11111100\\rangle+\\frac{1}{16} |11111101\\rangle+\\frac{1}{16} |11111110\\rangle+\\frac{1}{16} |11111111\\rangle$$"
      ],
      "text/plain": [
       "<IPython.core.display.Latex object>"
      ]
     },
     "metadata": {},
     "output_type": "display_data"
    },
    {
     "name": "stdout",
     "output_type": "stream",
     "text": [
      "coherence of |ψ2⟩ =  255.00000000000003\n"
     ]
    },
    {
     "data": {
      "text/plain": [
       "'applied Hadamard to all |ψ1⟩'"
      ]
     },
     "metadata": {},
     "output_type": "display_data"
    },
    {
     "data": {
      "text/latex": [
       "$$(0.999733795518 - 0.00202202379 i) |00000000\\rangle+ (0.000266204482 + 0.00202202379 i) |00000011\\rangle+ (-0.000266204482 - 0.00202202379 i) |00000100\\rangle+ (0.000266204482 + 0.00202202379 i) |00000111\\rangle+ (-0.000266204482 - 0.00202202379 i) |00001001\\rangle+ (0.000266204482 + 0.00202202379 i) |00001010\\rangle + \\ldots + (0.000266204482 + 0.00202202379 i) |11110111\\rangle+ (-0.000266204482 - 0.00202202379 i) |11111001\\rangle+ (0.000266204482 + 0.00202202379 i) |11111010\\rangle+ (-0.000266204482 - 0.00202202379 i) |11111101\\rangle+ (0.000266204482 + 0.00202202379 i) |11111110\\rangle$$"
      ],
      "text/plain": [
       "<IPython.core.display.Latex object>"
      ]
     },
     "metadata": {},
     "output_type": "display_data"
    },
    {
     "name": "stdout",
     "output_type": "stream",
     "text": [
      "coherence of |ψ1⟩ =  0.5844484232719122\n"
     ]
    },
    {
     "data": {
      "text/plain": [
       "'applied P operator to |ψ4⟩'"
      ]
     },
     "metadata": {},
     "output_type": "display_data"
    },
    {
     "data": {
      "text/latex": [
       "$$(0.999733795518 - 0.00202202379 i) |00000000\\rangle+ (-0.000266204482 - 0.00202202379 i) |00000011\\rangle+ (0.000266204482 + 0.00202202379 i) |00000100\\rangle+ (-0.000266204482 - 0.00202202379 i) |00000111\\rangle+ (0.000266204482 + 0.00202202379 i) |00001001\\rangle+ (-0.000266204482 - 0.00202202379 i) |00001010\\rangle + \\ldots + (-0.000266204482 - 0.00202202379 i) |11110111\\rangle+ (0.000266204482 + 0.00202202379 i) |11111001\\rangle+ (-0.000266204482 - 0.00202202379 i) |11111010\\rangle+ (0.000266204482 + 0.00202202379 i) |11111101\\rangle+ (-0.000266204482 - 0.00202202379 i) |11111110\\rangle$$"
      ],
      "text/plain": [
       "<IPython.core.display.Latex object>"
      ]
     },
     "metadata": {},
     "output_type": "display_data"
    },
    {
     "name": "stdout",
     "output_type": "stream",
     "text": [
      "coherence of |ψ4⟩ =  0.5844484232719122\n"
     ]
    },
    {
     "data": {
      "text/plain": [
       "'applied Hadamard to all |ψ5⟩'"
      ]
     },
     "metadata": {},
     "output_type": "display_data"
    },
    {
     "data": {
      "text/latex": [
       "$$(0.06246672444 - 0.000252752974 i) |00000000\\rangle+ (0.06246672444 - 0.000252752974 i) |00000001\\rangle+ (0.06246672444 - 0.000252752974 i) |00000010\\rangle+ (0.06246672444 - 0.000252752974 i) |00000011\\rangle+ (0.06246672444 - 0.000252752974 i) |00000100\\rangle+ (0.06246672444 - 0.000252752974 i) |00000101\\rangle + \\ldots + (0.06246672444 - 0.000252752974 i) |11111011\\rangle+ (0.06246672444 - 0.000252752974 i) |11111100\\rangle+ (0.06246672444 - 0.000252752974 i) |11111101\\rangle+ (0.06246672444 - 0.000252752974 i) |11111110\\rangle+ (0.06246672444 - 0.000252752974 i) |11111111\\rangle$$"
      ],
      "text/plain": [
       "<IPython.core.display.Latex object>"
      ]
     },
     "metadata": {},
     "output_type": "display_data"
    },
    {
     "name": "stdout",
     "output_type": "stream",
     "text": [
      "coherence of |ψ5⟩ =  254.99161477830165\n",
      "-------- 2  ITERATION--------\n"
     ]
    },
    {
     "data": {
      "text/plain": [
       "'applied O operator to |ψ2⟩'"
      ]
     },
     "metadata": {},
     "output_type": "display_data"
    },
    {
     "data": {
      "text/latex": [
       "$$(0.06246672444 - 0.000252752974 i) |00000000\\rangle+ (0.06246672444 - 0.000252752974 i) |00000001\\rangle+ (0.06246672444 - 0.000252752974 i) |00000010\\rangle+ (0.06246672444 - 0.000252752974 i) |00000011\\rangle+ (0.06246672444 - 0.000252752974 i) |00000100\\rangle+ (0.06246672444 - 0.000252752974 i) |00000101\\rangle + \\ldots + (0.06246672444 - 0.000252752974 i) |11111011\\rangle+ (0.06246672444 - 0.000252752974 i) |11111100\\rangle+ (0.06246672444 - 0.000252752974 i) |11111101\\rangle+ (0.06246672444 - 0.000252752974 i) |11111110\\rangle+ (0.06246672444 - 0.000252752974 i) |11111111\\rangle$$"
      ],
      "text/plain": [
       "<IPython.core.display.Latex object>"
      ]
     },
     "metadata": {},
     "output_type": "display_data"
    },
    {
     "name": "stdout",
     "output_type": "stream",
     "text": [
      "coherence of |ψ2⟩ =  254.99161477830165\n"
     ]
    },
    {
     "data": {
      "text/plain": [
       "'applied Hadamard to all |ψ1⟩'"
      ]
     },
     "metadata": {},
     "output_type": "display_data"
    },
    {
     "data": {
      "text/latex": [
       "$$(0.999973823174 - 0.004179692072 i) |00000000\\rangle+ (-0.000506232138 + 0.000135644493 i) |00000011\\rangle+ (0.000506232138 - 0.000135644493 i) |00000100\\rangle+ (-0.000506232138 + 0.000135644493 i) |00000111\\rangle+ (0.000506232138 - 0.000135644493 i) |00001001\\rangle+ (-0.000506232138 + 0.000135644493 i) |00001010\\rangle + \\ldots + (-0.000506232138 + 0.000135644493 i) |11110111\\rangle+ (0.000506232138 - 0.000135644493 i) |11111001\\rangle+ (-0.000506232138 + 0.000135644493 i) |11111010\\rangle+ (0.000506232138 - 0.000135644493 i) |11111101\\rangle+ (-0.000506232138 + 0.000135644493 i) |11111110\\rangle$$"
      ],
      "text/plain": [
       "<IPython.core.display.Latex object>"
      ]
     },
     "metadata": {},
     "output_type": "display_data"
    },
    {
     "name": "stdout",
     "output_type": "stream",
     "text": [
      "coherence of |ψ1⟩ =  0.13751183285006213\n"
     ]
    },
    {
     "data": {
      "text/plain": [
       "'applied P operator to |ψ4⟩'"
      ]
     },
     "metadata": {},
     "output_type": "display_data"
    },
    {
     "data": {
      "text/latex": [
       "$$(0.999973823174 - 0.004179692072 i) |00000000\\rangle+ (0.000506232138 - 0.000135644493 i) |00000011\\rangle+ (-0.000506232138 + 0.000135644493 i) |00000100\\rangle+ (0.000506232138 - 0.000135644493 i) |00000111\\rangle+ (-0.000506232138 + 0.000135644493 i) |00001001\\rangle+ (0.000506232138 - 0.000135644493 i) |00001010\\rangle + \\ldots + (0.000506232138 - 0.000135644493 i) |11110111\\rangle+ (-0.000506232138 + 0.000135644493 i) |11111001\\rangle+ (0.000506232138 - 0.000135644493 i) |11111010\\rangle+ (-0.000506232138 + 0.000135644493 i) |11111101\\rangle+ (0.000506232138 - 0.000135644493 i) |11111110\\rangle$$"
      ],
      "text/plain": [
       "<IPython.core.display.Latex object>"
      ]
     },
     "metadata": {},
     "output_type": "display_data"
    },
    {
     "name": "stdout",
     "output_type": "stream",
     "text": [
      "coherence of |ψ4⟩ =  0.13751183285006213\n"
     ]
    },
    {
     "data": {
      "text/plain": [
       "'applied Hadamard to all |ψ5⟩'"
      ]
     },
     "metadata": {},
     "output_type": "display_data"
    },
    {
     "data": {
      "text/latex": [
       "$$(0.062530003457 - 0.000269708535 i) |00000000\\rangle+ (0.062530003457 - 0.000269708535 i) |00000001\\rangle+ (0.062530003457 - 0.000269708535 i) |00000010\\rangle+ (0.062530003457 - 0.000269708535 i) |00000011\\rangle+ (0.062530003457 - 0.000269708535 i) |00000100\\rangle+ (0.062530003457 - 0.000269708535 i) |00000101\\rangle + \\ldots + (0.062530003457 - 0.000269708535 i) |11111011\\rangle+ (0.062530003457 - 0.000269708535 i) |11111100\\rangle+ (0.062530003457 - 0.000269708535 i) |11111101\\rangle+ (0.062530003457 - 0.000269708535 i) |11111110\\rangle+ (0.062530003457 - 0.000269708535 i) |11111111\\rangle$$"
      ],
      "text/plain": [
       "<IPython.core.display.Latex object>"
      ]
     },
     "metadata": {},
     "output_type": "display_data"
    },
    {
     "name": "stdout",
     "output_type": "stream",
     "text": [
      "coherence of |ψ5⟩ =  254.9916891037387\n",
      "-------- 3  ITERATION--------\n"
     ]
    },
    {
     "data": {
      "text/plain": [
       "'applied O operator to |ψ2⟩'"
      ]
     },
     "metadata": {},
     "output_type": "display_data"
    },
    {
     "data": {
      "text/latex": [
       "$$(0.062530003457 - 0.000269708535 i) |00000000\\rangle+ (0.062530003457 - 0.000269708535 i) |00000001\\rangle+ (0.062530003457 - 0.000269708535 i) |00000010\\rangle+ (0.062530003457 - 0.000269708535 i) |00000011\\rangle+ (0.062530003457 - 0.000269708535 i) |00000100\\rangle+ (0.062530003457 - 0.000269708535 i) |00000101\\rangle + \\ldots + (0.062530003457 - 0.000269708535 i) |11111011\\rangle+ (0.062530003457 - 0.000269708535 i) |11111100\\rangle+ (0.062530003457 - 0.000269708535 i) |11111101\\rangle+ (0.062530003457 - 0.000269708535 i) |11111110\\rangle+ (0.062530003457 - 0.000269708535 i) |11111111\\rangle$$"
      ],
      "text/plain": [
       "<IPython.core.display.Latex object>"
      ]
     },
     "metadata": {},
     "output_type": "display_data"
    },
    {
     "name": "stdout",
     "output_type": "stream",
     "text": [
      "coherence of |ψ2⟩ =  254.9916891037387\n"
     ]
    },
    {
     "data": {
      "text/plain": [
       "'applied Hadamard to all |ψ1⟩'"
      ]
     },
     "metadata": {},
     "output_type": "display_data"
    },
    {
     "data": {
      "text/latex": [
       "$$(0.999751122005 - 0.006075137239 i) |00000000\\rangle+ (0.000728933306 + 0.001759800674 i) |00000011\\rangle+ (-0.000728933306 - 0.001759800674 i) |00000100\\rangle+ (0.000728933306 + 0.001759800674 i) |00000111\\rangle+ (-0.000728933306 - 0.001759800674 i) |00001001\\rangle+ (0.000728933306 + 0.001759800674 i) |00001010\\rangle + \\ldots + (0.000728933306 + 0.001759800674 i) |11110111\\rangle+ (-0.000728933306 - 0.001759800674 i) |11111001\\rangle+ (0.000728933306 + 0.001759800674 i) |11111010\\rangle+ (-0.000728933306 - 0.001759800674 i) |11111101\\rangle+ (0.000728933306 + 0.001759800674 i) |11111110\\rangle$$"
      ],
      "text/plain": [
       "<IPython.core.display.Latex object>"
      ]
     },
     "metadata": {},
     "output_type": "display_data"
    },
    {
     "name": "stdout",
     "output_type": "stream",
     "text": [
      "coherence of |ψ1⟩ =  0.5417654590875768\n"
     ]
    },
    {
     "data": {
      "text/plain": [
       "'applied P operator to |ψ4⟩'"
      ]
     },
     "metadata": {},
     "output_type": "display_data"
    },
    {
     "data": {
      "text/latex": [
       "$$(0.999751122005 - 0.006075137239 i) |00000000\\rangle+ (-0.000728933306 - 0.001759800674 i) |00000011\\rangle+ (0.000728933306 + 0.001759800674 i) |00000100\\rangle+ (-0.000728933306 - 0.001759800674 i) |00000111\\rangle+ (0.000728933306 + 0.001759800674 i) |00001001\\rangle+ (-0.000728933306 - 0.001759800674 i) |00001010\\rangle + \\ldots + (-0.000728933306 - 0.001759800674 i) |11110111\\rangle+ (0.000728933306 + 0.001759800674 i) |11111001\\rangle+ (-0.000728933306 - 0.001759800674 i) |11111010\\rangle+ (0.000728933306 + 0.001759800674 i) |11111101\\rangle+ (-0.000728933306 - 0.001759800674 i) |11111110\\rangle$$"
      ],
      "text/plain": [
       "<IPython.core.display.Latex object>"
      ]
     },
     "metadata": {},
     "output_type": "display_data"
    },
    {
     "name": "stdout",
     "output_type": "stream",
     "text": [
      "coherence of |ψ4⟩ =  0.5417654590875768\n"
     ]
    },
    {
     "data": {
      "text/plain": [
       "'applied Hadamard to all |ψ5⟩'"
      ]
     },
     "metadata": {},
     "output_type": "display_data"
    },
    {
     "data": {
      "text/latex": [
       "$$(0.062438886794 - 0.00048968362 i) |00000000\\rangle+ (0.062438886794 - 0.00048968362 i) |00000001\\rangle+ (0.062438886794 - 0.00048968362 i) |00000010\\rangle+ (0.062438886794 - 0.00048968362 i) |00000011\\rangle+ (0.062438886794 - 0.00048968362 i) |00000100\\rangle+ (0.062438886794 - 0.00048968362 i) |00000101\\rangle + \\ldots + (0.062438886794 - 0.00048968362 i) |11111011\\rangle+ (0.062438886794 - 0.00048968362 i) |11111100\\rangle+ (0.062438886794 - 0.00048968362 i) |11111101\\rangle+ (0.062438886794 - 0.00048968362 i) |11111110\\rangle+ (0.062438886794 - 0.00048968362 i) |11111111\\rangle$$"
      ],
      "text/plain": [
       "<IPython.core.display.Latex object>"
      ]
     },
     "metadata": {},
     "output_type": "display_data"
    },
    {
     "name": "stdout",
     "output_type": "stream",
     "text": [
      "coherence of |ψ5⟩ =  254.97389317108076\n",
      "-------- 4  ITERATION--------\n"
     ]
    },
    {
     "data": {
      "text/plain": [
       "'applied O operator to |ψ2⟩'"
      ]
     },
     "metadata": {},
     "output_type": "display_data"
    },
    {
     "data": {
      "text/latex": [
       "$$(0.062438886794 - 0.00048968362 i) |00000000\\rangle+ (0.062438886794 - 0.00048968362 i) |00000001\\rangle+ (0.062438886794 - 0.00048968362 i) |00000010\\rangle+ (0.062438886794 - 0.00048968362 i) |00000011\\rangle+ (0.062438886794 - 0.00048968362 i) |00000100\\rangle+ (0.062438886794 - 0.00048968362 i) |00000101\\rangle + \\ldots + (0.062438886794 - 0.00048968362 i) |11111011\\rangle+ (0.062438886794 - 0.00048968362 i) |11111100\\rangle+ (0.062438886794 - 0.00048968362 i) |11111101\\rangle+ (0.062438886794 - 0.00048968362 i) |11111110\\rangle+ (0.062438886794 - 0.00048968362 i) |11111111\\rangle$$"
      ],
      "text/plain": [
       "<IPython.core.display.Latex object>"
      ]
     },
     "metadata": {},
     "output_type": "display_data"
    },
    {
     "name": "stdout",
     "output_type": "stream",
     "text": [
      "coherence of |ψ2⟩ =  254.97389317108076\n"
     ]
    },
    {
     "data": {
      "text/plain": [
       "'applied Hadamard to all |ψ1⟩'"
      ]
     },
     "metadata": {},
     "output_type": "display_data"
    },
    {
     "data": {
      "text/latex": [
       "$$(0.99989996752 - 0.008341723752 i) |00000000\\rangle+ (-0.000877778821 + 0.000506785839 i) |00000011\\rangle+ (0.000877778821 - 0.000506785839 i) |00000100\\rangle+ (-0.000877778821 + 0.000506785839 i) |00000111\\rangle+ (0.000877778821 - 0.000506785839 i) |00001001\\rangle+ (-0.000877778821 + 0.000506785839 i) |00001010\\rangle + \\ldots + (-0.000877778821 + 0.000506785839 i) |11110111\\rangle+ (0.000877778821 - 0.000506785839 i) |11111001\\rangle+ (-0.000877778821 + 0.000506785839 i) |11111010\\rangle+ (0.000877778821 - 0.000506785839 i) |11111101\\rangle+ (-0.000877778821 + 0.000506785839 i) |11111110\\rangle$$"
      ],
      "text/plain": [
       "<IPython.core.display.Latex object>"
      ]
     },
     "metadata": {},
     "output_type": "display_data"
    },
    {
     "name": "stdout",
     "output_type": "stream",
     "text": [
      "coherence of |ψ1⟩ =  0.27386970618715034\n"
     ]
    },
    {
     "data": {
      "text/plain": [
       "'applied P operator to |ψ4⟩'"
      ]
     },
     "metadata": {},
     "output_type": "display_data"
    },
    {
     "data": {
      "text/latex": [
       "$$(0.99989996752 - 0.008341723752 i) |00000000\\rangle+ (0.000877778821 - 0.000506785839 i) |00000011\\rangle+ (-0.000877778821 + 0.000506785839 i) |00000100\\rangle+ (0.000877778821 - 0.000506785839 i) |00000111\\rangle+ (-0.000877778821 + 0.000506785839 i) |00001001\\rangle+ (0.000877778821 - 0.000506785839 i) |00001010\\rangle + \\ldots + (0.000877778821 - 0.000506785839 i) |11110111\\rangle+ (-0.000877778821 + 0.000506785839 i) |11111001\\rangle+ (0.000877778821 - 0.000506785839 i) |11111010\\rangle+ (-0.000877778821 + 0.000506785839 i) |11111101\\rangle+ (0.000877778821 - 0.000506785839 i) |11111110\\rangle$$"
      ],
      "text/plain": [
       "<IPython.core.display.Latex object>"
      ]
     },
     "metadata": {},
     "output_type": "display_data"
    },
    {
     "name": "stdout",
     "output_type": "stream",
     "text": [
      "coherence of |ψ4⟩ =  0.27386970618715034\n"
     ]
    },
    {
     "data": {
      "text/plain": [
       "'applied Hadamard to all |ψ5⟩'"
      ]
     },
     "metadata": {},
     "output_type": "display_data"
    },
    {
     "data": {
      "text/latex": [
       "$$(0.062548609146 - 0.000553031849 i) |00000000\\rangle+ (0.062548609146 - 0.000553031849 i) |00000001\\rangle+ (0.062548609146 - 0.000553031849 i) |00000010\\rangle+ (0.062548609146 - 0.000553031849 i) |00000011\\rangle+ (0.062548609146 - 0.000553031849 i) |00000100\\rangle+ (0.062548609146 - 0.000553031849 i) |00000101\\rangle + \\ldots + (0.062548609146 - 0.000553031849 i) |11111011\\rangle+ (0.062548609146 - 0.000553031849 i) |11111100\\rangle+ (0.062548609146 - 0.000553031849 i) |11111101\\rangle+ (0.062548609146 - 0.000553031849 i) |11111110\\rangle+ (0.062548609146 - 0.000553031849 i) |11111111\\rangle$$"
      ],
      "text/plain": [
       "<IPython.core.display.Latex object>"
      ]
     },
     "metadata": {},
     "output_type": "display_data"
    },
    {
     "name": "stdout",
     "output_type": "stream",
     "text": [
      "coherence of |ψ5⟩ =  254.97571308035265\n",
      "-------- 5  ITERATION--------\n"
     ]
    },
    {
     "data": {
      "text/plain": [
       "'applied O operator to |ψ2⟩'"
      ]
     },
     "metadata": {},
     "output_type": "display_data"
    },
    {
     "data": {
      "text/latex": [
       "$$(0.062548609146 - 0.000553031849 i) |00000000\\rangle+ (0.062548609146 - 0.000553031849 i) |00000001\\rangle+ (0.062548609146 - 0.000553031849 i) |00000010\\rangle+ (0.062548609146 - 0.000553031849 i) |00000011\\rangle+ (0.062548609146 - 0.000553031849 i) |00000100\\rangle+ (0.062548609146 - 0.000553031849 i) |00000101\\rangle + \\ldots + (0.062548609146 - 0.000553031849 i) |11111011\\rangle+ (0.062548609146 - 0.000553031849 i) |11111100\\rangle+ (0.062548609146 - 0.000553031849 i) |11111101\\rangle+ (0.062548609146 - 0.000553031849 i) |11111110\\rangle+ (0.062548609146 - 0.000553031849 i) |11111111\\rangle$$"
      ],
      "text/plain": [
       "<IPython.core.display.Latex object>"
      ]
     },
     "metadata": {},
     "output_type": "display_data"
    },
    {
     "name": "stdout",
     "output_type": "stream",
     "text": [
      "coherence of |ψ2⟩ =  254.97571308035265\n"
     ]
    },
    {
     "data": {
      "text/plain": [
       "'applied Hadamard to all |ψ1⟩'"
      ]
     },
     "metadata": {},
     "output_type": "display_data"
    },
    {
     "data": {
      "text/latex": [
       "$$(0.999776739516 - 0.010153047083 i) |00000000\\rangle+ (0.001001006825 + 0.001304537492 i) |00000011\\rangle+ (-0.001001006825 - 0.001304537492 i) |00000100\\rangle+ (0.001001006825 + 0.001304537492 i) |00000111\\rangle+ (-0.001001006825 - 0.001304537492 i) |00001001\\rangle+ (0.001001006825 + 0.001304537492 i) |00001010\\rangle + \\ldots + (0.001001006825 + 0.001304537492 i) |11110111\\rangle+ (-0.001001006825 - 0.001304537492 i) |11111001\\rangle+ (0.001001006825 + 0.001304537492 i) |11111010\\rangle+ (-0.001001006825 - 0.001304537492 i) |11111101\\rangle+ (0.001001006825 + 0.001304537492 i) |11111110\\rangle$$"
      ],
      "text/plain": [
       "<IPython.core.display.Latex object>"
      ]
     },
     "metadata": {},
     "output_type": "display_data"
    },
    {
     "name": "stdout",
     "output_type": "stream",
     "text": [
      "coherence of |ψ1⟩ =  0.46085573028305465\n"
     ]
    },
    {
     "data": {
      "text/plain": [
       "'applied P operator to |ψ4⟩'"
      ]
     },
     "metadata": {},
     "output_type": "display_data"
    },
    {
     "data": {
      "text/latex": [
       "$$(0.999776739516 - 0.010153047083 i) |00000000\\rangle+ (-0.001001006825 - 0.001304537492 i) |00000011\\rangle+ (0.001001006825 + 0.001304537492 i) |00000100\\rangle+ (-0.001001006825 - 0.001304537492 i) |00000111\\rangle+ (0.001001006825 + 0.001304537492 i) |00001001\\rangle+ (-0.001001006825 - 0.001304537492 i) |00001010\\rangle + \\ldots + (-0.001001006825 - 0.001304537492 i) |11110111\\rangle+ (0.001001006825 + 0.001304537492 i) |11111001\\rangle+ (-0.001001006825 - 0.001304537492 i) |11111010\\rangle+ (0.001001006825 + 0.001304537492 i) |11111101\\rangle+ (-0.001001006825 - 0.001304537492 i) |11111110\\rangle$$"
      ],
      "text/plain": [
       "<IPython.core.display.Latex object>"
      ]
     },
     "metadata": {},
     "output_type": "display_data"
    },
    {
     "name": "stdout",
     "output_type": "stream",
     "text": [
      "coherence of |ψ4⟩ =  0.46085573028305465\n"
     ]
    },
    {
     "data": {
      "text/plain": [
       "'applied Hadamard to all |ψ5⟩'"
      ]
     },
     "metadata": {},
     "output_type": "display_data"
    },
    {
     "data": {
      "text/latex": [
       "$$(0.062423483293 - 0.000716099036 i) |00000000\\rangle+ (0.062423483293 - 0.000716099036 i) |00000001\\rangle+ (0.062423483293 - 0.000716099036 i) |00000010\\rangle+ (0.062423483293 - 0.000716099036 i) |00000011\\rangle+ (0.062423483293 - 0.000716099036 i) |00000100\\rangle+ (0.062423483293 - 0.000716099036 i) |00000101\\rangle + \\ldots + (0.062423483293 - 0.000716099036 i) |11111011\\rangle+ (0.062423483293 - 0.000716099036 i) |11111100\\rangle+ (0.062423483293 - 0.000716099036 i) |11111101\\rangle+ (0.062423483293 - 0.000716099036 i) |11111110\\rangle+ (0.062423483293 - 0.000716099036 i) |11111111\\rangle$$"
      ],
      "text/plain": [
       "<IPython.core.display.Latex object>"
      ]
     },
     "metadata": {},
     "output_type": "display_data"
    },
    {
     "name": "stdout",
     "output_type": "stream",
     "text": [
      "coherence of |ψ5⟩ =  254.96180078899658\n",
      "-------- 6  ITERATION--------\n"
     ]
    },
    {
     "data": {
      "text/plain": [
       "'applied O operator to |ψ2⟩'"
      ]
     },
     "metadata": {},
     "output_type": "display_data"
    },
    {
     "data": {
      "text/latex": [
       "$$(0.062423483293 - 0.000716099036 i) |00000000\\rangle+ (0.062423483293 - 0.000716099036 i) |00000001\\rangle+ (0.062423483293 - 0.000716099036 i) |00000010\\rangle+ (0.062423483293 - 0.000716099036 i) |00000011\\rangle+ (0.062423483293 - 0.000716099036 i) |00000100\\rangle+ (0.062423483293 - 0.000716099036 i) |00000101\\rangle + \\ldots + (0.062423483293 - 0.000716099036 i) |11111011\\rangle+ (0.062423483293 - 0.000716099036 i) |11111100\\rangle+ (0.062423483293 - 0.000716099036 i) |11111101\\rangle+ (0.062423483293 - 0.000716099036 i) |11111110\\rangle+ (0.062423483293 - 0.000716099036 i) |11111111\\rangle$$"
      ],
      "text/plain": [
       "<IPython.core.display.Latex object>"
      ]
     },
     "metadata": {},
     "output_type": "display_data"
    },
    {
     "name": "stdout",
     "output_type": "stream",
     "text": [
      "coherence of |ψ2⟩ =  254.96180078899658\n"
     ]
    },
    {
     "data": {
      "text/plain": [
       "'applied Hadamard to all |ψ1⟩'"
      ]
     },
     "metadata": {},
     "output_type": "display_data"
    },
    {
     "data": {
      "text/latex": [
       "$$(0.999791224099 - 0.012473075982 i) |00000000\\rangle+ (- \\frac{6 \\cdot 3^{\\frac{5}{7}} \\cdot 5^{\\frac{68}{175}} \\cdot 7^{\\frac{11}{25}}}{1225 \\pi^{\\frac{587}{175}}} + \\frac{6 \\cdot 3^{\\frac{5}{7}} \\cdot 5^{\\frac{68}{175}} \\cdot 7^{\\frac{11}{25}} i}{1225 \\pi^{\\frac{587}{175}}}) |00000011\\rangle+ (\\frac{6 \\cdot 3^{\\frac{5}{7}} \\cdot 5^{\\frac{68}{175}} \\cdot 7^{\\frac{11}{25}}}{1225 \\pi^{\\frac{587}{175}}} - \\frac{6 \\cdot 3^{\\frac{5}{7}} \\cdot 5^{\\frac{68}{175}} \\cdot 7^{\\frac{11}{25}} i}{1225 \\pi^{\\frac{587}{175}}}) |00000100\\rangle+ (- \\frac{6 \\cdot 3^{\\frac{5}{7}} \\cdot 5^{\\frac{68}{175}} \\cdot 7^{\\frac{11}{25}}}{1225 \\pi^{\\frac{587}{175}}} + \\frac{6 \\cdot 3^{\\frac{5}{7}} \\cdot 5^{\\frac{68}{175}} \\cdot 7^{\\frac{11}{25}} i}{1225 \\pi^{\\frac{587}{175}}}) |00000111\\rangle+ (\\frac{6 \\cdot 3^{\\frac{5}{7}} \\cdot 5^{\\frac{68}{175}} \\cdot 7^{\\frac{11}{25}}}{1225 \\pi^{\\frac{587}{175}}} - \\frac{6 \\cdot 3^{\\frac{5}{7}} \\cdot 5^{\\frac{68}{175}} \\cdot 7^{\\frac{11}{25}} i}{1225 \\pi^{\\frac{587}{175}}}) |00001001\\rangle+ (- \\frac{6 \\cdot 3^{\\frac{5}{7}} \\cdot 5^{\\frac{68}{175}} \\cdot 7^{\\frac{11}{25}}}{1225 \\pi^{\\frac{587}{175}}} + \\frac{6 \\cdot 3^{\\frac{5}{7}} \\cdot 5^{\\frac{68}{175}} \\cdot 7^{\\frac{11}{25}} i}{1225 \\pi^{\\frac{587}{175}}}) |00001010\\rangle + \\ldots + (- \\frac{6 \\cdot 3^{\\frac{5}{7}} \\cdot 5^{\\frac{68}{175}} \\cdot 7^{\\frac{11}{25}}}{1225 \\pi^{\\frac{587}{175}}} + \\frac{6 \\cdot 3^{\\frac{5}{7}} \\cdot 5^{\\frac{68}{175}} \\cdot 7^{\\frac{11}{25}} i}{1225 \\pi^{\\frac{587}{175}}}) |11110111\\rangle+ (\\frac{6 \\cdot 3^{\\frac{5}{7}} \\cdot 5^{\\frac{68}{175}} \\cdot 7^{\\frac{11}{25}}}{1225 \\pi^{\\frac{587}{175}}} - \\frac{6 \\cdot 3^{\\frac{5}{7}} \\cdot 5^{\\frac{68}{175}} \\cdot 7^{\\frac{11}{25}} i}{1225 \\pi^{\\frac{587}{175}}}) |11111001\\rangle+ (- \\frac{6 \\cdot 3^{\\frac{5}{7}} \\cdot 5^{\\frac{68}{175}} \\cdot 7^{\\frac{11}{25}}}{1225 \\pi^{\\frac{587}{175}}} + \\frac{6 \\cdot 3^{\\frac{5}{7}} \\cdot 5^{\\frac{68}{175}} \\cdot 7^{\\frac{11}{25}} i}{1225 \\pi^{\\frac{587}{175}}}) |11111010\\rangle+ (\\frac{6 \\cdot 3^{\\frac{5}{7}} \\cdot 5^{\\frac{68}{175}} \\cdot 7^{\\frac{11}{25}}}{1225 \\pi^{\\frac{587}{175}}} - \\frac{6 \\cdot 3^{\\frac{5}{7}} \\cdot 5^{\\frac{68}{175}} \\cdot 7^{\\frac{11}{25}} i}{1225 \\pi^{\\frac{587}{175}}}) |11111101\\rangle+ (- \\frac{6 \\cdot 3^{\\frac{5}{7}} \\cdot 5^{\\frac{68}{175}} \\cdot 7^{\\frac{11}{25}}}{1225 \\pi^{\\frac{587}{175}}} + \\frac{6 \\cdot 3^{\\frac{5}{7}} \\cdot 5^{\\frac{68}{175}} \\cdot 7^{\\frac{11}{25}} i}{1225 \\pi^{\\frac{587}{175}}}) |11111110\\rangle$$"
      ],
      "text/plain": [
       "<IPython.core.display.Latex object>"
      ]
     },
     "metadata": {},
     "output_type": "display_data"
    },
    {
     "name": "stdout",
     "output_type": "stream",
     "text": [
      "coherence of |ψ1⟩ =  0.3977303954341144\n"
     ]
    },
    {
     "data": {
      "text/plain": [
       "'applied P operator to |ψ4⟩'"
      ]
     },
     "metadata": {},
     "output_type": "display_data"
    },
    {
     "data": {
      "text/latex": [
       "$$(0.999791224099 - 0.012473075982 i) |00000000\\rangle+ (\\frac{6 \\cdot 3^{\\frac{5}{7}} \\cdot 5^{\\frac{68}{175}} \\cdot 7^{\\frac{11}{25}}}{1225 \\pi^{\\frac{587}{175}}} - \\frac{6 \\cdot 3^{\\frac{5}{7}} \\cdot 5^{\\frac{68}{175}} \\cdot 7^{\\frac{11}{25}} i}{1225 \\pi^{\\frac{587}{175}}}) |00000011\\rangle+ (- \\frac{6 \\cdot 3^{\\frac{5}{7}} \\cdot 5^{\\frac{68}{175}} \\cdot 7^{\\frac{11}{25}}}{1225 \\pi^{\\frac{587}{175}}} + \\frac{6 \\cdot 3^{\\frac{5}{7}} \\cdot 5^{\\frac{68}{175}} \\cdot 7^{\\frac{11}{25}} i}{1225 \\pi^{\\frac{587}{175}}}) |00000100\\rangle+ (\\frac{6 \\cdot 3^{\\frac{5}{7}} \\cdot 5^{\\frac{68}{175}} \\cdot 7^{\\frac{11}{25}}}{1225 \\pi^{\\frac{587}{175}}} - \\frac{6 \\cdot 3^{\\frac{5}{7}} \\cdot 5^{\\frac{68}{175}} \\cdot 7^{\\frac{11}{25}} i}{1225 \\pi^{\\frac{587}{175}}}) |00000111\\rangle+ (- \\frac{6 \\cdot 3^{\\frac{5}{7}} \\cdot 5^{\\frac{68}{175}} \\cdot 7^{\\frac{11}{25}}}{1225 \\pi^{\\frac{587}{175}}} + \\frac{6 \\cdot 3^{\\frac{5}{7}} \\cdot 5^{\\frac{68}{175}} \\cdot 7^{\\frac{11}{25}} i}{1225 \\pi^{\\frac{587}{175}}}) |00001001\\rangle+ (\\frac{6 \\cdot 3^{\\frac{5}{7}} \\cdot 5^{\\frac{68}{175}} \\cdot 7^{\\frac{11}{25}}}{1225 \\pi^{\\frac{587}{175}}} - \\frac{6 \\cdot 3^{\\frac{5}{7}} \\cdot 5^{\\frac{68}{175}} \\cdot 7^{\\frac{11}{25}} i}{1225 \\pi^{\\frac{587}{175}}}) |00001010\\rangle + \\ldots + (\\frac{6 \\cdot 3^{\\frac{5}{7}} \\cdot 5^{\\frac{68}{175}} \\cdot 7^{\\frac{11}{25}}}{1225 \\pi^{\\frac{587}{175}}} - \\frac{6 \\cdot 3^{\\frac{5}{7}} \\cdot 5^{\\frac{68}{175}} \\cdot 7^{\\frac{11}{25}} i}{1225 \\pi^{\\frac{587}{175}}}) |11110111\\rangle+ (- \\frac{6 \\cdot 3^{\\frac{5}{7}} \\cdot 5^{\\frac{68}{175}} \\cdot 7^{\\frac{11}{25}}}{1225 \\pi^{\\frac{587}{175}}} + \\frac{6 \\cdot 3^{\\frac{5}{7}} \\cdot 5^{\\frac{68}{175}} \\cdot 7^{\\frac{11}{25}} i}{1225 \\pi^{\\frac{587}{175}}}) |11111001\\rangle+ (\\frac{6 \\cdot 3^{\\frac{5}{7}} \\cdot 5^{\\frac{68}{175}} \\cdot 7^{\\frac{11}{25}}}{1225 \\pi^{\\frac{587}{175}}} - \\frac{6 \\cdot 3^{\\frac{5}{7}} \\cdot 5^{\\frac{68}{175}} \\cdot 7^{\\frac{11}{25}} i}{1225 \\pi^{\\frac{587}{175}}}) |11111010\\rangle+ (- \\frac{6 \\cdot 3^{\\frac{5}{7}} \\cdot 5^{\\frac{68}{175}} \\cdot 7^{\\frac{11}{25}}}{1225 \\pi^{\\frac{587}{175}}} + \\frac{6 \\cdot 3^{\\frac{5}{7}} \\cdot 5^{\\frac{68}{175}} \\cdot 7^{\\frac{11}{25}} i}{1225 \\pi^{\\frac{587}{175}}}) |11111101\\rangle+ (\\frac{6 \\cdot 3^{\\frac{5}{7}} \\cdot 5^{\\frac{68}{175}} \\cdot 7^{\\frac{11}{25}}}{1225 \\pi^{\\frac{587}{175}}} - \\frac{6 \\cdot 3^{\\frac{5}{7}} \\cdot 5^{\\frac{68}{175}} \\cdot 7^{\\frac{11}{25}} i}{1225 \\pi^{\\frac{587}{175}}}) |11111110\\rangle$$"
      ],
      "text/plain": [
       "<IPython.core.display.Latex object>"
      ]
     },
     "metadata": {},
     "output_type": "display_data"
    },
    {
     "name": "stdout",
     "output_type": "stream",
     "text": [
      "coherence of |ψ4⟩ =  0.3977303954341144\n"
     ]
    },
    {
     "data": {
      "text/plain": [
       "'applied Hadamard to all |ψ5⟩'"
      ]
     },
     "metadata": {},
     "output_type": "display_data"
    },
    {
     "data": {
      "text/latex": [
       "$$(0.062550419719 - 0.000843035462 i) |00000000\\rangle+ (0.062550419719 - 0.000843035462 i) |00000001\\rangle+ (0.062550419719 - 0.000843035462 i) |00000010\\rangle+ (0.062550419719 - 0.000843035462 i) |00000011\\rangle+ (0.062550419719 - 0.000843035462 i) |00000100\\rangle+ (0.062550419719 - 0.000843035462 i) |00000101\\rangle + \\ldots + (0.062550419719 - 0.000843035462 i) |11111011\\rangle+ (0.062550419719 - 0.000843035462 i) |11111100\\rangle+ (0.062550419719 - 0.000843035462 i) |11111101\\rangle+ (0.062550419719 - 0.000843035462 i) |11111110\\rangle+ (0.062550419719 - 0.000843035462 i) |11111111\\rangle$$"
      ],
      "text/plain": [
       "<IPython.core.display.Latex object>"
      ]
     },
     "metadata": {},
     "output_type": "display_data"
    },
    {
     "name": "stdout",
     "output_type": "stream",
     "text": [
      "coherence of |ψ5⟩ =  254.97031119619385\n",
      "-------- 7  ITERATION--------\n"
     ]
    },
    {
     "data": {
      "text/plain": [
       "'applied O operator to |ψ2⟩'"
      ]
     },
     "metadata": {},
     "output_type": "display_data"
    },
    {
     "data": {
      "text/latex": [
       "$$(0.062550419719 - 0.000843035462 i) |00000000\\rangle+ (0.062550419719 - 0.000843035462 i) |00000001\\rangle+ (0.062550419719 - 0.000843035462 i) |00000010\\rangle+ (0.062550419719 - 0.000843035462 i) |00000011\\rangle+ (0.062550419719 - 0.000843035462 i) |00000100\\rangle+ (0.062550419719 - 0.000843035462 i) |00000101\\rangle + \\ldots + (0.062550419719 - 0.000843035462 i) |11111011\\rangle+ (0.062550419719 - 0.000843035462 i) |11111100\\rangle+ (0.062550419719 - 0.000843035462 i) |11111101\\rangle+ (0.062550419719 - 0.000843035462 i) |11111110\\rangle+ (0.062550419719 - 0.000843035462 i) |11111111\\rangle$$"
      ],
      "text/plain": [
       "<IPython.core.display.Latex object>"
      ]
     },
     "metadata": {},
     "output_type": "display_data"
    },
    {
     "name": "stdout",
     "output_type": "stream",
     "text": [
      "coherence of |ψ2⟩ =  254.97031119619385\n"
     ]
    },
    {
     "data": {
      "text/plain": [
       "'applied Hadamard to all |ψ1⟩'"
      ]
     },
     "metadata": {},
     "output_type": "display_data"
    },
    {
     "data": {
      "text/latex": [
       "$$(0.999794961208 - 0.014264913767 i) |00000000\\rangle+ (0.001011754298 + 0.000776346378 i) |00000011\\rangle+ (-0.001011754298 - 0.000776346378 i) |00000100\\rangle+ (0.001011754298 + 0.000776346378 i) |00000111\\rangle+ (-0.001011754298 - 0.000776346378 i) |00001001\\rangle+ (0.001011754298 + 0.000776346378 i) |00001010\\rangle + \\ldots + (0.001011754298 + 0.000776346378 i) |11110111\\rangle+ (-0.001011754298 - 0.000776346378 i) |11111001\\rangle+ (0.001011754298 + 0.000776346378 i) |11111010\\rangle+ (-0.001011754298 - 0.000776346378 i) |11111101\\rangle+ (0.001011754298 + 0.000776346378 i) |11111110\\rangle$$"
      ],
      "text/plain": [
       "<IPython.core.display.Latex object>"
      ]
     },
     "metadata": {},
     "output_type": "display_data"
    },
    {
     "name": "stdout",
     "output_type": "stream",
     "text": [
      "coherence of |ψ1⟩ =  0.34991481455286083\n"
     ]
    },
    {
     "data": {
      "text/plain": [
       "'applied P operator to |ψ4⟩'"
      ]
     },
     "metadata": {},
     "output_type": "display_data"
    },
    {
     "data": {
      "text/latex": [
       "$$(0.999794961208 - 0.014264913767 i) |00000000\\rangle+ (-0.001011754298 - 0.000776346378 i) |00000011\\rangle+ (0.001011754298 + 0.000776346378 i) |00000100\\rangle+ (-0.001011754298 - 0.000776346378 i) |00000111\\rangle+ (0.001011754298 + 0.000776346378 i) |00001001\\rangle+ (-0.001011754298 - 0.000776346378 i) |00001010\\rangle + \\ldots + (-0.001011754298 - 0.000776346378 i) |11110111\\rangle+ (0.001011754298 + 0.000776346378 i) |11111001\\rangle+ (-0.001011754298 - 0.000776346378 i) |11111010\\rangle+ (0.001011754298 + 0.000776346378 i) |11111101\\rangle+ (-0.001011754298 - 0.000776346378 i) |11111110\\rangle$$"
      ],
      "text/plain": [
       "<IPython.core.display.Latex object>"
      ]
     },
     "metadata": {},
     "output_type": "display_data"
    },
    {
     "name": "stdout",
     "output_type": "stream",
     "text": [
      "coherence of |ψ4⟩ =  0.34991481455286083\n"
     ]
    },
    {
     "data": {
      "text/plain": [
       "'applied Hadamard to all |ψ5⟩'"
      ]
     },
     "metadata": {},
     "output_type": "display_data"
    },
    {
     "data": {
      "text/latex": [
       "$$(0.062423950432 - 0.000940078759 i) |00000000\\rangle+ (0.062423950432 - 0.000940078759 i) |00000001\\rangle+ (0.062423950432 - 0.000940078759 i) |00000010\\rangle+ (0.062423950432 - 0.000940078759 i) |00000011\\rangle+ (0.062423950432 - 0.000940078759 i) |00000100\\rangle+ (0.062423950432 - 0.000940078759 i) |00000101\\rangle + \\ldots + (0.062423950432 - 0.000940078759 i) |11111011\\rangle+ (0.062423950432 - 0.000940078759 i) |11111100\\rangle+ (0.062423950432 - 0.000940078759 i) |11111101\\rangle+ (0.062423950432 - 0.000940078759 i) |11111110\\rangle+ (0.062423950432 - 0.000940078759 i) |11111111\\rangle$$"
      ],
      "text/plain": [
       "<IPython.core.display.Latex object>"
      ]
     },
     "metadata": {},
     "output_type": "display_data"
    },
    {
     "name": "stdout",
     "output_type": "stream",
     "text": [
      "coherence of |ψ5⟩ =  254.96514158401337\n",
      "-------- 8  ITERATION--------\n"
     ]
    },
    {
     "data": {
      "text/plain": [
       "'applied O operator to |ψ2⟩'"
      ]
     },
     "metadata": {},
     "output_type": "display_data"
    },
    {
     "data": {
      "text/latex": [
       "$$(0.062423950432 - 0.000940078759 i) |00000000\\rangle+ (0.062423950432 - 0.000940078759 i) |00000001\\rangle+ (0.062423950432 - 0.000940078759 i) |00000010\\rangle+ (0.062423950432 - 0.000940078759 i) |00000011\\rangle+ (0.062423950432 - 0.000940078759 i) |00000100\\rangle+ (0.062423950432 - 0.000940078759 i) |00000101\\rangle + \\ldots + (0.062423950432 - 0.000940078759 i) |11111011\\rangle+ (0.062423950432 - 0.000940078759 i) |11111100\\rangle+ (0.062423950432 - 0.000940078759 i) |11111101\\rangle+ (0.062423950432 - 0.000940078759 i) |11111110\\rangle+ (0.062423950432 - 0.000940078759 i) |11111111\\rangle$$"
      ],
      "text/plain": [
       "<IPython.core.display.Latex object>"
      ]
     },
     "metadata": {},
     "output_type": "display_data"
    },
    {
     "name": "stdout",
     "output_type": "stream",
     "text": [
      "coherence of |ψ2⟩ =  254.96514158401337\n"
     ]
    },
    {
     "data": {
      "text/plain": [
       "'applied Hadamard to all |ψ1⟩'"
      ]
     },
     "metadata": {},
     "output_type": "display_data"
    },
    {
     "data": {
      "text/latex": [
       "$$(0.999665125392 - 0.016568787764 i) |00000000\\rangle+ (-0.000881918482 + 0.001527527619 i) |00000011\\rangle+ (0.000881918482 - 0.001527527619 i) |00000100\\rangle+ (-0.000881918482 + 0.001527527619 i) |00000111\\rangle+ (0.000881918482 - 0.001527527619 i) |00001001\\rangle+ (-0.000881918482 + 0.001527527619 i) |00001010\\rangle + \\ldots + (-0.000881918482 + 0.001527527619 i) |11110111\\rangle+ (0.000881918482 - 0.001527527619 i) |11111001\\rangle+ (-0.000881918482 + 0.001527527619 i) |11111010\\rangle+ (0.000881918482 - 0.001527527619 i) |11111101\\rangle+ (-0.000881918482 + 0.001527527619 i) |11111110\\rangle$$"
      ],
      "text/plain": [
       "<IPython.core.display.Latex object>"
      ]
     },
     "metadata": {},
     "output_type": "display_data"
    },
    {
     "name": "stdout",
     "output_type": "stream",
     "text": [
      "coherence of |ψ1⟩ =  0.49771022772748336\n"
     ]
    },
    {
     "data": {
      "text/plain": [
       "'applied P operator to |ψ4⟩'"
      ]
     },
     "metadata": {},
     "output_type": "display_data"
    },
    {
     "data": {
      "text/latex": [
       "$$(0.999665125392 - 0.016568787764 i) |00000000\\rangle+ (0.000881918482 - 0.001527527619 i) |00000011\\rangle+ (-0.000881918482 + 0.001527527619 i) |00000100\\rangle+ (0.000881918482 - 0.001527527619 i) |00000111\\rangle+ (-0.000881918482 + 0.001527527619 i) |00001001\\rangle+ (0.000881918482 - 0.001527527619 i) |00001010\\rangle + \\ldots + (0.000881918482 - 0.001527527619 i) |11110111\\rangle+ (-0.000881918482 + 0.001527527619 i) |11111001\\rangle+ (0.000881918482 - 0.001527527619 i) |11111010\\rangle+ (-0.000881918482 + 0.001527527619 i) |11111101\\rangle+ (0.000881918482 - 0.001527527619 i) |11111110\\rangle$$"
      ],
      "text/plain": [
       "<IPython.core.display.Latex object>"
      ]
     },
     "metadata": {},
     "output_type": "display_data"
    },
    {
     "name": "stdout",
     "output_type": "stream",
     "text": [
      "coherence of |ψ4⟩ =  0.49771022772748336\n"
     ]
    },
    {
     "data": {
      "text/plain": [
       "'applied Hadamard to all |ψ5⟩'"
      ]
     },
     "metadata": {},
     "output_type": "display_data"
    },
    {
     "data": {
      "text/latex": [
       "$$(0.062534190242 - 0.001131019711 i) |00000000\\rangle+ (0.062534190242 - 0.001131019711 i) |00000001\\rangle+ (0.062534190242 - 0.001131019711 i) |00000010\\rangle+ (0.062534190242 - 0.001131019711 i) |00000011\\rangle+ (0.062534190242 - 0.001131019711 i) |00000100\\rangle+ (0.062534190242 - 0.001131019711 i) |00000101\\rangle + \\ldots + (0.062534190242 - 0.001131019711 i) |11111011\\rangle+ (0.062534190242 - 0.001131019711 i) |11111100\\rangle+ (0.062534190242 - 0.001131019711 i) |11111101\\rangle+ (0.062534190242 - 0.001131019711 i) |11111110\\rangle+ (0.062534190242 - 0.001131019711 i) |11111111\\rangle$$"
      ],
      "text/plain": [
       "<IPython.core.display.Latex object>"
      ]
     },
     "metadata": {},
     "output_type": "display_data"
    },
    {
     "name": "stdout",
     "output_type": "stream",
     "text": [
      "coherence of |ψ5⟩ =  254.98190555080194\n",
      "======================================== FOR ϕ =  360.0 ========================================\n"
     ]
    },
    {
     "data": {
      "text/plain": [
       "'initialised |ψ0⟩'"
      ]
     },
     "metadata": {},
     "output_type": "display_data"
    },
    {
     "data": {
      "text/latex": [
       "$$ |00000000\\rangle$$"
      ],
      "text/plain": [
       "<IPython.core.display.Latex object>"
      ]
     },
     "metadata": {},
     "output_type": "display_data"
    },
    {
     "name": "stdout",
     "output_type": "stream",
     "text": [
      "coherence of |ψ0⟩ =  0.0\n"
     ]
    },
    {
     "data": {
      "text/plain": [
       "'applied Hadamard to all |ψ1⟩'"
      ]
     },
     "metadata": {},
     "output_type": "display_data"
    },
    {
     "data": {
      "text/latex": [
       "$$\\frac{1}{16} |00000000\\rangle+\\frac{1}{16} |00000001\\rangle+\\frac{1}{16} |00000010\\rangle+\\frac{1}{16} |00000011\\rangle+\\frac{1}{16} |00000100\\rangle+\\frac{1}{16} |00000101\\rangle + \\ldots +\\frac{1}{16} |11111011\\rangle+\\frac{1}{16} |11111100\\rangle+\\frac{1}{16} |11111101\\rangle+\\frac{1}{16} |11111110\\rangle+\\frac{1}{16} |11111111\\rangle$$"
      ],
      "text/plain": [
       "<IPython.core.display.Latex object>"
      ]
     },
     "metadata": {},
     "output_type": "display_data"
    },
    {
     "name": "stdout",
     "output_type": "stream",
     "text": [
      "coherence of |ψ1⟩ =  255.00000000000003\n",
      "-------- 1  ITERATION--------\n"
     ]
    },
    {
     "data": {
      "text/plain": [
       "'applied O operator to |ψ2⟩'"
      ]
     },
     "metadata": {},
     "output_type": "display_data"
    },
    {
     "data": {
      "text/latex": [
       "$$\\frac{1}{16} |00000000\\rangle+\\frac{1}{16} |00000001\\rangle+\\frac{1}{16} |00000010\\rangle+\\frac{1}{16} |00000011\\rangle+\\frac{1}{16} |00000100\\rangle+\\frac{1}{16} |00000101\\rangle + \\ldots +\\frac{1}{16} |11111011\\rangle+\\frac{1}{16} |11111100\\rangle+\\frac{1}{16} |11111101\\rangle+\\frac{1}{16} |11111110\\rangle+\\frac{1}{16} |11111111\\rangle$$"
      ],
      "text/plain": [
       "<IPython.core.display.Latex object>"
      ]
     },
     "metadata": {},
     "output_type": "display_data"
    },
    {
     "name": "stdout",
     "output_type": "stream",
     "text": [
      "coherence of |ψ2⟩ =  255.00000000000003\n"
     ]
    },
    {
     "data": {
      "text/plain": [
       "'applied Hadamard to all |ψ1⟩'"
      ]
     },
     "metadata": {},
     "output_type": "display_data"
    },
    {
     "data": {
      "text/latex": [
       "$$ |00000000\\rangle$$"
      ],
      "text/plain": [
       "<IPython.core.display.Latex object>"
      ]
     },
     "metadata": {},
     "output_type": "display_data"
    },
    {
     "name": "stdout",
     "output_type": "stream",
     "text": [
      "coherence of |ψ1⟩ =  1.600140040167636e-15\n"
     ]
    },
    {
     "data": {
      "text/plain": [
       "'applied P operator to |ψ4⟩'"
      ]
     },
     "metadata": {},
     "output_type": "display_data"
    },
    {
     "data": {
      "text/latex": [
       "$$ |00000000\\rangle$$"
      ],
      "text/plain": [
       "<IPython.core.display.Latex object>"
      ]
     },
     "metadata": {},
     "output_type": "display_data"
    },
    {
     "name": "stdout",
     "output_type": "stream",
     "text": [
      "coherence of |ψ4⟩ =  1.600140040167636e-15\n"
     ]
    },
    {
     "data": {
      "text/plain": [
       "'applied Hadamard to all |ψ5⟩'"
      ]
     },
     "metadata": {},
     "output_type": "display_data"
    },
    {
     "data": {
      "text/latex": [
       "$$\\frac{1}{16} |00000000\\rangle+\\frac{1}{16} |00000001\\rangle+\\frac{1}{16} |00000010\\rangle+\\frac{1}{16} |00000011\\rangle+\\frac{1}{16} |00000100\\rangle+\\frac{1}{16} |00000101\\rangle + \\ldots +\\frac{1}{16} |11111011\\rangle+\\frac{1}{16} |11111100\\rangle+\\frac{1}{16} |11111101\\rangle+\\frac{1}{16} |11111110\\rangle+\\frac{1}{16} |11111111\\rangle$$"
      ],
      "text/plain": [
       "<IPython.core.display.Latex object>"
      ]
     },
     "metadata": {},
     "output_type": "display_data"
    },
    {
     "name": "stdout",
     "output_type": "stream",
     "text": [
      "coherence of |ψ5⟩ =  255.00000000000003\n",
      "-------- 2  ITERATION--------\n"
     ]
    },
    {
     "data": {
      "text/plain": [
       "'applied O operator to |ψ2⟩'"
      ]
     },
     "metadata": {},
     "output_type": "display_data"
    },
    {
     "data": {
      "text/latex": [
       "$$\\frac{1}{16} |00000000\\rangle+\\frac{1}{16} |00000001\\rangle+\\frac{1}{16} |00000010\\rangle+\\frac{1}{16} |00000011\\rangle+\\frac{1}{16} |00000100\\rangle+\\frac{1}{16} |00000101\\rangle + \\ldots +\\frac{1}{16} |11111011\\rangle+\\frac{1}{16} |11111100\\rangle+\\frac{1}{16} |11111101\\rangle+\\frac{1}{16} |11111110\\rangle+\\frac{1}{16} |11111111\\rangle$$"
      ],
      "text/plain": [
       "<IPython.core.display.Latex object>"
      ]
     },
     "metadata": {},
     "output_type": "display_data"
    },
    {
     "name": "stdout",
     "output_type": "stream",
     "text": [
      "coherence of |ψ2⟩ =  255.00000000000003\n"
     ]
    },
    {
     "data": {
      "text/plain": [
       "'applied Hadamard to all |ψ1⟩'"
      ]
     },
     "metadata": {},
     "output_type": "display_data"
    },
    {
     "data": {
      "text/latex": [
       "$$ |00000000\\rangle$$"
      ],
      "text/plain": [
       "<IPython.core.display.Latex object>"
      ]
     },
     "metadata": {},
     "output_type": "display_data"
    },
    {
     "name": "stdout",
     "output_type": "stream",
     "text": [
      "coherence of |ψ1⟩ =  5.468646926129539e-16\n"
     ]
    },
    {
     "data": {
      "text/plain": [
       "'applied P operator to |ψ4⟩'"
      ]
     },
     "metadata": {},
     "output_type": "display_data"
    },
    {
     "data": {
      "text/latex": [
       "$$ |00000000\\rangle$$"
      ],
      "text/plain": [
       "<IPython.core.display.Latex object>"
      ]
     },
     "metadata": {},
     "output_type": "display_data"
    },
    {
     "name": "stdout",
     "output_type": "stream",
     "text": [
      "coherence of |ψ4⟩ =  5.468646926129539e-16\n"
     ]
    },
    {
     "data": {
      "text/plain": [
       "'applied Hadamard to all |ψ5⟩'"
      ]
     },
     "metadata": {},
     "output_type": "display_data"
    },
    {
     "data": {
      "text/latex": [
       "$$\\frac{1}{16} |00000000\\rangle+\\frac{1}{16} |00000001\\rangle+\\frac{1}{16} |00000010\\rangle+\\frac{1}{16} |00000011\\rangle+\\frac{1}{16} |00000100\\rangle+\\frac{1}{16} |00000101\\rangle + \\ldots +\\frac{1}{16} |11111011\\rangle+\\frac{1}{16} |11111100\\rangle+\\frac{1}{16} |11111101\\rangle+\\frac{1}{16} |11111110\\rangle+\\frac{1}{16} |11111111\\rangle$$"
      ],
      "text/plain": [
       "<IPython.core.display.Latex object>"
      ]
     },
     "metadata": {},
     "output_type": "display_data"
    },
    {
     "name": "stdout",
     "output_type": "stream",
     "text": [
      "coherence of |ψ5⟩ =  255.00000000000003\n",
      "-------- 3  ITERATION--------\n"
     ]
    },
    {
     "data": {
      "text/plain": [
       "'applied O operator to |ψ2⟩'"
      ]
     },
     "metadata": {},
     "output_type": "display_data"
    },
    {
     "data": {
      "text/latex": [
       "$$\\frac{1}{16} |00000000\\rangle+\\frac{1}{16} |00000001\\rangle+\\frac{1}{16} |00000010\\rangle+\\frac{1}{16} |00000011\\rangle+\\frac{1}{16} |00000100\\rangle+\\frac{1}{16} |00000101\\rangle + \\ldots +\\frac{1}{16} |11111011\\rangle+\\frac{1}{16} |11111100\\rangle+\\frac{1}{16} |11111101\\rangle+\\frac{1}{16} |11111110\\rangle+\\frac{1}{16} |11111111\\rangle$$"
      ],
      "text/plain": [
       "<IPython.core.display.Latex object>"
      ]
     },
     "metadata": {},
     "output_type": "display_data"
    },
    {
     "name": "stdout",
     "output_type": "stream",
     "text": [
      "coherence of |ψ2⟩ =  255.00000000000003\n"
     ]
    },
    {
     "data": {
      "text/plain": [
       "'applied Hadamard to all |ψ1⟩'"
      ]
     },
     "metadata": {},
     "output_type": "display_data"
    },
    {
     "data": {
      "text/latex": [
       "$$ |00000000\\rangle$$"
      ],
      "text/plain": [
       "<IPython.core.display.Latex object>"
      ]
     },
     "metadata": {},
     "output_type": "display_data"
    },
    {
     "name": "stdout",
     "output_type": "stream",
     "text": [
      "coherence of |ψ1⟩ =  1.6001400401676373e-15\n"
     ]
    },
    {
     "data": {
      "text/plain": [
       "'applied P operator to |ψ4⟩'"
      ]
     },
     "metadata": {},
     "output_type": "display_data"
    },
    {
     "data": {
      "text/latex": [
       "$$ |00000000\\rangle$$"
      ],
      "text/plain": [
       "<IPython.core.display.Latex object>"
      ]
     },
     "metadata": {},
     "output_type": "display_data"
    },
    {
     "name": "stdout",
     "output_type": "stream",
     "text": [
      "coherence of |ψ4⟩ =  1.6001400401676373e-15\n"
     ]
    },
    {
     "data": {
      "text/plain": [
       "'applied Hadamard to all |ψ5⟩'"
      ]
     },
     "metadata": {},
     "output_type": "display_data"
    },
    {
     "data": {
      "text/latex": [
       "$$\\frac{1}{16} |00000000\\rangle+\\frac{1}{16} |00000001\\rangle+\\frac{1}{16} |00000010\\rangle+\\frac{1}{16} |00000011\\rangle+\\frac{1}{16} |00000100\\rangle+\\frac{1}{16} |00000101\\rangle + \\ldots +\\frac{1}{16} |11111011\\rangle+\\frac{1}{16} |11111100\\rangle+\\frac{1}{16} |11111101\\rangle+\\frac{1}{16} |11111110\\rangle+\\frac{1}{16} |11111111\\rangle$$"
      ],
      "text/plain": [
       "<IPython.core.display.Latex object>"
      ]
     },
     "metadata": {},
     "output_type": "display_data"
    },
    {
     "name": "stdout",
     "output_type": "stream",
     "text": [
      "coherence of |ψ5⟩ =  255.00000000000003\n",
      "-------- 4  ITERATION--------\n"
     ]
    },
    {
     "data": {
      "text/plain": [
       "'applied O operator to |ψ2⟩'"
      ]
     },
     "metadata": {},
     "output_type": "display_data"
    },
    {
     "data": {
      "text/latex": [
       "$$\\frac{1}{16} |00000000\\rangle+\\frac{1}{16} |00000001\\rangle+\\frac{1}{16} |00000010\\rangle+\\frac{1}{16} |00000011\\rangle+\\frac{1}{16} |00000100\\rangle+\\frac{1}{16} |00000101\\rangle + \\ldots +\\frac{1}{16} |11111011\\rangle+\\frac{1}{16} |11111100\\rangle+\\frac{1}{16} |11111101\\rangle+\\frac{1}{16} |11111110\\rangle+\\frac{1}{16} |11111111\\rangle$$"
      ],
      "text/plain": [
       "<IPython.core.display.Latex object>"
      ]
     },
     "metadata": {},
     "output_type": "display_data"
    },
    {
     "name": "stdout",
     "output_type": "stream",
     "text": [
      "coherence of |ψ2⟩ =  255.00000000000003\n"
     ]
    },
    {
     "data": {
      "text/plain": [
       "'applied Hadamard to all |ψ1⟩'"
      ]
     },
     "metadata": {},
     "output_type": "display_data"
    },
    {
     "data": {
      "text/latex": [
       "$$ |00000000\\rangle$$"
      ],
      "text/plain": [
       "<IPython.core.display.Latex object>"
      ]
     },
     "metadata": {},
     "output_type": "display_data"
    },
    {
     "name": "stdout",
     "output_type": "stream",
     "text": [
      "coherence of |ψ1⟩ =  5.468646926129578e-16\n"
     ]
    },
    {
     "data": {
      "text/plain": [
       "'applied P operator to |ψ4⟩'"
      ]
     },
     "metadata": {},
     "output_type": "display_data"
    },
    {
     "data": {
      "text/latex": [
       "$$ |00000000\\rangle$$"
      ],
      "text/plain": [
       "<IPython.core.display.Latex object>"
      ]
     },
     "metadata": {},
     "output_type": "display_data"
    },
    {
     "name": "stdout",
     "output_type": "stream",
     "text": [
      "coherence of |ψ4⟩ =  5.468646926129578e-16\n"
     ]
    },
    {
     "data": {
      "text/plain": [
       "'applied Hadamard to all |ψ5⟩'"
      ]
     },
     "metadata": {},
     "output_type": "display_data"
    },
    {
     "data": {
      "text/latex": [
       "$$\\frac{1}{16} |00000000\\rangle+\\frac{1}{16} |00000001\\rangle+\\frac{1}{16} |00000010\\rangle+\\frac{1}{16} |00000011\\rangle+\\frac{1}{16} |00000100\\rangle+\\frac{1}{16} |00000101\\rangle + \\ldots +\\frac{1}{16} |11111011\\rangle+\\frac{1}{16} |11111100\\rangle+\\frac{1}{16} |11111101\\rangle+\\frac{1}{16} |11111110\\rangle+\\frac{1}{16} |11111111\\rangle$$"
      ],
      "text/plain": [
       "<IPython.core.display.Latex object>"
      ]
     },
     "metadata": {},
     "output_type": "display_data"
    },
    {
     "name": "stdout",
     "output_type": "stream",
     "text": [
      "coherence of |ψ5⟩ =  255.00000000000003\n",
      "-------- 5  ITERATION--------\n"
     ]
    },
    {
     "data": {
      "text/plain": [
       "'applied O operator to |ψ2⟩'"
      ]
     },
     "metadata": {},
     "output_type": "display_data"
    },
    {
     "data": {
      "text/latex": [
       "$$\\frac{1}{16} |00000000\\rangle+\\frac{1}{16} |00000001\\rangle+\\frac{1}{16} |00000010\\rangle+\\frac{1}{16} |00000011\\rangle+\\frac{1}{16} |00000100\\rangle+\\frac{1}{16} |00000101\\rangle + \\ldots +\\frac{1}{16} |11111011\\rangle+\\frac{1}{16} |11111100\\rangle+\\frac{1}{16} |11111101\\rangle+\\frac{1}{16} |11111110\\rangle+\\frac{1}{16} |11111111\\rangle$$"
      ],
      "text/plain": [
       "<IPython.core.display.Latex object>"
      ]
     },
     "metadata": {},
     "output_type": "display_data"
    },
    {
     "name": "stdout",
     "output_type": "stream",
     "text": [
      "coherence of |ψ2⟩ =  255.00000000000003\n"
     ]
    },
    {
     "data": {
      "text/plain": [
       "'applied Hadamard to all |ψ1⟩'"
      ]
     },
     "metadata": {},
     "output_type": "display_data"
    },
    {
     "data": {
      "text/latex": [
       "$$ |00000000\\rangle$$"
      ],
      "text/plain": [
       "<IPython.core.display.Latex object>"
      ]
     },
     "metadata": {},
     "output_type": "display_data"
    },
    {
     "name": "stdout",
     "output_type": "stream",
     "text": [
      "coherence of |ψ1⟩ =  1.60014004016764e-15\n"
     ]
    },
    {
     "data": {
      "text/plain": [
       "'applied P operator to |ψ4⟩'"
      ]
     },
     "metadata": {},
     "output_type": "display_data"
    },
    {
     "data": {
      "text/latex": [
       "$$ |00000000\\rangle$$"
      ],
      "text/plain": [
       "<IPython.core.display.Latex object>"
      ]
     },
     "metadata": {},
     "output_type": "display_data"
    },
    {
     "name": "stdout",
     "output_type": "stream",
     "text": [
      "coherence of |ψ4⟩ =  1.60014004016764e-15\n"
     ]
    },
    {
     "data": {
      "text/plain": [
       "'applied Hadamard to all |ψ5⟩'"
      ]
     },
     "metadata": {},
     "output_type": "display_data"
    },
    {
     "data": {
      "text/latex": [
       "$$\\frac{1}{16} |00000000\\rangle+\\frac{1}{16} |00000001\\rangle+\\frac{1}{16} |00000010\\rangle+\\frac{1}{16} |00000011\\rangle+\\frac{1}{16} |00000100\\rangle+\\frac{1}{16} |00000101\\rangle + \\ldots +\\frac{1}{16} |11111011\\rangle+\\frac{1}{16} |11111100\\rangle+\\frac{1}{16} |11111101\\rangle+\\frac{1}{16} |11111110\\rangle+\\frac{1}{16} |11111111\\rangle$$"
      ],
      "text/plain": [
       "<IPython.core.display.Latex object>"
      ]
     },
     "metadata": {},
     "output_type": "display_data"
    },
    {
     "name": "stdout",
     "output_type": "stream",
     "text": [
      "coherence of |ψ5⟩ =  255.00000000000003\n",
      "-------- 6  ITERATION--------\n"
     ]
    },
    {
     "data": {
      "text/plain": [
       "'applied O operator to |ψ2⟩'"
      ]
     },
     "metadata": {},
     "output_type": "display_data"
    },
    {
     "data": {
      "text/latex": [
       "$$\\frac{1}{16} |00000000\\rangle+\\frac{1}{16} |00000001\\rangle+\\frac{1}{16} |00000010\\rangle+\\frac{1}{16} |00000011\\rangle+\\frac{1}{16} |00000100\\rangle+\\frac{1}{16} |00000101\\rangle + \\ldots +\\frac{1}{16} |11111011\\rangle+\\frac{1}{16} |11111100\\rangle+\\frac{1}{16} |11111101\\rangle+\\frac{1}{16} |11111110\\rangle+\\frac{1}{16} |11111111\\rangle$$"
      ],
      "text/plain": [
       "<IPython.core.display.Latex object>"
      ]
     },
     "metadata": {},
     "output_type": "display_data"
    },
    {
     "name": "stdout",
     "output_type": "stream",
     "text": [
      "coherence of |ψ2⟩ =  255.00000000000003\n"
     ]
    },
    {
     "data": {
      "text/plain": [
       "'applied Hadamard to all |ψ1⟩'"
      ]
     },
     "metadata": {},
     "output_type": "display_data"
    },
    {
     "data": {
      "text/latex": [
       "$$ |00000000\\rangle$$"
      ],
      "text/plain": [
       "<IPython.core.display.Latex object>"
      ]
     },
     "metadata": {},
     "output_type": "display_data"
    },
    {
     "name": "stdout",
     "output_type": "stream",
     "text": [
      "coherence of |ψ1⟩ =  5.468646926129639e-16\n"
     ]
    },
    {
     "data": {
      "text/plain": [
       "'applied P operator to |ψ4⟩'"
      ]
     },
     "metadata": {},
     "output_type": "display_data"
    },
    {
     "data": {
      "text/latex": [
       "$$ |00000000\\rangle$$"
      ],
      "text/plain": [
       "<IPython.core.display.Latex object>"
      ]
     },
     "metadata": {},
     "output_type": "display_data"
    },
    {
     "name": "stdout",
     "output_type": "stream",
     "text": [
      "coherence of |ψ4⟩ =  5.468646926129639e-16\n"
     ]
    },
    {
     "data": {
      "text/plain": [
       "'applied Hadamard to all |ψ5⟩'"
      ]
     },
     "metadata": {},
     "output_type": "display_data"
    },
    {
     "data": {
      "text/latex": [
       "$$\\frac{1}{16} |00000000\\rangle+\\frac{1}{16} |00000001\\rangle+\\frac{1}{16} |00000010\\rangle+\\frac{1}{16} |00000011\\rangle+\\frac{1}{16} |00000100\\rangle+\\frac{1}{16} |00000101\\rangle + \\ldots +\\frac{1}{16} |11111011\\rangle+\\frac{1}{16} |11111100\\rangle+\\frac{1}{16} |11111101\\rangle+\\frac{1}{16} |11111110\\rangle+\\frac{1}{16} |11111111\\rangle$$"
      ],
      "text/plain": [
       "<IPython.core.display.Latex object>"
      ]
     },
     "metadata": {},
     "output_type": "display_data"
    },
    {
     "name": "stdout",
     "output_type": "stream",
     "text": [
      "coherence of |ψ5⟩ =  255.00000000000003\n",
      "-------- 7  ITERATION--------\n"
     ]
    },
    {
     "data": {
      "text/plain": [
       "'applied O operator to |ψ2⟩'"
      ]
     },
     "metadata": {},
     "output_type": "display_data"
    },
    {
     "data": {
      "text/latex": [
       "$$\\frac{1}{16} |00000000\\rangle+\\frac{1}{16} |00000001\\rangle+\\frac{1}{16} |00000010\\rangle+\\frac{1}{16} |00000011\\rangle+\\frac{1}{16} |00000100\\rangle+\\frac{1}{16} |00000101\\rangle + \\ldots +\\frac{1}{16} |11111011\\rangle+\\frac{1}{16} |11111100\\rangle+\\frac{1}{16} |11111101\\rangle+\\frac{1}{16} |11111110\\rangle+\\frac{1}{16} |11111111\\rangle$$"
      ],
      "text/plain": [
       "<IPython.core.display.Latex object>"
      ]
     },
     "metadata": {},
     "output_type": "display_data"
    },
    {
     "name": "stdout",
     "output_type": "stream",
     "text": [
      "coherence of |ψ2⟩ =  255.00000000000003\n"
     ]
    },
    {
     "data": {
      "text/plain": [
       "'applied Hadamard to all |ψ1⟩'"
      ]
     },
     "metadata": {},
     "output_type": "display_data"
    },
    {
     "data": {
      "text/latex": [
       "$$ |00000000\\rangle$$"
      ],
      "text/plain": [
       "<IPython.core.display.Latex object>"
      ]
     },
     "metadata": {},
     "output_type": "display_data"
    },
    {
     "name": "stdout",
     "output_type": "stream",
     "text": [
      "coherence of |ψ1⟩ =  1.6001400401676444e-15\n"
     ]
    },
    {
     "data": {
      "text/plain": [
       "'applied P operator to |ψ4⟩'"
      ]
     },
     "metadata": {},
     "output_type": "display_data"
    },
    {
     "data": {
      "text/latex": [
       "$$ |00000000\\rangle$$"
      ],
      "text/plain": [
       "<IPython.core.display.Latex object>"
      ]
     },
     "metadata": {},
     "output_type": "display_data"
    },
    {
     "name": "stdout",
     "output_type": "stream",
     "text": [
      "coherence of |ψ4⟩ =  1.6001400401676444e-15\n"
     ]
    },
    {
     "data": {
      "text/plain": [
       "'applied Hadamard to all |ψ5⟩'"
      ]
     },
     "metadata": {},
     "output_type": "display_data"
    },
    {
     "data": {
      "text/latex": [
       "$$\\frac{1}{16} |00000000\\rangle+\\frac{1}{16} |00000001\\rangle+\\frac{1}{16} |00000010\\rangle+\\frac{1}{16} |00000011\\rangle+\\frac{1}{16} |00000100\\rangle+\\frac{1}{16} |00000101\\rangle + \\ldots +\\frac{1}{16} |11111011\\rangle+\\frac{1}{16} |11111100\\rangle+\\frac{1}{16} |11111101\\rangle+\\frac{1}{16} |11111110\\rangle+\\frac{1}{16} |11111111\\rangle$$"
      ],
      "text/plain": [
       "<IPython.core.display.Latex object>"
      ]
     },
     "metadata": {},
     "output_type": "display_data"
    },
    {
     "name": "stdout",
     "output_type": "stream",
     "text": [
      "coherence of |ψ5⟩ =  255.00000000000003\n",
      "-------- 8  ITERATION--------\n"
     ]
    },
    {
     "data": {
      "text/plain": [
       "'applied O operator to |ψ2⟩'"
      ]
     },
     "metadata": {},
     "output_type": "display_data"
    },
    {
     "data": {
      "text/latex": [
       "$$\\frac{1}{16} |00000000\\rangle+\\frac{1}{16} |00000001\\rangle+\\frac{1}{16} |00000010\\rangle+\\frac{1}{16} |00000011\\rangle+\\frac{1}{16} |00000100\\rangle+\\frac{1}{16} |00000101\\rangle + \\ldots +\\frac{1}{16} |11111011\\rangle+\\frac{1}{16} |11111100\\rangle+\\frac{1}{16} |11111101\\rangle+\\frac{1}{16} |11111110\\rangle+\\frac{1}{16} |11111111\\rangle$$"
      ],
      "text/plain": [
       "<IPython.core.display.Latex object>"
      ]
     },
     "metadata": {},
     "output_type": "display_data"
    },
    {
     "name": "stdout",
     "output_type": "stream",
     "text": [
      "coherence of |ψ2⟩ =  255.00000000000003\n"
     ]
    },
    {
     "data": {
      "text/plain": [
       "'applied Hadamard to all |ψ1⟩'"
      ]
     },
     "metadata": {},
     "output_type": "display_data"
    },
    {
     "data": {
      "text/latex": [
       "$$ |00000000\\rangle$$"
      ],
      "text/plain": [
       "<IPython.core.display.Latex object>"
      ]
     },
     "metadata": {},
     "output_type": "display_data"
    },
    {
     "name": "stdout",
     "output_type": "stream",
     "text": [
      "coherence of |ψ1⟩ =  5.468646926129732e-16\n"
     ]
    },
    {
     "data": {
      "text/plain": [
       "'applied P operator to |ψ4⟩'"
      ]
     },
     "metadata": {},
     "output_type": "display_data"
    },
    {
     "data": {
      "text/latex": [
       "$$ |00000000\\rangle$$"
      ],
      "text/plain": [
       "<IPython.core.display.Latex object>"
      ]
     },
     "metadata": {},
     "output_type": "display_data"
    },
    {
     "name": "stdout",
     "output_type": "stream",
     "text": [
      "coherence of |ψ4⟩ =  5.468646926129732e-16\n"
     ]
    },
    {
     "data": {
      "text/plain": [
       "'applied Hadamard to all |ψ5⟩'"
      ]
     },
     "metadata": {},
     "output_type": "display_data"
    },
    {
     "data": {
      "text/latex": [
       "$$\\frac{1}{16} |00000000\\rangle+\\frac{1}{16} |00000001\\rangle+\\frac{1}{16} |00000010\\rangle+\\frac{1}{16} |00000011\\rangle+\\frac{1}{16} |00000100\\rangle+\\frac{1}{16} |00000101\\rangle + \\ldots +\\frac{1}{16} |11111011\\rangle+\\frac{1}{16} |11111100\\rangle+\\frac{1}{16} |11111101\\rangle+\\frac{1}{16} |11111110\\rangle+\\frac{1}{16} |11111111\\rangle$$"
      ],
      "text/plain": [
       "<IPython.core.display.Latex object>"
      ]
     },
     "metadata": {},
     "output_type": "display_data"
    },
    {
     "name": "stdout",
     "output_type": "stream",
     "text": [
      "coherence of |ψ5⟩ =  255.00000000000003\n"
     ]
    }
   ],
   "source": [
    "def iteration(i,a):\n",
    "    qc.barrier()\n",
    "    count = i*4\n",
    "    qc.append(O_operator,length)\n",
    "    result = execute(qc, backend).result()\n",
    "    state = result.get_statevector()\n",
    "    display(\"applied O operator to |ψ2⟩\", state.draw('latex'))\n",
    "    density_operator = state.to_operator()\n",
    "    coherence = 0\n",
    "    for i in range(N):\n",
    "        for j in range(N):\n",
    "            if(i != j):\n",
    "                coherence += abs(density_operator.data[i,j])\n",
    "    print(\"coherence of |ψ2⟩ = \",coherence)\n",
    "    data[a][count] = coherence\n",
    "\n",
    "    qc.h(length)\n",
    "    result = execute(qc, backend).result()\n",
    "    state = result.get_statevector()\n",
    "    display(\"applied Hadamard to all |ψ1⟩\", state.draw('latex'))\n",
    "    density_operator = state.to_operator()\n",
    "    coherence = 0\n",
    "    for i in range(N):\n",
    "        for j in range(N):\n",
    "            if(i != j):\n",
    "                coherence += abs(density_operator.data[i,j])\n",
    "    print(\"coherence of |ψ1⟩ = \",coherence)\n",
    "    data[a][count+1] = coherence\n",
    "\n",
    "    qc.append(P_operator,length)\n",
    "    result = execute(qc, backend).result()\n",
    "    state = result.get_statevector()\n",
    "    display(\"applied P operator to |ψ4⟩\", state.draw('latex'))\n",
    "    density_operator = state.to_operator()\n",
    "    coherence = 0\n",
    "    for i in range(N):\n",
    "        for j in range(N):\n",
    "            if(i != j):\n",
    "                coherence += abs(density_operator.data[i,j])\n",
    "    print(\"coherence of |ψ4⟩ = \",coherence)\n",
    "    data[a][count+2] = coherence\n",
    "\n",
    "    qc.h(length)\n",
    "    result = execute(qc, backend).result()\n",
    "    state = result.get_statevector()\n",
    "    display(\"applied Hadamard to all |ψ5⟩\", state.draw('latex'))\n",
    "    density_operator = state.to_operator()\n",
    "    coherence = 0\n",
    "    for i in range(N):\n",
    "        for j in range(N):\n",
    "            if(i != j):\n",
    "                coherence += abs(density_operator.data[i,j])\n",
    "    print(\"coherence of |ψ5⟩ = \",coherence)\n",
    "    data[a][count+3] = coherence\n",
    "\n",
    "for a in range(len(phi)):\n",
    "    print(\"======================================== FOR ϕ = \", phi[a]*180/np.pi,\"========================================\")\n",
    "    qc = QuantumCircuit(n)\n",
    "    backend = Aer.get_backend('statevector_simulator')\n",
    "    result = execute(qc, backend).result()\n",
    "    state = result.get_statevector()\n",
    "    display(\"initialised |ψ0⟩\", state.draw('latex'))\n",
    "    density_operator = state.to_operator()\n",
    "    #print(density_operator.data)\n",
    "    coherence = 0\n",
    "    for i in range(N):\n",
    "        for j in range(N):\n",
    "            if(i != j):\n",
    "                coherence += abs(density_operator.data[i,j])\n",
    "    print(\"coherence of |ψ0⟩ = \",coherence)\n",
    "\n",
    "    qc.h(length)\n",
    "    result = execute(qc, backend).result()\n",
    "    state = result.get_statevector()\n",
    "    display(\"applied Hadamard to all |ψ1⟩\", state.draw('latex'))\n",
    "    density_operator = state.to_operator()\n",
    "    #print(density_operator.data)\n",
    "    coherence = 0\n",
    "    for i in range(N):\n",
    "        for j in range(N):\n",
    "            if(i != j):\n",
    "                coherence += abs(density_operator.data[i,j])\n",
    "    print(\"coherence of |ψ1⟩ = \",coherence)\n",
    "\n",
    "    #defining generalised O Operator\n",
    "    count = 0\n",
    "    choice = a\n",
    "    O_operator = Operator(np.zeros((N,N)))\n",
    "    for i in range(N):\n",
    "        for j in range(N):\n",
    "            if(i != j):   #off diagonal elements\n",
    "                O_operator.data[i][j] = 0\n",
    "            else:    #diagonal elements\n",
    "                flag = 0\n",
    "                for k in range(t):\n",
    "                    if(i == target[k]):\n",
    "                        O_operator.data[i][j] = x[choice]\n",
    "                        count += 1\n",
    "                        flag = 1\n",
    "                        break\n",
    "                if(flag == 0):\n",
    "                    O_operator.data[i][j] = 1            \n",
    "\n",
    "    #defining P Operator\n",
    "    P_operator = Operator(np.zeros((N,N)))\n",
    "    for i in range(N):\n",
    "        for j in range(N):\n",
    "            if(i != j):    #off-diagonal elements\n",
    "                P_operator.data[i][j] = 0\n",
    "            else:\n",
    "                if(i==0 & j==0):   #for 1st element only\n",
    "                    P_operator.data[i][j] = 1\n",
    "                else:\n",
    "                    P_operator.data[i][j] = -1\n",
    "\n",
    "    #sending out for x iterations of grover's operator\n",
    "    for i in range(noi):\n",
    "        print(\"--------\",(i+1),\" ITERATION--------\")\n",
    "        iteration(i,a)"
   ]
  },
  {
   "cell_type": "code",
   "execution_count": 39,
   "id": "246cee70",
   "metadata": {},
   "outputs": [
    {
     "data": {
      "image/png": "[encoded data removed]",
      "text/plain": [
       "<Figure size 1000x1000 with 12 Axes>"
      ]
     },
     "metadata": {},
     "output_type": "display_data"
    }
   ],
   "source": [
    "data_N = [a/N for a in data]\n",
    "xa = [a/4 for a in x_axis]\n",
    "\n",
    "a = len(phi)//3\n",
    "b = len(phi)//a\n",
    "fig, axs = pl.subplots(a,b, figsize=(10,10))\n",
    "count = 0\n",
    "for i in range(a):\n",
    "    for j in range(b):\n",
    "        axs[i,j].scatter(xa[::4], data_N[count][::4], color='red', label='O')\n",
    "        axs[i,j].scatter(xa[1::4], data_N[count][1::4], color='blue', marker='<', label='H')\n",
    "        axs[i,j].scatter(xa[2::4], data_N[count][2::4], color='black', marker='>', label='P')\n",
    "        axs[i,j].scatter(xa[3::4], data_N[count][3::4], color='green', marker='d', label='H')\n",
    "        axs[i,j].plot(xa, data_N[count])\n",
    "        axs[i,j].set_title(\"φ = \" + str(phi[count]*180/np.pi))\n",
    "        count += 1\n",
    "        pl.subplots_adjust(top=1, right=1.5)\n",
    "pl.show()"
   ]
  },
  {
   "cell_type": "code",
   "execution_count": null,
   "id": "40527ecc",
   "metadata": {},
   "outputs": [],
   "source": []
  }
 ],
 "metadata": {
  "kernelspec": {
   "display_name": "Python 3 (ipykernel)",
   "language": "python",
   "name": "python3"
  },
  "language_info": {
   "codemirror_mode": {
    "name": "ipython",
    "version": 3
   },
   "file_extension": ".py",
   "mimetype": "text/x-python",
   "name": "python",
   "nbconvert_exporter": "python",
   "pygments_lexer": "ipython3",
   "version": "3.9.13"
  }
 },
 "nbformat": 4,
 "nbformat_minor": 5
}
